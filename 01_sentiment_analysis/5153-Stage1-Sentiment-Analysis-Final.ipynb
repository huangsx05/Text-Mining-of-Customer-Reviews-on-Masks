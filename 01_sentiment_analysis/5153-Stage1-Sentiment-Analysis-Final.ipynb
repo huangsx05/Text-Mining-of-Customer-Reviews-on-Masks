{
 "cells": [
  {
   "cell_type": "code",
   "execution_count": 1,
   "metadata": {
    "execution": {
     "iopub.execute_input": "2021-04-23T12:03:30.564403Z",
     "iopub.status.busy": "2021-04-23T12:03:30.563765Z",
     "iopub.status.idle": "2021-04-23T12:03:32.465790Z",
     "shell.execute_reply": "2021-04-23T12:03:32.466316Z"
    },
    "papermill": {
     "duration": 1.949533,
     "end_time": "2021-04-23T12:03:32.466599",
     "exception": false,
     "start_time": "2021-04-23T12:03:30.517066",
     "status": "completed"
    },
    "tags": []
   },
   "outputs": [
    {
     "name": "stderr",
     "output_type": "stream",
     "text": [
      "/opt/conda/lib/python3.7/site-packages/nltk/twitter/__init__.py:20: UserWarning: The twython library has not been installed. Some functionality from the twitter package will not be available.\n",
      "  warnings.warn(\"The twython library has not been installed. \"\n"
     ]
    }
   ],
   "source": [
    "from sklearn.feature_extraction.text import CountVectorizer\n",
    "from sklearn.naive_bayes import MultinomialNB\n",
    "from sklearn.model_selection import train_test_split\n",
    "from sklearn.pipeline import make_pipeline\n",
    "import pandas as pd\n",
    "import numpy as np\n",
    "import re\n",
    "import nltk\n",
    "from datetime import datetime\n",
    "from nltk.corpus import stopwords\n",
    "from nltk.corpus import wordnet\n",
    "from nltk.stem import WordNetLemmatizer\n",
    "from nltk import PorterStemmer, LancasterStemmer, SnowballStemmer\n",
    "from nltk.tokenize import word_tokenize\n",
    "from nltk.tokenize import sent_tokenize\n",
    "from nltk.sentiment.vader import SentimentIntensityAnalyzer\n",
    "from sklearn.feature_extraction.text import CountVectorizer\n",
    "import matplotlib.pyplot as plt\n",
    "import datetime\n",
    "import warnings\n",
    "warnings.filterwarnings('ignore')\n",
    "import emoji\n",
    "from sklearn.model_selection import cross_val_score"
   ]
  },
  {
   "cell_type": "code",
   "execution_count": 2,
   "metadata": {
    "execution": {
     "iopub.execute_input": "2021-04-23T12:03:32.550475Z",
     "iopub.status.busy": "2021-04-23T12:03:32.549582Z",
     "iopub.status.idle": "2021-04-23T12:03:43.647886Z",
     "shell.execute_reply": "2021-04-23T12:03:43.647262Z"
    },
    "papermill": {
     "duration": 11.143654,
     "end_time": "2021-04-23T12:03:43.648029",
     "exception": false,
     "start_time": "2021-04-23T12:03:32.504375",
     "status": "completed"
    },
    "tags": []
   },
   "outputs": [
    {
     "name": "stdout",
     "output_type": "stream",
     "text": [
      "Collecting openpyxl\r\n",
      "  Downloading openpyxl-3.0.7-py2.py3-none-any.whl (243 kB)\r\n",
      "\u001b[K     |████████████████████████████████| 243 kB 1.2 MB/s \r\n",
      "\u001b[?25hCollecting et-xmlfile\r\n",
      "  Downloading et_xmlfile-1.0.1.tar.gz (8.4 kB)\r\n",
      "Building wheels for collected packages: et-xmlfile\r\n",
      "  Building wheel for et-xmlfile (setup.py) ... \u001b[?25l-\b \b\\\b \bdone\r\n",
      "\u001b[?25h  Created wheel for et-xmlfile: filename=et_xmlfile-1.0.1-py3-none-any.whl size=8913 sha256=f8e8f781d44d330f13ef632b8fb2b60fa8703df34001d3d8b776427974bb02bb\r\n",
      "  Stored in directory: /root/.cache/pip/wheels/e2/bd/55/048b4fd505716c4c298f42ee02dffd9496bb6d212b266c7f31\r\n",
      "Successfully built et-xmlfile\r\n",
      "Installing collected packages: et-xmlfile, openpyxl\r\n",
      "Successfully installed et-xmlfile-1.0.1 openpyxl-3.0.7\r\n"
     ]
    }
   ],
   "source": [
    "!pip install openpyxl"
   ]
  },
  {
   "cell_type": "markdown",
   "metadata": {
    "papermill": {
     "duration": 0.040533,
     "end_time": "2021-04-23T12:03:43.730109",
     "exception": false,
     "start_time": "2021-04-23T12:03:43.689576",
     "status": "completed"
    },
    "tags": []
   },
   "source": [
    "## Import Data"
   ]
  },
  {
   "cell_type": "code",
   "execution_count": 3,
   "metadata": {
    "execution": {
     "iopub.execute_input": "2021-04-23T12:03:43.819128Z",
     "iopub.status.busy": "2021-04-23T12:03:43.818498Z",
     "iopub.status.idle": "2021-04-23T12:03:52.898881Z",
     "shell.execute_reply": "2021-04-23T12:03:52.899403Z"
    },
    "papermill": {
     "duration": 9.128344,
     "end_time": "2021-04-23T12:03:52.899576",
     "exception": false,
     "start_time": "2021-04-23T12:03:43.771232",
     "status": "completed"
    },
    "tags": []
   },
   "outputs": [
    {
     "name": "stdout",
     "output_type": "stream",
     "text": [
      "(27370, 9)\n"
     ]
    },
    {
     "data": {
      "text/html": [
       "<div>\n",
       "<style scoped>\n",
       "    .dataframe tbody tr th:only-of-type {\n",
       "        vertical-align: middle;\n",
       "    }\n",
       "\n",
       "    .dataframe tbody tr th {\n",
       "        vertical-align: top;\n",
       "    }\n",
       "\n",
       "    .dataframe thead th {\n",
       "        text-align: right;\n",
       "    }\n",
       "</style>\n",
       "<table border=\"1\" class=\"dataframe\">\n",
       "  <thead>\n",
       "    <tr style=\"text-align: right;\">\n",
       "      <th></th>\n",
       "      <th>review_id</th>\n",
       "      <th>time</th>\n",
       "      <th>seller_name</th>\n",
       "      <th>product_name</th>\n",
       "      <th>product_variation</th>\n",
       "      <th>review_content</th>\n",
       "      <th>customer_name_full</th>\n",
       "      <th>customer_name_anonymous</th>\n",
       "      <th>review_stars</th>\n",
       "    </tr>\n",
       "  </thead>\n",
       "  <tbody>\n",
       "    <tr>\n",
       "      <th>0</th>\n",
       "      <td>1</td>\n",
       "      <td>2021-02-04 21:57:00</td>\n",
       "      <td>ezlifesg</td>\n",
       "      <td>Local Ready Stock 3 PLY Disposable Face Masks ...</td>\n",
       "      <td>Adult Pink</td>\n",
       "      <td>Gooood delivery thanks seller!! Box is kinda c...</td>\n",
       "      <td>NaN</td>\n",
       "      <td>k*****i</td>\n",
       "      <td>5</td>\n",
       "    </tr>\n",
       "    <tr>\n",
       "      <th>1</th>\n",
       "      <td>2</td>\n",
       "      <td>2021-02-17 00:28:00</td>\n",
       "      <td>ezlifesg</td>\n",
       "      <td>Local Ready Stock 3 PLY Disposable Face Masks ...</td>\n",
       "      <td>Adult Black</td>\n",
       "      <td>Ordered on 6th, rec'd parcel on 10 Feb at 11.3...</td>\n",
       "      <td>NaN</td>\n",
       "      <td>w*****4</td>\n",
       "      <td>3</td>\n",
       "    </tr>\n",
       "    <tr>\n",
       "      <th>2</th>\n",
       "      <td>3</td>\n",
       "      <td>2021-02-10 14:21:00</td>\n",
       "      <td>ezlifesg</td>\n",
       "      <td>Local Ready Stock 3 PLY Disposable Face Masks ...</td>\n",
       "      <td>Adult Black</td>\n",
       "      <td>Fast delivery! First time buying, it’s all wel...</td>\n",
       "      <td>NaN</td>\n",
       "      <td>j*****g</td>\n",
       "      <td>4</td>\n",
       "    </tr>\n",
       "    <tr>\n",
       "      <th>3</th>\n",
       "      <td>4</td>\n",
       "      <td>2021-02-16 00:57:00</td>\n",
       "      <td>ezlifesg</td>\n",
       "      <td>Local Ready Stock 3 PLY Disposable Face Masks ...</td>\n",
       "      <td>Adult Pink</td>\n",
       "      <td>Ordered for the 3rd time because the elastic b...</td>\n",
       "      <td>helloimhc21</td>\n",
       "      <td>NaN</td>\n",
       "      <td>5</td>\n",
       "    </tr>\n",
       "    <tr>\n",
       "      <th>4</th>\n",
       "      <td>5</td>\n",
       "      <td>2021-02-10 11:25:00</td>\n",
       "      <td>ezlifesg</td>\n",
       "      <td>Local Ready Stock 3 PLY Disposable Face Masks ...</td>\n",
       "      <td>Adult Black</td>\n",
       "      <td>Local shipping was quite fast. \\n2nd purchase ...</td>\n",
       "      <td>NaN</td>\n",
       "      <td>h*****h</td>\n",
       "      <td>5</td>\n",
       "    </tr>\n",
       "  </tbody>\n",
       "</table>\n",
       "</div>"
      ],
      "text/plain": [
       "   review_id                time seller_name  \\\n",
       "0          1 2021-02-04 21:57:00    ezlifesg   \n",
       "1          2 2021-02-17 00:28:00    ezlifesg   \n",
       "2          3 2021-02-10 14:21:00    ezlifesg   \n",
       "3          4 2021-02-16 00:57:00    ezlifesg   \n",
       "4          5 2021-02-10 11:25:00    ezlifesg   \n",
       "\n",
       "                                        product_name product_variation  \\\n",
       "0  Local Ready Stock 3 PLY Disposable Face Masks ...        Adult Pink   \n",
       "1  Local Ready Stock 3 PLY Disposable Face Masks ...       Adult Black   \n",
       "2  Local Ready Stock 3 PLY Disposable Face Masks ...       Adult Black   \n",
       "3  Local Ready Stock 3 PLY Disposable Face Masks ...        Adult Pink   \n",
       "4  Local Ready Stock 3 PLY Disposable Face Masks ...       Adult Black   \n",
       "\n",
       "                                      review_content customer_name_full  \\\n",
       "0  Gooood delivery thanks seller!! Box is kinda c...                NaN   \n",
       "1  Ordered on 6th, rec'd parcel on 10 Feb at 11.3...                NaN   \n",
       "2  Fast delivery! First time buying, it’s all wel...                NaN   \n",
       "3  Ordered for the 3rd time because the elastic b...        helloimhc21   \n",
       "4  Local shipping was quite fast. \\n2nd purchase ...                NaN   \n",
       "\n",
       "  customer_name_anonymous  review_stars  \n",
       "0                 k*****i             5  \n",
       "1                 w*****4             3  \n",
       "2                 j*****g             4  \n",
       "3                     NaN             5  \n",
       "4                 h*****h             5  "
      ]
     },
     "execution_count": 3,
     "metadata": {},
     "output_type": "execute_result"
    }
   ],
   "source": [
    "df_all = pd.read_excel('../input/5153-data/data_all.xlsx') \n",
    "df_all = df_all.dropna(subset=['review_content'])\n",
    "print(df_all.shape)\n",
    "df_all.head()"
   ]
  },
  {
   "cell_type": "markdown",
   "metadata": {
    "papermill": {
     "duration": 0.041922,
     "end_time": "2021-04-23T12:03:52.984814",
     "exception": false,
     "start_time": "2021-04-23T12:03:52.942892",
     "status": "completed"
    },
    "tags": []
   },
   "source": [
    "# Part 1: Proposed Method"
   ]
  },
  {
   "cell_type": "markdown",
   "metadata": {
    "papermill": {
     "duration": 0.042777,
     "end_time": "2021-04-23T12:03:53.069619",
     "exception": false,
     "start_time": "2021-04-23T12:03:53.026842",
     "status": "completed"
    },
    "tags": []
   },
   "source": [
    "## Process Negative Reviews\n",
    "Select the 1-3 star reviews, remove the sub-sentences with positive sentiments, to serve as training data with negative sentiment label. "
   ]
  },
  {
   "cell_type": "code",
   "execution_count": 4,
   "metadata": {
    "execution": {
     "iopub.execute_input": "2021-04-23T12:03:53.161142Z",
     "iopub.status.busy": "2021-04-23T12:03:53.160183Z",
     "iopub.status.idle": "2021-04-23T12:03:53.179974Z",
     "shell.execute_reply": "2021-04-23T12:03:53.179233Z"
    },
    "papermill": {
     "duration": 0.06806,
     "end_time": "2021-04-23T12:03:53.180138",
     "exception": false,
     "start_time": "2021-04-23T12:03:53.112078",
     "status": "completed"
    },
    "tags": []
   },
   "outputs": [
    {
     "name": "stdout",
     "output_type": "stream",
     "text": [
      "(794, 9)\n"
     ]
    },
    {
     "data": {
      "text/html": [
       "<div>\n",
       "<style scoped>\n",
       "    .dataframe tbody tr th:only-of-type {\n",
       "        vertical-align: middle;\n",
       "    }\n",
       "\n",
       "    .dataframe tbody tr th {\n",
       "        vertical-align: top;\n",
       "    }\n",
       "\n",
       "    .dataframe thead th {\n",
       "        text-align: right;\n",
       "    }\n",
       "</style>\n",
       "<table border=\"1\" class=\"dataframe\">\n",
       "  <thead>\n",
       "    <tr style=\"text-align: right;\">\n",
       "      <th></th>\n",
       "      <th>review_id</th>\n",
       "      <th>time</th>\n",
       "      <th>seller_name</th>\n",
       "      <th>product_name</th>\n",
       "      <th>product_variation</th>\n",
       "      <th>review_content</th>\n",
       "      <th>customer_name_full</th>\n",
       "      <th>customer_name_anonymous</th>\n",
       "      <th>review_stars</th>\n",
       "    </tr>\n",
       "  </thead>\n",
       "  <tbody>\n",
       "    <tr>\n",
       "      <th>1</th>\n",
       "      <td>2</td>\n",
       "      <td>2021-02-17 00:28:00</td>\n",
       "      <td>ezlifesg</td>\n",
       "      <td>Local Ready Stock 3 PLY Disposable Face Masks ...</td>\n",
       "      <td>Adult Black</td>\n",
       "      <td>Ordered on 6th, rec'd parcel on 10 Feb at 11.3...</td>\n",
       "      <td>NaN</td>\n",
       "      <td>w*****4</td>\n",
       "      <td>0</td>\n",
       "    </tr>\n",
       "    <tr>\n",
       "      <th>11</th>\n",
       "      <td>12</td>\n",
       "      <td>2021-02-08 21:23:00</td>\n",
       "      <td>ezlifesg</td>\n",
       "      <td>Local Ready Stock 3 PLY Disposable Face Masks ...</td>\n",
       "      <td>Adult Black</td>\n",
       "      <td>Fast delivery. Box dented. Quality is thin. I ...</td>\n",
       "      <td>NaN</td>\n",
       "      <td>n*****4</td>\n",
       "      <td>0</td>\n",
       "    </tr>\n",
       "    <tr>\n",
       "      <th>12</th>\n",
       "      <td>13</td>\n",
       "      <td>2021-02-12 11:39:00</td>\n",
       "      <td>ezlifesg</td>\n",
       "      <td>Local Ready Stock 3 PLY Disposable Face Masks ...</td>\n",
       "      <td>Adult Black</td>\n",
       "      <td>Second purchase the mask.. so disappointed not...</td>\n",
       "      <td>NaN</td>\n",
       "      <td>s*****l</td>\n",
       "      <td>0</td>\n",
       "    </tr>\n",
       "    <tr>\n",
       "      <th>13</th>\n",
       "      <td>14</td>\n",
       "      <td>2021-02-16 16:38:00</td>\n",
       "      <td>ezlifesg</td>\n",
       "      <td>Local Ready Stock 3 PLY Disposable Face Masks ...</td>\n",
       "      <td>Adult White</td>\n",
       "      <td>Received within a few days. However it is not ...</td>\n",
       "      <td>NaN</td>\n",
       "      <td>h*****i</td>\n",
       "      <td>0</td>\n",
       "    </tr>\n",
       "    <tr>\n",
       "      <th>22</th>\n",
       "      <td>23</td>\n",
       "      <td>2021-01-09 17:46:00</td>\n",
       "      <td>ezlifesg</td>\n",
       "      <td>Local Ready Stock 3 PLY Disposable Face Masks ...</td>\n",
       "      <td>Adult Black</td>\n",
       "      <td>Took 3 days to arrived. Unresponsive and rejec...</td>\n",
       "      <td>NaN</td>\n",
       "      <td>i*****9</td>\n",
       "      <td>0</td>\n",
       "    </tr>\n",
       "  </tbody>\n",
       "</table>\n",
       "</div>"
      ],
      "text/plain": [
       "    review_id                time seller_name  \\\n",
       "1           2 2021-02-17 00:28:00    ezlifesg   \n",
       "11         12 2021-02-08 21:23:00    ezlifesg   \n",
       "12         13 2021-02-12 11:39:00    ezlifesg   \n",
       "13         14 2021-02-16 16:38:00    ezlifesg   \n",
       "22         23 2021-01-09 17:46:00    ezlifesg   \n",
       "\n",
       "                                         product_name product_variation  \\\n",
       "1   Local Ready Stock 3 PLY Disposable Face Masks ...       Adult Black   \n",
       "11  Local Ready Stock 3 PLY Disposable Face Masks ...       Adult Black   \n",
       "12  Local Ready Stock 3 PLY Disposable Face Masks ...       Adult Black   \n",
       "13  Local Ready Stock 3 PLY Disposable Face Masks ...       Adult White   \n",
       "22  Local Ready Stock 3 PLY Disposable Face Masks ...       Adult Black   \n",
       "\n",
       "                                       review_content customer_name_full  \\\n",
       "1   Ordered on 6th, rec'd parcel on 10 Feb at 11.3...                NaN   \n",
       "11  Fast delivery. Box dented. Quality is thin. I ...                NaN   \n",
       "12  Second purchase the mask.. so disappointed not...                NaN   \n",
       "13  Received within a few days. However it is not ...                NaN   \n",
       "22  Took 3 days to arrived. Unresponsive and rejec...                NaN   \n",
       "\n",
       "   customer_name_anonymous  review_stars  \n",
       "1                  w*****4             0  \n",
       "11                 n*****4             0  \n",
       "12                 s*****l             0  \n",
       "13                 h*****i             0  \n",
       "22                 i*****9             0  "
      ]
     },
     "execution_count": 4,
     "metadata": {},
     "output_type": "execute_result"
    }
   ],
   "source": [
    "df_neg=df_all[df_all.review_stars<4]\n",
    "df_neg['review_stars']=0   # neg is 0, serve as y_label for training\n",
    "print(df_neg.shape)\n",
    "df_neg.head()"
   ]
  },
  {
   "cell_type": "code",
   "execution_count": 5,
   "metadata": {
    "execution": {
     "iopub.execute_input": "2021-04-23T12:03:53.275884Z",
     "iopub.status.busy": "2021-04-23T12:03:53.274850Z",
     "iopub.status.idle": "2021-04-23T12:03:53.278654Z",
     "shell.execute_reply": "2021-04-23T12:03:53.278096Z"
    },
    "papermill": {
     "duration": 0.0552,
     "end_time": "2021-04-23T12:03:53.278792",
     "exception": false,
     "start_time": "2021-04-23T12:03:53.223592",
     "status": "completed"
    },
    "tags": []
   },
   "outputs": [],
   "source": [
    "def find_pos(word):\n",
    "    # Part of Speech constants\n",
    "    # ADJ, ADJ_SAT, ADV, NOUN, VERB = 'a', 's', 'r', 'n', 'v'\n",
    "    pos = nltk.pos_tag(nltk.word_tokenize(word))[0][1]\n",
    "    \n",
    "    # Adjective tags - 'JJ', 'JJR', 'JJS'\n",
    "    if pos.lower()[0] == 'j':\n",
    "        return 'a'\n",
    "    # Adverb tags - 'RB', 'RBR', 'RBS'\n",
    "    elif pos.lower()[0] == 'r':\n",
    "        return 'r'\n",
    "    # Verb tags - 'VB', 'VBD', 'VBG', 'VBN', 'VBP', 'VBZ'\n",
    "    elif pos.lower()[0] == 'v':\n",
    "        return 'v'\n",
    "\n",
    "    # Noun tags - 'NN', 'NNS', 'NNP', 'NNPS'\n",
    "    else:\n",
    "        return 'n'\n",
    "\n",
    "# Function to apply lemmatization to a list of words\n",
    "def words_lemmatizer(text, encoding=\"utf8\"):\n",
    "    words = nltk.word_tokenize(text)\n",
    "    lemma_words = []\n",
    "    wl = WordNetLemmatizer()\n",
    "    for word in words:\n",
    "        pos = find_pos(word)\n",
    "        lemma_words.append(wl.lemmatize(word, pos))\n",
    "    return \" \".join(lemma_words)"
   ]
  },
  {
   "cell_type": "code",
   "execution_count": 6,
   "metadata": {
    "execution": {
     "iopub.execute_input": "2021-04-23T12:03:53.378058Z",
     "iopub.status.busy": "2021-04-23T12:03:53.377255Z",
     "iopub.status.idle": "2021-04-23T12:03:53.380423Z",
     "shell.execute_reply": "2021-04-23T12:03:53.380916Z"
    },
    "papermill": {
     "duration": 0.057961,
     "end_time": "2021-04-23T12:03:53.381098",
     "exception": false,
     "start_time": "2021-04-23T12:03:53.323137",
     "status": "completed"
    },
    "tags": []
   },
   "outputs": [],
   "source": [
    "def remove_pos(text):    \n",
    "    \"\"\"break text into sub-sentences, carry out sentiment analysis, then remove the subsentences with positive parts\"\"\"\n",
    "    text=emoji.demojize(text) \n",
    "    text=text.lower()\n",
    "    text=words_lemmatizer(text)\n",
    "    text=re.sub(r\"(\\w)\\1{2,}\",r\"\\1\", text)\n",
    "    text=re.sub(r\",\",'. ',text)\n",
    "    text=re.sub(r\"\\\\n\",'. ',text)\n",
    "    text=re.sub(r\"although\",'. ',text)\n",
    "    text=re.sub(r\"but\",'. ',text)\n",
    "    text=re.sub(r\"however\",'. ',text)\n",
    "    text=re.sub(r\"so \",'. ',text)\n",
    "    text=re.sub(r\"though\",'. ',text)\n",
    "    text=re.sub(r\"\\.{3}\",'. ',text)\n",
    "    text=re.sub(r\"\\.{2}\",'. ',text)\n",
    "    sentence=sent_tokenize(text) #\n",
    "    \n",
    "    SIA = SentimentIntensityAnalyzer()\n",
    "    new_sent = [\"\".join(sent) for sent in sentence if (SIA.polarity_scores(sent)['compound']<=0)] #remove the subsentences with positive parts\n",
    "    \n",
    "    if len(new_sent)==0:\n",
    "        new_sent=np.nan\n",
    "    return new_sent"
   ]
  },
  {
   "cell_type": "code",
   "execution_count": 7,
   "metadata": {
    "execution": {
     "iopub.execute_input": "2021-04-23T12:03:53.623295Z",
     "iopub.status.busy": "2021-04-23T12:03:53.488843Z",
     "iopub.status.idle": "2021-04-23T12:04:09.775135Z",
     "shell.execute_reply": "2021-04-23T12:04:09.774635Z"
    },
    "papermill": {
     "duration": 16.35061,
     "end_time": "2021-04-23T12:04:09.775312",
     "exception": false,
     "start_time": "2021-04-23T12:03:53.424702",
     "status": "completed"
    },
    "tags": []
   },
   "outputs": [
    {
     "name": "stdout",
     "output_type": "stream",
     "text": [
      "(760, 10)\n"
     ]
    },
    {
     "data": {
      "text/html": [
       "<div>\n",
       "<style scoped>\n",
       "    .dataframe tbody tr th:only-of-type {\n",
       "        vertical-align: middle;\n",
       "    }\n",
       "\n",
       "    .dataframe tbody tr th {\n",
       "        vertical-align: top;\n",
       "    }\n",
       "\n",
       "    .dataframe thead th {\n",
       "        text-align: right;\n",
       "    }\n",
       "</style>\n",
       "<table border=\"1\" class=\"dataframe\">\n",
       "  <thead>\n",
       "    <tr style=\"text-align: right;\">\n",
       "      <th></th>\n",
       "      <th>review_id</th>\n",
       "      <th>time</th>\n",
       "      <th>seller_name</th>\n",
       "      <th>product_name</th>\n",
       "      <th>product_variation</th>\n",
       "      <th>review_content</th>\n",
       "      <th>customer_name_full</th>\n",
       "      <th>customer_name_anonymous</th>\n",
       "      <th>review_stars</th>\n",
       "      <th>review_content_new</th>\n",
       "    </tr>\n",
       "  </thead>\n",
       "  <tbody>\n",
       "    <tr>\n",
       "      <th>1</th>\n",
       "      <td>2</td>\n",
       "      <td>2021-02-17 00:28:00</td>\n",
       "      <td>ezlifesg</td>\n",
       "      <td>Local Ready Stock 3 PLY Disposable Face Masks ...</td>\n",
       "      <td>Adult Black</td>\n",
       "      <td>Ordered on 6th, rec'd parcel on 10 Feb at 11.3...</td>\n",
       "      <td>NaN</td>\n",
       "      <td>w*****4</td>\n",
       "      <td>0</td>\n",
       "      <td>[order on 6th ., rec 'd parcel on 10 feb at 11...</td>\n",
       "    </tr>\n",
       "    <tr>\n",
       "      <th>11</th>\n",
       "      <td>12</td>\n",
       "      <td>2021-02-08 21:23:00</td>\n",
       "      <td>ezlifesg</td>\n",
       "      <td>Local Ready Stock 3 PLY Disposable Face Masks ...</td>\n",
       "      <td>Adult Black</td>\n",
       "      <td>Fast delivery. Box dented. Quality is thin. I ...</td>\n",
       "      <td>NaN</td>\n",
       "      <td>n*****4</td>\n",
       "      <td>0</td>\n",
       "      <td>[fast delivery ., box dent ., quality be thin ...</td>\n",
       "    </tr>\n",
       "    <tr>\n",
       "      <th>12</th>\n",
       "      <td>13</td>\n",
       "      <td>2021-02-12 11:39:00</td>\n",
       "      <td>ezlifesg</td>\n",
       "      <td>Local Ready Stock 3 PLY Disposable Face Masks ...</td>\n",
       "      <td>Adult Black</td>\n",
       "      <td>Second purchase the mask.. so disappointed not...</td>\n",
       "      <td>NaN</td>\n",
       "      <td>s*****l</td>\n",
       "      <td>0</td>\n",
       "      <td>[second purchase the mask., ., disappointed no...</td>\n",
       "    </tr>\n",
       "    <tr>\n",
       "      <th>13</th>\n",
       "      <td>14</td>\n",
       "      <td>2021-02-16 16:38:00</td>\n",
       "      <td>ezlifesg</td>\n",
       "      <td>Local Ready Stock 3 PLY Disposable Face Masks ...</td>\n",
       "      <td>Adult White</td>\n",
       "      <td>Received within a few days. However it is not ...</td>\n",
       "      <td>NaN</td>\n",
       "      <td>h*****i</td>\n",
       "      <td>0</td>\n",
       "      <td>[receive within a few day ., ., it be not 3 pl...</td>\n",
       "    </tr>\n",
       "    <tr>\n",
       "      <th>22</th>\n",
       "      <td>23</td>\n",
       "      <td>2021-01-09 17:46:00</td>\n",
       "      <td>ezlifesg</td>\n",
       "      <td>Local Ready Stock 3 PLY Disposable Face Masks ...</td>\n",
       "      <td>Adult Black</td>\n",
       "      <td>Took 3 days to arrived. Unresponsive and rejec...</td>\n",
       "      <td>NaN</td>\n",
       "      <td>i*****9</td>\n",
       "      <td>0</td>\n",
       "      <td>[take 3 day to arrive ., unresponsive and reje...</td>\n",
       "    </tr>\n",
       "  </tbody>\n",
       "</table>\n",
       "</div>"
      ],
      "text/plain": [
       "    review_id                time seller_name  \\\n",
       "1           2 2021-02-17 00:28:00    ezlifesg   \n",
       "11         12 2021-02-08 21:23:00    ezlifesg   \n",
       "12         13 2021-02-12 11:39:00    ezlifesg   \n",
       "13         14 2021-02-16 16:38:00    ezlifesg   \n",
       "22         23 2021-01-09 17:46:00    ezlifesg   \n",
       "\n",
       "                                         product_name product_variation  \\\n",
       "1   Local Ready Stock 3 PLY Disposable Face Masks ...       Adult Black   \n",
       "11  Local Ready Stock 3 PLY Disposable Face Masks ...       Adult Black   \n",
       "12  Local Ready Stock 3 PLY Disposable Face Masks ...       Adult Black   \n",
       "13  Local Ready Stock 3 PLY Disposable Face Masks ...       Adult White   \n",
       "22  Local Ready Stock 3 PLY Disposable Face Masks ...       Adult Black   \n",
       "\n",
       "                                       review_content customer_name_full  \\\n",
       "1   Ordered on 6th, rec'd parcel on 10 Feb at 11.3...                NaN   \n",
       "11  Fast delivery. Box dented. Quality is thin. I ...                NaN   \n",
       "12  Second purchase the mask.. so disappointed not...                NaN   \n",
       "13  Received within a few days. However it is not ...                NaN   \n",
       "22  Took 3 days to arrived. Unresponsive and rejec...                NaN   \n",
       "\n",
       "   customer_name_anonymous  review_stars  \\\n",
       "1                  w*****4             0   \n",
       "11                 n*****4             0   \n",
       "12                 s*****l             0   \n",
       "13                 h*****i             0   \n",
       "22                 i*****9             0   \n",
       "\n",
       "                                   review_content_new  \n",
       "1   [order on 6th ., rec 'd parcel on 10 feb at 11...  \n",
       "11  [fast delivery ., box dent ., quality be thin ...  \n",
       "12  [second purchase the mask., ., disappointed no...  \n",
       "13  [receive within a few day ., ., it be not 3 pl...  \n",
       "22  [take 3 day to arrive ., unresponsive and reje...  "
      ]
     },
     "execution_count": 7,
     "metadata": {},
     "output_type": "execute_result"
    }
   ],
   "source": [
    "df_neg['review_content_new']=df_neg['review_content'].apply(lambda x: remove_pos(x))\n",
    "df_neg = df_neg.dropna(subset=['review_content_new'])\n",
    "print(df_neg.shape)\n",
    "df_neg.head()"
   ]
  },
  {
   "cell_type": "markdown",
   "metadata": {
    "papermill": {
     "duration": 0.043903,
     "end_time": "2021-04-23T12:04:09.864229",
     "exception": false,
     "start_time": "2021-04-23T12:04:09.820326",
     "status": "completed"
    },
    "tags": []
   },
   "source": [
    "## Process Positive Reviews\n",
    "Select the 5 star reviews, remove the sub-sentences with negative sentiments, to serve as training data with positive sentiment label. "
   ]
  },
  {
   "cell_type": "code",
   "execution_count": 8,
   "metadata": {
    "execution": {
     "iopub.execute_input": "2021-04-23T12:04:09.960813Z",
     "iopub.status.busy": "2021-04-23T12:04:09.960085Z",
     "iopub.status.idle": "2021-04-23T12:04:09.983150Z",
     "shell.execute_reply": "2021-04-23T12:04:09.982583Z"
    },
    "papermill": {
     "duration": 0.074729,
     "end_time": "2021-04-23T12:04:09.983312",
     "exception": false,
     "start_time": "2021-04-23T12:04:09.908583",
     "status": "completed"
    },
    "tags": []
   },
   "outputs": [
    {
     "name": "stdout",
     "output_type": "stream",
     "text": [
      "(800, 9)\n"
     ]
    },
    {
     "data": {
      "text/html": [
       "<div>\n",
       "<style scoped>\n",
       "    .dataframe tbody tr th:only-of-type {\n",
       "        vertical-align: middle;\n",
       "    }\n",
       "\n",
       "    .dataframe tbody tr th {\n",
       "        vertical-align: top;\n",
       "    }\n",
       "\n",
       "    .dataframe thead th {\n",
       "        text-align: right;\n",
       "    }\n",
       "</style>\n",
       "<table border=\"1\" class=\"dataframe\">\n",
       "  <thead>\n",
       "    <tr style=\"text-align: right;\">\n",
       "      <th></th>\n",
       "      <th>review_id</th>\n",
       "      <th>time</th>\n",
       "      <th>seller_name</th>\n",
       "      <th>product_name</th>\n",
       "      <th>product_variation</th>\n",
       "      <th>review_content</th>\n",
       "      <th>customer_name_full</th>\n",
       "      <th>customer_name_anonymous</th>\n",
       "      <th>review_stars</th>\n",
       "    </tr>\n",
       "  </thead>\n",
       "  <tbody>\n",
       "    <tr>\n",
       "      <th>23337</th>\n",
       "      <td>23338</td>\n",
       "      <td>2020-11-17 13:41:00</td>\n",
       "      <td>ipoopedben</td>\n",
       "      <td>*NEW COLOUR* MICO DISPOSABLE FACE MASK (50pcs)...</td>\n",
       "      <td>White (Stars),ADULT (17.5X9.5CM)</td>\n",
       "      <td>10 masks per packet for hygiene purposes. Boug...</td>\n",
       "      <td>totorosg</td>\n",
       "      <td>NaN</td>\n",
       "      <td>1</td>\n",
       "    </tr>\n",
       "    <tr>\n",
       "      <th>38969</th>\n",
       "      <td>38970</td>\n",
       "      <td>2020-11-27 11:30:00</td>\n",
       "      <td>undertaker4</td>\n",
       "      <td>MR.ING 3ply Mask Adult Medical Grade disposabl...</td>\n",
       "      <td>Adult White 50pc+Box</td>\n",
       "      <td>Received the product after 1 week, product is ...</td>\n",
       "      <td>sq70izd8d3</td>\n",
       "      <td>NaN</td>\n",
       "      <td>1</td>\n",
       "    </tr>\n",
       "    <tr>\n",
       "      <th>34551</th>\n",
       "      <td>34552</td>\n",
       "      <td>2021-01-31 23:08:00</td>\n",
       "      <td>house7017.sg</td>\n",
       "      <td>[8Color Mask] Korea 4ply mask/ 3D MASK/HOT ITE...</td>\n",
       "      <td>MASK DA White 50PCS</td>\n",
       "      <td>The quality of the mask seems fine for the pri...</td>\n",
       "      <td>NaN</td>\n",
       "      <td>j*****k</td>\n",
       "      <td>1</td>\n",
       "    </tr>\n",
       "    <tr>\n",
       "      <th>3908</th>\n",
       "      <td>3909</td>\n",
       "      <td>2021-01-25 21:17:00</td>\n",
       "      <td>iptec_pte_ltd</td>\n",
       "      <td>Made in Singapore IPTEC High Quality Surgical ...</td>\n",
       "      <td>Surgical Masks</td>\n",
       "      <td>Received in good condition. Super fast deliver...</td>\n",
       "      <td>johnchen2020</td>\n",
       "      <td>NaN</td>\n",
       "      <td>1</td>\n",
       "    </tr>\n",
       "    <tr>\n",
       "      <th>8612</th>\n",
       "      <td>8613</td>\n",
       "      <td>2021-01-07 21:35:00</td>\n",
       "      <td>hdthealthcare</td>\n",
       "      <td>BYD Single-use Surgical Mask Japanese Version</td>\n",
       "      <td>Surgical Masks</td>\n",
       "      <td>Nice, it is soft and no smell. 2nd time of pur...</td>\n",
       "      <td>NaN</td>\n",
       "      <td>h*****g</td>\n",
       "      <td>1</td>\n",
       "    </tr>\n",
       "  </tbody>\n",
       "</table>\n",
       "</div>"
      ],
      "text/plain": [
       "       review_id                time    seller_name  \\\n",
       "23337      23338 2020-11-17 13:41:00     ipoopedben   \n",
       "38969      38970 2020-11-27 11:30:00    undertaker4   \n",
       "34551      34552 2021-01-31 23:08:00   house7017.sg   \n",
       "3908        3909 2021-01-25 21:17:00  iptec_pte_ltd   \n",
       "8612        8613 2021-01-07 21:35:00  hdthealthcare   \n",
       "\n",
       "                                            product_name  \\\n",
       "23337  *NEW COLOUR* MICO DISPOSABLE FACE MASK (50pcs)...   \n",
       "38969  MR.ING 3ply Mask Adult Medical Grade disposabl...   \n",
       "34551  [8Color Mask] Korea 4ply mask/ 3D MASK/HOT ITE...   \n",
       "3908   Made in Singapore IPTEC High Quality Surgical ...   \n",
       "8612       BYD Single-use Surgical Mask Japanese Version   \n",
       "\n",
       "                      product_variation  \\\n",
       "23337  White (Stars),ADULT (17.5X9.5CM)   \n",
       "38969              Adult White 50pc+Box   \n",
       "34551               MASK DA White 50PCS   \n",
       "3908                     Surgical Masks   \n",
       "8612                     Surgical Masks   \n",
       "\n",
       "                                          review_content customer_name_full  \\\n",
       "23337  10 masks per packet for hygiene purposes. Boug...           totorosg   \n",
       "38969  Received the product after 1 week, product is ...         sq70izd8d3   \n",
       "34551  The quality of the mask seems fine for the pri...                NaN   \n",
       "3908   Received in good condition. Super fast deliver...       johnchen2020   \n",
       "8612   Nice, it is soft and no smell. 2nd time of pur...                NaN   \n",
       "\n",
       "      customer_name_anonymous  review_stars  \n",
       "23337                     NaN             1  \n",
       "38969                     NaN             1  \n",
       "34551                 j*****k             1  \n",
       "3908                      NaN             1  \n",
       "8612                  h*****g             1  "
      ]
     },
     "execution_count": 8,
     "metadata": {},
     "output_type": "execute_result"
    }
   ],
   "source": [
    "df_pos=df_all[df_all.review_stars==5].sample(n=800,random_state=5153)\n",
    "df_pos['review_stars']=1           # pos is 1, serve as y_label for training\n",
    "print(df_pos.shape)\n",
    "df_pos.head()"
   ]
  },
  {
   "cell_type": "code",
   "execution_count": 9,
   "metadata": {
    "execution": {
     "iopub.execute_input": "2021-04-23T12:04:10.085534Z",
     "iopub.status.busy": "2021-04-23T12:04:10.084828Z",
     "iopub.status.idle": "2021-04-23T12:04:10.088221Z",
     "shell.execute_reply": "2021-04-23T12:04:10.087720Z"
    },
    "papermill": {
     "duration": 0.057692,
     "end_time": "2021-04-23T12:04:10.088362",
     "exception": false,
     "start_time": "2021-04-23T12:04:10.030670",
     "status": "completed"
    },
    "tags": []
   },
   "outputs": [],
   "source": [
    "def remove_neg(text):\n",
    "    \"\"\"break text into sub-sentences, carry out sentiment analysis, then remove the subsentences with negative parts\"\"\"\n",
    "    text=emoji.demojize(text) \n",
    "    text=text.lower()\n",
    "    text=words_lemmatizer(text)\n",
    "    text=re.sub(r\",\",'. ',text)\n",
    "    text=re.sub(r\"\\\\n\",'. ',text)\n",
    "    text=re.sub(r\"although\",'. ',text)\n",
    "    text=re.sub(r\"but\",'. ',text)\n",
    "    text=re.sub(r\"however\",'. ',text)\n",
    "    text=re.sub(r\"so \",'. ',text)\n",
    "    text=re.sub(r\"though\",'. ',text)\n",
    "    text=re.sub(r\"\\.{3}\",'. ',text)\n",
    "    text=re.sub(r\"\\.{2}\",'. ',text)\n",
    "\n",
    "    sentence=sent_tokenize(text)\n",
    "    SIA = SentimentIntensityAnalyzer()\n",
    "    new_sent = [\"\".join(sent) for sent in sentence if (SIA.polarity_scores(sent)['compound']>=0)] #remove the subsentences with negative parts\n",
    "    if len(new_sent)==0:\n",
    "        new_sent=np.nan\n",
    "#     new_sent=[SIA.polarity_scores(sent) for sent in sentence ]\n",
    "    return new_sent"
   ]
  },
  {
   "cell_type": "code",
   "execution_count": 10,
   "metadata": {
    "execution": {
     "iopub.execute_input": "2021-04-23T12:04:10.186303Z",
     "iopub.status.busy": "2021-04-23T12:04:10.185591Z",
     "iopub.status.idle": "2021-04-23T12:04:21.619969Z",
     "shell.execute_reply": "2021-04-23T12:04:21.619429Z"
    },
    "papermill": {
     "duration": 11.486362,
     "end_time": "2021-04-23T12:04:21.620108",
     "exception": false,
     "start_time": "2021-04-23T12:04:10.133746",
     "status": "completed"
    },
    "tags": []
   },
   "outputs": [
    {
     "name": "stdout",
     "output_type": "stream",
     "text": [
      "(799, 10)\n"
     ]
    },
    {
     "data": {
      "text/html": [
       "<div>\n",
       "<style scoped>\n",
       "    .dataframe tbody tr th:only-of-type {\n",
       "        vertical-align: middle;\n",
       "    }\n",
       "\n",
       "    .dataframe tbody tr th {\n",
       "        vertical-align: top;\n",
       "    }\n",
       "\n",
       "    .dataframe thead th {\n",
       "        text-align: right;\n",
       "    }\n",
       "</style>\n",
       "<table border=\"1\" class=\"dataframe\">\n",
       "  <thead>\n",
       "    <tr style=\"text-align: right;\">\n",
       "      <th></th>\n",
       "      <th>review_id</th>\n",
       "      <th>time</th>\n",
       "      <th>seller_name</th>\n",
       "      <th>product_name</th>\n",
       "      <th>product_variation</th>\n",
       "      <th>review_content</th>\n",
       "      <th>customer_name_full</th>\n",
       "      <th>customer_name_anonymous</th>\n",
       "      <th>review_stars</th>\n",
       "      <th>review_content_new</th>\n",
       "    </tr>\n",
       "  </thead>\n",
       "  <tbody>\n",
       "    <tr>\n",
       "      <th>23337</th>\n",
       "      <td>23338</td>\n",
       "      <td>2020-11-17 13:41:00</td>\n",
       "      <td>ipoopedben</td>\n",
       "      <td>*NEW COLOUR* MICO DISPOSABLE FACE MASK (50pcs)...</td>\n",
       "      <td>White (Stars),ADULT (17.5X9.5CM)</td>\n",
       "      <td>10 masks per packet for hygiene purposes. Boug...</td>\n",
       "      <td>totorosg</td>\n",
       "      <td>NaN</td>\n",
       "      <td>1</td>\n",
       "      <td>[10 mask per packet for hygiene purpose ., bou...</td>\n",
       "    </tr>\n",
       "    <tr>\n",
       "      <th>38969</th>\n",
       "      <td>38970</td>\n",
       "      <td>2020-11-27 11:30:00</td>\n",
       "      <td>undertaker4</td>\n",
       "      <td>MR.ING 3ply Mask Adult Medical Grade disposabl...</td>\n",
       "      <td>Adult White 50pc+Box</td>\n",
       "      <td>Received the product after 1 week, product is ...</td>\n",
       "      <td>sq70izd8d3</td>\n",
       "      <td>NaN</td>\n",
       "      <td>1</td>\n",
       "      <td>[receive the product after 1 week ., product b...</td>\n",
       "    </tr>\n",
       "    <tr>\n",
       "      <th>34551</th>\n",
       "      <td>34552</td>\n",
       "      <td>2021-01-31 23:08:00</td>\n",
       "      <td>house7017.sg</td>\n",
       "      <td>[8Color Mask] Korea 4ply mask/ 3D MASK/HOT ITE...</td>\n",
       "      <td>MASK DA White 50PCS</td>\n",
       "      <td>The quality of the mask seems fine for the pri...</td>\n",
       "      <td>NaN</td>\n",
       "      <td>j*****k</td>\n",
       "      <td>1</td>\n",
       "      <td>[the quality of the mask seem fine for the pri...</td>\n",
       "    </tr>\n",
       "    <tr>\n",
       "      <th>3908</th>\n",
       "      <td>3909</td>\n",
       "      <td>2021-01-25 21:17:00</td>\n",
       "      <td>iptec_pte_ltd</td>\n",
       "      <td>Made in Singapore IPTEC High Quality Surgical ...</td>\n",
       "      <td>Surgical Masks</td>\n",
       "      <td>Received in good condition. Super fast deliver...</td>\n",
       "      <td>johnchen2020</td>\n",
       "      <td>NaN</td>\n",
       "      <td>1</td>\n",
       "      <td>[receive in good condition ., super fast deliv...</td>\n",
       "    </tr>\n",
       "    <tr>\n",
       "      <th>8612</th>\n",
       "      <td>8613</td>\n",
       "      <td>2021-01-07 21:35:00</td>\n",
       "      <td>hdthealthcare</td>\n",
       "      <td>BYD Single-use Surgical Mask Japanese Version</td>\n",
       "      <td>Surgical Masks</td>\n",
       "      <td>Nice, it is soft and no smell. 2nd time of pur...</td>\n",
       "      <td>NaN</td>\n",
       "      <td>h*****g</td>\n",
       "      <td>1</td>\n",
       "      <td>[nice ., 2nd time of purchase byd mask from htd]</td>\n",
       "    </tr>\n",
       "  </tbody>\n",
       "</table>\n",
       "</div>"
      ],
      "text/plain": [
       "       review_id                time    seller_name  \\\n",
       "23337      23338 2020-11-17 13:41:00     ipoopedben   \n",
       "38969      38970 2020-11-27 11:30:00    undertaker4   \n",
       "34551      34552 2021-01-31 23:08:00   house7017.sg   \n",
       "3908        3909 2021-01-25 21:17:00  iptec_pte_ltd   \n",
       "8612        8613 2021-01-07 21:35:00  hdthealthcare   \n",
       "\n",
       "                                            product_name  \\\n",
       "23337  *NEW COLOUR* MICO DISPOSABLE FACE MASK (50pcs)...   \n",
       "38969  MR.ING 3ply Mask Adult Medical Grade disposabl...   \n",
       "34551  [8Color Mask] Korea 4ply mask/ 3D MASK/HOT ITE...   \n",
       "3908   Made in Singapore IPTEC High Quality Surgical ...   \n",
       "8612       BYD Single-use Surgical Mask Japanese Version   \n",
       "\n",
       "                      product_variation  \\\n",
       "23337  White (Stars),ADULT (17.5X9.5CM)   \n",
       "38969              Adult White 50pc+Box   \n",
       "34551               MASK DA White 50PCS   \n",
       "3908                     Surgical Masks   \n",
       "8612                     Surgical Masks   \n",
       "\n",
       "                                          review_content customer_name_full  \\\n",
       "23337  10 masks per packet for hygiene purposes. Boug...           totorosg   \n",
       "38969  Received the product after 1 week, product is ...         sq70izd8d3   \n",
       "34551  The quality of the mask seems fine for the pri...                NaN   \n",
       "3908   Received in good condition. Super fast deliver...       johnchen2020   \n",
       "8612   Nice, it is soft and no smell. 2nd time of pur...                NaN   \n",
       "\n",
       "      customer_name_anonymous  review_stars  \\\n",
       "23337                     NaN             1   \n",
       "38969                     NaN             1   \n",
       "34551                 j*****k             1   \n",
       "3908                      NaN             1   \n",
       "8612                  h*****g             1   \n",
       "\n",
       "                                      review_content_new  \n",
       "23337  [10 mask per packet for hygiene purpose ., bou...  \n",
       "38969  [receive the product after 1 week ., product b...  \n",
       "34551  [the quality of the mask seem fine for the pri...  \n",
       "3908   [receive in good condition ., super fast deliv...  \n",
       "8612    [nice ., 2nd time of purchase byd mask from htd]  "
      ]
     },
     "execution_count": 10,
     "metadata": {},
     "output_type": "execute_result"
    }
   ],
   "source": [
    "df_pos['review_content_new']=df_pos['review_content'].apply(lambda x: remove_neg(x))\n",
    "df_pos=df_pos.dropna(subset=['review_content_new'])\n",
    "print(df_pos.shape)\n",
    "df_pos.head()"
   ]
  },
  {
   "cell_type": "markdown",
   "metadata": {
    "papermill": {
     "duration": 0.046493,
     "end_time": "2021-04-23T12:04:21.713233",
     "exception": false,
     "start_time": "2021-04-23T12:04:21.666740",
     "status": "completed"
    },
    "tags": []
   },
   "source": [
    "## Merge Negative and Positive dataframes to get train data"
   ]
  },
  {
   "cell_type": "code",
   "execution_count": 11,
   "metadata": {
    "execution": {
     "iopub.execute_input": "2021-04-23T12:04:21.817672Z",
     "iopub.status.busy": "2021-04-23T12:04:21.816983Z",
     "iopub.status.idle": "2021-04-23T12:04:21.826244Z",
     "shell.execute_reply": "2021-04-23T12:04:21.825577Z"
    },
    "papermill": {
     "duration": 0.066355,
     "end_time": "2021-04-23T12:04:21.826396",
     "exception": false,
     "start_time": "2021-04-23T12:04:21.760041",
     "status": "completed"
    },
    "tags": []
   },
   "outputs": [
    {
     "name": "stdout",
     "output_type": "stream",
     "text": [
      "['fast delivery !', 'good quality mask .']\n",
      "Fast delivery! Good quality mask.\n"
     ]
    }
   ],
   "source": [
    "df_review=pd.concat([df_neg,df_pos]).sample(frac=1)\n",
    "df_review['review_content_new']=df_review.review_content_new.astype('str')\n",
    "print(df_review['review_content_new'].iloc[10])\n",
    "print(df_review['review_content'].iloc[10])"
   ]
  },
  {
   "cell_type": "code",
   "execution_count": 12,
   "metadata": {
    "execution": {
     "iopub.execute_input": "2021-04-23T12:04:21.928518Z",
     "iopub.status.busy": "2021-04-23T12:04:21.927366Z",
     "iopub.status.idle": "2021-04-23T12:04:21.930795Z",
     "shell.execute_reply": "2021-04-23T12:04:21.931375Z"
    },
    "papermill": {
     "duration": 0.058534,
     "end_time": "2021-04-23T12:04:21.931549",
     "exception": false,
     "start_time": "2021-04-23T12:04:21.873015",
     "status": "completed"
    },
    "tags": []
   },
   "outputs": [
    {
     "data": {
      "text/plain": [
       "2892                                              ['good']\n",
       "20569    ['initially we .', 'it be split into 2 deliver...\n",
       "841      ['i now i carefully read and order from shopee...\n",
       "24390          ['super fast delivery and nicely packed .']\n",
       "6123     ['mask be soft .', 'unfortunately front be fac...\n",
       "                               ...                        \n",
       "10434    ['fast delivery .', 'good price .', 'well pack...\n",
       "32539                 ['love it .', 'fast delivery too .']\n",
       "3908     ['receive in good condition .', 'super fast de...\n",
       "16681                                            ['great']\n",
       "23196    ['parcel be deliver with a4 white paper wrap a...\n",
       "Name: review_content_new, Length: 1559, dtype: object"
      ]
     },
     "execution_count": 12,
     "metadata": {},
     "output_type": "execute_result"
    }
   ],
   "source": [
    "df_review['review_content_new'] #new sentences with positive/negative sub-sentences removed"
   ]
  },
  {
   "cell_type": "code",
   "execution_count": 13,
   "metadata": {
    "execution": {
     "iopub.execute_input": "2021-04-23T12:04:22.037273Z",
     "iopub.status.busy": "2021-04-23T12:04:22.036556Z",
     "iopub.status.idle": "2021-04-23T12:04:22.046151Z",
     "shell.execute_reply": "2021-04-23T12:04:22.045604Z"
    },
    "papermill": {
     "duration": 0.06517,
     "end_time": "2021-04-23T12:04:22.046309",
     "exception": false,
     "start_time": "2021-04-23T12:04:21.981139",
     "status": "completed"
    },
    "tags": []
   },
   "outputs": [
    {
     "name": "stdout",
     "output_type": "stream",
     "text": [
      "(1403,) (156,) (1403,) (156,)\n"
     ]
    }
   ],
   "source": [
    "X_train,X_test,y_train,y_test=train_test_split(df_review.review_content_new,df_review.review_stars,test_size=0.1, stratify=df_review.review_stars, random_state=42)\n",
    "print(X_train.shape,X_test.shape,y_train.shape,y_test.shape)"
   ]
  },
  {
   "cell_type": "code",
   "execution_count": 14,
   "metadata": {
    "execution": {
     "iopub.execute_input": "2021-04-23T12:04:22.150080Z",
     "iopub.status.busy": "2021-04-23T12:04:22.149088Z",
     "iopub.status.idle": "2021-04-23T12:04:22.152398Z",
     "shell.execute_reply": "2021-04-23T12:04:22.151770Z"
    },
    "papermill": {
     "duration": 0.056194,
     "end_time": "2021-04-23T12:04:22.152544",
     "exception": false,
     "start_time": "2021-04-23T12:04:22.096350",
     "status": "completed"
    },
    "tags": []
   },
   "outputs": [],
   "source": [
    "vect = CountVectorizer()\n",
    "clf = MultinomialNB()\n",
    "pipe = make_pipeline(vect, clf)"
   ]
  },
  {
   "cell_type": "code",
   "execution_count": 15,
   "metadata": {
    "execution": {
     "iopub.execute_input": "2021-04-23T12:04:22.254864Z",
     "iopub.status.busy": "2021-04-23T12:04:22.254209Z",
     "iopub.status.idle": "2021-04-23T12:04:22.776211Z",
     "shell.execute_reply": "2021-04-23T12:04:22.776723Z"
    },
    "papermill": {
     "duration": 0.576417,
     "end_time": "2021-04-23T12:04:22.776896",
     "exception": false,
     "start_time": "2021-04-23T12:04:22.200479",
     "status": "completed"
    },
    "tags": []
   },
   "outputs": [],
   "source": [
    "from hyperopt import fmin, tpe, hp, STATUS_OK, Trials\n",
    "from time import time\n",
    "from sklearn.model_selection import StratifiedKFold\n",
    "\n",
    "param_hyperopt= {\n",
    "    'countvectorizer__min_df':        hp.choice('countvectorizer__min_df', np.arange(1, 6,1, dtype=int)), \n",
    "    'multinomialnb__alpha':           hp.uniform('multinomialnb__alpha', 0.0, 1.0)                                   \n",
    "}\n",
    "\n",
    "\n",
    "K_fold=StratifiedKFold(n_splits=5,shuffle=False)"
   ]
  },
  {
   "cell_type": "code",
   "execution_count": 16,
   "metadata": {
    "execution": {
     "iopub.execute_input": "2021-04-23T12:04:22.877628Z",
     "iopub.status.busy": "2021-04-23T12:04:22.876824Z",
     "iopub.status.idle": "2021-04-23T12:04:22.886391Z",
     "shell.execute_reply": "2021-04-23T12:04:22.886909Z"
    },
    "papermill": {
     "duration": 0.062057,
     "end_time": "2021-04-23T12:04:22.887087",
     "exception": false,
     "start_time": "2021-04-23T12:04:22.825030",
     "status": "completed"
    },
    "tags": []
   },
   "outputs": [],
   "source": [
    "def hyperopt(param_space, X_train, y_train):\n",
    "    \n",
    "    start = time()\n",
    "    \n",
    "    # defin the object function\n",
    "    def objective_function(params):\n",
    "        clf = pipe.set_params(**params) ### since pipeline object is not callable\n",
    "        score = cross_val_score(clf, X_train, y_train, cv=K_fold,scoring='f1_macro').mean()\n",
    "        return {'loss': -score, 'status': STATUS_OK}\n",
    "\n",
    "    trials = Trials()\n",
    "\n",
    "    best_param = fmin(objective_function, \n",
    "                      param_space, \n",
    "                      algo=tpe.suggest, # you can change other algorithms such as GP,\n",
    "                      max_evals=5, \n",
    "                      trials=trials,\n",
    "                      rstate= np.random.RandomState(1))\n",
    "    loss = [x['result']['loss'] for x in trials.trials]\n",
    "    \n",
    "    best_param_values = [x for x in best_param.values()]\n",
    "    \n",
    "    \n",
    "    clf_best = pipe.set_params(      \n",
    "                    countvectorizer__min_df=int(best_param_values[0]),                   \n",
    "                    multinomialnb__alpha=float(best_param_values[1]))\n",
    "\n",
    "    \n",
    "    print(\"\")\n",
    "    print(\"##### Results\")\n",
    "    print(\"Score best parameters: \", min(loss)*-1)\n",
    "    print(\"Best parameters: \", best_param)\n",
    "    print(\"Time elapsed: \", time() - start)\n",
    "   \n",
    "    \n",
    "    return clf_best,best_param"
   ]
  },
  {
   "cell_type": "code",
   "execution_count": 17,
   "metadata": {
    "execution": {
     "iopub.execute_input": "2021-04-23T12:04:22.988449Z",
     "iopub.status.busy": "2021-04-23T12:04:22.987822Z",
     "iopub.status.idle": "2021-04-23T12:04:24.032907Z",
     "shell.execute_reply": "2021-04-23T12:04:24.032385Z"
    },
    "papermill": {
     "duration": 1.097643,
     "end_time": "2021-04-23T12:04:24.033053",
     "exception": false,
     "start_time": "2021-04-23T12:04:22.935410",
     "status": "completed"
    },
    "tags": []
   },
   "outputs": [
    {
     "name": "stdout",
     "output_type": "stream",
     "text": [
      "100%|██████████| 5/5 [00:01<00:00,  4.86trial/s, best loss: -0.9049813917215503]\n",
      "\n",
      "##### Results\n",
      "Score best parameters:  0.9049813917215503\n",
      "Best parameters:  {'countvectorizer__min_df': 2, 'multinomialnb__alpha': 0.7034400418549064}\n",
      "Time elapsed:  1.037904977798462\n"
     ]
    }
   ],
   "source": [
    "best_model,best_param = hyperopt(param_hyperopt, X_train, y_train)"
   ]
  },
  {
   "cell_type": "code",
   "execution_count": 18,
   "metadata": {
    "execution": {
     "iopub.execute_input": "2021-04-23T12:04:24.139426Z",
     "iopub.status.busy": "2021-04-23T12:04:24.138626Z",
     "iopub.status.idle": "2021-04-23T12:04:24.195397Z",
     "shell.execute_reply": "2021-04-23T12:04:24.194736Z"
    },
    "papermill": {
     "duration": 0.110551,
     "end_time": "2021-04-23T12:04:24.195537",
     "exception": false,
     "start_time": "2021-04-23T12:04:24.084986",
     "status": "completed"
    },
    "tags": []
   },
   "outputs": [
    {
     "name": "stdout",
     "output_type": "stream",
     "text": [
      "              precision    recall  f1-score   support\n",
      "\n",
      "           0       0.95      0.91      0.93        76\n",
      "           1       0.92      0.95      0.93        80\n",
      "\n",
      "    accuracy                           0.93       156\n",
      "   macro avg       0.93      0.93      0.93       156\n",
      "weighted avg       0.93      0.93      0.93       156\n",
      "\n"
     ]
    }
   ],
   "source": [
    "from sklearn.metrics import precision_score, recall_score\n",
    "from sklearn.metrics import roc_auc_score, accuracy_score\n",
    "from sklearn.metrics import classification_report\n",
    "best_model.fit(X_train,y_train)\n",
    "y_pred = best_model.predict(X_test)\n",
    "y_proba = best_model.predict_proba(X_test)\n",
    "\n",
    "print(classification_report(y_test, y_pred))"
   ]
  },
  {
   "cell_type": "markdown",
   "metadata": {
    "papermill": {
     "duration": 0.050921,
     "end_time": "2021-04-23T12:04:24.298961",
     "exception": false,
     "start_time": "2021-04-23T12:04:24.248040",
     "status": "completed"
    },
    "tags": []
   },
   "source": [
    "## Prediction"
   ]
  },
  {
   "cell_type": "code",
   "execution_count": 19,
   "metadata": {
    "execution": {
     "iopub.execute_input": "2021-04-23T12:04:24.407520Z",
     "iopub.status.busy": "2021-04-23T12:04:24.406593Z",
     "iopub.status.idle": "2021-04-23T12:04:24.423435Z",
     "shell.execute_reply": "2021-04-23T12:04:24.422798Z"
    },
    "papermill": {
     "duration": 0.073443,
     "end_time": "2021-04-23T12:04:24.423581",
     "exception": false,
     "start_time": "2021-04-23T12:04:24.350138",
     "status": "completed"
    },
    "tags": []
   },
   "outputs": [
    {
     "data": {
      "text/html": [
       "<div>\n",
       "<style scoped>\n",
       "    .dataframe tbody tr th:only-of-type {\n",
       "        vertical-align: middle;\n",
       "    }\n",
       "\n",
       "    .dataframe tbody tr th {\n",
       "        vertical-align: top;\n",
       "    }\n",
       "\n",
       "    .dataframe thead th {\n",
       "        text-align: right;\n",
       "    }\n",
       "</style>\n",
       "<table border=\"1\" class=\"dataframe\">\n",
       "  <thead>\n",
       "    <tr style=\"text-align: right;\">\n",
       "      <th></th>\n",
       "      <th>review_id</th>\n",
       "      <th>time</th>\n",
       "      <th>seller_name</th>\n",
       "      <th>product_name</th>\n",
       "      <th>product_variation</th>\n",
       "      <th>review_content</th>\n",
       "      <th>customer_name_full</th>\n",
       "      <th>customer_name_anonymous</th>\n",
       "      <th>review_stars</th>\n",
       "    </tr>\n",
       "  </thead>\n",
       "  <tbody>\n",
       "    <tr>\n",
       "      <th>1</th>\n",
       "      <td>2</td>\n",
       "      <td>2021-02-17 00:28:00</td>\n",
       "      <td>ezlifesg</td>\n",
       "      <td>Local Ready Stock 3 PLY Disposable Face Masks ...</td>\n",
       "      <td>Adult Black</td>\n",
       "      <td>Ordered on 6th, rec'd parcel on 10 Feb at 11.3...</td>\n",
       "      <td>NaN</td>\n",
       "      <td>w*****4</td>\n",
       "      <td>3</td>\n",
       "    </tr>\n",
       "    <tr>\n",
       "      <th>2</th>\n",
       "      <td>3</td>\n",
       "      <td>2021-02-10 14:21:00</td>\n",
       "      <td>ezlifesg</td>\n",
       "      <td>Local Ready Stock 3 PLY Disposable Face Masks ...</td>\n",
       "      <td>Adult Black</td>\n",
       "      <td>Fast delivery! First time buying, it’s all wel...</td>\n",
       "      <td>NaN</td>\n",
       "      <td>j*****g</td>\n",
       "      <td>4</td>\n",
       "    </tr>\n",
       "    <tr>\n",
       "      <th>11</th>\n",
       "      <td>12</td>\n",
       "      <td>2021-02-08 21:23:00</td>\n",
       "      <td>ezlifesg</td>\n",
       "      <td>Local Ready Stock 3 PLY Disposable Face Masks ...</td>\n",
       "      <td>Adult Black</td>\n",
       "      <td>Fast delivery. Box dented. Quality is thin. I ...</td>\n",
       "      <td>NaN</td>\n",
       "      <td>n*****4</td>\n",
       "      <td>3</td>\n",
       "    </tr>\n",
       "    <tr>\n",
       "      <th>12</th>\n",
       "      <td>13</td>\n",
       "      <td>2021-02-12 11:39:00</td>\n",
       "      <td>ezlifesg</td>\n",
       "      <td>Local Ready Stock 3 PLY Disposable Face Masks ...</td>\n",
       "      <td>Adult Black</td>\n",
       "      <td>Second purchase the mask.. so disappointed not...</td>\n",
       "      <td>NaN</td>\n",
       "      <td>s*****l</td>\n",
       "      <td>2</td>\n",
       "    </tr>\n",
       "    <tr>\n",
       "      <th>13</th>\n",
       "      <td>14</td>\n",
       "      <td>2021-02-16 16:38:00</td>\n",
       "      <td>ezlifesg</td>\n",
       "      <td>Local Ready Stock 3 PLY Disposable Face Masks ...</td>\n",
       "      <td>Adult White</td>\n",
       "      <td>Received within a few days. However it is not ...</td>\n",
       "      <td>NaN</td>\n",
       "      <td>h*****i</td>\n",
       "      <td>3</td>\n",
       "    </tr>\n",
       "  </tbody>\n",
       "</table>\n",
       "</div>"
      ],
      "text/plain": [
       "    review_id                time seller_name  \\\n",
       "1           2 2021-02-17 00:28:00    ezlifesg   \n",
       "2           3 2021-02-10 14:21:00    ezlifesg   \n",
       "11         12 2021-02-08 21:23:00    ezlifesg   \n",
       "12         13 2021-02-12 11:39:00    ezlifesg   \n",
       "13         14 2021-02-16 16:38:00    ezlifesg   \n",
       "\n",
       "                                         product_name product_variation  \\\n",
       "1   Local Ready Stock 3 PLY Disposable Face Masks ...       Adult Black   \n",
       "2   Local Ready Stock 3 PLY Disposable Face Masks ...       Adult Black   \n",
       "11  Local Ready Stock 3 PLY Disposable Face Masks ...       Adult Black   \n",
       "12  Local Ready Stock 3 PLY Disposable Face Masks ...       Adult Black   \n",
       "13  Local Ready Stock 3 PLY Disposable Face Masks ...       Adult White   \n",
       "\n",
       "                                       review_content customer_name_full  \\\n",
       "1   Ordered on 6th, rec'd parcel on 10 Feb at 11.3...                NaN   \n",
       "2   Fast delivery! First time buying, it’s all wel...                NaN   \n",
       "11  Fast delivery. Box dented. Quality is thin. I ...                NaN   \n",
       "12  Second purchase the mask.. so disappointed not...                NaN   \n",
       "13  Received within a few days. However it is not ...                NaN   \n",
       "\n",
       "   customer_name_anonymous  review_stars  \n",
       "1                  w*****4             3  \n",
       "2                  j*****g             4  \n",
       "11                 n*****4             3  \n",
       "12                 s*****l             2  \n",
       "13                 h*****i             3  "
      ]
     },
     "execution_count": 19,
     "metadata": {},
     "output_type": "execute_result"
    }
   ],
   "source": [
    "df = df_all[df_all.review_stars<=4]\n",
    "df.head()"
   ]
  },
  {
   "cell_type": "code",
   "execution_count": 20,
   "metadata": {
    "execution": {
     "iopub.execute_input": "2021-04-23T12:04:24.536552Z",
     "iopub.status.busy": "2021-04-23T12:04:24.535888Z",
     "iopub.status.idle": "2021-04-23T12:04:24.539932Z",
     "shell.execute_reply": "2021-04-23T12:04:24.539437Z"
    },
    "papermill": {
     "duration": 0.064017,
     "end_time": "2021-04-23T12:04:24.540071",
     "exception": false,
     "start_time": "2021-04-23T12:04:24.476054",
     "status": "completed"
    },
    "tags": []
   },
   "outputs": [],
   "source": [
    "def text_sent_token(text):\n",
    "    \"\"\"break text into sub-sentences and tokenize the\"\"\"\n",
    "    text=emoji.demojize(text) \n",
    "    text=text.lower()\n",
    "    text=words_lemmatizer(text)\n",
    "    text=re.sub(r\",\",'. ',text)\n",
    "    text=re.sub(r\"\\\\n\",'. ',text)\n",
    "    text=re.sub(r\"although\",'. ',text)\n",
    "    text=re.sub(r\"but\",'. ',text)\n",
    "    text=re.sub(r\"however\",'. ',text)\n",
    "    text=re.sub(r\"so \",'. ',text)\n",
    "    text=re.sub(r\"though\",'. ',text)\n",
    "    text=re.sub(r\"\\.{3}\",'. ',text)\n",
    "    text=re.sub(r\"\\.{2}\",'. ',text)\n",
    "\n",
    "    sentence=sent_tokenize(text)\n",
    "    return sentence"
   ]
  },
  {
   "cell_type": "code",
   "execution_count": 21,
   "metadata": {
    "execution": {
     "iopub.execute_input": "2021-04-23T12:04:24.653701Z",
     "iopub.status.busy": "2021-04-23T12:04:24.652997Z",
     "iopub.status.idle": "2021-04-23T12:04:39.504580Z",
     "shell.execute_reply": "2021-04-23T12:04:39.505659Z"
    },
    "papermill": {
     "duration": 14.913858,
     "end_time": "2021-04-23T12:04:39.505884",
     "exception": false,
     "start_time": "2021-04-23T12:04:24.592026",
     "status": "completed"
    },
    "tags": []
   },
   "outputs": [
    {
     "name": "stdout",
     "output_type": "stream",
     "text": [
      "(2072, 10)\n"
     ]
    },
    {
     "data": {
      "text/html": [
       "<div>\n",
       "<style scoped>\n",
       "    .dataframe tbody tr th:only-of-type {\n",
       "        vertical-align: middle;\n",
       "    }\n",
       "\n",
       "    .dataframe tbody tr th {\n",
       "        vertical-align: top;\n",
       "    }\n",
       "\n",
       "    .dataframe thead th {\n",
       "        text-align: right;\n",
       "    }\n",
       "</style>\n",
       "<table border=\"1\" class=\"dataframe\">\n",
       "  <thead>\n",
       "    <tr style=\"text-align: right;\">\n",
       "      <th></th>\n",
       "      <th>review_id</th>\n",
       "      <th>time</th>\n",
       "      <th>seller_name</th>\n",
       "      <th>product_name</th>\n",
       "      <th>product_variation</th>\n",
       "      <th>review_content</th>\n",
       "      <th>customer_name_full</th>\n",
       "      <th>customer_name_anonymous</th>\n",
       "      <th>review_stars</th>\n",
       "      <th>sentence</th>\n",
       "    </tr>\n",
       "  </thead>\n",
       "  <tbody>\n",
       "    <tr>\n",
       "      <th>1</th>\n",
       "      <td>2</td>\n",
       "      <td>2021-02-17 00:28:00</td>\n",
       "      <td>ezlifesg</td>\n",
       "      <td>Local Ready Stock 3 PLY Disposable Face Masks ...</td>\n",
       "      <td>Adult Black</td>\n",
       "      <td>Ordered on 6th, rec'd parcel on 10 Feb at 11.3...</td>\n",
       "      <td>NaN</td>\n",
       "      <td>w*****4</td>\n",
       "      <td>3</td>\n",
       "      <td>[order on 6th ., rec 'd parcel on 10 feb at 11...</td>\n",
       "    </tr>\n",
       "    <tr>\n",
       "      <th>2</th>\n",
       "      <td>3</td>\n",
       "      <td>2021-02-10 14:21:00</td>\n",
       "      <td>ezlifesg</td>\n",
       "      <td>Local Ready Stock 3 PLY Disposable Face Masks ...</td>\n",
       "      <td>Adult Black</td>\n",
       "      <td>Fast delivery! First time buying, it’s all wel...</td>\n",
       "      <td>NaN</td>\n",
       "      <td>j*****g</td>\n",
       "      <td>4</td>\n",
       "      <td>[fast delivery !, first time buying ., it ’ s ...</td>\n",
       "    </tr>\n",
       "    <tr>\n",
       "      <th>11</th>\n",
       "      <td>12</td>\n",
       "      <td>2021-02-08 21:23:00</td>\n",
       "      <td>ezlifesg</td>\n",
       "      <td>Local Ready Stock 3 PLY Disposable Face Masks ...</td>\n",
       "      <td>Adult Black</td>\n",
       "      <td>Fast delivery. Box dented. Quality is thin. I ...</td>\n",
       "      <td>NaN</td>\n",
       "      <td>n*****4</td>\n",
       "      <td>3</td>\n",
       "      <td>[fast delivery ., box dent ., quality be thin ...</td>\n",
       "    </tr>\n",
       "    <tr>\n",
       "      <th>12</th>\n",
       "      <td>13</td>\n",
       "      <td>2021-02-12 11:39:00</td>\n",
       "      <td>ezlifesg</td>\n",
       "      <td>Local Ready Stock 3 PLY Disposable Face Masks ...</td>\n",
       "      <td>Adult Black</td>\n",
       "      <td>Second purchase the mask.. so disappointed not...</td>\n",
       "      <td>NaN</td>\n",
       "      <td>s*****l</td>\n",
       "      <td>2</td>\n",
       "      <td>[second purchase the mask., ., disappointed no...</td>\n",
       "    </tr>\n",
       "    <tr>\n",
       "      <th>13</th>\n",
       "      <td>14</td>\n",
       "      <td>2021-02-16 16:38:00</td>\n",
       "      <td>ezlifesg</td>\n",
       "      <td>Local Ready Stock 3 PLY Disposable Face Masks ...</td>\n",
       "      <td>Adult White</td>\n",
       "      <td>Received within a few days. However it is not ...</td>\n",
       "      <td>NaN</td>\n",
       "      <td>h*****i</td>\n",
       "      <td>3</td>\n",
       "      <td>[receive within a few day ., ., it be not 3 pl...</td>\n",
       "    </tr>\n",
       "  </tbody>\n",
       "</table>\n",
       "</div>"
      ],
      "text/plain": [
       "    review_id                time seller_name  \\\n",
       "1           2 2021-02-17 00:28:00    ezlifesg   \n",
       "2           3 2021-02-10 14:21:00    ezlifesg   \n",
       "11         12 2021-02-08 21:23:00    ezlifesg   \n",
       "12         13 2021-02-12 11:39:00    ezlifesg   \n",
       "13         14 2021-02-16 16:38:00    ezlifesg   \n",
       "\n",
       "                                         product_name product_variation  \\\n",
       "1   Local Ready Stock 3 PLY Disposable Face Masks ...       Adult Black   \n",
       "2   Local Ready Stock 3 PLY Disposable Face Masks ...       Adult Black   \n",
       "11  Local Ready Stock 3 PLY Disposable Face Masks ...       Adult Black   \n",
       "12  Local Ready Stock 3 PLY Disposable Face Masks ...       Adult Black   \n",
       "13  Local Ready Stock 3 PLY Disposable Face Masks ...       Adult White   \n",
       "\n",
       "                                       review_content customer_name_full  \\\n",
       "1   Ordered on 6th, rec'd parcel on 10 Feb at 11.3...                NaN   \n",
       "2   Fast delivery! First time buying, it’s all wel...                NaN   \n",
       "11  Fast delivery. Box dented. Quality is thin. I ...                NaN   \n",
       "12  Second purchase the mask.. so disappointed not...                NaN   \n",
       "13  Received within a few days. However it is not ...                NaN   \n",
       "\n",
       "   customer_name_anonymous  review_stars  \\\n",
       "1                  w*****4             3   \n",
       "2                  j*****g             4   \n",
       "11                 n*****4             3   \n",
       "12                 s*****l             2   \n",
       "13                 h*****i             3   \n",
       "\n",
       "                                             sentence  \n",
       "1   [order on 6th ., rec 'd parcel on 10 feb at 11...  \n",
       "2   [fast delivery !, first time buying ., it ’ s ...  \n",
       "11  [fast delivery ., box dent ., quality be thin ...  \n",
       "12  [second purchase the mask., ., disappointed no...  \n",
       "13  [receive within a few day ., ., it be not 3 pl...  "
      ]
     },
     "execution_count": 21,
     "metadata": {},
     "output_type": "execute_result"
    }
   ],
   "source": [
    "df['sentence']=df['review_content'].apply(lambda x: text_sent_token(x))\n",
    "print(df.shape)\n",
    "df.head()"
   ]
  },
  {
   "cell_type": "code",
   "execution_count": 22,
   "metadata": {
    "execution": {
     "iopub.execute_input": "2021-04-23T12:04:39.622491Z",
     "iopub.status.busy": "2021-04-23T12:04:39.621342Z",
     "iopub.status.idle": "2021-04-23T12:04:39.626123Z",
     "shell.execute_reply": "2021-04-23T12:04:39.625456Z"
    },
    "papermill": {
     "duration": 0.066299,
     "end_time": "2021-04-23T12:04:39.626283",
     "exception": false,
     "start_time": "2021-04-23T12:04:39.559984",
     "status": "completed"
    },
    "tags": []
   },
   "outputs": [
    {
     "data": {
      "text/plain": [
       "1        Ordered on 6th, rec'd parcel on 10 Feb at 11.3...\n",
       "2        Fast delivery! First time buying, it’s all wel...\n",
       "11       Fast delivery. Box dented. Quality is thin. I ...\n",
       "12       Second purchase the mask.. so disappointed not...\n",
       "13       Received within a few days. However it is not ...\n",
       "                               ...                        \n",
       "40614    The ear loop connecting to the mask is opposit...\n",
       "40624                         The price is higher than q10\n",
       "40626    Two out of 4 boxes are dented. Good thing that...\n",
       "40631    Box came damaged but packing inside is fine. D...\n",
       "40642    both mask quality were ok but the straps are v...\n",
       "Name: review_content, Length: 2072, dtype: object"
      ]
     },
     "execution_count": 22,
     "metadata": {},
     "output_type": "execute_result"
    }
   ],
   "source": [
    "df['review_content']"
   ]
  },
  {
   "cell_type": "code",
   "execution_count": 23,
   "metadata": {
    "execution": {
     "iopub.execute_input": "2021-04-23T12:04:39.744426Z",
     "iopub.status.busy": "2021-04-23T12:04:39.743626Z",
     "iopub.status.idle": "2021-04-23T12:04:39.748709Z",
     "shell.execute_reply": "2021-04-23T12:04:39.747954Z"
    },
    "papermill": {
     "duration": 0.067843,
     "end_time": "2021-04-23T12:04:39.748847",
     "exception": false,
     "start_time": "2021-04-23T12:04:39.681004",
     "status": "completed"
    },
    "tags": []
   },
   "outputs": [
    {
     "data": {
      "text/plain": [
       "1        [order on 6th ., rec 'd parcel on 10 feb at 11...\n",
       "2        [fast delivery !, first time buying ., it ’ s ...\n",
       "11       [fast delivery ., box dent ., quality be thin ...\n",
       "12       [second purchase the mask., ., disappointed no...\n",
       "13       [receive within a few day ., ., it be not 3 pl...\n",
       "                               ...                        \n",
       "40614    [the ear loop connect to the mask be opposite ...\n",
       "40624                         [the price be high than q10]\n",
       "40626    [two out of 4 box be dent ., good thing that t...\n",
       "40631    [box come damage ., pack inside be fine ., del...\n",
       "40642    [both mask quality be ok ., the strap be very ...\n",
       "Name: sentence, Length: 2072, dtype: object"
      ]
     },
     "execution_count": 23,
     "metadata": {},
     "output_type": "execute_result"
    }
   ],
   "source": [
    "df['sentence']"
   ]
  },
  {
   "cell_type": "code",
   "execution_count": 24,
   "metadata": {
    "execution": {
     "iopub.execute_input": "2021-04-23T12:04:39.866560Z",
     "iopub.status.busy": "2021-04-23T12:04:39.865864Z",
     "iopub.status.idle": "2021-04-23T12:04:40.363813Z",
     "shell.execute_reply": "2021-04-23T12:04:40.363208Z"
    },
    "papermill": {
     "duration": 0.560828,
     "end_time": "2021-04-23T12:04:40.363958",
     "exception": false,
     "start_time": "2021-04-23T12:04:39.803130",
     "status": "completed"
    },
    "tags": []
   },
   "outputs": [],
   "source": [
    "pred=[]\n",
    "for sent in df.sentence:    \n",
    "    pred.append(pipe.predict(sent))"
   ]
  },
  {
   "cell_type": "code",
   "execution_count": 25,
   "metadata": {
    "execution": {
     "iopub.execute_input": "2021-04-23T12:04:40.485706Z",
     "iopub.status.busy": "2021-04-23T12:04:40.485036Z",
     "iopub.status.idle": "2021-04-23T12:04:40.490041Z",
     "shell.execute_reply": "2021-04-23T12:04:40.490493Z"
    },
    "papermill": {
     "duration": 0.072366,
     "end_time": "2021-04-23T12:04:40.490728",
     "exception": false,
     "start_time": "2021-04-23T12:04:40.418362",
     "status": "completed"
    },
    "tags": []
   },
   "outputs": [
    {
     "name": "stdout",
     "output_type": "stream",
     "text": [
      "(2072, 2)\n"
     ]
    },
    {
     "data": {
      "text/html": [
       "<div>\n",
       "<style scoped>\n",
       "    .dataframe tbody tr th:only-of-type {\n",
       "        vertical-align: middle;\n",
       "    }\n",
       "\n",
       "    .dataframe tbody tr th {\n",
       "        vertical-align: top;\n",
       "    }\n",
       "\n",
       "    .dataframe thead th {\n",
       "        text-align: right;\n",
       "    }\n",
       "</style>\n",
       "<table border=\"1\" class=\"dataframe\">\n",
       "  <thead>\n",
       "    <tr style=\"text-align: right;\">\n",
       "      <th></th>\n",
       "      <th>index</th>\n",
       "      <th>sentence</th>\n",
       "    </tr>\n",
       "  </thead>\n",
       "  <tbody>\n",
       "    <tr>\n",
       "      <th>0</th>\n",
       "      <td>1</td>\n",
       "      <td>[order on 6th ., rec 'd parcel on 10 feb at 11...</td>\n",
       "    </tr>\n",
       "    <tr>\n",
       "      <th>1</th>\n",
       "      <td>2</td>\n",
       "      <td>[fast delivery !, first time buying ., it ’ s ...</td>\n",
       "    </tr>\n",
       "    <tr>\n",
       "      <th>2</th>\n",
       "      <td>11</td>\n",
       "      <td>[fast delivery ., box dent ., quality be thin ...</td>\n",
       "    </tr>\n",
       "    <tr>\n",
       "      <th>3</th>\n",
       "      <td>12</td>\n",
       "      <td>[second purchase the mask., ., disappointed no...</td>\n",
       "    </tr>\n",
       "    <tr>\n",
       "      <th>4</th>\n",
       "      <td>13</td>\n",
       "      <td>[receive within a few day ., ., it be not 3 pl...</td>\n",
       "    </tr>\n",
       "  </tbody>\n",
       "</table>\n",
       "</div>"
      ],
      "text/plain": [
       "   index                                           sentence\n",
       "0      1  [order on 6th ., rec 'd parcel on 10 feb at 11...\n",
       "1      2  [fast delivery !, first time buying ., it ’ s ...\n",
       "2     11  [fast delivery ., box dent ., quality be thin ...\n",
       "3     12  [second purchase the mask., ., disappointed no...\n",
       "4     13  [receive within a few day ., ., it be not 3 pl..."
      ]
     },
     "execution_count": 25,
     "metadata": {},
     "output_type": "execute_result"
    }
   ],
   "source": [
    "results=df.sentence\n",
    "results=results.reset_index()\n",
    "print(results.shape)\n",
    "results.head()"
   ]
  },
  {
   "cell_type": "code",
   "execution_count": 26,
   "metadata": {
    "execution": {
     "iopub.execute_input": "2021-04-23T12:04:40.611574Z",
     "iopub.status.busy": "2021-04-23T12:04:40.610877Z",
     "iopub.status.idle": "2021-04-23T12:04:40.627118Z",
     "shell.execute_reply": "2021-04-23T12:04:40.626622Z"
    },
    "papermill": {
     "duration": 0.081046,
     "end_time": "2021-04-23T12:04:40.627317",
     "exception": false,
     "start_time": "2021-04-23T12:04:40.546271",
     "status": "completed"
    },
    "tags": []
   },
   "outputs": [
    {
     "data": {
      "text/html": [
       "<div>\n",
       "<style scoped>\n",
       "    .dataframe tbody tr th:only-of-type {\n",
       "        vertical-align: middle;\n",
       "    }\n",
       "\n",
       "    .dataframe tbody tr th {\n",
       "        vertical-align: top;\n",
       "    }\n",
       "\n",
       "    .dataframe thead th {\n",
       "        text-align: right;\n",
       "    }\n",
       "</style>\n",
       "<table border=\"1\" class=\"dataframe\">\n",
       "  <thead>\n",
       "    <tr style=\"text-align: right;\">\n",
       "      <th></th>\n",
       "      <th>sentence</th>\n",
       "      <th>label</th>\n",
       "      <th>review_id</th>\n",
       "    </tr>\n",
       "  </thead>\n",
       "  <tbody>\n",
       "    <tr>\n",
       "      <th>0</th>\n",
       "      <td>[order on 6th ., rec 'd parcel on 10 feb at 11...</td>\n",
       "      <td>[0, 0, 0, 0, 0, 0, 0, 0, 0, 0, 1]</td>\n",
       "      <td>2</td>\n",
       "    </tr>\n",
       "    <tr>\n",
       "      <th>1</th>\n",
       "      <td>[fast delivery !, first time buying ., it ’ s ...</td>\n",
       "      <td>[1, 1, 1, 0, 0, 1]</td>\n",
       "      <td>3</td>\n",
       "    </tr>\n",
       "    <tr>\n",
       "      <th>2</th>\n",
       "      <td>[fast delivery ., box dent ., quality be thin ...</td>\n",
       "      <td>[1, 0, 0, 0]</td>\n",
       "      <td>12</td>\n",
       "    </tr>\n",
       "    <tr>\n",
       "      <th>3</th>\n",
       "      <td>[second purchase the mask., ., disappointed no...</td>\n",
       "      <td>[1, 1, 0, 1, 1, 1]</td>\n",
       "      <td>13</td>\n",
       "    </tr>\n",
       "    <tr>\n",
       "      <th>4</th>\n",
       "      <td>[receive within a few day ., ., it be not 3 pl...</td>\n",
       "      <td>[1, 1, 0, 0, 1, 0]</td>\n",
       "      <td>14</td>\n",
       "    </tr>\n",
       "  </tbody>\n",
       "</table>\n",
       "</div>"
      ],
      "text/plain": [
       "                                            sentence  \\\n",
       "0  [order on 6th ., rec 'd parcel on 10 feb at 11...   \n",
       "1  [fast delivery !, first time buying ., it ’ s ...   \n",
       "2  [fast delivery ., box dent ., quality be thin ...   \n",
       "3  [second purchase the mask., ., disappointed no...   \n",
       "4  [receive within a few day ., ., it be not 3 pl...   \n",
       "\n",
       "                               label  review_id  \n",
       "0  [0, 0, 0, 0, 0, 0, 0, 0, 0, 0, 1]          2  \n",
       "1                 [1, 1, 1, 0, 0, 1]          3  \n",
       "2                       [1, 0, 0, 0]         12  \n",
       "3                 [1, 1, 0, 1, 1, 1]         13  \n",
       "4                 [1, 1, 0, 0, 1, 0]         14  "
      ]
     },
     "execution_count": 26,
     "metadata": {},
     "output_type": "execute_result"
    }
   ],
   "source": [
    "results['label']=pred\n",
    "results['review_id']=list(df.review_id.values)\n",
    "results=results.drop(\"index\",axis=1)\n",
    "results.head()"
   ]
  },
  {
   "cell_type": "code",
   "execution_count": 27,
   "metadata": {
    "execution": {
     "iopub.execute_input": "2021-04-23T12:04:40.744397Z",
     "iopub.status.busy": "2021-04-23T12:04:40.743458Z",
     "iopub.status.idle": "2021-04-23T12:04:40.870346Z",
     "shell.execute_reply": "2021-04-23T12:04:40.869621Z"
    },
    "papermill": {
     "duration": 0.187453,
     "end_time": "2021-04-23T12:04:40.870505",
     "exception": false,
     "start_time": "2021-04-23T12:04:40.683052",
     "status": "completed"
    },
    "tags": []
   },
   "outputs": [],
   "source": [
    "results.to_csv('pos_neg_results.csv')"
   ]
  },
  {
   "cell_type": "code",
   "execution_count": 28,
   "metadata": {
    "execution": {
     "iopub.execute_input": "2021-04-23T12:04:40.994689Z",
     "iopub.status.busy": "2021-04-23T12:04:40.993695Z",
     "iopub.status.idle": "2021-04-23T12:04:41.084855Z",
     "shell.execute_reply": "2021-04-23T12:04:41.085518Z"
    },
    "papermill": {
     "duration": 0.159281,
     "end_time": "2021-04-23T12:04:41.085695",
     "exception": false,
     "start_time": "2021-04-23T12:04:40.926414",
     "status": "completed"
    },
    "tags": []
   },
   "outputs": [
    {
     "data": {
      "text/html": [
       "<div>\n",
       "<style scoped>\n",
       "    .dataframe tbody tr th:only-of-type {\n",
       "        vertical-align: middle;\n",
       "    }\n",
       "\n",
       "    .dataframe tbody tr th {\n",
       "        vertical-align: top;\n",
       "    }\n",
       "\n",
       "    .dataframe thead th {\n",
       "        text-align: right;\n",
       "    }\n",
       "</style>\n",
       "<table border=\"1\" class=\"dataframe\">\n",
       "  <thead>\n",
       "    <tr style=\"text-align: right;\">\n",
       "      <th></th>\n",
       "      <th>sentence</th>\n",
       "      <th>label</th>\n",
       "      <th>review_id</th>\n",
       "      <th>new_neg_comments</th>\n",
       "      <th>pred_label</th>\n",
       "    </tr>\n",
       "  </thead>\n",
       "  <tbody>\n",
       "    <tr>\n",
       "      <th>0</th>\n",
       "      <td>[order on 6th ., rec 'd parcel on 10 feb at 11...</td>\n",
       "      <td>[0, 0, 0, 0, 0, 0, 0, 0, 0, 0, 1]</td>\n",
       "      <td>2</td>\n",
       "      <td>[order on 6th ., rec 'd parcel on 10 feb at 11...</td>\n",
       "      <td>1</td>\n",
       "    </tr>\n",
       "    <tr>\n",
       "      <th>1</th>\n",
       "      <td>[fast delivery !, first time buying ., it ’ s ...</td>\n",
       "      <td>[1, 1, 1, 0, 0, 1]</td>\n",
       "      <td>3</td>\n",
       "      <td>[the material be not too thick ., which i pref...</td>\n",
       "      <td>1</td>\n",
       "    </tr>\n",
       "    <tr>\n",
       "      <th>2</th>\n",
       "      <td>[fast delivery ., box dent ., quality be thin ...</td>\n",
       "      <td>[1, 0, 0, 0]</td>\n",
       "      <td>12</td>\n",
       "      <td>[box dent ., quality be thin ., i try to wear ...</td>\n",
       "      <td>1</td>\n",
       "    </tr>\n",
       "    <tr>\n",
       "      <th>3</th>\n",
       "      <td>[second purchase the mask., ., disappointed no...</td>\n",
       "      <td>[1, 1, 0, 1, 1, 1]</td>\n",
       "      <td>13</td>\n",
       "      <td>[disappointed not same a first i order .]</td>\n",
       "      <td>1</td>\n",
       "    </tr>\n",
       "    <tr>\n",
       "      <th>4</th>\n",
       "      <td>[receive within a few day ., ., it be not 3 pl...</td>\n",
       "      <td>[1, 1, 0, 0, 1, 0]</td>\n",
       "      <td>14</td>\n",
       "      <td>[it be not 3 ply a described ., these be not r...</td>\n",
       "      <td>1</td>\n",
       "    </tr>\n",
       "  </tbody>\n",
       "</table>\n",
       "</div>"
      ],
      "text/plain": [
       "                                            sentence  \\\n",
       "0  [order on 6th ., rec 'd parcel on 10 feb at 11...   \n",
       "1  [fast delivery !, first time buying ., it ’ s ...   \n",
       "2  [fast delivery ., box dent ., quality be thin ...   \n",
       "3  [second purchase the mask., ., disappointed no...   \n",
       "4  [receive within a few day ., ., it be not 3 pl...   \n",
       "\n",
       "                               label  review_id  \\\n",
       "0  [0, 0, 0, 0, 0, 0, 0, 0, 0, 0, 1]          2   \n",
       "1                 [1, 1, 1, 0, 0, 1]          3   \n",
       "2                       [1, 0, 0, 0]         12   \n",
       "3                 [1, 1, 0, 1, 1, 1]         13   \n",
       "4                 [1, 1, 0, 0, 1, 0]         14   \n",
       "\n",
       "                                    new_neg_comments  pred_label  \n",
       "0  [order on 6th ., rec 'd parcel on 10 feb at 11...           1  \n",
       "1  [the material be not too thick ., which i pref...           1  \n",
       "2  [box dent ., quality be thin ., i try to wear ...           1  \n",
       "3          [disappointed not same a first i order .]           1  \n",
       "4  [it be not 3 ply a described ., these be not r...           1  "
      ]
     },
     "execution_count": 28,
     "metadata": {},
     "output_type": "execute_result"
    }
   ],
   "source": [
    "results['new_neg_comments']=results.apply(lambda x: [x[0][i] for i in range(len(x[1])) if x[1][i]==0] ,axis=1)\n",
    "# if all sentences in the comment are predicted positive, will be removed, and pred_label=0 (pred_label=1 will be selected) \n",
    "results['pred_label']=results['new_neg_comments'].apply(lambda x: 1 if len(x)!=0 else 0)\n",
    "results.head()"
   ]
  },
  {
   "cell_type": "code",
   "execution_count": 29,
   "metadata": {
    "execution": {
     "iopub.execute_input": "2021-04-23T12:04:41.205721Z",
     "iopub.status.busy": "2021-04-23T12:04:41.204789Z",
     "iopub.status.idle": "2021-04-23T12:04:41.336280Z",
     "shell.execute_reply": "2021-04-23T12:04:41.335422Z"
    },
    "papermill": {
     "duration": 0.193723,
     "end_time": "2021-04-23T12:04:41.336440",
     "exception": false,
     "start_time": "2021-04-23T12:04:41.142717",
     "status": "completed"
    },
    "tags": []
   },
   "outputs": [],
   "source": [
    "results.to_csv('1to4_stars_neg.csv', index=False)"
   ]
  },
  {
   "cell_type": "markdown",
   "metadata": {
    "papermill": {
     "duration": 0.056472,
     "end_time": "2021-04-23T12:04:41.449982",
     "exception": false,
     "start_time": "2021-04-23T12:04:41.393510",
     "status": "completed"
    },
    "tags": []
   },
   "source": [
    "## Evaluation after manual adjustment on negative/positive reviews separation"
   ]
  },
  {
   "cell_type": "code",
   "execution_count": 30,
   "metadata": {
    "execution": {
     "iopub.execute_input": "2021-04-23T12:04:41.570646Z",
     "iopub.status.busy": "2021-04-23T12:04:41.569835Z",
     "iopub.status.idle": "2021-04-23T12:04:42.031123Z",
     "shell.execute_reply": "2021-04-23T12:04:42.030009Z"
    },
    "papermill": {
     "duration": 0.5245,
     "end_time": "2021-04-23T12:04:42.031298",
     "exception": false,
     "start_time": "2021-04-23T12:04:41.506798",
     "status": "completed"
    },
    "tags": []
   },
   "outputs": [
    {
     "data": {
      "text/html": [
       "<div>\n",
       "<style scoped>\n",
       "    .dataframe tbody tr th:only-of-type {\n",
       "        vertical-align: middle;\n",
       "    }\n",
       "\n",
       "    .dataframe tbody tr th {\n",
       "        vertical-align: top;\n",
       "    }\n",
       "\n",
       "    .dataframe thead th {\n",
       "        text-align: right;\n",
       "    }\n",
       "</style>\n",
       "<table border=\"1\" class=\"dataframe\">\n",
       "  <thead>\n",
       "    <tr style=\"text-align: right;\">\n",
       "      <th></th>\n",
       "      <th>sentence</th>\n",
       "      <th>label</th>\n",
       "      <th>review_id</th>\n",
       "      <th>new_neg_comments</th>\n",
       "      <th>pred_label</th>\n",
       "      <th>review_content</th>\n",
       "      <th>true_label</th>\n",
       "    </tr>\n",
       "  </thead>\n",
       "  <tbody>\n",
       "    <tr>\n",
       "      <th>0</th>\n",
       "      <td>[order on 6th ., rec 'd parcel on 10 feb at 11...</td>\n",
       "      <td>[0, 0, 0, 0, 0, 0, 0, 0, 0, 0, 1]</td>\n",
       "      <td>2</td>\n",
       "      <td>[order on 6th ., rec 'd parcel on 10 feb at 11...</td>\n",
       "      <td>1</td>\n",
       "      <td>Ordered on 6th, rec'd parcel on 10 Feb at 11.3...</td>\n",
       "      <td>1</td>\n",
       "    </tr>\n",
       "    <tr>\n",
       "      <th>1</th>\n",
       "      <td>[fast delivery !, first time buying ., it ’ s ...</td>\n",
       "      <td>[1, 1, 1, 0, 0, 1]</td>\n",
       "      <td>3</td>\n",
       "      <td>[the material be not too thick ., which i pref...</td>\n",
       "      <td>1</td>\n",
       "      <td>NaN</td>\n",
       "      <td>0</td>\n",
       "    </tr>\n",
       "    <tr>\n",
       "      <th>2</th>\n",
       "      <td>[fast delivery ., box dent ., quality be thin ...</td>\n",
       "      <td>[1, 0, 0, 0]</td>\n",
       "      <td>12</td>\n",
       "      <td>[box dent ., quality be thin ., i try to wear ...</td>\n",
       "      <td>1</td>\n",
       "      <td>Fast delivery. Box dented. Quality is thin. I ...</td>\n",
       "      <td>1</td>\n",
       "    </tr>\n",
       "    <tr>\n",
       "      <th>3</th>\n",
       "      <td>[second purchase the mask., ., disappointed no...</td>\n",
       "      <td>[1, 1, 0, 1, 1, 1]</td>\n",
       "      <td>13</td>\n",
       "      <td>[disappointed not same a first i order .]</td>\n",
       "      <td>1</td>\n",
       "      <td>Second purchase the mask.. so disappointed not...</td>\n",
       "      <td>1</td>\n",
       "    </tr>\n",
       "    <tr>\n",
       "      <th>4</th>\n",
       "      <td>[receive within a few day ., ., it be not 3 pl...</td>\n",
       "      <td>[1, 1, 0, 0, 1, 0]</td>\n",
       "      <td>14</td>\n",
       "      <td>[it be not 3 ply a described ., these be not r...</td>\n",
       "      <td>1</td>\n",
       "      <td>Received within a few days. However it is not ...</td>\n",
       "      <td>1</td>\n",
       "    </tr>\n",
       "  </tbody>\n",
       "</table>\n",
       "</div>"
      ],
      "text/plain": [
       "                                            sentence  \\\n",
       "0  [order on 6th ., rec 'd parcel on 10 feb at 11...   \n",
       "1  [fast delivery !, first time buying ., it ’ s ...   \n",
       "2  [fast delivery ., box dent ., quality be thin ...   \n",
       "3  [second purchase the mask., ., disappointed no...   \n",
       "4  [receive within a few day ., ., it be not 3 pl...   \n",
       "\n",
       "                               label  review_id  \\\n",
       "0  [0, 0, 0, 0, 0, 0, 0, 0, 0, 0, 1]          2   \n",
       "1                 [1, 1, 1, 0, 0, 1]          3   \n",
       "2                       [1, 0, 0, 0]         12   \n",
       "3                 [1, 1, 0, 1, 1, 1]         13   \n",
       "4                 [1, 1, 0, 0, 1, 0]         14   \n",
       "\n",
       "                                    new_neg_comments  pred_label  \\\n",
       "0  [order on 6th ., rec 'd parcel on 10 feb at 11...           1   \n",
       "1  [the material be not too thick ., which i pref...           1   \n",
       "2  [box dent ., quality be thin ., i try to wear ...           1   \n",
       "3          [disappointed not same a first i order .]           1   \n",
       "4  [it be not 3 ply a described ., these be not r...           1   \n",
       "\n",
       "                                      review_content  true_label  \n",
       "0  Ordered on 6th, rec'd parcel on 10 Feb at 11.3...           1  \n",
       "1                                                NaN           0  \n",
       "2  Fast delivery. Box dented. Quality is thin. I ...           1  \n",
       "3  Second purchase the mask.. so disappointed not...           1  \n",
       "4  Received within a few days. However it is not ...           1  "
      ]
     },
     "execution_count": 30,
     "metadata": {},
     "output_type": "execute_result"
    }
   ],
   "source": [
    "df_true=pd.read_excel('../input/5153-data/data_with_content_below4_negative.xlsx')\n",
    "df_true=df_true[['review_content','review_id']]\n",
    "results=results.merge(df_true, how='left',on='review_id')\n",
    "results['true_label']=results.review_content.apply(lambda x: 0 if pd.isnull(x)==True else 1)\n",
    "results.head()\n",
    "#pred_label: 1 means including negative sentiment\n",
    "#true_label: 1 means including negative sentiment (after manual confirmation)"
   ]
  },
  {
   "cell_type": "code",
   "execution_count": 31,
   "metadata": {
    "execution": {
     "iopub.execute_input": "2021-04-23T12:04:42.153442Z",
     "iopub.status.busy": "2021-04-23T12:04:42.152480Z",
     "iopub.status.idle": "2021-04-23T12:04:42.166287Z",
     "shell.execute_reply": "2021-04-23T12:04:42.165618Z"
    },
    "papermill": {
     "duration": 0.076505,
     "end_time": "2021-04-23T12:04:42.166425",
     "exception": false,
     "start_time": "2021-04-23T12:04:42.089920",
     "status": "completed"
    },
    "tags": []
   },
   "outputs": [
    {
     "data": {
      "text/html": [
       "<div>\n",
       "<style scoped>\n",
       "    .dataframe tbody tr th:only-of-type {\n",
       "        vertical-align: middle;\n",
       "    }\n",
       "\n",
       "    .dataframe tbody tr th {\n",
       "        vertical-align: top;\n",
       "    }\n",
       "\n",
       "    .dataframe thead th {\n",
       "        text-align: right;\n",
       "    }\n",
       "</style>\n",
       "<table border=\"1\" class=\"dataframe\">\n",
       "  <thead>\n",
       "    <tr style=\"text-align: right;\">\n",
       "      <th></th>\n",
       "      <th>sentence</th>\n",
       "      <th>label</th>\n",
       "      <th>review_id</th>\n",
       "      <th>new_neg_comments</th>\n",
       "      <th>pred_label</th>\n",
       "      <th>review_content</th>\n",
       "      <th>true_label</th>\n",
       "    </tr>\n",
       "  </thead>\n",
       "  <tbody>\n",
       "    <tr>\n",
       "      <th>2</th>\n",
       "      <td>[fast delivery ., box dent ., quality be thin ...</td>\n",
       "      <td>[1, 0, 0, 0]</td>\n",
       "      <td>12</td>\n",
       "      <td>[box dent ., quality be thin ., i try to wear ...</td>\n",
       "      <td>1</td>\n",
       "      <td>Fast delivery. Box dented. Quality is thin. I ...</td>\n",
       "      <td>1</td>\n",
       "    </tr>\n",
       "  </tbody>\n",
       "</table>\n",
       "</div>"
      ],
      "text/plain": [
       "                                            sentence         label  review_id  \\\n",
       "2  [fast delivery ., box dent ., quality be thin ...  [1, 0, 0, 0]         12   \n",
       "\n",
       "                                    new_neg_comments  pred_label  \\\n",
       "2  [box dent ., quality be thin ., i try to wear ...           1   \n",
       "\n",
       "                                      review_content  true_label  \n",
       "2  Fast delivery. Box dented. Quality is thin. I ...           1  "
      ]
     },
     "execution_count": 31,
     "metadata": {},
     "output_type": "execute_result"
    }
   ],
   "source": [
    "results[results.review_id==12]"
   ]
  },
  {
   "cell_type": "code",
   "execution_count": 32,
   "metadata": {
    "execution": {
     "iopub.execute_input": "2021-04-23T12:04:42.292797Z",
     "iopub.status.busy": "2021-04-23T12:04:42.291760Z",
     "iopub.status.idle": "2021-04-23T12:04:42.296998Z",
     "shell.execute_reply": "2021-04-23T12:04:42.297510Z"
    },
    "papermill": {
     "duration": 0.072691,
     "end_time": "2021-04-23T12:04:42.297689",
     "exception": false,
     "start_time": "2021-04-23T12:04:42.224998",
     "status": "completed"
    },
    "tags": []
   },
   "outputs": [
    {
     "data": {
      "text/plain": [
       "array([[ 375,  173],\n",
       "       [  55, 1469]])"
      ]
     },
     "execution_count": 32,
     "metadata": {},
     "output_type": "execute_result"
    }
   ],
   "source": [
    "from sklearn.metrics import confusion_matrix\n",
    "confusion_matrix(results.true_label, results.pred_label)"
   ]
  },
  {
   "cell_type": "code",
   "execution_count": 33,
   "metadata": {
    "execution": {
     "iopub.execute_input": "2021-04-23T12:04:42.425187Z",
     "iopub.status.busy": "2021-04-23T12:04:42.424482Z",
     "iopub.status.idle": "2021-04-23T12:04:42.441947Z",
     "shell.execute_reply": "2021-04-23T12:04:42.441229Z"
    },
    "papermill": {
     "duration": 0.08583,
     "end_time": "2021-04-23T12:04:42.442115",
     "exception": false,
     "start_time": "2021-04-23T12:04:42.356285",
     "status": "completed"
    },
    "tags": []
   },
   "outputs": [
    {
     "name": "stdout",
     "output_type": "stream",
     "text": [
      "precision:  0.9639107611548556\n",
      "recall:  0.8946406820950061\n",
      "accuracy:  0.88996138996139\n",
      "              precision    recall  f1-score   support\n",
      "\n",
      "           0       0.68      0.87      0.77       430\n",
      "           1       0.96      0.89      0.93      1642\n",
      "\n",
      "    accuracy                           0.89      2072\n",
      "   macro avg       0.82      0.88      0.85      2072\n",
      "weighted avg       0.91      0.89      0.89      2072\n",
      "\n"
     ]
    }
   ],
   "source": [
    "from sklearn.metrics import precision_score, recall_score\n",
    "from sklearn.metrics import roc_auc_score, accuracy_score\n",
    "from sklearn.metrics import classification_report\n",
    "\n",
    "precision = precision_score(results['pred_label'], results['true_label'])\n",
    "recall = recall_score(results['pred_label'], results['true_label'])\n",
    "accuracy = accuracy_score(results['pred_label'], results['true_label'])\n",
    "\n",
    "print('precision: ', precision)\n",
    "print('recall: ', recall)\n",
    "print('accuracy: ', accuracy)\n",
    "print(classification_report(results['pred_label'], results['true_label']))"
   ]
  },
  {
   "cell_type": "markdown",
   "metadata": {
    "papermill": {
     "duration": 0.058701,
     "end_time": "2021-04-23T12:04:42.560658",
     "exception": false,
     "start_time": "2021-04-23T12:04:42.501957",
     "status": "completed"
    },
    "tags": []
   },
   "source": [
    "# Part 2: Pure Sentiment Analysis\n",
    "If any sub-sentence of a review is negative based on sentiment analysis, this review is classified as negative."
   ]
  },
  {
   "cell_type": "code",
   "execution_count": 34,
   "metadata": {
    "execution": {
     "iopub.execute_input": "2021-04-23T12:04:42.685663Z",
     "iopub.status.busy": "2021-04-23T12:04:42.684729Z",
     "iopub.status.idle": "2021-04-23T12:04:42.689452Z",
     "shell.execute_reply": "2021-04-23T12:04:42.688811Z"
    },
    "papermill": {
     "duration": 0.069846,
     "end_time": "2021-04-23T12:04:42.689600",
     "exception": false,
     "start_time": "2021-04-23T12:04:42.619754",
     "status": "completed"
    },
    "tags": []
   },
   "outputs": [
    {
     "data": {
      "text/plain": [
       "['order on 6th .',\n",
       " \"rec 'd parcel on 10 feb at 11.30pm .\",\n",
       " 'bot 4 box .',\n",
       " '1 box come empty .',\n",
       " 'not sure why can pack till like that ?',\n",
       " 'mail out empty box .',\n",
       " 'msg seller completely no response at all .',\n",
       " 'file for refund .',\n",
       " 'tdy 16 feb deadline .',\n",
       " 'shopee auto approve refund since no response fr seller .',\n",
       " 'mask quality ok .']"
      ]
     },
     "execution_count": 34,
     "metadata": {},
     "output_type": "execute_result"
    }
   ],
   "source": [
    "results.sentence[0]"
   ]
  },
  {
   "cell_type": "code",
   "execution_count": 35,
   "metadata": {
    "execution": {
     "iopub.execute_input": "2021-04-23T12:04:42.843349Z",
     "iopub.status.busy": "2021-04-23T12:04:42.832152Z",
     "iopub.status.idle": "2021-04-23T12:05:50.485619Z",
     "shell.execute_reply": "2021-04-23T12:05:50.486182Z"
    },
    "papermill": {
     "duration": 67.737329,
     "end_time": "2021-04-23T12:05:50.486374",
     "exception": false,
     "start_time": "2021-04-23T12:04:42.749045",
     "status": "completed"
    },
    "tags": []
   },
   "outputs": [
    {
     "data": {
      "text/html": [
       "<div>\n",
       "<style scoped>\n",
       "    .dataframe tbody tr th:only-of-type {\n",
       "        vertical-align: middle;\n",
       "    }\n",
       "\n",
       "    .dataframe tbody tr th {\n",
       "        vertical-align: top;\n",
       "    }\n",
       "\n",
       "    .dataframe thead th {\n",
       "        text-align: right;\n",
       "    }\n",
       "</style>\n",
       "<table border=\"1\" class=\"dataframe\">\n",
       "  <thead>\n",
       "    <tr style=\"text-align: right;\">\n",
       "      <th></th>\n",
       "      <th>sentence</th>\n",
       "      <th>label</th>\n",
       "      <th>review_id</th>\n",
       "      <th>new_neg_comments</th>\n",
       "      <th>pred_label</th>\n",
       "      <th>review_content</th>\n",
       "      <th>true_label</th>\n",
       "      <th>pure_sentiment_label</th>\n",
       "    </tr>\n",
       "  </thead>\n",
       "  <tbody>\n",
       "    <tr>\n",
       "      <th>0</th>\n",
       "      <td>[order on 6th ., rec 'd parcel on 10 feb at 11...</td>\n",
       "      <td>[0, 0, 0, 0, 0, 0, 0, 0, 0, 0, 1]</td>\n",
       "      <td>2</td>\n",
       "      <td>[order on 6th ., rec 'd parcel on 10 feb at 11...</td>\n",
       "      <td>1</td>\n",
       "      <td>Ordered on 6th, rec'd parcel on 10 Feb at 11.3...</td>\n",
       "      <td>1</td>\n",
       "      <td>[0, 0, 0, 1, 0, 1, 1, 0, 0, 1, 0]</td>\n",
       "    </tr>\n",
       "    <tr>\n",
       "      <th>1</th>\n",
       "      <td>[fast delivery !, first time buying ., it ’ s ...</td>\n",
       "      <td>[1, 1, 1, 0, 0, 1]</td>\n",
       "      <td>3</td>\n",
       "      <td>[the material be not too thick ., which i pref...</td>\n",
       "      <td>1</td>\n",
       "      <td>NaN</td>\n",
       "      <td>0</td>\n",
       "      <td>[0, 0, 0, 0, 0, 0]</td>\n",
       "    </tr>\n",
       "    <tr>\n",
       "      <th>2</th>\n",
       "      <td>[fast delivery ., box dent ., quality be thin ...</td>\n",
       "      <td>[1, 0, 0, 0]</td>\n",
       "      <td>12</td>\n",
       "      <td>[box dent ., quality be thin ., i try to wear ...</td>\n",
       "      <td>1</td>\n",
       "      <td>Fast delivery. Box dented. Quality is thin. I ...</td>\n",
       "      <td>1</td>\n",
       "      <td>[0, 0, 0, 1]</td>\n",
       "    </tr>\n",
       "    <tr>\n",
       "      <th>3</th>\n",
       "      <td>[second purchase the mask., ., disappointed no...</td>\n",
       "      <td>[1, 1, 0, 1, 1, 1]</td>\n",
       "      <td>13</td>\n",
       "      <td>[disappointed not same a first i order .]</td>\n",
       "      <td>1</td>\n",
       "      <td>Second purchase the mask.. so disappointed not...</td>\n",
       "      <td>1</td>\n",
       "      <td>[0, 0, 1, 0, 0, 0]</td>\n",
       "    </tr>\n",
       "    <tr>\n",
       "      <th>4</th>\n",
       "      <td>[receive within a few day ., ., it be not 3 pl...</td>\n",
       "      <td>[1, 1, 0, 0, 1, 0]</td>\n",
       "      <td>14</td>\n",
       "      <td>[it be not 3 ply a described ., these be not r...</td>\n",
       "      <td>1</td>\n",
       "      <td>Received within a few days. However it is not ...</td>\n",
       "      <td>1</td>\n",
       "      <td>[0, 0, 0, 0, 0, 0]</td>\n",
       "    </tr>\n",
       "  </tbody>\n",
       "</table>\n",
       "</div>"
      ],
      "text/plain": [
       "                                            sentence  \\\n",
       "0  [order on 6th ., rec 'd parcel on 10 feb at 11...   \n",
       "1  [fast delivery !, first time buying ., it ’ s ...   \n",
       "2  [fast delivery ., box dent ., quality be thin ...   \n",
       "3  [second purchase the mask., ., disappointed no...   \n",
       "4  [receive within a few day ., ., it be not 3 pl...   \n",
       "\n",
       "                               label  review_id  \\\n",
       "0  [0, 0, 0, 0, 0, 0, 0, 0, 0, 0, 1]          2   \n",
       "1                 [1, 1, 1, 0, 0, 1]          3   \n",
       "2                       [1, 0, 0, 0]         12   \n",
       "3                 [1, 1, 0, 1, 1, 1]         13   \n",
       "4                 [1, 1, 0, 0, 1, 0]         14   \n",
       "\n",
       "                                    new_neg_comments  pred_label  \\\n",
       "0  [order on 6th ., rec 'd parcel on 10 feb at 11...           1   \n",
       "1  [the material be not too thick ., which i pref...           1   \n",
       "2  [box dent ., quality be thin ., i try to wear ...           1   \n",
       "3          [disappointed not same a first i order .]           1   \n",
       "4  [it be not 3 ply a described ., these be not r...           1   \n",
       "\n",
       "                                      review_content  true_label  \\\n",
       "0  Ordered on 6th, rec'd parcel on 10 Feb at 11.3...           1   \n",
       "1                                                NaN           0   \n",
       "2  Fast delivery. Box dented. Quality is thin. I ...           1   \n",
       "3  Second purchase the mask.. so disappointed not...           1   \n",
       "4  Received within a few days. However it is not ...           1   \n",
       "\n",
       "                pure_sentiment_label  \n",
       "0  [0, 0, 0, 1, 0, 1, 1, 0, 0, 1, 0]  \n",
       "1                 [0, 0, 0, 0, 0, 0]  \n",
       "2                       [0, 0, 0, 1]  \n",
       "3                 [0, 0, 1, 0, 0, 0]  \n",
       "4                 [0, 0, 0, 0, 0, 0]  "
      ]
     },
     "execution_count": 35,
     "metadata": {},
     "output_type": "execute_result"
    }
   ],
   "source": [
    "sentiment_pred=[]\n",
    "for sent_list in results.sentence:  \n",
    "    pred_list = []\n",
    "    for sent in sent_list:\n",
    "        sentence=sent_tokenize(sent)\n",
    "        SIA = SentimentIntensityAnalyzer()\n",
    "        if SIA.polarity_scores(sent)['compound']<0:\n",
    "            pred_list.append(1)\n",
    "        else: \n",
    "            pred_list.append(0)\n",
    "    sentiment_pred.append(pred_list)\n",
    "        \n",
    "results['pure_sentiment_label']=sentiment_pred\n",
    "results.head()"
   ]
  },
  {
   "cell_type": "code",
   "execution_count": 36,
   "metadata": {
    "execution": {
     "iopub.execute_input": "2021-04-23T12:05:50.656374Z",
     "iopub.status.busy": "2021-04-23T12:05:50.638293Z",
     "iopub.status.idle": "2021-04-23T12:05:50.660864Z",
     "shell.execute_reply": "2021-04-23T12:05:50.660369Z"
    },
    "papermill": {
     "duration": 0.114333,
     "end_time": "2021-04-23T12:05:50.661016",
     "exception": false,
     "start_time": "2021-04-23T12:05:50.546683",
     "status": "completed"
    },
    "tags": []
   },
   "outputs": [
    {
     "data": {
      "text/html": [
       "<div>\n",
       "<style scoped>\n",
       "    .dataframe tbody tr th:only-of-type {\n",
       "        vertical-align: middle;\n",
       "    }\n",
       "\n",
       "    .dataframe tbody tr th {\n",
       "        vertical-align: top;\n",
       "    }\n",
       "\n",
       "    .dataframe thead th {\n",
       "        text-align: right;\n",
       "    }\n",
       "</style>\n",
       "<table border=\"1\" class=\"dataframe\">\n",
       "  <thead>\n",
       "    <tr style=\"text-align: right;\">\n",
       "      <th></th>\n",
       "      <th>sentence</th>\n",
       "      <th>label</th>\n",
       "      <th>review_id</th>\n",
       "      <th>new_neg_comments</th>\n",
       "      <th>pred_label</th>\n",
       "      <th>review_content</th>\n",
       "      <th>true_label</th>\n",
       "      <th>pure_sentiment_label</th>\n",
       "      <th>sentiment_pred_label</th>\n",
       "    </tr>\n",
       "  </thead>\n",
       "  <tbody>\n",
       "    <tr>\n",
       "      <th>0</th>\n",
       "      <td>[order on 6th ., rec 'd parcel on 10 feb at 11...</td>\n",
       "      <td>[0, 0, 0, 0, 0, 0, 0, 0, 0, 0, 1]</td>\n",
       "      <td>2</td>\n",
       "      <td>[order on 6th ., rec 'd parcel on 10 feb at 11...</td>\n",
       "      <td>1</td>\n",
       "      <td>Ordered on 6th, rec'd parcel on 10 Feb at 11.3...</td>\n",
       "      <td>1</td>\n",
       "      <td>[0, 0, 0, 1, 0, 1, 1, 0, 0, 1, 0]</td>\n",
       "      <td>1</td>\n",
       "    </tr>\n",
       "    <tr>\n",
       "      <th>1</th>\n",
       "      <td>[fast delivery !, first time buying ., it ’ s ...</td>\n",
       "      <td>[1, 1, 1, 0, 0, 1]</td>\n",
       "      <td>3</td>\n",
       "      <td>[the material be not too thick ., which i pref...</td>\n",
       "      <td>1</td>\n",
       "      <td>NaN</td>\n",
       "      <td>0</td>\n",
       "      <td>[0, 0, 0, 0, 0, 0]</td>\n",
       "      <td>0</td>\n",
       "    </tr>\n",
       "    <tr>\n",
       "      <th>2</th>\n",
       "      <td>[fast delivery ., box dent ., quality be thin ...</td>\n",
       "      <td>[1, 0, 0, 0]</td>\n",
       "      <td>12</td>\n",
       "      <td>[box dent ., quality be thin ., i try to wear ...</td>\n",
       "      <td>1</td>\n",
       "      <td>Fast delivery. Box dented. Quality is thin. I ...</td>\n",
       "      <td>1</td>\n",
       "      <td>[0, 0, 0, 1]</td>\n",
       "      <td>1</td>\n",
       "    </tr>\n",
       "    <tr>\n",
       "      <th>3</th>\n",
       "      <td>[second purchase the mask., ., disappointed no...</td>\n",
       "      <td>[1, 1, 0, 1, 1, 1]</td>\n",
       "      <td>13</td>\n",
       "      <td>[disappointed not same a first i order .]</td>\n",
       "      <td>1</td>\n",
       "      <td>Second purchase the mask.. so disappointed not...</td>\n",
       "      <td>1</td>\n",
       "      <td>[0, 0, 1, 0, 0, 0]</td>\n",
       "      <td>1</td>\n",
       "    </tr>\n",
       "    <tr>\n",
       "      <th>4</th>\n",
       "      <td>[receive within a few day ., ., it be not 3 pl...</td>\n",
       "      <td>[1, 1, 0, 0, 1, 0]</td>\n",
       "      <td>14</td>\n",
       "      <td>[it be not 3 ply a described ., these be not r...</td>\n",
       "      <td>1</td>\n",
       "      <td>Received within a few days. However it is not ...</td>\n",
       "      <td>1</td>\n",
       "      <td>[0, 0, 0, 0, 0, 0]</td>\n",
       "      <td>0</td>\n",
       "    </tr>\n",
       "  </tbody>\n",
       "</table>\n",
       "</div>"
      ],
      "text/plain": [
       "                                            sentence  \\\n",
       "0  [order on 6th ., rec 'd parcel on 10 feb at 11...   \n",
       "1  [fast delivery !, first time buying ., it ’ s ...   \n",
       "2  [fast delivery ., box dent ., quality be thin ...   \n",
       "3  [second purchase the mask., ., disappointed no...   \n",
       "4  [receive within a few day ., ., it be not 3 pl...   \n",
       "\n",
       "                               label  review_id  \\\n",
       "0  [0, 0, 0, 0, 0, 0, 0, 0, 0, 0, 1]          2   \n",
       "1                 [1, 1, 1, 0, 0, 1]          3   \n",
       "2                       [1, 0, 0, 0]         12   \n",
       "3                 [1, 1, 0, 1, 1, 1]         13   \n",
       "4                 [1, 1, 0, 0, 1, 0]         14   \n",
       "\n",
       "                                    new_neg_comments  pred_label  \\\n",
       "0  [order on 6th ., rec 'd parcel on 10 feb at 11...           1   \n",
       "1  [the material be not too thick ., which i pref...           1   \n",
       "2  [box dent ., quality be thin ., i try to wear ...           1   \n",
       "3          [disappointed not same a first i order .]           1   \n",
       "4  [it be not 3 ply a described ., these be not r...           1   \n",
       "\n",
       "                                      review_content  true_label  \\\n",
       "0  Ordered on 6th, rec'd parcel on 10 Feb at 11.3...           1   \n",
       "1                                                NaN           0   \n",
       "2  Fast delivery. Box dented. Quality is thin. I ...           1   \n",
       "3  Second purchase the mask.. so disappointed not...           1   \n",
       "4  Received within a few days. However it is not ...           1   \n",
       "\n",
       "                pure_sentiment_label  sentiment_pred_label  \n",
       "0  [0, 0, 0, 1, 0, 1, 1, 0, 0, 1, 0]                     1  \n",
       "1                 [0, 0, 0, 0, 0, 0]                     0  \n",
       "2                       [0, 0, 0, 1]                     1  \n",
       "3                 [0, 0, 1, 0, 0, 0]                     1  \n",
       "4                 [0, 0, 0, 0, 0, 0]                     0  "
      ]
     },
     "execution_count": 36,
     "metadata": {},
     "output_type": "execute_result"
    }
   ],
   "source": [
    "results['sentiment_pred_label']=results['pure_sentiment_label'].apply(lambda x: 1 if np.sum(x)!=0 else 0)\n",
    "results.head()"
   ]
  },
  {
   "cell_type": "code",
   "execution_count": 37,
   "metadata": {
    "execution": {
     "iopub.execute_input": "2021-04-23T12:05:50.788377Z",
     "iopub.status.busy": "2021-04-23T12:05:50.787709Z",
     "iopub.status.idle": "2021-04-23T12:05:50.799288Z",
     "shell.execute_reply": "2021-04-23T12:05:50.798648Z"
    },
    "papermill": {
     "duration": 0.077401,
     "end_time": "2021-04-23T12:05:50.799449",
     "exception": false,
     "start_time": "2021-04-23T12:05:50.722048",
     "status": "completed"
    },
    "tags": []
   },
   "outputs": [
    {
     "data": {
      "text/plain": [
       "array([[528,  20],\n",
       "       [759, 765]])"
      ]
     },
     "execution_count": 37,
     "metadata": {},
     "output_type": "execute_result"
    }
   ],
   "source": [
    "from sklearn.metrics import confusion_matrix\n",
    "confusion_matrix(results.true_label, results.sentiment_pred_label)"
   ]
  },
  {
   "cell_type": "code",
   "execution_count": 38,
   "metadata": {
    "execution": {
     "iopub.execute_input": "2021-04-23T12:05:50.930111Z",
     "iopub.status.busy": "2021-04-23T12:05:50.928945Z",
     "iopub.status.idle": "2021-04-23T12:05:50.948368Z",
     "shell.execute_reply": "2021-04-23T12:05:50.949006Z"
    },
    "papermill": {
     "duration": 0.088089,
     "end_time": "2021-04-23T12:05:50.949204",
     "exception": false,
     "start_time": "2021-04-23T12:05:50.861115",
     "status": "completed"
    },
    "tags": []
   },
   "outputs": [
    {
     "name": "stdout",
     "output_type": "stream",
     "text": [
      "precision:  0.9745222929936306\n",
      "recall:  0.5019685039370079\n",
      "accuracy:  0.624034749034749\n",
      "              precision    recall  f1-score   support\n",
      "\n",
      "           0       0.41      0.96      0.58       548\n",
      "           1       0.97      0.50      0.66      1524\n",
      "\n",
      "    accuracy                           0.62      2072\n",
      "   macro avg       0.69      0.73      0.62      2072\n",
      "weighted avg       0.83      0.62      0.64      2072\n",
      "\n"
     ]
    }
   ],
   "source": [
    "precision = precision_score(results.true_label, results.sentiment_pred_label)\n",
    "recall = recall_score(results.true_label, results.sentiment_pred_label)\n",
    "accuracy = accuracy_score(results.true_label, results.sentiment_pred_label)\n",
    "\n",
    "print('precision: ', precision)\n",
    "print('recall: ', recall)\n",
    "print('accuracy: ', accuracy)\n",
    "print(classification_report(results.true_label, results.sentiment_pred_label))"
   ]
  },
  {
   "cell_type": "markdown",
   "metadata": {
    "papermill": {
     "duration": 0.063162,
     "end_time": "2021-04-23T12:05:51.082705",
     "exception": false,
     "start_time": "2021-04-23T12:05:51.019543",
     "status": "completed"
    },
    "tags": []
   },
   "source": [
    "# Part 3: Results Summary"
   ]
  },
  {
   "cell_type": "markdown",
   "metadata": {
    "papermill": {
     "duration": 0.061518,
     "end_time": "2021-04-23T12:05:51.206157",
     "exception": false,
     "start_time": "2021-04-23T12:05:51.144639",
     "status": "completed"
    },
    "tags": []
   },
   "source": [
    "## Word Cloud"
   ]
  },
  {
   "cell_type": "code",
   "execution_count": 39,
   "metadata": {
    "execution": {
     "iopub.execute_input": "2021-04-23T12:05:51.339784Z",
     "iopub.status.busy": "2021-04-23T12:05:51.339048Z",
     "iopub.status.idle": "2021-04-23T12:05:51.384447Z",
     "shell.execute_reply": "2021-04-23T12:05:51.383838Z"
    },
    "papermill": {
     "duration": 0.116826,
     "end_time": "2021-04-23T12:05:51.384595",
     "exception": false,
     "start_time": "2021-04-23T12:05:51.267769",
     "status": "completed"
    },
    "tags": []
   },
   "outputs": [],
   "source": [
    "from wordcloud import WordCloud\n",
    "from wordcloud import STOPWORDS\n",
    "\n",
    "pos_stopwords = {'acceptable', 'comfortable', 'fast', 'fast delivery', 'fine', 'good', 'great', 'happy', 'like', 'love', 'luckily', 'nice', 'nicely', 'ok', 'okay', \n",
    "                 'pretty', 'recommend', 'recommended', 'thank', 'thanks', 'well'} \n",
    "\n",
    "neu_stopwords = {'abit', 'actually', 'already', 'although', 'also', 'better', 'bit', 'boxes', 'bought', 'buy', 'came', 'come', 'compared', 'condition', 'day', \n",
    "                 'delivered', 'due', 'enough', 'expected', 'even', 'face', 'feel', 'feels', 'find', 'first', 'fit', 'get', 'give', 'given', 'got', 'inside', \n",
    "                 'instead', 'it', 'item', 'items', 'hope', 'know','mask', 'masks', 'may', 'me', 'much', 'n', 'nan', 'need', 'next', 'one', 'order', 'ordered', \n",
    "                 'overall', 'pc', 'please', 'ply','purchase', 'purchased', 'put', 'quite', 'really', 'review', 's', 'see', 'seem', 'seems', 'seller', 'side', \n",
    "                 'slightly', 'star', 'stars', 'still', 'super','sure', 'there', 'though', 'took', 'tried', 'try', 'u', 'use', 'using', 'way', 'will', 'within', \n",
    "                 'would', 'yet'}\n",
    "\n",
    "for word in pos_stopwords:\n",
    "    stopwords = STOPWORDS.add(word)\n",
    "    \n",
    "for word in neu_stopwords:\n",
    "    stopwords = STOPWORDS.add(word)"
   ]
  },
  {
   "cell_type": "code",
   "execution_count": 40,
   "metadata": {
    "execution": {
     "iopub.execute_input": "2021-04-23T12:05:51.518047Z",
     "iopub.status.busy": "2021-04-23T12:05:51.516625Z",
     "iopub.status.idle": "2021-04-23T12:05:51.519764Z",
     "shell.execute_reply": "2021-04-23T12:05:51.520252Z"
    },
    "papermill": {
     "duration": 0.07334,
     "end_time": "2021-04-23T12:05:51.520441",
     "exception": false,
     "start_time": "2021-04-23T12:05:51.447101",
     "status": "completed"
    },
    "tags": []
   },
   "outputs": [],
   "source": [
    "import string\n",
    "\n",
    "def combine_text(df, column):\n",
    "    text = ''\n",
    "    for i, row in enumerate(df[column]):\n",
    "        text += (' ' + row)\n",
    "    text = ' '.join([w.lower().strip(string.punctuation) for w in text.split()])\n",
    "    return text\n",
    "\n",
    "def get_wordcloud(text):\n",
    "    wordcloud = WordCloud(\n",
    "        background_color=\"white\", \n",
    "        width=1500,              \n",
    "        height=960,              \n",
    "        margin=10, \n",
    "        stopwords=stopwords\n",
    "        ).generate(text)\n",
    "    fig, ax = plt.subplots(figsize=(20, 12))    \n",
    "    plt.imshow(wordcloud)\n",
    "    plt.axis(\"off\")\n",
    "    plt.show()"
   ]
  },
  {
   "cell_type": "code",
   "execution_count": 41,
   "metadata": {
    "execution": {
     "iopub.execute_input": "2021-04-23T12:05:51.650067Z",
     "iopub.status.busy": "2021-04-23T12:05:51.649104Z",
     "iopub.status.idle": "2021-04-23T12:05:55.130708Z",
     "shell.execute_reply": "2021-04-23T12:05:55.131232Z"
    },
    "papermill": {
     "duration": 3.548017,
     "end_time": "2021-04-23T12:05:55.131411",
     "exception": false,
     "start_time": "2021-04-23T12:05:51.583394",
     "status": "completed"
    },
    "tags": []
   },
   "outputs": [
    {
     "data": {
      "image/png": "[encoded data removed]",
      "text/plain": [
       "<Figure size 1440x864 with 1 Axes>"
      ]
     },
     "metadata": {
      "needs_background": "light"
     },
     "output_type": "display_data"
    }
   ],
   "source": [
    "get_wordcloud(combine_text(df_true, 'review_content')) "
   ]
  },
  {
   "cell_type": "markdown",
   "metadata": {
    "papermill": {
     "duration": 0.079089,
     "end_time": "2021-04-23T12:05:55.290273",
     "exception": false,
     "start_time": "2021-04-23T12:05:55.211184",
     "status": "completed"
    },
    "tags": []
   },
   "source": [
    "## LDA"
   ]
  },
  {
   "cell_type": "code",
   "execution_count": 42,
   "metadata": {
    "execution": {
     "iopub.execute_input": "2021-04-23T12:05:55.454533Z",
     "iopub.status.busy": "2021-04-23T12:05:55.453614Z",
     "iopub.status.idle": "2021-04-23T12:05:55.457053Z",
     "shell.execute_reply": "2021-04-23T12:05:55.456555Z"
    },
    "papermill": {
     "duration": 0.088929,
     "end_time": "2021-04-23T12:05:55.457209",
     "exception": false,
     "start_time": "2021-04-23T12:05:55.368280",
     "status": "completed"
    },
    "tags": []
   },
   "outputs": [],
   "source": [
    "from nltk.corpus import stopwords\n",
    "\n",
    "def remove_stopwords(words, lang='english'):\n",
    "    # Function to remove stop words\n",
    "    lang_stopwords = stopwords.words(lang) \n",
    "    \n",
    "    for word in pos_stopwords:\n",
    "        lang_stopwords.append(word)\n",
    "    \n",
    "    for word in neu_stopwords:\n",
    "        lang_stopwords.append(word)\n",
    "        \n",
    "    stopwords_removed = [w for w in words.split() if w.lower().strip(string.punctuation) not in lang_stopwords]\n",
    "    return \" \".join(stopwords_removed)"
   ]
  },
  {
   "cell_type": "code",
   "execution_count": 43,
   "metadata": {
    "execution": {
     "iopub.execute_input": "2021-04-23T12:05:55.615948Z",
     "iopub.status.busy": "2021-04-23T12:05:55.615334Z",
     "iopub.status.idle": "2021-04-23T12:05:55.655363Z",
     "shell.execute_reply": "2021-04-23T12:05:55.655834Z"
    },
    "papermill": {
     "duration": 0.120933,
     "end_time": "2021-04-23T12:05:55.656021",
     "exception": false,
     "start_time": "2021-04-23T12:05:55.535088",
     "status": "completed"
    },
    "tags": []
   },
   "outputs": [],
   "source": [
    "from sklearn import decomposition\n",
    "from sklearn.feature_extraction.text import CountVectorizer\n",
    "\n",
    "def compute_LDA(df, column):\n",
    "    df['Text_Clean'] = df[column].apply(remove_stopwords)\n",
    "    count_vect = CountVectorizer()\n",
    "    xtrain_count = count_vect.fit_transform(df.Text_Clean)\n",
    "\n",
    "    #train\n",
    "    lda_model = decomposition.LatentDirichletAllocation(n_components=1, learning_method='online', max_iter=20)\n",
    "    X_topics = lda_model.fit_transform(xtrain_count)\n",
    "    topic_word = lda_model.components_\n",
    "    vocab = count_vect.get_feature_names()\n",
    " \n",
    "    #visualization\n",
    "    n_top_words = 100\n",
    "    topic_summaries = []\n",
    "    for i, topic_dist in enumerate(topic_word):\n",
    "        topic_words = np.array(vocab)[np.argsort(topic_dist)][:-(n_top_words+1):-1]\n",
    "        topic_summaries.append(' '.join(topic_words))\n",
    "    print(topic_summaries)"
   ]
  },
  {
   "cell_type": "code",
   "execution_count": 44,
   "metadata": {
    "execution": {
     "iopub.execute_input": "2021-04-23T12:05:55.814409Z",
     "iopub.status.busy": "2021-04-23T12:05:55.813765Z",
     "iopub.status.idle": "2021-04-23T12:05:58.363055Z",
     "shell.execute_reply": "2021-04-23T12:05:58.362259Z"
    },
    "papermill": {
     "duration": 2.629645,
     "end_time": "2021-04-23T12:05:58.363408",
     "exception": false,
     "start_time": "2021-04-23T12:05:55.733763",
     "status": "completed"
    },
    "tags": []
   },
   "outputs": [
    {
     "name": "stdout",
     "output_type": "stream",
     "text": [
      "['delivery box received quality smell material black time thin dented however packed packaging it plastic white disappointed price colour nose big days blue different bad looks ear wear pink product thick free bag little pack 10 size loose wearing tight surgical sealed soft small easily wrong torn 2nd look strap without previous rough string brand outside loop design batch damaged date strong long week opened reply thinner parcel packing color properly kids normal metal gift packs open wrapped breathable don used ones there service straps wire weird expiry medical 1st inner arrived pieces made thing another smaller note left doesn']\n"
     ]
    }
   ],
   "source": [
    "compute_LDA(df_true, 'review_content')"
   ]
  },
  {
   "cell_type": "markdown",
   "metadata": {
    "papermill": {
     "duration": 0.078922,
     "end_time": "2021-04-23T12:05:58.521873",
     "exception": false,
     "start_time": "2021-04-23T12:05:58.442951",
     "status": "completed"
    },
    "tags": []
   },
   "source": [
    "## Word Frequency"
   ]
  },
  {
   "cell_type": "code",
   "execution_count": 45,
   "metadata": {
    "execution": {
     "iopub.execute_input": "2021-04-23T12:05:58.685821Z",
     "iopub.status.busy": "2021-04-23T12:05:58.684916Z",
     "iopub.status.idle": "2021-04-23T12:05:59.130456Z",
     "shell.execute_reply": "2021-04-23T12:05:59.129702Z"
    },
    "papermill": {
     "duration": 0.530355,
     "end_time": "2021-04-23T12:05:59.130607",
     "exception": false,
     "start_time": "2021-04-23T12:05:58.600252",
     "status": "completed"
    },
    "tags": []
   },
   "outputs": [],
   "source": [
    "df['Text_Clean'] = df['review_content'].apply(remove_stopwords)\n",
    "text = [' '.join(list(df['Text_Clean']))]\n",
    "#text = [\" \".join(list(df['Text_Clean']))]\n",
    "#text = ' '.join([sen for sen in df['Text_Clean'])\n",
    "count_vect = CountVectorizer()\n",
    "xtrain_count = count_vect.fit_transform(text)"
   ]
  },
  {
   "cell_type": "code",
   "execution_count": 46,
   "metadata": {
    "execution": {
     "iopub.execute_input": "2021-04-23T12:05:59.300504Z",
     "iopub.status.busy": "2021-04-23T12:05:59.299707Z",
     "iopub.status.idle": "2021-04-23T12:05:59.314902Z",
     "shell.execute_reply": "2021-04-23T12:05:59.315462Z"
    },
    "papermill": {
     "duration": 0.105866,
     "end_time": "2021-04-23T12:05:59.315642",
     "exception": false,
     "start_time": "2021-04-23T12:05:59.209776",
     "status": "completed"
    },
    "tags": []
   },
   "outputs": [
    {
     "data": {
      "text/html": [
       "<div>\n",
       "<style scoped>\n",
       "    .dataframe tbody tr th:only-of-type {\n",
       "        vertical-align: middle;\n",
       "    }\n",
       "\n",
       "    .dataframe tbody tr th {\n",
       "        vertical-align: top;\n",
       "    }\n",
       "\n",
       "    .dataframe thead th {\n",
       "        text-align: right;\n",
       "    }\n",
       "</style>\n",
       "<table border=\"1\" class=\"dataframe\">\n",
       "  <thead>\n",
       "    <tr style=\"text-align: right;\">\n",
       "      <th></th>\n",
       "      <th>word</th>\n",
       "      <th>frequency</th>\n",
       "    </tr>\n",
       "  </thead>\n",
       "  <tbody>\n",
       "    <tr>\n",
       "      <th>703</th>\n",
       "      <td>delivery</td>\n",
       "      <td>556</td>\n",
       "    </tr>\n",
       "    <tr>\n",
       "      <th>1951</th>\n",
       "      <td>received</td>\n",
       "      <td>491</td>\n",
       "    </tr>\n",
       "    <tr>\n",
       "      <th>1903</th>\n",
       "      <td>quality</td>\n",
       "      <td>416</td>\n",
       "    </tr>\n",
       "    <tr>\n",
       "      <th>385</th>\n",
       "      <td>box</td>\n",
       "      <td>355</td>\n",
       "    </tr>\n",
       "    <tr>\n",
       "      <th>1494</th>\n",
       "      <td>material</td>\n",
       "      <td>166</td>\n",
       "    </tr>\n",
       "    <tr>\n",
       "      <th>2477</th>\n",
       "      <td>time</td>\n",
       "      <td>162</td>\n",
       "    </tr>\n",
       "    <tr>\n",
       "      <th>2211</th>\n",
       "      <td>smell</td>\n",
       "      <td>152</td>\n",
       "    </tr>\n",
       "    <tr>\n",
       "      <th>1696</th>\n",
       "      <td>packed</td>\n",
       "      <td>144</td>\n",
       "    </tr>\n",
       "    <tr>\n",
       "      <th>367</th>\n",
       "      <td>black</td>\n",
       "      <td>140</td>\n",
       "    </tr>\n",
       "    <tr>\n",
       "      <th>1836</th>\n",
       "      <td>price</td>\n",
       "      <td>127</td>\n",
       "    </tr>\n",
       "    <tr>\n",
       "      <th>2433</th>\n",
       "      <td>thin</td>\n",
       "      <td>126</td>\n",
       "    </tr>\n",
       "    <tr>\n",
       "      <th>1033</th>\n",
       "      <td>free</td>\n",
       "      <td>121</td>\n",
       "    </tr>\n",
       "    <tr>\n",
       "      <th>680</th>\n",
       "      <td>days</td>\n",
       "      <td>119</td>\n",
       "    </tr>\n",
       "    <tr>\n",
       "      <th>1694</th>\n",
       "      <td>packaging</td>\n",
       "      <td>117</td>\n",
       "    </tr>\n",
       "    <tr>\n",
       "      <th>708</th>\n",
       "      <td>dented</td>\n",
       "      <td>108</td>\n",
       "    </tr>\n",
       "    <tr>\n",
       "      <th>1439</th>\n",
       "      <td>looks</td>\n",
       "      <td>108</td>\n",
       "    </tr>\n",
       "    <tr>\n",
       "      <th>1785</th>\n",
       "      <td>plastic</td>\n",
       "      <td>103</td>\n",
       "    </tr>\n",
       "    <tr>\n",
       "      <th>1306</th>\n",
       "      <td>it</td>\n",
       "      <td>103</td>\n",
       "    </tr>\n",
       "    <tr>\n",
       "      <th>1197</th>\n",
       "      <td>however</td>\n",
       "      <td>102</td>\n",
       "    </tr>\n",
       "    <tr>\n",
       "      <th>2686</th>\n",
       "      <td>white</td>\n",
       "      <td>96</td>\n",
       "    </tr>\n",
       "    <tr>\n",
       "      <th>539</th>\n",
       "      <td>colour</td>\n",
       "      <td>95</td>\n",
       "    </tr>\n",
       "    <tr>\n",
       "      <th>318</th>\n",
       "      <td>bad</td>\n",
       "      <td>94</td>\n",
       "    </tr>\n",
       "    <tr>\n",
       "      <th>1858</th>\n",
       "      <td>product</td>\n",
       "      <td>92</td>\n",
       "    </tr>\n",
       "    <tr>\n",
       "      <th>752</th>\n",
       "      <td>disappointed</td>\n",
       "      <td>91</td>\n",
       "    </tr>\n",
       "    <tr>\n",
       "      <th>1615</th>\n",
       "      <td>nose</td>\n",
       "      <td>85</td>\n",
       "    </tr>\n",
       "    <tr>\n",
       "      <th>362</th>\n",
       "      <td>big</td>\n",
       "      <td>84</td>\n",
       "    </tr>\n",
       "    <tr>\n",
       "      <th>1690</th>\n",
       "      <td>pack</td>\n",
       "      <td>80</td>\n",
       "    </tr>\n",
       "    <tr>\n",
       "      <th>2663</th>\n",
       "      <td>wear</td>\n",
       "      <td>79</td>\n",
       "    </tr>\n",
       "    <tr>\n",
       "      <th>373</th>\n",
       "      <td>blue</td>\n",
       "      <td>78</td>\n",
       "    </tr>\n",
       "    <tr>\n",
       "      <th>820</th>\n",
       "      <td>ear</td>\n",
       "      <td>77</td>\n",
       "    </tr>\n",
       "    <tr>\n",
       "      <th>2430</th>\n",
       "      <td>thick</td>\n",
       "      <td>77</td>\n",
       "    </tr>\n",
       "    <tr>\n",
       "      <th>736</th>\n",
       "      <td>different</td>\n",
       "      <td>77</td>\n",
       "    </tr>\n",
       "    <tr>\n",
       "      <th>9</th>\n",
       "      <td>10</td>\n",
       "      <td>76</td>\n",
       "    </tr>\n",
       "    <tr>\n",
       "      <th>1773</th>\n",
       "      <td>pink</td>\n",
       "      <td>75</td>\n",
       "    </tr>\n",
       "    <tr>\n",
       "      <th>321</th>\n",
       "      <td>bag</td>\n",
       "      <td>64</td>\n",
       "    </tr>\n",
       "    <tr>\n",
       "      <th>1423</th>\n",
       "      <td>little</td>\n",
       "      <td>60</td>\n",
       "    </tr>\n",
       "    <tr>\n",
       "      <th>1436</th>\n",
       "      <td>look</td>\n",
       "      <td>57</td>\n",
       "    </tr>\n",
       "    <tr>\n",
       "      <th>2665</th>\n",
       "      <td>wearing</td>\n",
       "      <td>54</td>\n",
       "    </tr>\n",
       "    <tr>\n",
       "      <th>2191</th>\n",
       "      <td>size</td>\n",
       "      <td>54</td>\n",
       "    </tr>\n",
       "    <tr>\n",
       "      <th>2228</th>\n",
       "      <td>soft</td>\n",
       "      <td>53</td>\n",
       "    </tr>\n",
       "    <tr>\n",
       "      <th>830</th>\n",
       "      <td>easily</td>\n",
       "      <td>52</td>\n",
       "    </tr>\n",
       "    <tr>\n",
       "      <th>1075</th>\n",
       "      <td>gift</td>\n",
       "      <td>51</td>\n",
       "    </tr>\n",
       "    <tr>\n",
       "      <th>2208</th>\n",
       "      <td>small</td>\n",
       "      <td>51</td>\n",
       "    </tr>\n",
       "    <tr>\n",
       "      <th>2364</th>\n",
       "      <td>surgical</td>\n",
       "      <td>50</td>\n",
       "    </tr>\n",
       "    <tr>\n",
       "      <th>2091</th>\n",
       "      <td>sealed</td>\n",
       "      <td>50</td>\n",
       "    </tr>\n",
       "    <tr>\n",
       "      <th>2670</th>\n",
       "      <td>week</td>\n",
       "      <td>50</td>\n",
       "    </tr>\n",
       "    <tr>\n",
       "      <th>1442</th>\n",
       "      <td>loose</td>\n",
       "      <td>50</td>\n",
       "    </tr>\n",
       "    <tr>\n",
       "      <th>85</th>\n",
       "      <td>2nd</td>\n",
       "      <td>48</td>\n",
       "    </tr>\n",
       "    <tr>\n",
       "      <th>2472</th>\n",
       "      <td>tight</td>\n",
       "      <td>48</td>\n",
       "    </tr>\n",
       "    <tr>\n",
       "      <th>719</th>\n",
       "      <td>design</td>\n",
       "      <td>46</td>\n",
       "    </tr>\n",
       "  </tbody>\n",
       "</table>\n",
       "</div>"
      ],
      "text/plain": [
       "              word  frequency\n",
       "703       delivery        556\n",
       "1951      received        491\n",
       "1903       quality        416\n",
       "385            box        355\n",
       "1494      material        166\n",
       "2477          time        162\n",
       "2211         smell        152\n",
       "1696        packed        144\n",
       "367          black        140\n",
       "1836         price        127\n",
       "2433          thin        126\n",
       "1033          free        121\n",
       "680           days        119\n",
       "1694     packaging        117\n",
       "708         dented        108\n",
       "1439         looks        108\n",
       "1785       plastic        103\n",
       "1306            it        103\n",
       "1197       however        102\n",
       "2686         white         96\n",
       "539         colour         95\n",
       "318            bad         94\n",
       "1858       product         92\n",
       "752   disappointed         91\n",
       "1615          nose         85\n",
       "362            big         84\n",
       "1690          pack         80\n",
       "2663          wear         79\n",
       "373           blue         78\n",
       "820            ear         77\n",
       "2430         thick         77\n",
       "736      different         77\n",
       "9               10         76\n",
       "1773          pink         75\n",
       "321            bag         64\n",
       "1423        little         60\n",
       "1436          look         57\n",
       "2665       wearing         54\n",
       "2191          size         54\n",
       "2228          soft         53\n",
       "830         easily         52\n",
       "1075          gift         51\n",
       "2208         small         51\n",
       "2364      surgical         50\n",
       "2091        sealed         50\n",
       "2670          week         50\n",
       "1442         loose         50\n",
       "85             2nd         48\n",
       "2472         tight         48\n",
       "719         design         46"
      ]
     },
     "execution_count": 46,
     "metadata": {},
     "output_type": "execute_result"
    }
   ],
   "source": [
    "word_freq=pd.DataFrame()\n",
    "word_freq['word']=count_vect.get_feature_names()\n",
    "word_freq['frequency']=xtrain_count.toarray()[0]\n",
    "#word_freq['frequency']=word_freq['frequency'].astype('int64')\n",
    "word_freq=word_freq.sort_values('frequency', ascending=False)\n",
    "word_freq.head(50)"
   ]
  },
  {
   "cell_type": "code",
   "execution_count": null,
   "metadata": {
    "papermill": {
     "duration": 0.079599,
     "end_time": "2021-04-23T12:05:59.474843",
     "exception": false,
     "start_time": "2021-04-23T12:05:59.395244",
     "status": "completed"
    },
    "tags": []
   },
   "outputs": [],
   "source": []
  }
 ],
 "metadata": {
  "kernelspec": {
   "display_name": "Python 3",
   "language": "python",
   "name": "python3"
  },
  "language_info": {
   "codemirror_mode": {
    "name": "ipython",
    "version": 3
   },
   "file_extension": ".py",
   "mimetype": "text/x-python",
   "name": "python",
   "nbconvert_exporter": "python",
   "pygments_lexer": "ipython3",
   "version": "3.8.3"
  },
  "papermill": {
   "default_parameters": {},
   "duration": 156.495311,
   "end_time": "2021-04-23T12:06:00.566846",
   "environment_variables": {},
   "exception": null,
   "input_path": "__notebook__.ipynb",
   "output_path": "__notebook__.ipynb",
   "parameters": {},
   "start_time": "2021-04-23T12:03:24.071535",
   "version": "2.3.2"
  }
 },
 "nbformat": 4,
 "nbformat_minor": 5
}
