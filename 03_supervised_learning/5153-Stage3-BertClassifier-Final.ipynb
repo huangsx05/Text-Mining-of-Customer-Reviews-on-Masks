{
 "cells": [
  {
   "cell_type": "code",
   "execution_count": 1,
   "metadata": {
    "execution": {
     "iopub.execute_input": "2021-04-23T16:06:54.059191Z",
     "iopub.status.busy": "2021-04-23T16:06:54.057708Z",
     "iopub.status.idle": "2021-04-23T16:06:55.076616Z",
     "shell.execute_reply": "2021-04-23T16:06:55.075918Z"
    },
    "papermill": {
     "duration": 1.038273,
     "end_time": "2021-04-23T16:06:55.076776",
     "exception": false,
     "start_time": "2021-04-23T16:06:54.038503",
     "status": "completed"
    },
    "tags": []
   },
   "outputs": [],
   "source": [
    "import pandas as pd\n",
    "import numpy as np\n",
    "from sklearn.metrics import precision_score, recall_score\n",
    "from sklearn.metrics import roc_auc_score, accuracy_score\n",
    "from sklearn.metrics import classification_report\n",
    "from sklearn.metrics import f1_score\n",
    "import warnings\n",
    "warnings.filterwarnings('ignore')"
   ]
  },
  {
   "cell_type": "markdown",
   "metadata": {
    "papermill": {
     "duration": 0.017799,
     "end_time": "2021-04-23T16:06:55.110158",
     "exception": false,
     "start_time": "2021-04-23T16:06:55.092359",
     "status": "completed"
    },
    "tags": []
   },
   "source": [
    "## Import data"
   ]
  },
  {
   "cell_type": "code",
   "execution_count": 2,
   "metadata": {
    "execution": {
     "iopub.execute_input": "2021-04-23T16:06:55.160205Z",
     "iopub.status.busy": "2021-04-23T16:06:55.159694Z",
     "iopub.status.idle": "2021-04-23T16:06:56.843488Z",
     "shell.execute_reply": "2021-04-23T16:06:56.843899Z"
    },
    "papermill": {
     "duration": 1.710248,
     "end_time": "2021-04-23T16:06:56.844036",
     "exception": false,
     "start_time": "2021-04-23T16:06:55.133788",
     "status": "completed"
    },
    "tags": []
   },
   "outputs": [
    {
     "name": "stdout",
     "output_type": "stream",
     "text": [
      "(1065, 13) (458, 13) (1523, 13)\n"
     ]
    },
    {
     "data": {
      "text/html": [
       "<div>\n",
       "<style scoped>\n",
       "    .dataframe tbody tr th:only-of-type {\n",
       "        vertical-align: middle;\n",
       "    }\n",
       "\n",
       "    .dataframe tbody tr th {\n",
       "        vertical-align: top;\n",
       "    }\n",
       "\n",
       "    .dataframe thead th {\n",
       "        text-align: right;\n",
       "    }\n",
       "</style>\n",
       "<table border=\"1\" class=\"dataframe\">\n",
       "  <thead>\n",
       "    <tr style=\"text-align: right;\">\n",
       "      <th></th>\n",
       "      <th>review_id</th>\n",
       "      <th>review_content</th>\n",
       "      <th>review_stars</th>\n",
       "      <th>delivery</th>\n",
       "      <th>product</th>\n",
       "      <th>service</th>\n",
       "      <th>bert_avg</th>\n",
       "      <th>bert_max</th>\n",
       "      <th>bert_layer0</th>\n",
       "      <th>distil_bert_avg</th>\n",
       "      <th>distil_bert_max</th>\n",
       "      <th>distil_bert_layer0</th>\n",
       "      <th>label</th>\n",
       "    </tr>\n",
       "  </thead>\n",
       "  <tbody>\n",
       "    <tr>\n",
       "      <th>0</th>\n",
       "      <td>9161</td>\n",
       "      <td>Delivery took more than a week, short expiry d...</td>\n",
       "      <td>2</td>\n",
       "      <td>1</td>\n",
       "      <td>1</td>\n",
       "      <td>0</td>\n",
       "      <td>[-0.06329992, -0.32380387, 0.35608995, -0.1268...</td>\n",
       "      <td>[0.93797976, 0.25249124, 1.1054325, 0.49609792...</td>\n",
       "      <td>[-0.19600664, -0.4481723, 0.20494524, -0.39789...</td>\n",
       "      <td>[-0.046782605, -0.27473888, 0.2780265, 0.03694...</td>\n",
       "      <td>[0.4727717, 0.23103717, 0.7197178, 0.6083572, ...</td>\n",
       "      <td>[-0.022450736, -0.34166092, 0.13424423, -0.170...</td>\n",
       "      <td>110</td>\n",
       "    </tr>\n",
       "    <tr>\n",
       "      <th>1</th>\n",
       "      <td>8198</td>\n",
       "      <td>Quality is so-so, loops are too huge resulting...</td>\n",
       "      <td>3</td>\n",
       "      <td>0</td>\n",
       "      <td>1</td>\n",
       "      <td>0</td>\n",
       "      <td>[0.19020107, -0.3453789, 0.3494842, 0.14938574...</td>\n",
       "      <td>[1.1594802, 0.60506886, 1.084206, 0.8051733, 0...</td>\n",
       "      <td>[0.04546422, -0.29597518, -0.35977763, -0.4039...</td>\n",
       "      <td>[0.1399654, -0.11672436, 0.23911656, 0.1187961...</td>\n",
       "      <td>[0.8445691, 0.4961368, 0.7105234, 0.6109599, 0...</td>\n",
       "      <td>[0.12642525, -0.1857245, 0.08149249, -0.019622...</td>\n",
       "      <td>010</td>\n",
       "    </tr>\n",
       "    <tr>\n",
       "      <th>2</th>\n",
       "      <td>5314</td>\n",
       "      <td>Received within 3days. Well packed in a carton...</td>\n",
       "      <td>4</td>\n",
       "      <td>0</td>\n",
       "      <td>1</td>\n",
       "      <td>0</td>\n",
       "      <td>[-0.028732965, -0.14712504, 0.36105582, 0.0254...</td>\n",
       "      <td>[1.3182856, 0.7953221, 1.3915914, 0.87499446, ...</td>\n",
       "      <td>[-0.38282838, -0.22101544, 0.6115111, -0.33658...</td>\n",
       "      <td>[0.07374873, -0.01620108, 0.20269494, 0.149083...</td>\n",
       "      <td>[0.76418287, 0.48008785, 0.97139245, 0.5615782...</td>\n",
       "      <td>[0.026645288, -0.27306008, 0.20750262, 0.05986...</td>\n",
       "      <td>010</td>\n",
       "    </tr>\n",
       "  </tbody>\n",
       "</table>\n",
       "</div>"
      ],
      "text/plain": [
       "   review_id                                     review_content  review_stars  \\\n",
       "0       9161  Delivery took more than a week, short expiry d...             2   \n",
       "1       8198  Quality is so-so, loops are too huge resulting...             3   \n",
       "2       5314  Received within 3days. Well packed in a carton...             4   \n",
       "\n",
       "   delivery  product  service  \\\n",
       "0         1        1        0   \n",
       "1         0        1        0   \n",
       "2         0        1        0   \n",
       "\n",
       "                                            bert_avg  \\\n",
       "0  [-0.06329992, -0.32380387, 0.35608995, -0.1268...   \n",
       "1  [0.19020107, -0.3453789, 0.3494842, 0.14938574...   \n",
       "2  [-0.028732965, -0.14712504, 0.36105582, 0.0254...   \n",
       "\n",
       "                                            bert_max  \\\n",
       "0  [0.93797976, 0.25249124, 1.1054325, 0.49609792...   \n",
       "1  [1.1594802, 0.60506886, 1.084206, 0.8051733, 0...   \n",
       "2  [1.3182856, 0.7953221, 1.3915914, 0.87499446, ...   \n",
       "\n",
       "                                         bert_layer0  \\\n",
       "0  [-0.19600664, -0.4481723, 0.20494524, -0.39789...   \n",
       "1  [0.04546422, -0.29597518, -0.35977763, -0.4039...   \n",
       "2  [-0.38282838, -0.22101544, 0.6115111, -0.33658...   \n",
       "\n",
       "                                     distil_bert_avg  \\\n",
       "0  [-0.046782605, -0.27473888, 0.2780265, 0.03694...   \n",
       "1  [0.1399654, -0.11672436, 0.23911656, 0.1187961...   \n",
       "2  [0.07374873, -0.01620108, 0.20269494, 0.149083...   \n",
       "\n",
       "                                     distil_bert_max  \\\n",
       "0  [0.4727717, 0.23103717, 0.7197178, 0.6083572, ...   \n",
       "1  [0.8445691, 0.4961368, 0.7105234, 0.6109599, 0...   \n",
       "2  [0.76418287, 0.48008785, 0.97139245, 0.5615782...   \n",
       "\n",
       "                                  distil_bert_layer0 label  \n",
       "0  [-0.022450736, -0.34166092, 0.13424423, -0.170...   110  \n",
       "1  [0.12642525, -0.1857245, 0.08149249, -0.019622...   010  \n",
       "2  [0.026645288, -0.27306008, 0.20750262, 0.05986...   010  "
      ]
     },
     "execution_count": 2,
     "metadata": {},
     "output_type": "execute_result"
    }
   ],
   "source": [
    "file = '../input/bt5153-train-test-bert-full-sentence/train_data_bert_fullsent.csv'\n",
    "testfile = '../input/bt5153-train-test-bert-full-sentence/test_data_bert_fullsent.csv'\n",
    "\n",
    "df = pd.read_csv(file, dtype={'label':str})\n",
    "df_test = pd.read_csv(testfile, dtype={'label':str})\n",
    "\n",
    "# Merge DataFrames\n",
    "df_all = pd.concat([df, df_test])\n",
    "print(df.shape, df_test.shape, df_all.shape)\n",
    "df_all.head(3)"
   ]
  },
  {
   "cell_type": "code",
   "execution_count": 3,
   "metadata": {
    "execution": {
     "iopub.execute_input": "2021-04-23T16:06:56.883416Z",
     "iopub.status.busy": "2021-04-23T16:06:56.882903Z",
     "iopub.status.idle": "2021-04-23T16:06:56.901967Z",
     "shell.execute_reply": "2021-04-23T16:06:56.902382Z"
    },
    "papermill": {
     "duration": 0.042581,
     "end_time": "2021-04-23T16:06:56.902515",
     "exception": false,
     "start_time": "2021-04-23T16:06:56.859934",
     "status": "completed"
    },
    "tags": []
   },
   "outputs": [
    {
     "data": {
      "text/html": [
       "<div>\n",
       "<style scoped>\n",
       "    .dataframe tbody tr th:only-of-type {\n",
       "        vertical-align: middle;\n",
       "    }\n",
       "\n",
       "    .dataframe tbody tr th {\n",
       "        vertical-align: top;\n",
       "    }\n",
       "\n",
       "    .dataframe thead th {\n",
       "        text-align: right;\n",
       "    }\n",
       "</style>\n",
       "<table border=\"1\" class=\"dataframe\">\n",
       "  <thead>\n",
       "    <tr style=\"text-align: right;\">\n",
       "      <th></th>\n",
       "      <th>review_id</th>\n",
       "      <th>review_content</th>\n",
       "      <th>neg_review_content</th>\n",
       "    </tr>\n",
       "  </thead>\n",
       "  <tbody>\n",
       "    <tr>\n",
       "      <th>0</th>\n",
       "      <td>2</td>\n",
       "      <td>['ordered on 6th.', \"rec'd parcel on 10 feb at...</td>\n",
       "      <td>ordered on 6th. rec'd parcel on 10 feb at 11.3...</td>\n",
       "    </tr>\n",
       "    <tr>\n",
       "      <th>1</th>\n",
       "      <td>12</td>\n",
       "      <td>['box dented.', 'quality is thin.', 'i tried t...</td>\n",
       "      <td>box dented. quality is thin. i tried to wear n...</td>\n",
       "    </tr>\n",
       "    <tr>\n",
       "      <th>2</th>\n",
       "      <td>13</td>\n",
       "      <td>['disappointed not same as first i order.']</td>\n",
       "      <td>disappointed not same as first i order.</td>\n",
       "    </tr>\n",
       "    <tr>\n",
       "      <th>3</th>\n",
       "      <td>14</td>\n",
       "      <td>['it is not 3 ply as described.', 'these are n...</td>\n",
       "      <td>it is not 3 ply as described. these are not re...</td>\n",
       "    </tr>\n",
       "    <tr>\n",
       "      <th>4</th>\n",
       "      <td>23</td>\n",
       "      <td>['unresponsive and rejected my cancellation.',...</td>\n",
       "      <td>unresponsive and rejected my cancellation. as ...</td>\n",
       "    </tr>\n",
       "  </tbody>\n",
       "</table>\n",
       "</div>"
      ],
      "text/plain": [
       "   review_id                                     review_content  \\\n",
       "0          2  ['ordered on 6th.', \"rec'd parcel on 10 feb at...   \n",
       "1         12  ['box dented.', 'quality is thin.', 'i tried t...   \n",
       "2         13        ['disappointed not same as first i order.']   \n",
       "3         14  ['it is not 3 ply as described.', 'these are n...   \n",
       "4         23  ['unresponsive and rejected my cancellation.',...   \n",
       "\n",
       "                                  neg_review_content  \n",
       "0  ordered on 6th. rec'd parcel on 10 feb at 11.3...  \n",
       "1  box dented. quality is thin. i tried to wear n...  \n",
       "2            disappointed not same as first i order.  \n",
       "3  it is not 3 ply as described. these are not re...  \n",
       "4  unresponsive and rejected my cancellation. as ...  "
      ]
     },
     "execution_count": 3,
     "metadata": {},
     "output_type": "execute_result"
    }
   ],
   "source": [
    "#merge negative partial reviews\n",
    "df_neg = pd.read_csv('../input/5153-bert-feature-extraction-negative/negative_review_content.csv')\n",
    "df_neg.head()"
   ]
  },
  {
   "cell_type": "code",
   "execution_count": 4,
   "metadata": {
    "execution": {
     "iopub.execute_input": "2021-04-23T16:06:56.944326Z",
     "iopub.status.busy": "2021-04-23T16:06:56.943641Z",
     "iopub.status.idle": "2021-04-23T16:06:56.967118Z",
     "shell.execute_reply": "2021-04-23T16:06:56.967724Z"
    },
    "papermill": {
     "duration": 0.049513,
     "end_time": "2021-04-23T16:06:56.967884",
     "exception": false,
     "start_time": "2021-04-23T16:06:56.918371",
     "status": "completed"
    },
    "tags": []
   },
   "outputs": [
    {
     "name": "stdout",
     "output_type": "stream",
     "text": [
      "(1523, 14)\n"
     ]
    },
    {
     "data": {
      "text/html": [
       "<div>\n",
       "<style scoped>\n",
       "    .dataframe tbody tr th:only-of-type {\n",
       "        vertical-align: middle;\n",
       "    }\n",
       "\n",
       "    .dataframe tbody tr th {\n",
       "        vertical-align: top;\n",
       "    }\n",
       "\n",
       "    .dataframe thead th {\n",
       "        text-align: right;\n",
       "    }\n",
       "</style>\n",
       "<table border=\"1\" class=\"dataframe\">\n",
       "  <thead>\n",
       "    <tr style=\"text-align: right;\">\n",
       "      <th></th>\n",
       "      <th>review_id</th>\n",
       "      <th>review_content</th>\n",
       "      <th>review_stars</th>\n",
       "      <th>delivery</th>\n",
       "      <th>product</th>\n",
       "      <th>service</th>\n",
       "      <th>bert_avg</th>\n",
       "      <th>bert_max</th>\n",
       "      <th>bert_layer0</th>\n",
       "      <th>distil_bert_avg</th>\n",
       "      <th>distil_bert_max</th>\n",
       "      <th>distil_bert_layer0</th>\n",
       "      <th>label</th>\n",
       "      <th>neg_review_content</th>\n",
       "    </tr>\n",
       "  </thead>\n",
       "  <tbody>\n",
       "    <tr>\n",
       "      <th>0</th>\n",
       "      <td>9161</td>\n",
       "      <td>Delivery took more than a week, short expiry d...</td>\n",
       "      <td>2</td>\n",
       "      <td>1</td>\n",
       "      <td>1</td>\n",
       "      <td>0</td>\n",
       "      <td>[-0.06329992, -0.32380387, 0.35608995, -0.1268...</td>\n",
       "      <td>[0.93797976, 0.25249124, 1.1054325, 0.49609792...</td>\n",
       "      <td>[-0.19600664, -0.4481723, 0.20494524, -0.39789...</td>\n",
       "      <td>[-0.046782605, -0.27473888, 0.2780265, 0.03694...</td>\n",
       "      <td>[0.4727717, 0.23103717, 0.7197178, 0.6083572, ...</td>\n",
       "      <td>[-0.022450736, -0.34166092, 0.13424423, -0.170...</td>\n",
       "      <td>110</td>\n",
       "      <td>short expiry date only until may 2021.</td>\n",
       "    </tr>\n",
       "    <tr>\n",
       "      <th>1</th>\n",
       "      <td>8198</td>\n",
       "      <td>Quality is so-so, loops are too huge resulting...</td>\n",
       "      <td>3</td>\n",
       "      <td>0</td>\n",
       "      <td>1</td>\n",
       "      <td>0</td>\n",
       "      <td>[0.19020107, -0.3453789, 0.3494842, 0.14938574...</td>\n",
       "      <td>[1.1594802, 0.60506886, 1.084206, 0.8051733, 0...</td>\n",
       "      <td>[0.04546422, -0.29597518, -0.35977763, -0.4039...</td>\n",
       "      <td>[0.1399654, -0.11672436, 0.23911656, 0.1187961...</td>\n",
       "      <td>[0.8445691, 0.4961368, 0.7105234, 0.6109599, 0...</td>\n",
       "      <td>[0.12642525, -0.1857245, 0.08149249, -0.019622...</td>\n",
       "      <td>010</td>\n",
       "      <td>quality is so-so. loops are too huge resulting...</td>\n",
       "    </tr>\n",
       "    <tr>\n",
       "      <th>2</th>\n",
       "      <td>5314</td>\n",
       "      <td>Received within 3days. Well packed in a carton...</td>\n",
       "      <td>4</td>\n",
       "      <td>0</td>\n",
       "      <td>1</td>\n",
       "      <td>0</td>\n",
       "      <td>[-0.028732965, -0.14712504, 0.36105582, 0.0254...</td>\n",
       "      <td>[1.3182856, 0.7953221, 1.3915914, 0.87499446, ...</td>\n",
       "      <td>[-0.38282838, -0.22101544, 0.6115111, -0.33658...</td>\n",
       "      <td>[0.07374873, -0.01620108, 0.20269494, 0.149083...</td>\n",
       "      <td>[0.76418287, 0.48008785, 0.97139245, 0.5615782...</td>\n",
       "      <td>[0.026645288, -0.27306008, 0.20750262, 0.05986...</td>\n",
       "      <td>010</td>\n",
       "      <td>there’s a smell. hope the smell is not an issu...</td>\n",
       "    </tr>\n",
       "    <tr>\n",
       "      <th>3</th>\n",
       "      <td>17589</td>\n",
       "      <td>Not sure if these were the authentic as I brou...</td>\n",
       "      <td>3</td>\n",
       "      <td>0</td>\n",
       "      <td>1</td>\n",
       "      <td>0</td>\n",
       "      <td>[0.3033499, 0.02644875, 0.16410081, 0.04581299...</td>\n",
       "      <td>[1.2807441, 0.85781705, 0.80655, 0.49130562, 0...</td>\n",
       "      <td>[-0.078149214, 0.117149524, 0.04559862, -0.218...</td>\n",
       "      <td>[0.18770164, 0.114881225, 0.08257794, 0.121869...</td>\n",
       "      <td>[0.9882787, 0.5043827, 0.54232115, 0.44097498,...</td>\n",
       "      <td>[0.23179623, 0.050810635, 0.07551272, -0.15587...</td>\n",
       "      <td>010</td>\n",
       "      <td>not sure if these were the authentic as i brou...</td>\n",
       "    </tr>\n",
       "    <tr>\n",
       "      <th>4</th>\n",
       "      <td>31446</td>\n",
       "      <td>its a fashion mask. no filter so no protection...</td>\n",
       "      <td>3</td>\n",
       "      <td>0</td>\n",
       "      <td>1</td>\n",
       "      <td>0</td>\n",
       "      <td>[-0.18616518, -0.38300017, 0.52194715, 0.18413...</td>\n",
       "      <td>[0.65815246, 0.20897251, 1.0151551, 0.48899576...</td>\n",
       "      <td>[-0.29987, -0.26352054, 0.3190687, -0.22115439...</td>\n",
       "      <td>[-0.0903255, -0.1808794, 0.33290026, 0.2622123...</td>\n",
       "      <td>[0.66676205, 0.099603325, 0.8990194, 0.5398592...</td>\n",
       "      <td>[-0.34698877, -0.3470553, 0.3122651, 0.0037901...</td>\n",
       "      <td>010</td>\n",
       "      <td>its a fashion mask. no filter . no protection.</td>\n",
       "    </tr>\n",
       "  </tbody>\n",
       "</table>\n",
       "</div>"
      ],
      "text/plain": [
       "   review_id                                     review_content  review_stars  \\\n",
       "0       9161  Delivery took more than a week, short expiry d...             2   \n",
       "1       8198  Quality is so-so, loops are too huge resulting...             3   \n",
       "2       5314  Received within 3days. Well packed in a carton...             4   \n",
       "3      17589  Not sure if these were the authentic as I brou...             3   \n",
       "4      31446  its a fashion mask. no filter so no protection...             3   \n",
       "\n",
       "   delivery  product  service  \\\n",
       "0         1        1        0   \n",
       "1         0        1        0   \n",
       "2         0        1        0   \n",
       "3         0        1        0   \n",
       "4         0        1        0   \n",
       "\n",
       "                                            bert_avg  \\\n",
       "0  [-0.06329992, -0.32380387, 0.35608995, -0.1268...   \n",
       "1  [0.19020107, -0.3453789, 0.3494842, 0.14938574...   \n",
       "2  [-0.028732965, -0.14712504, 0.36105582, 0.0254...   \n",
       "3  [0.3033499, 0.02644875, 0.16410081, 0.04581299...   \n",
       "4  [-0.18616518, -0.38300017, 0.52194715, 0.18413...   \n",
       "\n",
       "                                            bert_max  \\\n",
       "0  [0.93797976, 0.25249124, 1.1054325, 0.49609792...   \n",
       "1  [1.1594802, 0.60506886, 1.084206, 0.8051733, 0...   \n",
       "2  [1.3182856, 0.7953221, 1.3915914, 0.87499446, ...   \n",
       "3  [1.2807441, 0.85781705, 0.80655, 0.49130562, 0...   \n",
       "4  [0.65815246, 0.20897251, 1.0151551, 0.48899576...   \n",
       "\n",
       "                                         bert_layer0  \\\n",
       "0  [-0.19600664, -0.4481723, 0.20494524, -0.39789...   \n",
       "1  [0.04546422, -0.29597518, -0.35977763, -0.4039...   \n",
       "2  [-0.38282838, -0.22101544, 0.6115111, -0.33658...   \n",
       "3  [-0.078149214, 0.117149524, 0.04559862, -0.218...   \n",
       "4  [-0.29987, -0.26352054, 0.3190687, -0.22115439...   \n",
       "\n",
       "                                     distil_bert_avg  \\\n",
       "0  [-0.046782605, -0.27473888, 0.2780265, 0.03694...   \n",
       "1  [0.1399654, -0.11672436, 0.23911656, 0.1187961...   \n",
       "2  [0.07374873, -0.01620108, 0.20269494, 0.149083...   \n",
       "3  [0.18770164, 0.114881225, 0.08257794, 0.121869...   \n",
       "4  [-0.0903255, -0.1808794, 0.33290026, 0.2622123...   \n",
       "\n",
       "                                     distil_bert_max  \\\n",
       "0  [0.4727717, 0.23103717, 0.7197178, 0.6083572, ...   \n",
       "1  [0.8445691, 0.4961368, 0.7105234, 0.6109599, 0...   \n",
       "2  [0.76418287, 0.48008785, 0.97139245, 0.5615782...   \n",
       "3  [0.9882787, 0.5043827, 0.54232115, 0.44097498,...   \n",
       "4  [0.66676205, 0.099603325, 0.8990194, 0.5398592...   \n",
       "\n",
       "                                  distil_bert_layer0 label  \\\n",
       "0  [-0.022450736, -0.34166092, 0.13424423, -0.170...   110   \n",
       "1  [0.12642525, -0.1857245, 0.08149249, -0.019622...   010   \n",
       "2  [0.026645288, -0.27306008, 0.20750262, 0.05986...   010   \n",
       "3  [0.23179623, 0.050810635, 0.07551272, -0.15587...   010   \n",
       "4  [-0.34698877, -0.3470553, 0.3122651, 0.0037901...   010   \n",
       "\n",
       "                                  neg_review_content  \n",
       "0             short expiry date only until may 2021.  \n",
       "1  quality is so-so. loops are too huge resulting...  \n",
       "2  there’s a smell. hope the smell is not an issu...  \n",
       "3  not sure if these were the authentic as i brou...  \n",
       "4     its a fashion mask. no filter . no protection.  "
      ]
     },
     "execution_count": 4,
     "metadata": {},
     "output_type": "execute_result"
    }
   ],
   "source": [
    "df_all = pd.merge(df_all, df_neg[['review_id', 'neg_review_content']], on='review_id', how='inner')\n",
    "print(df_all.shape)\n",
    "df_all.head()"
   ]
  },
  {
   "cell_type": "code",
   "execution_count": 5,
   "metadata": {
    "execution": {
     "iopub.execute_input": "2021-04-23T16:06:57.007152Z",
     "iopub.status.busy": "2021-04-23T16:06:57.006673Z",
     "iopub.status.idle": "2021-04-23T16:06:57.029971Z",
     "shell.execute_reply": "2021-04-23T16:06:57.028749Z"
    },
    "papermill": {
     "duration": 0.045161,
     "end_time": "2021-04-23T16:06:57.030076",
     "exception": false,
     "start_time": "2021-04-23T16:06:56.984915",
     "status": "completed"
    },
    "tags": []
   },
   "outputs": [
    {
     "name": "stdout",
     "output_type": "stream",
     "text": [
      "(1065, 14)\n"
     ]
    },
    {
     "data": {
      "text/html": [
       "<div>\n",
       "<style scoped>\n",
       "    .dataframe tbody tr th:only-of-type {\n",
       "        vertical-align: middle;\n",
       "    }\n",
       "\n",
       "    .dataframe tbody tr th {\n",
       "        vertical-align: top;\n",
       "    }\n",
       "\n",
       "    .dataframe thead th {\n",
       "        text-align: right;\n",
       "    }\n",
       "</style>\n",
       "<table border=\"1\" class=\"dataframe\">\n",
       "  <thead>\n",
       "    <tr style=\"text-align: right;\">\n",
       "      <th></th>\n",
       "      <th>review_id</th>\n",
       "      <th>review_content</th>\n",
       "      <th>review_stars</th>\n",
       "      <th>delivery</th>\n",
       "      <th>product</th>\n",
       "      <th>service</th>\n",
       "      <th>bert_avg</th>\n",
       "      <th>bert_max</th>\n",
       "      <th>bert_layer0</th>\n",
       "      <th>distil_bert_avg</th>\n",
       "      <th>distil_bert_max</th>\n",
       "      <th>distil_bert_layer0</th>\n",
       "      <th>label</th>\n",
       "      <th>neg_review_content</th>\n",
       "    </tr>\n",
       "  </thead>\n",
       "  <tbody>\n",
       "    <tr>\n",
       "      <th>0</th>\n",
       "      <td>9161</td>\n",
       "      <td>Delivery took more than a week, short expiry d...</td>\n",
       "      <td>2</td>\n",
       "      <td>1</td>\n",
       "      <td>1</td>\n",
       "      <td>0</td>\n",
       "      <td>[-0.06329992, -0.32380387, 0.35608995, -0.1268...</td>\n",
       "      <td>[0.93797976, 0.25249124, 1.1054325, 0.49609792...</td>\n",
       "      <td>[-0.19600664, -0.4481723, 0.20494524, -0.39789...</td>\n",
       "      <td>[-0.046782605, -0.27473888, 0.2780265, 0.03694...</td>\n",
       "      <td>[0.4727717, 0.23103717, 0.7197178, 0.6083572, ...</td>\n",
       "      <td>[-0.022450736, -0.34166092, 0.13424423, -0.170...</td>\n",
       "      <td>110</td>\n",
       "      <td>short expiry date only until may 2021.</td>\n",
       "    </tr>\n",
       "    <tr>\n",
       "      <th>1</th>\n",
       "      <td>8198</td>\n",
       "      <td>Quality is so-so, loops are too huge resulting...</td>\n",
       "      <td>3</td>\n",
       "      <td>0</td>\n",
       "      <td>1</td>\n",
       "      <td>0</td>\n",
       "      <td>[0.19020107, -0.3453789, 0.3494842, 0.14938574...</td>\n",
       "      <td>[1.1594802, 0.60506886, 1.084206, 0.8051733, 0...</td>\n",
       "      <td>[0.04546422, -0.29597518, -0.35977763, -0.4039...</td>\n",
       "      <td>[0.1399654, -0.11672436, 0.23911656, 0.1187961...</td>\n",
       "      <td>[0.8445691, 0.4961368, 0.7105234, 0.6109599, 0...</td>\n",
       "      <td>[0.12642525, -0.1857245, 0.08149249, -0.019622...</td>\n",
       "      <td>010</td>\n",
       "      <td>quality is so-so. loops are too huge resulting...</td>\n",
       "    </tr>\n",
       "    <tr>\n",
       "      <th>2</th>\n",
       "      <td>5314</td>\n",
       "      <td>Received within 3days. Well packed in a carton...</td>\n",
       "      <td>4</td>\n",
       "      <td>0</td>\n",
       "      <td>1</td>\n",
       "      <td>0</td>\n",
       "      <td>[-0.028732965, -0.14712504, 0.36105582, 0.0254...</td>\n",
       "      <td>[1.3182856, 0.7953221, 1.3915914, 0.87499446, ...</td>\n",
       "      <td>[-0.38282838, -0.22101544, 0.6115111, -0.33658...</td>\n",
       "      <td>[0.07374873, -0.01620108, 0.20269494, 0.149083...</td>\n",
       "      <td>[0.76418287, 0.48008785, 0.97139245, 0.5615782...</td>\n",
       "      <td>[0.026645288, -0.27306008, 0.20750262, 0.05986...</td>\n",
       "      <td>010</td>\n",
       "      <td>there’s a smell. hope the smell is not an issu...</td>\n",
       "    </tr>\n",
       "    <tr>\n",
       "      <th>3</th>\n",
       "      <td>17589</td>\n",
       "      <td>Not sure if these were the authentic as I brou...</td>\n",
       "      <td>3</td>\n",
       "      <td>0</td>\n",
       "      <td>1</td>\n",
       "      <td>0</td>\n",
       "      <td>[0.3033499, 0.02644875, 0.16410081, 0.04581299...</td>\n",
       "      <td>[1.2807441, 0.85781705, 0.80655, 0.49130562, 0...</td>\n",
       "      <td>[-0.078149214, 0.117149524, 0.04559862, -0.218...</td>\n",
       "      <td>[0.18770164, 0.114881225, 0.08257794, 0.121869...</td>\n",
       "      <td>[0.9882787, 0.5043827, 0.54232115, 0.44097498,...</td>\n",
       "      <td>[0.23179623, 0.050810635, 0.07551272, -0.15587...</td>\n",
       "      <td>010</td>\n",
       "      <td>not sure if these were the authentic as i brou...</td>\n",
       "    </tr>\n",
       "    <tr>\n",
       "      <th>4</th>\n",
       "      <td>31446</td>\n",
       "      <td>its a fashion mask. no filter so no protection...</td>\n",
       "      <td>3</td>\n",
       "      <td>0</td>\n",
       "      <td>1</td>\n",
       "      <td>0</td>\n",
       "      <td>[-0.18616518, -0.38300017, 0.52194715, 0.18413...</td>\n",
       "      <td>[0.65815246, 0.20897251, 1.0151551, 0.48899576...</td>\n",
       "      <td>[-0.29987, -0.26352054, 0.3190687, -0.22115439...</td>\n",
       "      <td>[-0.0903255, -0.1808794, 0.33290026, 0.2622123...</td>\n",
       "      <td>[0.66676205, 0.099603325, 0.8990194, 0.5398592...</td>\n",
       "      <td>[-0.34698877, -0.3470553, 0.3122651, 0.0037901...</td>\n",
       "      <td>010</td>\n",
       "      <td>its a fashion mask. no filter . no protection.</td>\n",
       "    </tr>\n",
       "  </tbody>\n",
       "</table>\n",
       "</div>"
      ],
      "text/plain": [
       "   review_id                                     review_content  review_stars  \\\n",
       "0       9161  Delivery took more than a week, short expiry d...             2   \n",
       "1       8198  Quality is so-so, loops are too huge resulting...             3   \n",
       "2       5314  Received within 3days. Well packed in a carton...             4   \n",
       "3      17589  Not sure if these were the authentic as I brou...             3   \n",
       "4      31446  its a fashion mask. no filter so no protection...             3   \n",
       "\n",
       "   delivery  product  service  \\\n",
       "0         1        1        0   \n",
       "1         0        1        0   \n",
       "2         0        1        0   \n",
       "3         0        1        0   \n",
       "4         0        1        0   \n",
       "\n",
       "                                            bert_avg  \\\n",
       "0  [-0.06329992, -0.32380387, 0.35608995, -0.1268...   \n",
       "1  [0.19020107, -0.3453789, 0.3494842, 0.14938574...   \n",
       "2  [-0.028732965, -0.14712504, 0.36105582, 0.0254...   \n",
       "3  [0.3033499, 0.02644875, 0.16410081, 0.04581299...   \n",
       "4  [-0.18616518, -0.38300017, 0.52194715, 0.18413...   \n",
       "\n",
       "                                            bert_max  \\\n",
       "0  [0.93797976, 0.25249124, 1.1054325, 0.49609792...   \n",
       "1  [1.1594802, 0.60506886, 1.084206, 0.8051733, 0...   \n",
       "2  [1.3182856, 0.7953221, 1.3915914, 0.87499446, ...   \n",
       "3  [1.2807441, 0.85781705, 0.80655, 0.49130562, 0...   \n",
       "4  [0.65815246, 0.20897251, 1.0151551, 0.48899576...   \n",
       "\n",
       "                                         bert_layer0  \\\n",
       "0  [-0.19600664, -0.4481723, 0.20494524, -0.39789...   \n",
       "1  [0.04546422, -0.29597518, -0.35977763, -0.4039...   \n",
       "2  [-0.38282838, -0.22101544, 0.6115111, -0.33658...   \n",
       "3  [-0.078149214, 0.117149524, 0.04559862, -0.218...   \n",
       "4  [-0.29987, -0.26352054, 0.3190687, -0.22115439...   \n",
       "\n",
       "                                     distil_bert_avg  \\\n",
       "0  [-0.046782605, -0.27473888, 0.2780265, 0.03694...   \n",
       "1  [0.1399654, -0.11672436, 0.23911656, 0.1187961...   \n",
       "2  [0.07374873, -0.01620108, 0.20269494, 0.149083...   \n",
       "3  [0.18770164, 0.114881225, 0.08257794, 0.121869...   \n",
       "4  [-0.0903255, -0.1808794, 0.33290026, 0.2622123...   \n",
       "\n",
       "                                     distil_bert_max  \\\n",
       "0  [0.4727717, 0.23103717, 0.7197178, 0.6083572, ...   \n",
       "1  [0.8445691, 0.4961368, 0.7105234, 0.6109599, 0...   \n",
       "2  [0.76418287, 0.48008785, 0.97139245, 0.5615782...   \n",
       "3  [0.9882787, 0.5043827, 0.54232115, 0.44097498,...   \n",
       "4  [0.66676205, 0.099603325, 0.8990194, 0.5398592...   \n",
       "\n",
       "                                  distil_bert_layer0 label  \\\n",
       "0  [-0.022450736, -0.34166092, 0.13424423, -0.170...   110   \n",
       "1  [0.12642525, -0.1857245, 0.08149249, -0.019622...   010   \n",
       "2  [0.026645288, -0.27306008, 0.20750262, 0.05986...   010   \n",
       "3  [0.23179623, 0.050810635, 0.07551272, -0.15587...   010   \n",
       "4  [-0.34698877, -0.3470553, 0.3122651, 0.0037901...   010   \n",
       "\n",
       "                                  neg_review_content  \n",
       "0             short expiry date only until may 2021.  \n",
       "1  quality is so-so. loops are too huge resulting...  \n",
       "2  there’s a smell. hope the smell is not an issu...  \n",
       "3  not sure if these were the authentic as i brou...  \n",
       "4     its a fashion mask. no filter . no protection.  "
      ]
     },
     "execution_count": 5,
     "metadata": {},
     "output_type": "execute_result"
    }
   ],
   "source": [
    "df = pd.merge(df, df_neg[['review_id', 'neg_review_content']], on='review_id', how='inner')\n",
    "print(df.shape)\n",
    "df.head()"
   ]
  },
  {
   "cell_type": "code",
   "execution_count": 6,
   "metadata": {
    "execution": {
     "iopub.execute_input": "2021-04-23T16:06:57.070919Z",
     "iopub.status.busy": "2021-04-23T16:06:57.070177Z",
     "iopub.status.idle": "2021-04-23T16:06:57.092154Z",
     "shell.execute_reply": "2021-04-23T16:06:57.092732Z"
    },
    "papermill": {
     "duration": 0.045299,
     "end_time": "2021-04-23T16:06:57.092888",
     "exception": false,
     "start_time": "2021-04-23T16:06:57.047589",
     "status": "completed"
    },
    "tags": []
   },
   "outputs": [
    {
     "name": "stdout",
     "output_type": "stream",
     "text": [
      "(458, 14)\n"
     ]
    },
    {
     "data": {
      "text/html": [
       "<div>\n",
       "<style scoped>\n",
       "    .dataframe tbody tr th:only-of-type {\n",
       "        vertical-align: middle;\n",
       "    }\n",
       "\n",
       "    .dataframe tbody tr th {\n",
       "        vertical-align: top;\n",
       "    }\n",
       "\n",
       "    .dataframe thead th {\n",
       "        text-align: right;\n",
       "    }\n",
       "</style>\n",
       "<table border=\"1\" class=\"dataframe\">\n",
       "  <thead>\n",
       "    <tr style=\"text-align: right;\">\n",
       "      <th></th>\n",
       "      <th>review_id</th>\n",
       "      <th>review_content</th>\n",
       "      <th>review_stars</th>\n",
       "      <th>delivery</th>\n",
       "      <th>product</th>\n",
       "      <th>service</th>\n",
       "      <th>bert_avg</th>\n",
       "      <th>bert_max</th>\n",
       "      <th>bert_layer0</th>\n",
       "      <th>distil_bert_avg</th>\n",
       "      <th>distil_bert_max</th>\n",
       "      <th>distil_bert_layer0</th>\n",
       "      <th>label</th>\n",
       "      <th>neg_review_content</th>\n",
       "    </tr>\n",
       "  </thead>\n",
       "  <tbody>\n",
       "    <tr>\n",
       "      <th>0</th>\n",
       "      <td>16748</td>\n",
       "      <td>it does not cover the entire nose</td>\n",
       "      <td>4</td>\n",
       "      <td>0</td>\n",
       "      <td>1</td>\n",
       "      <td>0</td>\n",
       "      <td>[-0.102646254, -0.22875029, 0.18799533, 0.1218...</td>\n",
       "      <td>[0.9322276, 0.36336058, 0.5335494, 0.6365655, ...</td>\n",
       "      <td>[-0.13417566, 0.14176558, 0.060101416, -0.2363...</td>\n",
       "      <td>[-0.052312087, 0.11116923, 0.09106587, -0.0266...</td>\n",
       "      <td>[0.90049744, 0.41818547, 0.44860423, 0.4881871...</td>\n",
       "      <td>[-0.25892562, 0.09141161, 0.11670131, -0.27867...</td>\n",
       "      <td>010</td>\n",
       "      <td>yet to try out the serum. tried the face mask....</td>\n",
       "    </tr>\n",
       "    <tr>\n",
       "      <th>1</th>\n",
       "      <td>7936</td>\n",
       "      <td>Items received in good condition. \\nFast deliv...</td>\n",
       "      <td>3</td>\n",
       "      <td>0</td>\n",
       "      <td>1</td>\n",
       "      <td>0</td>\n",
       "      <td>[-0.073171206, -0.28532478, 0.4684518, 0.06098...</td>\n",
       "      <td>[0.6989626, 0.60659623, 1.2653117, 0.56227136,...</td>\n",
       "      <td>[-0.3070287, -0.16202989, 0.28549048, -0.38556...</td>\n",
       "      <td>[-0.077326566, -0.08241358, 0.25523275, 0.1806...</td>\n",
       "      <td>[0.60959345, 0.25016156, 0.9238833, 0.55949986...</td>\n",
       "      <td>[-0.26072696, -0.15078594, 0.09794032, -0.0274...</td>\n",
       "      <td>010</td>\n",
       "      <td>disappointed cos the mask folding was up side ...</td>\n",
       "    </tr>\n",
       "    <tr>\n",
       "      <th>2</th>\n",
       "      <td>35144</td>\n",
       "      <td>Order was not shipped by ship by date. 2 days ...</td>\n",
       "      <td>1</td>\n",
       "      <td>0</td>\n",
       "      <td>0</td>\n",
       "      <td>1</td>\n",
       "      <td>[0.033353284, -0.15982221, 0.28324175, -0.0954...</td>\n",
       "      <td>[0.78534734, 0.81594664, 1.2221552, 0.7786952,...</td>\n",
       "      <td>[-0.29875648, -0.26088548, 0.4403837, -0.42945...</td>\n",
       "      <td>[-0.044279817, -0.12734465, 0.29842582, 0.0614...</td>\n",
       "      <td>[0.5215708, 0.4165552, 0.91208905, 0.593244, 1...</td>\n",
       "      <td>[-0.141533, -0.18464121, 0.109193765, 0.012363...</td>\n",
       "      <td>001</td>\n",
       "      <td>order was not shipped by ship by date. 2 days ...</td>\n",
       "    </tr>\n",
       "    <tr>\n",
       "      <th>3</th>\n",
       "      <td>2842</td>\n",
       "      <td>Never believe ship out within 12 hours , was t...</td>\n",
       "      <td>2</td>\n",
       "      <td>1</td>\n",
       "      <td>0</td>\n",
       "      <td>1</td>\n",
       "      <td>[0.09460444, -0.21060538, 0.45771155, 0.155521...</td>\n",
       "      <td>[1.3276132, 0.4937837, 2.0165536, 0.51392186, ...</td>\n",
       "      <td>[-0.23258153, 0.108628765, 0.54131097, 0.02621...</td>\n",
       "      <td>[0.24199268, -0.06438464, 0.31322727, 0.142381...</td>\n",
       "      <td>[0.8856684, 0.33496863, 1.2474557, 0.46600977,...</td>\n",
       "      <td>[-0.005784018, -0.09771741, 0.094822764, -0.11...</td>\n",
       "      <td>101</td>\n",
       "      <td>never believe ship out within 12 hours . was t...</td>\n",
       "    </tr>\n",
       "    <tr>\n",
       "      <th>4</th>\n",
       "      <td>14016</td>\n",
       "      <td>The grey masks are rougher than the blue ones ...</td>\n",
       "      <td>4</td>\n",
       "      <td>0</td>\n",
       "      <td>1</td>\n",
       "      <td>0</td>\n",
       "      <td>[0.1367541, -0.21565422, 0.17242633, 0.0259907...</td>\n",
       "      <td>[1.1356148, 0.39919722, 0.8751235, 0.4737515, ...</td>\n",
       "      <td>[0.025354343, -0.047820117, -0.21739256, -0.03...</td>\n",
       "      <td>[0.21196146, -0.111543424, 0.048495315, 0.1669...</td>\n",
       "      <td>[0.848116, 0.44728693, 0.80595, 0.5715706, 0.8...</td>\n",
       "      <td>[0.17126973, -0.03728881, -0.0028430712, -0.18...</td>\n",
       "      <td>010</td>\n",
       "      <td>the grey masks are rougher than the blue ones ...</td>\n",
       "    </tr>\n",
       "  </tbody>\n",
       "</table>\n",
       "</div>"
      ],
      "text/plain": [
       "   review_id                                     review_content  review_stars  \\\n",
       "0      16748                  it does not cover the entire nose             4   \n",
       "1       7936  Items received in good condition. \\nFast deliv...             3   \n",
       "2      35144  Order was not shipped by ship by date. 2 days ...             1   \n",
       "3       2842  Never believe ship out within 12 hours , was t...             2   \n",
       "4      14016  The grey masks are rougher than the blue ones ...             4   \n",
       "\n",
       "   delivery  product  service  \\\n",
       "0         0        1        0   \n",
       "1         0        1        0   \n",
       "2         0        0        1   \n",
       "3         1        0        1   \n",
       "4         0        1        0   \n",
       "\n",
       "                                            bert_avg  \\\n",
       "0  [-0.102646254, -0.22875029, 0.18799533, 0.1218...   \n",
       "1  [-0.073171206, -0.28532478, 0.4684518, 0.06098...   \n",
       "2  [0.033353284, -0.15982221, 0.28324175, -0.0954...   \n",
       "3  [0.09460444, -0.21060538, 0.45771155, 0.155521...   \n",
       "4  [0.1367541, -0.21565422, 0.17242633, 0.0259907...   \n",
       "\n",
       "                                            bert_max  \\\n",
       "0  [0.9322276, 0.36336058, 0.5335494, 0.6365655, ...   \n",
       "1  [0.6989626, 0.60659623, 1.2653117, 0.56227136,...   \n",
       "2  [0.78534734, 0.81594664, 1.2221552, 0.7786952,...   \n",
       "3  [1.3276132, 0.4937837, 2.0165536, 0.51392186, ...   \n",
       "4  [1.1356148, 0.39919722, 0.8751235, 0.4737515, ...   \n",
       "\n",
       "                                         bert_layer0  \\\n",
       "0  [-0.13417566, 0.14176558, 0.060101416, -0.2363...   \n",
       "1  [-0.3070287, -0.16202989, 0.28549048, -0.38556...   \n",
       "2  [-0.29875648, -0.26088548, 0.4403837, -0.42945...   \n",
       "3  [-0.23258153, 0.108628765, 0.54131097, 0.02621...   \n",
       "4  [0.025354343, -0.047820117, -0.21739256, -0.03...   \n",
       "\n",
       "                                     distil_bert_avg  \\\n",
       "0  [-0.052312087, 0.11116923, 0.09106587, -0.0266...   \n",
       "1  [-0.077326566, -0.08241358, 0.25523275, 0.1806...   \n",
       "2  [-0.044279817, -0.12734465, 0.29842582, 0.0614...   \n",
       "3  [0.24199268, -0.06438464, 0.31322727, 0.142381...   \n",
       "4  [0.21196146, -0.111543424, 0.048495315, 0.1669...   \n",
       "\n",
       "                                     distil_bert_max  \\\n",
       "0  [0.90049744, 0.41818547, 0.44860423, 0.4881871...   \n",
       "1  [0.60959345, 0.25016156, 0.9238833, 0.55949986...   \n",
       "2  [0.5215708, 0.4165552, 0.91208905, 0.593244, 1...   \n",
       "3  [0.8856684, 0.33496863, 1.2474557, 0.46600977,...   \n",
       "4  [0.848116, 0.44728693, 0.80595, 0.5715706, 0.8...   \n",
       "\n",
       "                                  distil_bert_layer0 label  \\\n",
       "0  [-0.25892562, 0.09141161, 0.11670131, -0.27867...   010   \n",
       "1  [-0.26072696, -0.15078594, 0.09794032, -0.0274...   010   \n",
       "2  [-0.141533, -0.18464121, 0.109193765, 0.012363...   001   \n",
       "3  [-0.005784018, -0.09771741, 0.094822764, -0.11...   101   \n",
       "4  [0.17126973, -0.03728881, -0.0028430712, -0.18...   010   \n",
       "\n",
       "                                  neg_review_content  \n",
       "0  yet to try out the serum. tried the face mask....  \n",
       "1  disappointed cos the mask folding was up side ...  \n",
       "2  order was not shipped by ship by date. 2 days ...  \n",
       "3  never believe ship out within 12 hours . was t...  \n",
       "4  the grey masks are rougher than the blue ones ...  "
      ]
     },
     "execution_count": 6,
     "metadata": {},
     "output_type": "execute_result"
    }
   ],
   "source": [
    "df_test = pd.merge(df_test, df_neg[['review_id', 'neg_review_content']], on='review_id', how='inner')\n",
    "print(df_test.shape)\n",
    "df_test.head()"
   ]
  },
  {
   "cell_type": "code",
   "execution_count": 7,
   "metadata": {
    "execution": {
     "iopub.execute_input": "2021-04-23T16:06:57.157385Z",
     "iopub.status.busy": "2021-04-23T16:06:57.156627Z",
     "iopub.status.idle": "2021-04-23T16:06:57.162762Z",
     "shell.execute_reply": "2021-04-23T16:06:57.163335Z"
    },
    "papermill": {
     "duration": 0.049085,
     "end_time": "2021-04-23T16:06:57.163524",
     "exception": false,
     "start_time": "2021-04-23T16:06:57.114439",
     "status": "completed"
    },
    "tags": []
   },
   "outputs": [],
   "source": [
    "X = df.neg_review_content\n",
    "X_test = df_test.neg_review_content\n",
    "\n",
    "y_dl = df['delivery'].copy()\n",
    "y_dl_test = df_test['delivery'].copy()\n",
    "y_pd = df['product'].copy()\n",
    "y_pd_test = df_test['product'].copy()\n",
    "y_sv = df['service'].copy()\n",
    "y_sv_test = df_test['service'].copy()"
   ]
  },
  {
   "cell_type": "markdown",
   "metadata": {
    "papermill": {
     "duration": 0.035984,
     "end_time": "2021-04-23T16:06:57.235974",
     "exception": false,
     "start_time": "2021-04-23T16:06:57.199990",
     "status": "completed"
    },
    "tags": []
   },
   "source": [
    "## BERT"
   ]
  },
  {
   "cell_type": "code",
   "execution_count": 8,
   "metadata": {
    "execution": {
     "iopub.execute_input": "2021-04-23T16:06:57.319202Z",
     "iopub.status.busy": "2021-04-23T16:06:57.304482Z",
     "iopub.status.idle": "2021-04-23T16:07:07.466130Z",
     "shell.execute_reply": "2021-04-23T16:07:07.466693Z"
    },
    "papermill": {
     "duration": 10.199325,
     "end_time": "2021-04-23T16:07:07.466891",
     "exception": false,
     "start_time": "2021-04-23T16:06:57.267566",
     "status": "completed"
    },
    "tags": []
   },
   "outputs": [
    {
     "name": "stdout",
     "output_type": "stream",
     "text": [
      "Cloning into 'bert-sklearn'...\r\n",
      "remote: Enumerating objects: 259, done.\u001b[K\r\n",
      "remote: Total 259 (delta 0), reused 0 (delta 0), pack-reused 259\u001b[K\r\n",
      "Receiving objects: 100% (259/259), 516.15 KiB | 4.78 MiB/s, done.\r\n",
      "Resolving deltas: 100% (131/131), done.\r\n",
      "Processing /kaggle/working/bert-sklearn\r\n",
      "Requirement already satisfied: torch>=0.4.1 in /opt/conda/lib/python3.7/site-packages (from bert-sklearn==0.3.1) (1.7.0)\r\n",
      "Requirement already satisfied: scikit-learn in /opt/conda/lib/python3.7/site-packages (from bert-sklearn==0.3.1) (0.24.1)\r\n",
      "Requirement already satisfied: numpy in /opt/conda/lib/python3.7/site-packages (from bert-sklearn==0.3.1) (1.19.5)\r\n",
      "Requirement already satisfied: pandas in /opt/conda/lib/python3.7/site-packages (from bert-sklearn==0.3.1) (1.1.5)\r\n",
      "Requirement already satisfied: boto3 in /opt/conda/lib/python3.7/site-packages (from bert-sklearn==0.3.1) (1.17.40)\r\n",
      "Requirement already satisfied: requests in /opt/conda/lib/python3.7/site-packages (from bert-sklearn==0.3.1) (2.25.1)\r\n",
      "Requirement already satisfied: tqdm in /opt/conda/lib/python3.7/site-packages (from bert-sklearn==0.3.1) (4.56.2)\r\n",
      "Requirement already satisfied: future in /opt/conda/lib/python3.7/site-packages (from torch>=0.4.1->bert-sklearn==0.3.1) (0.18.2)\r\n",
      "Requirement already satisfied: typing_extensions in /opt/conda/lib/python3.7/site-packages (from torch>=0.4.1->bert-sklearn==0.3.1) (3.7.4.3)\r\n",
      "Requirement already satisfied: dataclasses in /opt/conda/lib/python3.7/site-packages (from torch>=0.4.1->bert-sklearn==0.3.1) (0.6)\r\n",
      "Requirement already satisfied: s3transfer<0.4.0,>=0.3.0 in /opt/conda/lib/python3.7/site-packages (from boto3->bert-sklearn==0.3.1) (0.3.6)\r\n",
      "Requirement already satisfied: jmespath<1.0.0,>=0.7.1 in /opt/conda/lib/python3.7/site-packages (from boto3->bert-sklearn==0.3.1) (0.10.0)\r\n",
      "Requirement already satisfied: botocore<1.21.0,>=1.20.40 in /opt/conda/lib/python3.7/site-packages (from boto3->bert-sklearn==0.3.1) (1.20.40)\r\n",
      "Requirement already satisfied: python-dateutil<3.0.0,>=2.1 in /opt/conda/lib/python3.7/site-packages (from botocore<1.21.0,>=1.20.40->boto3->bert-sklearn==0.3.1) (2.8.1)\r\n",
      "Requirement already satisfied: urllib3<1.27,>=1.25.4 in /opt/conda/lib/python3.7/site-packages (from botocore<1.21.0,>=1.20.40->boto3->bert-sklearn==0.3.1) (1.26.3)\r\n",
      "Requirement already satisfied: six>=1.5 in /opt/conda/lib/python3.7/site-packages (from python-dateutil<3.0.0,>=2.1->botocore<1.21.0,>=1.20.40->boto3->bert-sklearn==0.3.1) (1.15.0)\r\n",
      "Requirement already satisfied: pytz>=2017.2 in /opt/conda/lib/python3.7/site-packages (from pandas->bert-sklearn==0.3.1) (2021.1)\r\n",
      "Requirement already satisfied: certifi>=2017.4.17 in /opt/conda/lib/python3.7/site-packages (from requests->bert-sklearn==0.3.1) (2020.12.5)\r\n",
      "Requirement already satisfied: idna<3,>=2.5 in /opt/conda/lib/python3.7/site-packages (from requests->bert-sklearn==0.3.1) (2.10)\r\n",
      "Requirement already satisfied: chardet<5,>=3.0.2 in /opt/conda/lib/python3.7/site-packages (from requests->bert-sklearn==0.3.1) (3.0.4)\r\n",
      "Requirement already satisfied: scipy>=0.19.1 in /opt/conda/lib/python3.7/site-packages (from scikit-learn->bert-sklearn==0.3.1) (1.5.4)\r\n",
      "Requirement already satisfied: threadpoolctl>=2.0.0 in /opt/conda/lib/python3.7/site-packages (from scikit-learn->bert-sklearn==0.3.1) (2.1.0)\r\n",
      "Requirement already satisfied: joblib>=0.11 in /opt/conda/lib/python3.7/site-packages (from scikit-learn->bert-sklearn==0.3.1) (1.0.1)\r\n",
      "Building wheels for collected packages: bert-sklearn\r\n",
      "  Building wheel for bert-sklearn (setup.py) ... \u001b[?25l-\b \b\\\b \bdone\r\n",
      "\u001b[?25h  Created wheel for bert-sklearn: filename=bert_sklearn-0.3.1-py3-none-any.whl size=54234 sha256=4466c9b15ab9887e78da7e15556100964e1e20f99d33e5cd75c52ca1bb33dc60\r\n",
      "  Stored in directory: /root/.cache/pip/wheels/63/65/44/f35544576fa17eb0add6c86f5deb441f12936371263c10015c\r\n",
      "Successfully built bert-sklearn\r\n",
      "Installing collected packages: bert-sklearn\r\n",
      "Successfully installed bert-sklearn-0.3.1\r\n",
      "['bert_sklearn', 'demo_tuning_hyperparams.ipynb', '.git', 'Options.md', 'LICENSE', 'README.md', 'demo.ipynb', 'other_examples', 'glue_examples', 'tests', 'setup.py']\n"
     ]
    }
   ],
   "source": [
    "!git clone -b master https://github.com/charles9n/bert-sklearn\n",
    "!cd bert-sklearn; pip install .\n",
    "import os\n",
    "os.chdir(\"bert-sklearn\")\n",
    "print(os.listdir())"
   ]
  },
  {
   "cell_type": "code",
   "execution_count": 9,
   "metadata": {
    "execution": {
     "iopub.execute_input": "2021-04-23T16:07:07.518482Z",
     "iopub.status.busy": "2021-04-23T16:07:07.517719Z",
     "iopub.status.idle": "2021-04-23T16:07:10.037333Z",
     "shell.execute_reply": "2021-04-23T16:07:10.036332Z"
    },
    "papermill": {
     "duration": 2.546558,
     "end_time": "2021-04-23T16:07:10.037475",
     "exception": false,
     "start_time": "2021-04-23T16:07:07.490917",
     "status": "completed"
    },
    "tags": []
   },
   "outputs": [],
   "source": [
    "from bert_sklearn import BertClassifier\n",
    "from bert_sklearn import load_model"
   ]
  },
  {
   "cell_type": "markdown",
   "metadata": {
    "papermill": {
     "duration": 0.022812,
     "end_time": "2021-04-23T16:07:10.083638",
     "exception": false,
     "start_time": "2021-04-23T16:07:10.060826",
     "status": "completed"
    },
    "tags": []
   },
   "source": [
    "## Three Binary Classification"
   ]
  },
  {
   "cell_type": "markdown",
   "metadata": {
    "papermill": {
     "duration": 0.022978,
     "end_time": "2021-04-23T16:07:10.129746",
     "exception": false,
     "start_time": "2021-04-23T16:07:10.106768",
     "status": "completed"
    },
    "tags": []
   },
   "source": [
    "### Delivery"
   ]
  },
  {
   "cell_type": "code",
   "execution_count": 10,
   "metadata": {
    "execution": {
     "iopub.execute_input": "2021-04-23T16:07:10.180244Z",
     "iopub.status.busy": "2021-04-23T16:07:10.179714Z",
     "iopub.status.idle": "2021-04-23T16:08:16.729784Z",
     "shell.execute_reply": "2021-04-23T16:08:16.729248Z"
    },
    "papermill": {
     "duration": 66.577268,
     "end_time": "2021-04-23T16:08:16.729922",
     "exception": false,
     "start_time": "2021-04-23T16:07:10.152654",
     "status": "completed"
    },
    "tags": []
   },
   "outputs": [
    {
     "name": "stdout",
     "output_type": "stream",
     "text": [
      "Building sklearn text classifier...\n"
     ]
    },
    {
     "name": "stderr",
     "output_type": "stream",
     "text": [
      "100%|██████████| 213450/213450 [00:00<00:00, 1831452.03B/s]\n"
     ]
    },
    {
     "name": "stdout",
     "output_type": "stream",
     "text": [
      "Loading bert-base-cased model...\n"
     ]
    },
    {
     "name": "stderr",
     "output_type": "stream",
     "text": [
      "100%|██████████| 435779157/435779157 [00:11<00:00, 36473385.59B/s]\n",
      "100%|██████████| 433/433 [00:00<00:00, 434793.78B/s]\n"
     ]
    },
    {
     "name": "stdout",
     "output_type": "stream",
     "text": [
      "Defaulting to linear classifier/regressor\n",
      "Loading Pytorch checkpoint\n",
      "train data size: 959, validation data size: 106\n"
     ]
    },
    {
     "name": "stderr",
     "output_type": "stream",
     "text": [
      "Training  : 100%|██████████| 60/60 [00:14<00:00,  4.07it/s, loss=0.341]\n",
      "Validating: 100%|██████████| 14/14 [00:00<00:00, 25.26it/s]"
     ]
    },
    {
     "name": "stdout",
     "output_type": "stream",
     "text": [
      "Epoch 1, Train loss: 0.3410, Val loss: 0.2594, Val accy: 91.51%\n"
     ]
    },
    {
     "name": "stderr",
     "output_type": "stream",
     "text": [
      "\n",
      "Training  : 100%|██████████| 60/60 [00:13<00:00,  4.43it/s, loss=0.15]\n",
      "Validating: 100%|██████████| 14/14 [00:00<00:00, 25.17it/s]"
     ]
    },
    {
     "name": "stdout",
     "output_type": "stream",
     "text": [
      "Epoch 2, Train loss: 0.1500, Val loss: 0.2752, Val accy: 89.62%\n"
     ]
    },
    {
     "name": "stderr",
     "output_type": "stream",
     "text": [
      "\n",
      "Training  : 100%|██████████| 60/60 [00:13<00:00,  4.34it/s, loss=0.0742]\n",
      "Validating: 100%|██████████| 14/14 [00:00<00:00, 23.60it/s]"
     ]
    },
    {
     "name": "stdout",
     "output_type": "stream",
     "text": [
      "Epoch 3, Train loss: 0.0742, Val loss: 0.3171, Val accy: 90.57%\n"
     ]
    },
    {
     "name": "stderr",
     "output_type": "stream",
     "text": [
      "\n"
     ]
    },
    {
     "data": {
      "text/plain": [
       "BertClassifier(bert_model='bert-base-cased', do_lower_case=False,\n",
       "               label_list=array([0, 1]), max_seq_length=64,\n",
       "               train_batch_size=16)"
      ]
     },
     "execution_count": 10,
     "metadata": {},
     "output_type": "execute_result"
    }
   ],
   "source": [
    "## set up bertmodel, use ber-based-cased finetuned model\n",
    "model_del = BertClassifier(max_seq_length=64,\n",
    "                           train_batch_size=16,\n",
    "                           bert_model='bert-base-cased')\n",
    "model_del.fit(X, y_dl)"
   ]
  },
  {
   "cell_type": "code",
   "execution_count": 11,
   "metadata": {
    "execution": {
     "iopub.execute_input": "2021-04-23T16:08:17.051972Z",
     "iopub.status.busy": "2021-04-23T16:08:17.050736Z",
     "iopub.status.idle": "2021-04-23T16:08:20.354848Z",
     "shell.execute_reply": "2021-04-23T16:08:20.354140Z"
    },
    "papermill": {
     "duration": 3.466831,
     "end_time": "2021-04-23T16:08:20.355004",
     "exception": false,
     "start_time": "2021-04-23T16:08:16.888173",
     "status": "completed"
    },
    "tags": []
   },
   "outputs": [
    {
     "name": "stderr",
     "output_type": "stream",
     "text": [
      "Predicting: 100%|██████████| 58/58 [00:01<00:00, 35.56it/s]\n",
      "Predicting: 100%|██████████| 58/58 [00:01<00:00, 35.84it/s]"
     ]
    },
    {
     "name": "stdout",
     "output_type": "stream",
     "text": [
      "precision:  0.9104803493449781\n",
      "recall:  0.9104803493449781\n",
      "accuracy:  0.9104803493449781\n",
      "auc:  0.9434459621375508\n",
      "macro_fl_delivery: 0.873\n",
      "              precision    recall  f1-score   support\n",
      "\n",
      "           0       0.94      0.95      0.94       351\n",
      "           1       0.82      0.79      0.80       107\n",
      "\n",
      "    accuracy                           0.91       458\n",
      "   macro avg       0.88      0.87      0.87       458\n",
      "weighted avg       0.91      0.91      0.91       458\n",
      "\n"
     ]
    },
    {
     "name": "stderr",
     "output_type": "stream",
     "text": [
      "\n"
     ]
    }
   ],
   "source": [
    "y_dl_pred = model_del.predict(X_test)\n",
    "y_dl_proba = model_del.predict_proba(X_test)[:, 1]\n",
    "\n",
    "precision = precision_score(y_dl_test, y_dl_pred, average='micro')\n",
    "recall = recall_score(y_dl_test, y_dl_pred, average='micro')\n",
    "accuracy = accuracy_score(y_dl_test, y_dl_pred)\n",
    "auc = roc_auc_score(y_dl_test, y_dl_proba, multi_class='ovr')\n",
    "\n",
    "print('precision: ', precision)\n",
    "print('recall: ', recall)\n",
    "print('accuracy: ', accuracy)\n",
    "print('auc: ', auc)\n",
    "print('macro_fl_delivery:',round(f1_score(y_dl_test, y_dl_pred,average='macro'),3))\n",
    "print(classification_report(y_dl_test, y_dl_pred))"
   ]
  },
  {
   "cell_type": "markdown",
   "metadata": {
    "papermill": {
     "duration": 0.169132,
     "end_time": "2021-04-23T16:08:20.696442",
     "exception": false,
     "start_time": "2021-04-23T16:08:20.527310",
     "status": "completed"
    },
    "tags": []
   },
   "source": [
    "### Product"
   ]
  },
  {
   "cell_type": "code",
   "execution_count": 12,
   "metadata": {
    "execution": {
     "iopub.execute_input": "2021-04-23T16:08:21.046868Z",
     "iopub.status.busy": "2021-04-23T16:08:21.044027Z",
     "iopub.status.idle": "2021-04-23T16:09:08.316740Z",
     "shell.execute_reply": "2021-04-23T16:09:08.316264Z"
    },
    "papermill": {
     "duration": 47.455028,
     "end_time": "2021-04-23T16:09:08.316893",
     "exception": false,
     "start_time": "2021-04-23T16:08:20.861865",
     "status": "completed"
    },
    "tags": []
   },
   "outputs": [
    {
     "name": "stdout",
     "output_type": "stream",
     "text": [
      "Building sklearn text classifier...\n",
      "Loading bert-base-cased model...\n",
      "Defaulting to linear classifier/regressor\n",
      "Loading Pytorch checkpoint\n",
      "train data size: 959, validation data size: 106\n"
     ]
    },
    {
     "name": "stderr",
     "output_type": "stream",
     "text": [
      "Training  : 100%|██████████| 60/60 [00:13<00:00,  4.33it/s, loss=0.41]\n",
      "Validating: 100%|██████████| 14/14 [00:00<00:00, 23.60it/s]"
     ]
    },
    {
     "name": "stdout",
     "output_type": "stream",
     "text": [
      "Epoch 1, Train loss: 0.4100, Val loss: 0.2232, Val accy: 92.45%\n"
     ]
    },
    {
     "name": "stderr",
     "output_type": "stream",
     "text": [
      "\n",
      "Training  : 100%|██████████| 60/60 [00:13<00:00,  4.32it/s, loss=0.134]\n",
      "Validating: 100%|██████████| 14/14 [00:00<00:00, 23.65it/s]"
     ]
    },
    {
     "name": "stdout",
     "output_type": "stream",
     "text": [
      "Epoch 2, Train loss: 0.1342, Val loss: 0.1880, Val accy: 94.34%\n"
     ]
    },
    {
     "name": "stderr",
     "output_type": "stream",
     "text": [
      "\n",
      "Training  : 100%|██████████| 60/60 [00:13<00:00,  4.43it/s, loss=0.0487]\n",
      "Validating: 100%|██████████| 14/14 [00:00<00:00, 24.22it/s]"
     ]
    },
    {
     "name": "stdout",
     "output_type": "stream",
     "text": [
      "Epoch 3, Train loss: 0.0487, Val loss: 0.1969, Val accy: 93.40%\n"
     ]
    },
    {
     "name": "stderr",
     "output_type": "stream",
     "text": [
      "\n"
     ]
    },
    {
     "data": {
      "text/plain": [
       "BertClassifier(bert_model='bert-base-cased', do_lower_case=False,\n",
       "               label_list=array([0, 1]), max_seq_length=64,\n",
       "               train_batch_size=16)"
      ]
     },
     "execution_count": 12,
     "metadata": {},
     "output_type": "execute_result"
    }
   ],
   "source": [
    "## set up bertmodel, use ber-based-cased finetuned model\n",
    "model_pro = BertClassifier(max_seq_length=64,\n",
    "                           train_batch_size=16,\n",
    "                           bert_model='bert-base-cased')\n",
    "model_pro.fit(X, y_pd)"
   ]
  },
  {
   "cell_type": "code",
   "execution_count": 13,
   "metadata": {
    "execution": {
     "iopub.execute_input": "2021-04-23T16:09:08.837453Z",
     "iopub.status.busy": "2021-04-23T16:09:08.836627Z",
     "iopub.status.idle": "2021-04-23T16:09:12.269538Z",
     "shell.execute_reply": "2021-04-23T16:09:12.268914Z"
    },
    "papermill": {
     "duration": 3.695962,
     "end_time": "2021-04-23T16:09:12.269720",
     "exception": false,
     "start_time": "2021-04-23T16:09:08.573758",
     "status": "completed"
    },
    "tags": []
   },
   "outputs": [
    {
     "name": "stderr",
     "output_type": "stream",
     "text": [
      "Predicting: 100%|██████████| 58/58 [00:01<00:00, 33.05it/s]\n",
      "Predicting: 100%|██████████| 58/58 [00:01<00:00, 35.71it/s]"
     ]
    },
    {
     "name": "stdout",
     "output_type": "stream",
     "text": [
      "precision:  0.8995633187772926\n",
      "recall:  0.8995633187772926\n",
      "accuracy:  0.8995633187772926\n",
      "auc:  0.9405545112781954\n",
      "macro_fl_product: 0.886\n",
      "              precision    recall  f1-score   support\n",
      "\n",
      "           0       0.88      0.82      0.85       154\n",
      "           1       0.91      0.94      0.93       304\n",
      "\n",
      "    accuracy                           0.90       458\n",
      "   macro avg       0.89      0.88      0.89       458\n",
      "weighted avg       0.90      0.90      0.90       458\n",
      "\n"
     ]
    },
    {
     "name": "stderr",
     "output_type": "stream",
     "text": [
      "\n"
     ]
    }
   ],
   "source": [
    "y_pd_pred = model_pro.predict(X_test)\n",
    "y_pd_proba = model_pro.predict_proba(X_test)[:, 1]\n",
    "\n",
    "precision = precision_score(y_pd_test, y_pd_pred, average='micro')\n",
    "recall = recall_score(y_pd_test, y_pd_pred, average='micro')\n",
    "accuracy = accuracy_score(y_pd_test, y_pd_pred)\n",
    "auc = roc_auc_score(y_pd_test, y_pd_proba, multi_class='ovr')\n",
    "\n",
    "print('precision: ', precision)\n",
    "print('recall: ', recall)\n",
    "print('accuracy: ', accuracy)\n",
    "print('auc: ', auc)\n",
    "print('macro_fl_product:',round(f1_score(y_pd_test, y_pd_pred,average='macro'),3))\n",
    "print(classification_report(y_pd_test, y_pd_pred))"
   ]
  },
  {
   "cell_type": "markdown",
   "metadata": {
    "papermill": {
     "duration": 0.261228,
     "end_time": "2021-04-23T16:09:12.794387",
     "exception": false,
     "start_time": "2021-04-23T16:09:12.533159",
     "status": "completed"
    },
    "tags": []
   },
   "source": [
    "### Service"
   ]
  },
  {
   "cell_type": "code",
   "execution_count": 14,
   "metadata": {
    "execution": {
     "iopub.execute_input": "2021-04-23T16:09:13.326018Z",
     "iopub.status.busy": "2021-04-23T16:09:13.325499Z",
     "iopub.status.idle": "2021-04-23T16:10:00.532697Z",
     "shell.execute_reply": "2021-04-23T16:10:00.532252Z"
    },
    "papermill": {
     "duration": 47.476029,
     "end_time": "2021-04-23T16:10:00.532826",
     "exception": false,
     "start_time": "2021-04-23T16:09:13.056797",
     "status": "completed"
    },
    "tags": []
   },
   "outputs": [
    {
     "name": "stdout",
     "output_type": "stream",
     "text": [
      "Building sklearn text classifier...\n",
      "Loading bert-base-cased model...\n",
      "Defaulting to linear classifier/regressor\n",
      "Loading Pytorch checkpoint\n",
      "train data size: 959, validation data size: 106\n"
     ]
    },
    {
     "name": "stderr",
     "output_type": "stream",
     "text": [
      "Training  : 100%|██████████| 60/60 [00:13<00:00,  4.32it/s, loss=0.445]\n",
      "Validating: 100%|██████████| 14/14 [00:00<00:00, 19.75it/s]"
     ]
    },
    {
     "name": "stdout",
     "output_type": "stream",
     "text": [
      "Epoch 1, Train loss: 0.4454, Val loss: 0.3796, Val accy: 83.96%\n"
     ]
    },
    {
     "name": "stderr",
     "output_type": "stream",
     "text": [
      "\n",
      "Training  : 100%|██████████| 60/60 [00:13<00:00,  4.40it/s, loss=0.264]\n",
      "Validating: 100%|██████████| 14/14 [00:00<00:00, 22.82it/s]"
     ]
    },
    {
     "name": "stdout",
     "output_type": "stream",
     "text": [
      "Epoch 2, Train loss: 0.2642, Val loss: 0.4378, Val accy: 83.02%\n"
     ]
    },
    {
     "name": "stderr",
     "output_type": "stream",
     "text": [
      "\n",
      "Training  : 100%|██████████| 60/60 [00:13<00:00,  4.39it/s, loss=0.129]\n",
      "Validating: 100%|██████████| 14/14 [00:00<00:00, 22.76it/s]"
     ]
    },
    {
     "name": "stdout",
     "output_type": "stream",
     "text": [
      "Epoch 3, Train loss: 0.1286, Val loss: 0.4334, Val accy: 84.91%\n"
     ]
    },
    {
     "name": "stderr",
     "output_type": "stream",
     "text": [
      "\n"
     ]
    },
    {
     "data": {
      "text/plain": [
       "BertClassifier(bert_model='bert-base-cased', do_lower_case=False,\n",
       "               label_list=array([0, 1]), max_seq_length=64,\n",
       "               train_batch_size=16)"
      ]
     },
     "execution_count": 14,
     "metadata": {},
     "output_type": "execute_result"
    }
   ],
   "source": [
    "## set up bertmodel, use ber-based-cased finetuned model\n",
    "model_ser = BertClassifier(max_seq_length=64,\n",
    "                           train_batch_size=16,\n",
    "                           bert_model='bert-base-cased')\n",
    "model_ser.fit(X, y_sv)"
   ]
  },
  {
   "cell_type": "code",
   "execution_count": 15,
   "metadata": {
    "execution": {
     "iopub.execute_input": "2021-04-23T16:10:01.272028Z",
     "iopub.status.busy": "2021-04-23T16:10:01.271207Z",
     "iopub.status.idle": "2021-04-23T16:10:04.757623Z",
     "shell.execute_reply": "2021-04-23T16:10:04.757002Z"
    },
    "papermill": {
     "duration": 3.857783,
     "end_time": "2021-04-23T16:10:04.757765",
     "exception": false,
     "start_time": "2021-04-23T16:10:00.899982",
     "status": "completed"
    },
    "tags": []
   },
   "outputs": [
    {
     "name": "stderr",
     "output_type": "stream",
     "text": [
      "Predicting: 100%|██████████| 58/58 [00:01<00:00, 34.82it/s]\n",
      "Predicting: 100%|██████████| 58/58 [00:01<00:00, 32.74it/s]"
     ]
    },
    {
     "name": "stdout",
     "output_type": "stream",
     "text": [
      "precision:  0.87117903930131\n",
      "recall:  0.87117903930131\n",
      "accuracy:  0.87117903930131\n",
      "auc:  0.8499735449735449\n",
      "macro_fl_service: 0.803\n",
      "              precision    recall  f1-score   support\n",
      "\n",
      "           0       0.89      0.95      0.92       350\n",
      "           1       0.80      0.60      0.69       108\n",
      "\n",
      "    accuracy                           0.87       458\n",
      "   macro avg       0.84      0.78      0.80       458\n",
      "weighted avg       0.87      0.87      0.86       458\n",
      "\n"
     ]
    },
    {
     "name": "stderr",
     "output_type": "stream",
     "text": [
      "\n"
     ]
    }
   ],
   "source": [
    "y_sv_pred = model_ser.predict(X_test)\n",
    "y_sv_proba = model_ser.predict_proba(X_test)[:, 1]\n",
    "\n",
    "precision = precision_score(y_sv_test, y_sv_pred, average='micro')\n",
    "recall = recall_score(y_sv_test, y_sv_pred, average='micro')\n",
    "accuracy = accuracy_score(y_sv_test, y_sv_pred)\n",
    "auc = roc_auc_score(y_sv_test, y_sv_proba, multi_class='ovr')\n",
    "\n",
    "print('precision: ', precision)\n",
    "print('recall: ', recall)\n",
    "print('accuracy: ', accuracy)\n",
    "print('auc: ', auc)\n",
    "print('macro_fl_service:',round(f1_score(y_sv_test, y_sv_pred,average='macro'),3))\n",
    "print(classification_report(y_sv_test, y_sv_pred))"
   ]
  },
  {
   "cell_type": "markdown",
   "metadata": {
    "papermill": {
     "duration": 0.374235,
     "end_time": "2021-04-23T16:10:05.515122",
     "exception": false,
     "start_time": "2021-04-23T16:10:05.140887",
     "status": "completed"
    },
    "tags": []
   },
   "source": [
    "### combine test results"
   ]
  },
  {
   "cell_type": "code",
   "execution_count": 16,
   "metadata": {
    "execution": {
     "iopub.execute_input": "2021-04-23T16:10:06.270555Z",
     "iopub.status.busy": "2021-04-23T16:10:06.262319Z",
     "iopub.status.idle": "2021-04-23T16:10:06.274253Z",
     "shell.execute_reply": "2021-04-23T16:10:06.273845Z"
    },
    "papermill": {
     "duration": 0.393512,
     "end_time": "2021-04-23T16:10:06.274382",
     "exception": false,
     "start_time": "2021-04-23T16:10:05.880870",
     "status": "completed"
    },
    "tags": []
   },
   "outputs": [
    {
     "data": {
      "text/html": [
       "<div>\n",
       "<style scoped>\n",
       "    .dataframe tbody tr th:only-of-type {\n",
       "        vertical-align: middle;\n",
       "    }\n",
       "\n",
       "    .dataframe tbody tr th {\n",
       "        vertical-align: top;\n",
       "    }\n",
       "\n",
       "    .dataframe thead th {\n",
       "        text-align: right;\n",
       "    }\n",
       "</style>\n",
       "<table border=\"1\" class=\"dataframe\">\n",
       "  <thead>\n",
       "    <tr style=\"text-align: right;\">\n",
       "      <th></th>\n",
       "      <th>review_id</th>\n",
       "      <th>review_content</th>\n",
       "      <th>review_stars</th>\n",
       "      <th>delivery</th>\n",
       "      <th>product</th>\n",
       "      <th>service</th>\n",
       "      <th>bert_avg</th>\n",
       "      <th>bert_max</th>\n",
       "      <th>bert_layer0</th>\n",
       "      <th>distil_bert_avg</th>\n",
       "      <th>distil_bert_max</th>\n",
       "      <th>distil_bert_layer0</th>\n",
       "      <th>label</th>\n",
       "      <th>neg_review_content</th>\n",
       "      <th>delivery_pred</th>\n",
       "      <th>product_pred</th>\n",
       "      <th>service_pred</th>\n",
       "    </tr>\n",
       "  </thead>\n",
       "  <tbody>\n",
       "    <tr>\n",
       "      <th>0</th>\n",
       "      <td>16748</td>\n",
       "      <td>it does not cover the entire nose</td>\n",
       "      <td>4</td>\n",
       "      <td>0</td>\n",
       "      <td>1</td>\n",
       "      <td>0</td>\n",
       "      <td>[-0.102646254, -0.22875029, 0.18799533, 0.1218...</td>\n",
       "      <td>[0.9322276, 0.36336058, 0.5335494, 0.6365655, ...</td>\n",
       "      <td>[-0.13417566, 0.14176558, 0.060101416, -0.2363...</td>\n",
       "      <td>[-0.052312087, 0.11116923, 0.09106587, -0.0266...</td>\n",
       "      <td>[0.90049744, 0.41818547, 0.44860423, 0.4881871...</td>\n",
       "      <td>[-0.25892562, 0.09141161, 0.11670131, -0.27867...</td>\n",
       "      <td>010</td>\n",
       "      <td>yet to try out the serum. tried the face mask....</td>\n",
       "      <td>0</td>\n",
       "      <td>1</td>\n",
       "      <td>0</td>\n",
       "    </tr>\n",
       "    <tr>\n",
       "      <th>1</th>\n",
       "      <td>7936</td>\n",
       "      <td>Items received in good condition. \\nFast deliv...</td>\n",
       "      <td>3</td>\n",
       "      <td>0</td>\n",
       "      <td>1</td>\n",
       "      <td>0</td>\n",
       "      <td>[-0.073171206, -0.28532478, 0.4684518, 0.06098...</td>\n",
       "      <td>[0.6989626, 0.60659623, 1.2653117, 0.56227136,...</td>\n",
       "      <td>[-0.3070287, -0.16202989, 0.28549048, -0.38556...</td>\n",
       "      <td>[-0.077326566, -0.08241358, 0.25523275, 0.1806...</td>\n",
       "      <td>[0.60959345, 0.25016156, 0.9238833, 0.55949986...</td>\n",
       "      <td>[-0.26072696, -0.15078594, 0.09794032, -0.0274...</td>\n",
       "      <td>010</td>\n",
       "      <td>disappointed cos the mask folding was up side ...</td>\n",
       "      <td>0</td>\n",
       "      <td>1</td>\n",
       "      <td>0</td>\n",
       "    </tr>\n",
       "    <tr>\n",
       "      <th>2</th>\n",
       "      <td>35144</td>\n",
       "      <td>Order was not shipped by ship by date. 2 days ...</td>\n",
       "      <td>1</td>\n",
       "      <td>0</td>\n",
       "      <td>0</td>\n",
       "      <td>1</td>\n",
       "      <td>[0.033353284, -0.15982221, 0.28324175, -0.0954...</td>\n",
       "      <td>[0.78534734, 0.81594664, 1.2221552, 0.7786952,...</td>\n",
       "      <td>[-0.29875648, -0.26088548, 0.4403837, -0.42945...</td>\n",
       "      <td>[-0.044279817, -0.12734465, 0.29842582, 0.0614...</td>\n",
       "      <td>[0.5215708, 0.4165552, 0.91208905, 0.593244, 1...</td>\n",
       "      <td>[-0.141533, -0.18464121, 0.109193765, 0.012363...</td>\n",
       "      <td>001</td>\n",
       "      <td>order was not shipped by ship by date. 2 days ...</td>\n",
       "      <td>0</td>\n",
       "      <td>0</td>\n",
       "      <td>1</td>\n",
       "    </tr>\n",
       "  </tbody>\n",
       "</table>\n",
       "</div>"
      ],
      "text/plain": [
       "   review_id                                     review_content  review_stars  \\\n",
       "0      16748                  it does not cover the entire nose             4   \n",
       "1       7936  Items received in good condition. \\nFast deliv...             3   \n",
       "2      35144  Order was not shipped by ship by date. 2 days ...             1   \n",
       "\n",
       "   delivery  product  service  \\\n",
       "0         0        1        0   \n",
       "1         0        1        0   \n",
       "2         0        0        1   \n",
       "\n",
       "                                            bert_avg  \\\n",
       "0  [-0.102646254, -0.22875029, 0.18799533, 0.1218...   \n",
       "1  [-0.073171206, -0.28532478, 0.4684518, 0.06098...   \n",
       "2  [0.033353284, -0.15982221, 0.28324175, -0.0954...   \n",
       "\n",
       "                                            bert_max  \\\n",
       "0  [0.9322276, 0.36336058, 0.5335494, 0.6365655, ...   \n",
       "1  [0.6989626, 0.60659623, 1.2653117, 0.56227136,...   \n",
       "2  [0.78534734, 0.81594664, 1.2221552, 0.7786952,...   \n",
       "\n",
       "                                         bert_layer0  \\\n",
       "0  [-0.13417566, 0.14176558, 0.060101416, -0.2363...   \n",
       "1  [-0.3070287, -0.16202989, 0.28549048, -0.38556...   \n",
       "2  [-0.29875648, -0.26088548, 0.4403837, -0.42945...   \n",
       "\n",
       "                                     distil_bert_avg  \\\n",
       "0  [-0.052312087, 0.11116923, 0.09106587, -0.0266...   \n",
       "1  [-0.077326566, -0.08241358, 0.25523275, 0.1806...   \n",
       "2  [-0.044279817, -0.12734465, 0.29842582, 0.0614...   \n",
       "\n",
       "                                     distil_bert_max  \\\n",
       "0  [0.90049744, 0.41818547, 0.44860423, 0.4881871...   \n",
       "1  [0.60959345, 0.25016156, 0.9238833, 0.55949986...   \n",
       "2  [0.5215708, 0.4165552, 0.91208905, 0.593244, 1...   \n",
       "\n",
       "                                  distil_bert_layer0 label  \\\n",
       "0  [-0.25892562, 0.09141161, 0.11670131, -0.27867...   010   \n",
       "1  [-0.26072696, -0.15078594, 0.09794032, -0.0274...   010   \n",
       "2  [-0.141533, -0.18464121, 0.109193765, 0.012363...   001   \n",
       "\n",
       "                                  neg_review_content  delivery_pred  \\\n",
       "0  yet to try out the serum. tried the face mask....              0   \n",
       "1  disappointed cos the mask folding was up side ...              0   \n",
       "2  order was not shipped by ship by date. 2 days ...              0   \n",
       "\n",
       "   product_pred  service_pred  \n",
       "0             1             0  \n",
       "1             1             0  \n",
       "2             0             1  "
      ]
     },
     "execution_count": 16,
     "metadata": {},
     "output_type": "execute_result"
    }
   ],
   "source": [
    "df_test['delivery_pred'] = y_dl_pred\n",
    "df_test['product_pred'] = y_pd_pred\n",
    "df_test['service_pred'] = y_sv_pred\n",
    "df_test.head(3)"
   ]
  },
  {
   "cell_type": "code",
   "execution_count": 17,
   "metadata": {
    "execution": {
     "iopub.execute_input": "2021-04-23T16:10:07.019991Z",
     "iopub.status.busy": "2021-04-23T16:10:07.019446Z",
     "iopub.status.idle": "2021-04-23T16:10:07.023530Z",
     "shell.execute_reply": "2021-04-23T16:10:07.022985Z"
    },
    "papermill": {
     "duration": 0.381013,
     "end_time": "2021-04-23T16:10:07.023719",
     "exception": false,
     "start_time": "2021-04-23T16:10:06.642706",
     "status": "completed"
    },
    "tags": []
   },
   "outputs": [],
   "source": [
    "def add_pred_target_label(df):\n",
    "    df['label_pred'] = df['delivery_pred']*100 + df['product_pred']*10 + df['service_pred']\n",
    "    df['label_pred'] = '00'+df['label_pred'].astype('str')\n",
    "    df['label_pred'] = df['label_pred'].apply(lambda x: x[-3:])\n",
    "    return df"
   ]
  },
  {
   "cell_type": "code",
   "execution_count": 18,
   "metadata": {
    "execution": {
     "iopub.execute_input": "2021-04-23T16:10:07.768058Z",
     "iopub.status.busy": "2021-04-23T16:10:07.767505Z",
     "iopub.status.idle": "2021-04-23T16:10:07.928715Z",
     "shell.execute_reply": "2021-04-23T16:10:07.927865Z"
    },
    "papermill": {
     "duration": 0.535722,
     "end_time": "2021-04-23T16:10:07.928841",
     "exception": false,
     "start_time": "2021-04-23T16:10:07.393119",
     "status": "completed"
    },
    "tags": []
   },
   "outputs": [
    {
     "name": "stdout",
     "output_type": "stream",
     "text": [
      "['010' '001' '111' '110' '100' '101' '011' '000']\n"
     ]
    },
    {
     "data": {
      "text/html": [
       "<div>\n",
       "<style scoped>\n",
       "    .dataframe tbody tr th:only-of-type {\n",
       "        vertical-align: middle;\n",
       "    }\n",
       "\n",
       "    .dataframe tbody tr th {\n",
       "        vertical-align: top;\n",
       "    }\n",
       "\n",
       "    .dataframe thead th {\n",
       "        text-align: right;\n",
       "    }\n",
       "</style>\n",
       "<table border=\"1\" class=\"dataframe\">\n",
       "  <thead>\n",
       "    <tr style=\"text-align: right;\">\n",
       "      <th></th>\n",
       "      <th>review_id</th>\n",
       "      <th>review_content</th>\n",
       "      <th>review_stars</th>\n",
       "      <th>delivery</th>\n",
       "      <th>product</th>\n",
       "      <th>service</th>\n",
       "      <th>bert_avg</th>\n",
       "      <th>bert_max</th>\n",
       "      <th>bert_layer0</th>\n",
       "      <th>distil_bert_avg</th>\n",
       "      <th>distil_bert_max</th>\n",
       "      <th>distil_bert_layer0</th>\n",
       "      <th>label</th>\n",
       "      <th>neg_review_content</th>\n",
       "      <th>delivery_pred</th>\n",
       "      <th>product_pred</th>\n",
       "      <th>service_pred</th>\n",
       "      <th>label_pred</th>\n",
       "    </tr>\n",
       "  </thead>\n",
       "  <tbody>\n",
       "    <tr>\n",
       "      <th>0</th>\n",
       "      <td>16748</td>\n",
       "      <td>it does not cover the entire nose</td>\n",
       "      <td>4</td>\n",
       "      <td>0</td>\n",
       "      <td>1</td>\n",
       "      <td>0</td>\n",
       "      <td>[-0.102646254, -0.22875029, 0.18799533, 0.1218...</td>\n",
       "      <td>[0.9322276, 0.36336058, 0.5335494, 0.6365655, ...</td>\n",
       "      <td>[-0.13417566, 0.14176558, 0.060101416, -0.2363...</td>\n",
       "      <td>[-0.052312087, 0.11116923, 0.09106587, -0.0266...</td>\n",
       "      <td>[0.90049744, 0.41818547, 0.44860423, 0.4881871...</td>\n",
       "      <td>[-0.25892562, 0.09141161, 0.11670131, -0.27867...</td>\n",
       "      <td>010</td>\n",
       "      <td>yet to try out the serum. tried the face mask....</td>\n",
       "      <td>0</td>\n",
       "      <td>1</td>\n",
       "      <td>0</td>\n",
       "      <td>010</td>\n",
       "    </tr>\n",
       "    <tr>\n",
       "      <th>1</th>\n",
       "      <td>7936</td>\n",
       "      <td>Items received in good condition. \\nFast deliv...</td>\n",
       "      <td>3</td>\n",
       "      <td>0</td>\n",
       "      <td>1</td>\n",
       "      <td>0</td>\n",
       "      <td>[-0.073171206, -0.28532478, 0.4684518, 0.06098...</td>\n",
       "      <td>[0.6989626, 0.60659623, 1.2653117, 0.56227136,...</td>\n",
       "      <td>[-0.3070287, -0.16202989, 0.28549048, -0.38556...</td>\n",
       "      <td>[-0.077326566, -0.08241358, 0.25523275, 0.1806...</td>\n",
       "      <td>[0.60959345, 0.25016156, 0.9238833, 0.55949986...</td>\n",
       "      <td>[-0.26072696, -0.15078594, 0.09794032, -0.0274...</td>\n",
       "      <td>010</td>\n",
       "      <td>disappointed cos the mask folding was up side ...</td>\n",
       "      <td>0</td>\n",
       "      <td>1</td>\n",
       "      <td>0</td>\n",
       "      <td>010</td>\n",
       "    </tr>\n",
       "    <tr>\n",
       "      <th>2</th>\n",
       "      <td>35144</td>\n",
       "      <td>Order was not shipped by ship by date. 2 days ...</td>\n",
       "      <td>1</td>\n",
       "      <td>0</td>\n",
       "      <td>0</td>\n",
       "      <td>1</td>\n",
       "      <td>[0.033353284, -0.15982221, 0.28324175, -0.0954...</td>\n",
       "      <td>[0.78534734, 0.81594664, 1.2221552, 0.7786952,...</td>\n",
       "      <td>[-0.29875648, -0.26088548, 0.4403837, -0.42945...</td>\n",
       "      <td>[-0.044279817, -0.12734465, 0.29842582, 0.0614...</td>\n",
       "      <td>[0.5215708, 0.4165552, 0.91208905, 0.593244, 1...</td>\n",
       "      <td>[-0.141533, -0.18464121, 0.109193765, 0.012363...</td>\n",
       "      <td>001</td>\n",
       "      <td>order was not shipped by ship by date. 2 days ...</td>\n",
       "      <td>0</td>\n",
       "      <td>0</td>\n",
       "      <td>1</td>\n",
       "      <td>001</td>\n",
       "    </tr>\n",
       "  </tbody>\n",
       "</table>\n",
       "</div>"
      ],
      "text/plain": [
       "   review_id                                     review_content  review_stars  \\\n",
       "0      16748                  it does not cover the entire nose             4   \n",
       "1       7936  Items received in good condition. \\nFast deliv...             3   \n",
       "2      35144  Order was not shipped by ship by date. 2 days ...             1   \n",
       "\n",
       "   delivery  product  service  \\\n",
       "0         0        1        0   \n",
       "1         0        1        0   \n",
       "2         0        0        1   \n",
       "\n",
       "                                            bert_avg  \\\n",
       "0  [-0.102646254, -0.22875029, 0.18799533, 0.1218...   \n",
       "1  [-0.073171206, -0.28532478, 0.4684518, 0.06098...   \n",
       "2  [0.033353284, -0.15982221, 0.28324175, -0.0954...   \n",
       "\n",
       "                                            bert_max  \\\n",
       "0  [0.9322276, 0.36336058, 0.5335494, 0.6365655, ...   \n",
       "1  [0.6989626, 0.60659623, 1.2653117, 0.56227136,...   \n",
       "2  [0.78534734, 0.81594664, 1.2221552, 0.7786952,...   \n",
       "\n",
       "                                         bert_layer0  \\\n",
       "0  [-0.13417566, 0.14176558, 0.060101416, -0.2363...   \n",
       "1  [-0.3070287, -0.16202989, 0.28549048, -0.38556...   \n",
       "2  [-0.29875648, -0.26088548, 0.4403837, -0.42945...   \n",
       "\n",
       "                                     distil_bert_avg  \\\n",
       "0  [-0.052312087, 0.11116923, 0.09106587, -0.0266...   \n",
       "1  [-0.077326566, -0.08241358, 0.25523275, 0.1806...   \n",
       "2  [-0.044279817, -0.12734465, 0.29842582, 0.0614...   \n",
       "\n",
       "                                     distil_bert_max  \\\n",
       "0  [0.90049744, 0.41818547, 0.44860423, 0.4881871...   \n",
       "1  [0.60959345, 0.25016156, 0.9238833, 0.55949986...   \n",
       "2  [0.5215708, 0.4165552, 0.91208905, 0.593244, 1...   \n",
       "\n",
       "                                  distil_bert_layer0 label  \\\n",
       "0  [-0.25892562, 0.09141161, 0.11670131, -0.27867...   010   \n",
       "1  [-0.26072696, -0.15078594, 0.09794032, -0.0274...   010   \n",
       "2  [-0.141533, -0.18464121, 0.109193765, 0.012363...   001   \n",
       "\n",
       "                                  neg_review_content  delivery_pred  \\\n",
       "0  yet to try out the serum. tried the face mask....              0   \n",
       "1  disappointed cos the mask folding was up side ...              0   \n",
       "2  order was not shipped by ship by date. 2 days ...              0   \n",
       "\n",
       "   product_pred  service_pred label_pred  \n",
       "0             1             0        010  \n",
       "1             1             0        010  \n",
       "2             0             1        001  "
      ]
     },
     "execution_count": 18,
     "metadata": {},
     "output_type": "execute_result"
    }
   ],
   "source": [
    "#add prediction target label\n",
    "df_test = add_pred_target_label(df_test)\n",
    "#df_test.loc[df_test.review_id==40625, 'label'] = '010'\n",
    "print(df_test['label_pred'].unique())\n",
    "df_test.head(3)"
   ]
  },
  {
   "cell_type": "code",
   "execution_count": 19,
   "metadata": {
    "execution": {
     "iopub.execute_input": "2021-04-23T16:10:08.724867Z",
     "iopub.status.busy": "2021-04-23T16:10:08.724024Z",
     "iopub.status.idle": "2021-04-23T16:10:08.753881Z",
     "shell.execute_reply": "2021-04-23T16:10:08.753405Z"
    },
    "papermill": {
     "duration": 0.45595,
     "end_time": "2021-04-23T16:10:08.754004",
     "exception": false,
     "start_time": "2021-04-23T16:10:08.298054",
     "status": "completed"
    },
    "tags": []
   },
   "outputs": [
    {
     "data": {
      "text/html": [
       "<div>\n",
       "<style scoped>\n",
       "    .dataframe tbody tr th:only-of-type {\n",
       "        vertical-align: middle;\n",
       "    }\n",
       "\n",
       "    .dataframe tbody tr th {\n",
       "        vertical-align: top;\n",
       "    }\n",
       "\n",
       "    .dataframe thead th {\n",
       "        text-align: right;\n",
       "    }\n",
       "</style>\n",
       "<table border=\"1\" class=\"dataframe\">\n",
       "  <thead>\n",
       "    <tr style=\"text-align: right;\">\n",
       "      <th></th>\n",
       "      <th>review_id</th>\n",
       "      <th>review_content</th>\n",
       "      <th>review_stars</th>\n",
       "      <th>delivery</th>\n",
       "      <th>product</th>\n",
       "      <th>service</th>\n",
       "      <th>bert_avg</th>\n",
       "      <th>bert_max</th>\n",
       "      <th>bert_layer0</th>\n",
       "      <th>distil_bert_avg</th>\n",
       "      <th>distil_bert_max</th>\n",
       "      <th>distil_bert_layer0</th>\n",
       "      <th>label</th>\n",
       "      <th>neg_review_content</th>\n",
       "      <th>delivery_pred</th>\n",
       "      <th>product_pred</th>\n",
       "      <th>service_pred</th>\n",
       "      <th>label_pred</th>\n",
       "    </tr>\n",
       "  </thead>\n",
       "  <tbody>\n",
       "    <tr>\n",
       "      <th>58</th>\n",
       "      <td>39972</td>\n",
       "      <td>Do not really feel good about it. Mr ING masks...</td>\n",
       "      <td>2</td>\n",
       "      <td>0</td>\n",
       "      <td>1</td>\n",
       "      <td>0</td>\n",
       "      <td>[0.32674444, 0.0544336, 0.27549097, 0.12100479...</td>\n",
       "      <td>[1.0939945, 0.9094773, 1.4832015, 0.51519, 1.0...</td>\n",
       "      <td>[0.12802044, 0.28530613, 0.12997839, -0.083215...</td>\n",
       "      <td>[0.28655857, 0.15774861, 0.0886487, 0.10852197...</td>\n",
       "      <td>[0.86544514, 0.8453928, 0.77203304, 0.57377076...</td>\n",
       "      <td>[0.20324647, 0.09854345, 0.14444758, -0.151760...</td>\n",
       "      <td>010</td>\n",
       "      <td>do not really feel good about it. mr ing masks...</td>\n",
       "      <td>0</td>\n",
       "      <td>0</td>\n",
       "      <td>0</td>\n",
       "      <td>000</td>\n",
       "    </tr>\n",
       "    <tr>\n",
       "      <th>80</th>\n",
       "      <td>16535</td>\n",
       "      <td>Well packed and waited for a week to receive</td>\n",
       "      <td>4</td>\n",
       "      <td>1</td>\n",
       "      <td>0</td>\n",
       "      <td>0</td>\n",
       "      <td>[0.019301878, -0.36856958, 0.3181434, 0.141707...</td>\n",
       "      <td>[0.98092043, 0.097248755, 0.9304943, 0.9312036...</td>\n",
       "      <td>[-0.35627982, -0.26562873, 0.0071759745, -0.09...</td>\n",
       "      <td>[0.092411205, -0.025525428, 0.17288245, 0.0801...</td>\n",
       "      <td>[0.8844189, 0.29611912, 0.55782664, 0.68154997...</td>\n",
       "      <td>[-0.046398863, -0.12527014, 0.11337312, -0.045...</td>\n",
       "      <td>100</td>\n",
       "      <td>this is my second restock.</td>\n",
       "      <td>0</td>\n",
       "      <td>0</td>\n",
       "      <td>0</td>\n",
       "      <td>000</td>\n",
       "    </tr>\n",
       "    <tr>\n",
       "      <th>154</th>\n",
       "      <td>16711</td>\n",
       "      <td>If you are getting one mask then the price is ...</td>\n",
       "      <td>4</td>\n",
       "      <td>0</td>\n",
       "      <td>1</td>\n",
       "      <td>0</td>\n",
       "      <td>[-0.0065734703, -0.40998074, 0.36823177, 0.042...</td>\n",
       "      <td>[1.1685315, 0.3495015, 0.7980755, 0.5490649, 0...</td>\n",
       "      <td>[-0.08130932, -0.07046799, 0.44845906, -0.0520...</td>\n",
       "      <td>[-0.006311485, -0.22595711, 0.30556142, 0.0435...</td>\n",
       "      <td>[0.670234, 0.1945842, 0.67904973, 0.36014804, ...</td>\n",
       "      <td>[0.08736028, -0.008792455, 0.21259484, -0.1823...</td>\n",
       "      <td>010</td>\n",
       "      <td>if you are getting one mask then the price is ...</td>\n",
       "      <td>0</td>\n",
       "      <td>0</td>\n",
       "      <td>0</td>\n",
       "      <td>000</td>\n",
       "    </tr>\n",
       "    <tr>\n",
       "      <th>163</th>\n",
       "      <td>11258</td>\n",
       "      <td>Free collagen change from 2pcs to 1pc</td>\n",
       "      <td>3</td>\n",
       "      <td>0</td>\n",
       "      <td>0</td>\n",
       "      <td>1</td>\n",
       "      <td>[-0.26972893, -0.25989592, 0.18342507, 0.05312...</td>\n",
       "      <td>[0.68988043, 0.39005867, 0.858621, 0.5685684, ...</td>\n",
       "      <td>[-0.7977982, -0.1181683, 0.04617232, 0.2184149...</td>\n",
       "      <td>[-0.041858632, -0.16095385, 0.19886248, -0.011...</td>\n",
       "      <td>[0.7780773, 0.33266258, 0.55764145, 0.6474822,...</td>\n",
       "      <td>[-0.4662014, -0.21054615, 0.04329906, -0.16335...</td>\n",
       "      <td>001</td>\n",
       "      <td>Free collagen change from 2pcs to 1pc.</td>\n",
       "      <td>0</td>\n",
       "      <td>0</td>\n",
       "      <td>0</td>\n",
       "      <td>000</td>\n",
       "    </tr>\n",
       "    <tr>\n",
       "      <th>169</th>\n",
       "      <td>26206</td>\n",
       "      <td>Well recived in plastic sealed bag with no box...</td>\n",
       "      <td>3</td>\n",
       "      <td>0</td>\n",
       "      <td>0</td>\n",
       "      <td>1</td>\n",
       "      <td>[0.083591595, -0.030301157, 0.45278597, 0.1396...</td>\n",
       "      <td>[0.8126045, 0.44456065, 1.1095248, 0.6815304, ...</td>\n",
       "      <td>[-0.23564959, -0.09398705, 0.5347622, -0.23719...</td>\n",
       "      <td>[0.058289755, 0.14748016, 0.23791628, 0.181934...</td>\n",
       "      <td>[0.81739223, 0.7162241, 0.8648774, 0.47878844,...</td>\n",
       "      <td>[-0.11442507, -0.11446215, 0.14482668, -0.0693...</td>\n",
       "      <td>001</td>\n",
       "      <td>well recived in plastic sealed bag with no box...</td>\n",
       "      <td>0</td>\n",
       "      <td>0</td>\n",
       "      <td>0</td>\n",
       "      <td>000</td>\n",
       "    </tr>\n",
       "    <tr>\n",
       "      <th>273</th>\n",
       "      <td>2467</td>\n",
       "      <td>Parcel out is slow\\nMask only 1 ply\\nNot sincere</td>\n",
       "      <td>2</td>\n",
       "      <td>1</td>\n",
       "      <td>1</td>\n",
       "      <td>0</td>\n",
       "      <td>[-0.18607718, -0.23388566, 0.50408787, 0.05334...</td>\n",
       "      <td>[0.72429967, 0.18562606, 1.173984, 0.63639855,...</td>\n",
       "      <td>[-0.43017244, 0.040390186, 0.24819349, 0.09145...</td>\n",
       "      <td>[0.008629114, -0.11124972, 0.2811777, 0.033187...</td>\n",
       "      <td>[0.78496903, 0.30003095, 0.49089187, 0.5268593...</td>\n",
       "      <td>[-0.25648147, -0.14062114, 0.0065988977, -0.17...</td>\n",
       "      <td>110</td>\n",
       "      <td>parcel out is slow\\nmask only 1 ply\\nnot sincere</td>\n",
       "      <td>0</td>\n",
       "      <td>0</td>\n",
       "      <td>0</td>\n",
       "      <td>000</td>\n",
       "    </tr>\n",
       "    <tr>\n",
       "      <th>300</th>\n",
       "      <td>37691</td>\n",
       "      <td>Fast delivery. Pink and white masks are in pac...</td>\n",
       "      <td>4</td>\n",
       "      <td>0</td>\n",
       "      <td>1</td>\n",
       "      <td>0</td>\n",
       "      <td>[0.03322163, -0.19533998, 0.24692604, 0.361353...</td>\n",
       "      <td>[1.1876658, 0.31999034, 1.2174292, 0.90495265,...</td>\n",
       "      <td>[-0.126173, 0.092559114, 0.32194898, 0.0420260...</td>\n",
       "      <td>[-0.0021441446, -0.09544021, 0.15652166, 0.260...</td>\n",
       "      <td>[0.8095069, 0.29778054, 0.83055806, 0.6683373,...</td>\n",
       "      <td>[-0.15482937, -0.23013906, 0.110084124, 0.1285...</td>\n",
       "      <td>010</td>\n",
       "      <td>in a loose cellophane bag of 50.  in a paper box.</td>\n",
       "      <td>0</td>\n",
       "      <td>0</td>\n",
       "      <td>0</td>\n",
       "      <td>000</td>\n",
       "    </tr>\n",
       "    <tr>\n",
       "      <th>378</th>\n",
       "      <td>13</td>\n",
       "      <td>Second purchase the mask.. so disappointed not...</td>\n",
       "      <td>2</td>\n",
       "      <td>0</td>\n",
       "      <td>1</td>\n",
       "      <td>0</td>\n",
       "      <td>[0.124475576, -0.23896593, 0.5089905, 0.097737...</td>\n",
       "      <td>[0.7701833, 0.37181464, 1.56858, 0.5160862, 0....</td>\n",
       "      <td>[-0.09902249, 0.23026139, 0.19123933, -0.47049...</td>\n",
       "      <td>[0.12818308, -0.081352025, 0.31314933, 0.04805...</td>\n",
       "      <td>[0.93563646, 0.28397205, 0.5633086, 0.4684217,...</td>\n",
       "      <td>[0.009444385, -0.017823797, 0.07146876, -0.183...</td>\n",
       "      <td>010</td>\n",
       "      <td>disappointed not same as first i order.</td>\n",
       "      <td>0</td>\n",
       "      <td>0</td>\n",
       "      <td>0</td>\n",
       "      <td>000</td>\n",
       "    </tr>\n",
       "    <tr>\n",
       "      <th>413</th>\n",
       "      <td>34810</td>\n",
       "      <td>Packaging is different from what others receiv...</td>\n",
       "      <td>3</td>\n",
       "      <td>1</td>\n",
       "      <td>1</td>\n",
       "      <td>0</td>\n",
       "      <td>[-0.022085117, -0.2598398, 0.31620333, 0.18512...</td>\n",
       "      <td>[0.87983316, 0.48076648, 1.6577562, 0.61807346...</td>\n",
       "      <td>[-0.52813596, -0.30819482, 0.5708484, -0.22431...</td>\n",
       "      <td>[0.019584725, -0.21935439, 0.29325297, 0.19550...</td>\n",
       "      <td>[0.6752144, 0.26877227, 1.2064987, 0.510661, 0...</td>\n",
       "      <td>[-0.16530588, -0.33012995, 0.24185927, 0.08953...</td>\n",
       "      <td>110</td>\n",
       "      <td>packaging is different from what others receiv...</td>\n",
       "      <td>0</td>\n",
       "      <td>0</td>\n",
       "      <td>0</td>\n",
       "      <td>000</td>\n",
       "    </tr>\n",
       "    <tr>\n",
       "      <th>414</th>\n",
       "      <td>13815</td>\n",
       "      <td>Different box packaging (not medical grade) re...</td>\n",
       "      <td>2</td>\n",
       "      <td>0</td>\n",
       "      <td>0</td>\n",
       "      <td>1</td>\n",
       "      <td>[-0.074777424, -0.203024, -0.058513526, 0.2936...</td>\n",
       "      <td>[0.64341205, 0.51332283, 0.6701895, 0.5850332,...</td>\n",
       "      <td>[-0.56378525, -0.15986507, -0.21803851, 0.1866...</td>\n",
       "      <td>[-0.028175617, -0.066996105, -0.08008644, 0.21...</td>\n",
       "      <td>[0.8969346, 0.37352514, 0.35612085, 0.46908012...</td>\n",
       "      <td>[-0.27170232, -0.13995552, -0.06440963, 0.0826...</td>\n",
       "      <td>001</td>\n",
       "      <td>different box packaging (not medical grade) re...</td>\n",
       "      <td>0</td>\n",
       "      <td>0</td>\n",
       "      <td>0</td>\n",
       "      <td>000</td>\n",
       "    </tr>\n",
       "    <tr>\n",
       "      <th>436</th>\n",
       "      <td>28541</td>\n",
       "      <td>Repeated purchase. Good mask but the only flaw...</td>\n",
       "      <td>4</td>\n",
       "      <td>1</td>\n",
       "      <td>0</td>\n",
       "      <td>0</td>\n",
       "      <td>[-0.10123234, -0.20330593, 0.36027795, 0.14649...</td>\n",
       "      <td>[0.8134721, 0.35659423, 0.88161105, 0.62778175...</td>\n",
       "      <td>[-0.5457834, -0.025941167, 0.11695244, 0.18427...</td>\n",
       "      <td>[0.0024633766, -0.021836478, 0.15135239, 0.190...</td>\n",
       "      <td>[0.73540497, 0.31213504, 0.57854193, 0.6085993...</td>\n",
       "      <td>[-0.104270995, -0.03401414, 0.07673417, 0.0053...</td>\n",
       "      <td>100</td>\n",
       "      <td>the only flaws would be the courier engaged.</td>\n",
       "      <td>0</td>\n",
       "      <td>0</td>\n",
       "      <td>0</td>\n",
       "      <td>000</td>\n",
       "    </tr>\n",
       "  </tbody>\n",
       "</table>\n",
       "</div>"
      ],
      "text/plain": [
       "     review_id                                     review_content  \\\n",
       "58       39972  Do not really feel good about it. Mr ING masks...   \n",
       "80       16535       Well packed and waited for a week to receive   \n",
       "154      16711  If you are getting one mask then the price is ...   \n",
       "163      11258              Free collagen change from 2pcs to 1pc   \n",
       "169      26206  Well recived in plastic sealed bag with no box...   \n",
       "273       2467   Parcel out is slow\\nMask only 1 ply\\nNot sincere   \n",
       "300      37691  Fast delivery. Pink and white masks are in pac...   \n",
       "378         13  Second purchase the mask.. so disappointed not...   \n",
       "413      34810  Packaging is different from what others receiv...   \n",
       "414      13815  Different box packaging (not medical grade) re...   \n",
       "436      28541  Repeated purchase. Good mask but the only flaw...   \n",
       "\n",
       "     review_stars  delivery  product  service  \\\n",
       "58              2         0        1        0   \n",
       "80              4         1        0        0   \n",
       "154             4         0        1        0   \n",
       "163             3         0        0        1   \n",
       "169             3         0        0        1   \n",
       "273             2         1        1        0   \n",
       "300             4         0        1        0   \n",
       "378             2         0        1        0   \n",
       "413             3         1        1        0   \n",
       "414             2         0        0        1   \n",
       "436             4         1        0        0   \n",
       "\n",
       "                                              bert_avg  \\\n",
       "58   [0.32674444, 0.0544336, 0.27549097, 0.12100479...   \n",
       "80   [0.019301878, -0.36856958, 0.3181434, 0.141707...   \n",
       "154  [-0.0065734703, -0.40998074, 0.36823177, 0.042...   \n",
       "163  [-0.26972893, -0.25989592, 0.18342507, 0.05312...   \n",
       "169  [0.083591595, -0.030301157, 0.45278597, 0.1396...   \n",
       "273  [-0.18607718, -0.23388566, 0.50408787, 0.05334...   \n",
       "300  [0.03322163, -0.19533998, 0.24692604, 0.361353...   \n",
       "378  [0.124475576, -0.23896593, 0.5089905, 0.097737...   \n",
       "413  [-0.022085117, -0.2598398, 0.31620333, 0.18512...   \n",
       "414  [-0.074777424, -0.203024, -0.058513526, 0.2936...   \n",
       "436  [-0.10123234, -0.20330593, 0.36027795, 0.14649...   \n",
       "\n",
       "                                              bert_max  \\\n",
       "58   [1.0939945, 0.9094773, 1.4832015, 0.51519, 1.0...   \n",
       "80   [0.98092043, 0.097248755, 0.9304943, 0.9312036...   \n",
       "154  [1.1685315, 0.3495015, 0.7980755, 0.5490649, 0...   \n",
       "163  [0.68988043, 0.39005867, 0.858621, 0.5685684, ...   \n",
       "169  [0.8126045, 0.44456065, 1.1095248, 0.6815304, ...   \n",
       "273  [0.72429967, 0.18562606, 1.173984, 0.63639855,...   \n",
       "300  [1.1876658, 0.31999034, 1.2174292, 0.90495265,...   \n",
       "378  [0.7701833, 0.37181464, 1.56858, 0.5160862, 0....   \n",
       "413  [0.87983316, 0.48076648, 1.6577562, 0.61807346...   \n",
       "414  [0.64341205, 0.51332283, 0.6701895, 0.5850332,...   \n",
       "436  [0.8134721, 0.35659423, 0.88161105, 0.62778175...   \n",
       "\n",
       "                                           bert_layer0  \\\n",
       "58   [0.12802044, 0.28530613, 0.12997839, -0.083215...   \n",
       "80   [-0.35627982, -0.26562873, 0.0071759745, -0.09...   \n",
       "154  [-0.08130932, -0.07046799, 0.44845906, -0.0520...   \n",
       "163  [-0.7977982, -0.1181683, 0.04617232, 0.2184149...   \n",
       "169  [-0.23564959, -0.09398705, 0.5347622, -0.23719...   \n",
       "273  [-0.43017244, 0.040390186, 0.24819349, 0.09145...   \n",
       "300  [-0.126173, 0.092559114, 0.32194898, 0.0420260...   \n",
       "378  [-0.09902249, 0.23026139, 0.19123933, -0.47049...   \n",
       "413  [-0.52813596, -0.30819482, 0.5708484, -0.22431...   \n",
       "414  [-0.56378525, -0.15986507, -0.21803851, 0.1866...   \n",
       "436  [-0.5457834, -0.025941167, 0.11695244, 0.18427...   \n",
       "\n",
       "                                       distil_bert_avg  \\\n",
       "58   [0.28655857, 0.15774861, 0.0886487, 0.10852197...   \n",
       "80   [0.092411205, -0.025525428, 0.17288245, 0.0801...   \n",
       "154  [-0.006311485, -0.22595711, 0.30556142, 0.0435...   \n",
       "163  [-0.041858632, -0.16095385, 0.19886248, -0.011...   \n",
       "169  [0.058289755, 0.14748016, 0.23791628, 0.181934...   \n",
       "273  [0.008629114, -0.11124972, 0.2811777, 0.033187...   \n",
       "300  [-0.0021441446, -0.09544021, 0.15652166, 0.260...   \n",
       "378  [0.12818308, -0.081352025, 0.31314933, 0.04805...   \n",
       "413  [0.019584725, -0.21935439, 0.29325297, 0.19550...   \n",
       "414  [-0.028175617, -0.066996105, -0.08008644, 0.21...   \n",
       "436  [0.0024633766, -0.021836478, 0.15135239, 0.190...   \n",
       "\n",
       "                                       distil_bert_max  \\\n",
       "58   [0.86544514, 0.8453928, 0.77203304, 0.57377076...   \n",
       "80   [0.8844189, 0.29611912, 0.55782664, 0.68154997...   \n",
       "154  [0.670234, 0.1945842, 0.67904973, 0.36014804, ...   \n",
       "163  [0.7780773, 0.33266258, 0.55764145, 0.6474822,...   \n",
       "169  [0.81739223, 0.7162241, 0.8648774, 0.47878844,...   \n",
       "273  [0.78496903, 0.30003095, 0.49089187, 0.5268593...   \n",
       "300  [0.8095069, 0.29778054, 0.83055806, 0.6683373,...   \n",
       "378  [0.93563646, 0.28397205, 0.5633086, 0.4684217,...   \n",
       "413  [0.6752144, 0.26877227, 1.2064987, 0.510661, 0...   \n",
       "414  [0.8969346, 0.37352514, 0.35612085, 0.46908012...   \n",
       "436  [0.73540497, 0.31213504, 0.57854193, 0.6085993...   \n",
       "\n",
       "                                    distil_bert_layer0 label  \\\n",
       "58   [0.20324647, 0.09854345, 0.14444758, -0.151760...   010   \n",
       "80   [-0.046398863, -0.12527014, 0.11337312, -0.045...   100   \n",
       "154  [0.08736028, -0.008792455, 0.21259484, -0.1823...   010   \n",
       "163  [-0.4662014, -0.21054615, 0.04329906, -0.16335...   001   \n",
       "169  [-0.11442507, -0.11446215, 0.14482668, -0.0693...   001   \n",
       "273  [-0.25648147, -0.14062114, 0.0065988977, -0.17...   110   \n",
       "300  [-0.15482937, -0.23013906, 0.110084124, 0.1285...   010   \n",
       "378  [0.009444385, -0.017823797, 0.07146876, -0.183...   010   \n",
       "413  [-0.16530588, -0.33012995, 0.24185927, 0.08953...   110   \n",
       "414  [-0.27170232, -0.13995552, -0.06440963, 0.0826...   001   \n",
       "436  [-0.104270995, -0.03401414, 0.07673417, 0.0053...   100   \n",
       "\n",
       "                                    neg_review_content  delivery_pred  \\\n",
       "58   do not really feel good about it. mr ing masks...              0   \n",
       "80                          this is my second restock.              0   \n",
       "154  if you are getting one mask then the price is ...              0   \n",
       "163             Free collagen change from 2pcs to 1pc.              0   \n",
       "169  well recived in plastic sealed bag with no box...              0   \n",
       "273   parcel out is slow\\nmask only 1 ply\\nnot sincere              0   \n",
       "300  in a loose cellophane bag of 50.  in a paper box.              0   \n",
       "378            disappointed not same as first i order.              0   \n",
       "413  packaging is different from what others receiv...              0   \n",
       "414  different box packaging (not medical grade) re...              0   \n",
       "436       the only flaws would be the courier engaged.              0   \n",
       "\n",
       "     product_pred  service_pred label_pred  \n",
       "58              0             0        000  \n",
       "80              0             0        000  \n",
       "154             0             0        000  \n",
       "163             0             0        000  \n",
       "169             0             0        000  \n",
       "273             0             0        000  \n",
       "300             0             0        000  \n",
       "378             0             0        000  \n",
       "413             0             0        000  \n",
       "414             0             0        000  \n",
       "436             0             0        000  "
      ]
     },
     "execution_count": 19,
     "metadata": {},
     "output_type": "execute_result"
    }
   ],
   "source": [
    "df_test[df_test['label_pred']=='000']"
   ]
  },
  {
   "cell_type": "code",
   "execution_count": 20,
   "metadata": {
    "execution": {
     "iopub.execute_input": "2021-04-23T16:10:09.528859Z",
     "iopub.status.busy": "2021-04-23T16:10:09.527959Z",
     "iopub.status.idle": "2021-04-23T16:10:09.539151Z",
     "shell.execute_reply": "2021-04-23T16:10:09.538467Z"
    },
    "papermill": {
     "duration": 0.412358,
     "end_time": "2021-04-23T16:10:09.539327",
     "exception": false,
     "start_time": "2021-04-23T16:10:09.126969",
     "status": "completed"
    },
    "tags": []
   },
   "outputs": [
    {
     "name": "stdout",
     "output_type": "stream",
     "text": [
      "              precision    recall  f1-score   support\n",
      "\n",
      "         000       0.00      0.00      0.00         0\n",
      "         001       0.71      0.58      0.64        67\n",
      "         010       0.87      0.92      0.89       262\n",
      "         011       0.38      0.23      0.29        22\n",
      "         100       0.83      0.79      0.81        70\n",
      "         101       0.33      0.24      0.28        17\n",
      "         110       0.35      0.44      0.39        18\n",
      "         111       0.00      0.00      0.00         2\n",
      "\n",
      "    accuracy                           0.77       458\n",
      "   macro avg       0.43      0.40      0.41       458\n",
      "weighted avg       0.77      0.77      0.77       458\n",
      "\n"
     ]
    }
   ],
   "source": [
    "print(classification_report(df_test['label'], df_test['label_pred']))"
   ]
  },
  {
   "cell_type": "code",
   "execution_count": null,
   "metadata": {
    "papermill": {
     "duration": 0.373761,
     "end_time": "2021-04-23T16:10:10.288990",
     "exception": false,
     "start_time": "2021-04-23T16:10:09.915229",
     "status": "completed"
    },
    "tags": []
   },
   "outputs": [],
   "source": []
  }
 ],
 "metadata": {
  "kernelspec": {
   "display_name": "Python 3",
   "language": "python",
   "name": "python3"
  },
  "language_info": {
   "codemirror_mode": {
    "name": "ipython",
    "version": 3
   },
   "file_extension": ".py",
   "mimetype": "text/x-python",
   "name": "python",
   "nbconvert_exporter": "python",
   "pygments_lexer": "ipython3",
   "version": "3.8.3"
  },
  "papermill": {
   "default_parameters": {},
   "duration": 203.923538,
   "end_time": "2021-04-23T16:10:12.535577",
   "environment_variables": {},
   "exception": null,
   "input_path": "__notebook__.ipynb",
   "output_path": "__notebook__.ipynb",
   "parameters": {},
   "start_time": "2021-04-23T16:06:48.612039",
   "version": "2.3.2"
  }
 },
 "nbformat": 4,
 "nbformat_minor": 5
}
