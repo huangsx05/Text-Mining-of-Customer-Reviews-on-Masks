{
 "cells": [
  {
   "cell_type": "code",
   "execution_count": 1,
   "metadata": {
    "execution": {
     "iopub.execute_input": "2021-04-23T11:48:19.999446Z",
     "iopub.status.busy": "2021-04-23T11:48:19.998685Z",
     "iopub.status.idle": "2021-04-23T11:48:28.415514Z",
     "shell.execute_reply": "2021-04-23T11:48:28.416112Z"
    },
    "papermill": {
     "duration": 8.440941,
     "end_time": "2021-04-23T11:48:28.416466",
     "exception": false,
     "start_time": "2021-04-23T11:48:19.975525",
     "status": "completed"
    },
    "tags": []
   },
   "outputs": [],
   "source": [
    "# Load libraries\n",
    "import pandas as pd\n",
    "import numpy as np\n",
    "import matplotlib.pyplot as plt\n",
    "import re\n",
    "import nltk\n",
    "from nltk.corpus import stopwords\n",
    "from nltk import word_tokenize\n",
    "from keras.preprocessing.text import Tokenizer\n",
    "from keras.preprocessing.sequence import pad_sequences\n",
    "from keras.models import Sequential,Input\n",
    "from keras.layers import Dense, Embedding, LSTM, SpatialDropout1D, Bidirectional,MaxPooling1D\n",
    "from keras.callbacks import EarlyStopping\n",
    "from keras.layers import Dropout\n",
    "from sklearn.model_selection import train_test_split\n",
    "from sklearn import metrics\n",
    "from sklearn.metrics import multilabel_confusion_matrix\n",
    "from sklearn.metrics import classification_report\n",
    "from sklearn.metrics import f1_score\n",
    "from sklearn.metrics import roc_auc_score\n",
    "from keras.optimizers import Adam"
   ]
  },
  {
   "cell_type": "code",
   "execution_count": 2,
   "metadata": {
    "execution": {
     "iopub.execute_input": "2021-04-23T11:48:28.448212Z",
     "iopub.status.busy": "2021-04-23T11:48:28.447547Z",
     "iopub.status.idle": "2021-04-23T11:48:30.786946Z",
     "shell.execute_reply": "2021-04-23T11:48:30.787471Z"
    },
    "papermill": {
     "duration": 2.356679,
     "end_time": "2021-04-23T11:48:30.787670",
     "exception": false,
     "start_time": "2021-04-23T11:48:28.430991",
     "status": "completed"
    },
    "tags": []
   },
   "outputs": [],
   "source": [
    "# Load data\n",
    "df_train=pd.read_csv('../input/bt5153-train-test-bert-full-sentence/train_data_bert_fullsent.csv',dtype={'label':str})\n",
    "df_test=pd.read_csv('../input/bt5153-train-test-bert-full-sentence/test_data_bert_fullsent.csv',dtype={'label':str})"
   ]
  },
  {
   "cell_type": "code",
   "execution_count": 3,
   "metadata": {
    "execution": {
     "iopub.execute_input": "2021-04-23T11:48:30.819947Z",
     "iopub.status.busy": "2021-04-23T11:48:30.818886Z",
     "iopub.status.idle": "2021-04-23T11:48:30.859060Z",
     "shell.execute_reply": "2021-04-23T11:48:30.859574Z"
    },
    "papermill": {
     "duration": 0.057385,
     "end_time": "2021-04-23T11:48:30.859748",
     "exception": false,
     "start_time": "2021-04-23T11:48:30.802363",
     "status": "completed"
    },
    "tags": []
   },
   "outputs": [
    {
     "data": {
      "text/html": [
       "<div>\n",
       "<style scoped>\n",
       "    .dataframe tbody tr th:only-of-type {\n",
       "        vertical-align: middle;\n",
       "    }\n",
       "\n",
       "    .dataframe tbody tr th {\n",
       "        vertical-align: top;\n",
       "    }\n",
       "\n",
       "    .dataframe thead th {\n",
       "        text-align: right;\n",
       "    }\n",
       "</style>\n",
       "<table border=\"1\" class=\"dataframe\">\n",
       "  <thead>\n",
       "    <tr style=\"text-align: right;\">\n",
       "      <th></th>\n",
       "      <th>review_id</th>\n",
       "      <th>review_content</th>\n",
       "      <th>review_stars</th>\n",
       "      <th>delivery</th>\n",
       "      <th>product</th>\n",
       "      <th>service</th>\n",
       "      <th>bert_avg</th>\n",
       "      <th>bert_max</th>\n",
       "      <th>bert_layer0</th>\n",
       "      <th>distil_bert_avg</th>\n",
       "      <th>distil_bert_max</th>\n",
       "      <th>distil_bert_layer0</th>\n",
       "      <th>label</th>\n",
       "    </tr>\n",
       "  </thead>\n",
       "  <tbody>\n",
       "    <tr>\n",
       "      <th>0</th>\n",
       "      <td>9161</td>\n",
       "      <td>Delivery took more than a week, short expiry d...</td>\n",
       "      <td>2</td>\n",
       "      <td>1</td>\n",
       "      <td>1</td>\n",
       "      <td>0</td>\n",
       "      <td>[-0.06329992, -0.32380387, 0.35608995, -0.1268...</td>\n",
       "      <td>[0.93797976, 0.25249124, 1.1054325, 0.49609792...</td>\n",
       "      <td>[-0.19600664, -0.4481723, 0.20494524, -0.39789...</td>\n",
       "      <td>[-0.046782605, -0.27473888, 0.2780265, 0.03694...</td>\n",
       "      <td>[0.4727717, 0.23103717, 0.7197178, 0.6083572, ...</td>\n",
       "      <td>[-0.022450736, -0.34166092, 0.13424423, -0.170...</td>\n",
       "      <td>110</td>\n",
       "    </tr>\n",
       "    <tr>\n",
       "      <th>1</th>\n",
       "      <td>8198</td>\n",
       "      <td>Quality is so-so, loops are too huge resulting...</td>\n",
       "      <td>3</td>\n",
       "      <td>0</td>\n",
       "      <td>1</td>\n",
       "      <td>0</td>\n",
       "      <td>[0.19020107, -0.3453789, 0.3494842, 0.14938574...</td>\n",
       "      <td>[1.1594802, 0.60506886, 1.084206, 0.8051733, 0...</td>\n",
       "      <td>[0.04546422, -0.29597518, -0.35977763, -0.4039...</td>\n",
       "      <td>[0.1399654, -0.11672436, 0.23911656, 0.1187961...</td>\n",
       "      <td>[0.8445691, 0.4961368, 0.7105234, 0.6109599, 0...</td>\n",
       "      <td>[0.12642525, -0.1857245, 0.08149249, -0.019622...</td>\n",
       "      <td>010</td>\n",
       "    </tr>\n",
       "    <tr>\n",
       "      <th>2</th>\n",
       "      <td>5314</td>\n",
       "      <td>Received within 3days. Well packed in a carton...</td>\n",
       "      <td>4</td>\n",
       "      <td>0</td>\n",
       "      <td>1</td>\n",
       "      <td>0</td>\n",
       "      <td>[-0.028732965, -0.14712504, 0.36105582, 0.0254...</td>\n",
       "      <td>[1.3182856, 0.7953221, 1.3915914, 0.87499446, ...</td>\n",
       "      <td>[-0.38282838, -0.22101544, 0.6115111, -0.33658...</td>\n",
       "      <td>[0.07374873, -0.01620108, 0.20269494, 0.149083...</td>\n",
       "      <td>[0.76418287, 0.48008785, 0.97139245, 0.5615782...</td>\n",
       "      <td>[0.026645288, -0.27306008, 0.20750262, 0.05986...</td>\n",
       "      <td>010</td>\n",
       "    </tr>\n",
       "    <tr>\n",
       "      <th>3</th>\n",
       "      <td>17589</td>\n",
       "      <td>Not sure if these were the authentic as I brou...</td>\n",
       "      <td>3</td>\n",
       "      <td>0</td>\n",
       "      <td>1</td>\n",
       "      <td>0</td>\n",
       "      <td>[0.3033499, 0.02644875, 0.16410081, 0.04581299...</td>\n",
       "      <td>[1.2807441, 0.85781705, 0.80655, 0.49130562, 0...</td>\n",
       "      <td>[-0.078149214, 0.117149524, 0.04559862, -0.218...</td>\n",
       "      <td>[0.18770164, 0.114881225, 0.08257794, 0.121869...</td>\n",
       "      <td>[0.9882787, 0.5043827, 0.54232115, 0.44097498,...</td>\n",
       "      <td>[0.23179623, 0.050810635, 0.07551272, -0.15587...</td>\n",
       "      <td>010</td>\n",
       "    </tr>\n",
       "    <tr>\n",
       "      <th>4</th>\n",
       "      <td>31446</td>\n",
       "      <td>its a fashion mask. no filter so no protection...</td>\n",
       "      <td>3</td>\n",
       "      <td>0</td>\n",
       "      <td>1</td>\n",
       "      <td>0</td>\n",
       "      <td>[-0.18616518, -0.38300017, 0.52194715, 0.18413...</td>\n",
       "      <td>[0.65815246, 0.20897251, 1.0151551, 0.48899576...</td>\n",
       "      <td>[-0.29987, -0.26352054, 0.3190687, -0.22115439...</td>\n",
       "      <td>[-0.0903255, -0.1808794, 0.33290026, 0.2622123...</td>\n",
       "      <td>[0.66676205, 0.099603325, 0.8990194, 0.5398592...</td>\n",
       "      <td>[-0.34698877, -0.3470553, 0.3122651, 0.0037901...</td>\n",
       "      <td>010</td>\n",
       "    </tr>\n",
       "  </tbody>\n",
       "</table>\n",
       "</div>"
      ],
      "text/plain": [
       "   review_id                                     review_content  review_stars  \\\n",
       "0       9161  Delivery took more than a week, short expiry d...             2   \n",
       "1       8198  Quality is so-so, loops are too huge resulting...             3   \n",
       "2       5314  Received within 3days. Well packed in a carton...             4   \n",
       "3      17589  Not sure if these were the authentic as I brou...             3   \n",
       "4      31446  its a fashion mask. no filter so no protection...             3   \n",
       "\n",
       "   delivery  product  service  \\\n",
       "0         1        1        0   \n",
       "1         0        1        0   \n",
       "2         0        1        0   \n",
       "3         0        1        0   \n",
       "4         0        1        0   \n",
       "\n",
       "                                            bert_avg  \\\n",
       "0  [-0.06329992, -0.32380387, 0.35608995, -0.1268...   \n",
       "1  [0.19020107, -0.3453789, 0.3494842, 0.14938574...   \n",
       "2  [-0.028732965, -0.14712504, 0.36105582, 0.0254...   \n",
       "3  [0.3033499, 0.02644875, 0.16410081, 0.04581299...   \n",
       "4  [-0.18616518, -0.38300017, 0.52194715, 0.18413...   \n",
       "\n",
       "                                            bert_max  \\\n",
       "0  [0.93797976, 0.25249124, 1.1054325, 0.49609792...   \n",
       "1  [1.1594802, 0.60506886, 1.084206, 0.8051733, 0...   \n",
       "2  [1.3182856, 0.7953221, 1.3915914, 0.87499446, ...   \n",
       "3  [1.2807441, 0.85781705, 0.80655, 0.49130562, 0...   \n",
       "4  [0.65815246, 0.20897251, 1.0151551, 0.48899576...   \n",
       "\n",
       "                                         bert_layer0  \\\n",
       "0  [-0.19600664, -0.4481723, 0.20494524, -0.39789...   \n",
       "1  [0.04546422, -0.29597518, -0.35977763, -0.4039...   \n",
       "2  [-0.38282838, -0.22101544, 0.6115111, -0.33658...   \n",
       "3  [-0.078149214, 0.117149524, 0.04559862, -0.218...   \n",
       "4  [-0.29987, -0.26352054, 0.3190687, -0.22115439...   \n",
       "\n",
       "                                     distil_bert_avg  \\\n",
       "0  [-0.046782605, -0.27473888, 0.2780265, 0.03694...   \n",
       "1  [0.1399654, -0.11672436, 0.23911656, 0.1187961...   \n",
       "2  [0.07374873, -0.01620108, 0.20269494, 0.149083...   \n",
       "3  [0.18770164, 0.114881225, 0.08257794, 0.121869...   \n",
       "4  [-0.0903255, -0.1808794, 0.33290026, 0.2622123...   \n",
       "\n",
       "                                     distil_bert_max  \\\n",
       "0  [0.4727717, 0.23103717, 0.7197178, 0.6083572, ...   \n",
       "1  [0.8445691, 0.4961368, 0.7105234, 0.6109599, 0...   \n",
       "2  [0.76418287, 0.48008785, 0.97139245, 0.5615782...   \n",
       "3  [0.9882787, 0.5043827, 0.54232115, 0.44097498,...   \n",
       "4  [0.66676205, 0.099603325, 0.8990194, 0.5398592...   \n",
       "\n",
       "                                  distil_bert_layer0 label  \n",
       "0  [-0.022450736, -0.34166092, 0.13424423, -0.170...   110  \n",
       "1  [0.12642525, -0.1857245, 0.08149249, -0.019622...   010  \n",
       "2  [0.026645288, -0.27306008, 0.20750262, 0.05986...   010  \n",
       "3  [0.23179623, 0.050810635, 0.07551272, -0.15587...   010  \n",
       "4  [-0.34698877, -0.3470553, 0.3122651, 0.0037901...   010  "
      ]
     },
     "execution_count": 3,
     "metadata": {},
     "output_type": "execute_result"
    }
   ],
   "source": [
    "df_train.head()"
   ]
  },
  {
   "cell_type": "code",
   "execution_count": 4,
   "metadata": {
    "execution": {
     "iopub.execute_input": "2021-04-23T11:48:30.892700Z",
     "iopub.status.busy": "2021-04-23T11:48:30.892066Z",
     "iopub.status.idle": "2021-04-23T11:48:36.285963Z",
     "shell.execute_reply": "2021-04-23T11:48:36.286516Z"
    },
    "papermill": {
     "duration": 5.412144,
     "end_time": "2021-04-23T11:48:36.286692",
     "exception": false,
     "start_time": "2021-04-23T11:48:30.874548",
     "status": "completed"
    },
    "tags": []
   },
   "outputs": [],
   "source": [
    "f=open('../input/5153-bert-feature-extraction-negative/negative_bert_layer0_dic.txt','r')\n",
    "neg_bert_layer0=(f.read())\n",
    "neg_bert_layer0=eval(neg_bert_layer0)\n",
    "df_neg_feature=pd.DataFrame({'review_id':neg_bert_layer0.keys(),\n",
    "                            'neg_distil_bert_layer0':neg_bert_layer0.values()})\n",
    "df_train=df_train.merge(df_neg_feature,on='review_id',how='left')\n",
    "df_test=df_test.merge(df_neg_feature,on='review_id',how='left')"
   ]
  },
  {
   "cell_type": "code",
   "execution_count": 5,
   "metadata": {
    "execution": {
     "iopub.execute_input": "2021-04-23T11:48:36.319372Z",
     "iopub.status.busy": "2021-04-23T11:48:36.318719Z",
     "iopub.status.idle": "2021-04-23T11:48:41.629734Z",
     "shell.execute_reply": "2021-04-23T11:48:41.629196Z"
    },
    "papermill": {
     "duration": 5.328077,
     "end_time": "2021-04-23T11:48:41.629882",
     "exception": false,
     "start_time": "2021-04-23T11:48:36.301805",
     "status": "completed"
    },
    "tags": []
   },
   "outputs": [],
   "source": [
    "f=open('../input/5153-bert-feature-extraction-negative/negative_distil_bert_avg_dic.txt','r')\n",
    "neg_bert_avg=(f.read())\n",
    "neg_bert_avg=eval(neg_bert_avg)\n",
    "df_neg_feature=pd.DataFrame({'review_id':neg_bert_avg.keys(),\n",
    "                            'neg_distil_bert_avg':neg_bert_avg.values()})\n",
    "\n",
    "df_train=df_train.merge(df_neg_feature,on='review_id',how='left')\n",
    "df_test=df_test.merge(df_neg_feature,on='review_id',how='left')"
   ]
  },
  {
   "cell_type": "code",
   "execution_count": 6,
   "metadata": {
    "execution": {
     "iopub.execute_input": "2021-04-23T11:48:41.670842Z",
     "iopub.status.busy": "2021-04-23T11:48:41.670056Z",
     "iopub.status.idle": "2021-04-23T11:48:41.672725Z",
     "shell.execute_reply": "2021-04-23T11:48:41.673207Z"
    },
    "papermill": {
     "duration": 0.027409,
     "end_time": "2021-04-23T11:48:41.673404",
     "exception": false,
     "start_time": "2021-04-23T11:48:41.645995",
     "status": "completed"
    },
    "tags": []
   },
   "outputs": [],
   "source": [
    "def BiLstm_model(X_train, y_train):\n",
    "    model = Sequential()\n",
    "\n",
    "    model.add(Bidirectional(LSTM(256, dropout=0.1, recurrent_dropout=0.1))) \n",
    "\n",
    "    model.add(Dense(512, activation='relu'))  \n",
    "\n",
    "    model.add(Dense(128, activation='relu')) \n",
    "\n",
    "    model.add(Dense(3, activation='sigmoid')) \n",
    "\n",
    "    optimizer=Adam(lr=1e-4, beta_1=0.9, beta_2=0.999, epsilon=None, decay=0.0, amsgrad=False)\n",
    "\n",
    "    model.compile(loss='BinaryCrossentropy', optimizer=optimizer, metrics=['accuracy'])\n",
    "\n",
    "    epochs = 100\n",
    "    batch_size = 32\n",
    "\n",
    "    history = model.fit(X_train, y_train, \n",
    "            epochs=epochs, \n",
    "            batch_size=batch_size,\n",
    "            validation_split=0.1,\n",
    "            callbacks=[EarlyStopping(monitor='val_loss', \n",
    "            patience=3, min_delta=0.0001)])\n",
    "    return model"
   ]
  },
  {
   "cell_type": "code",
   "execution_count": 7,
   "metadata": {
    "execution": {
     "iopub.execute_input": "2021-04-23T11:48:41.713562Z",
     "iopub.status.busy": "2021-04-23T11:48:41.712766Z",
     "iopub.status.idle": "2021-04-23T11:48:41.715570Z",
     "shell.execute_reply": "2021-04-23T11:48:41.715098Z"
    },
    "papermill": {
     "duration": 0.027513,
     "end_time": "2021-04-23T11:48:41.715708",
     "exception": false,
     "start_time": "2021-04-23T11:48:41.688195",
     "status": "completed"
    },
    "tags": []
   },
   "outputs": [],
   "source": [
    "def get_results(model,X_test, y_test):\n",
    "\n",
    "\n",
    "    results_prob=model.predict(X_test)\n",
    "    results_pred=np.copy(results_prob)\n",
    "    results_pred[results_prob>=0.5]=1\n",
    "    results_pred[results_prob<0.5]=0\n",
    "    results_pred=results_pred.astype('int')\n",
    "\n",
    "    print('roc_auc_score_delivery:',round(roc_auc_score(list(df_test['delivery']), results_prob[:,0]),3))\n",
    "    print('roc_auc_score_product:',round(roc_auc_score(list(df_test['product']), results_prob[:,1]),3))\n",
    "    print('roc_auc_score_service:',round(roc_auc_score(list(df_test['service']), results_prob[:,2]),3))\n",
    "    print('macro_fl_delivery:',round(f1_score(list(df_test['delivery']), results_pred[:,0],average='macro'),3))\n",
    "    print('macro_fl_product:',round(f1_score(list(df_test['product']), results_pred[:,1],average='macro'),3))\n",
    "    print('macro_fl_service:',round(f1_score(list(df_test['service']), results_pred[:,2],average='macro'),3))\n"
   ]
  },
  {
   "cell_type": "code",
   "execution_count": 8,
   "metadata": {
    "execution": {
     "iopub.execute_input": "2021-04-23T11:48:41.754315Z",
     "iopub.status.busy": "2021-04-23T11:48:41.753396Z",
     "iopub.status.idle": "2021-04-23T11:48:41.756465Z",
     "shell.execute_reply": "2021-04-23T11:48:41.755807Z"
    },
    "papermill": {
     "duration": 0.025895,
     "end_time": "2021-04-23T11:48:41.756618",
     "exception": false,
     "start_time": "2021-04-23T11:48:41.730723",
     "status": "completed"
    },
    "tags": []
   },
   "outputs": [],
   "source": [
    "def data_process_1D(feature_name):\n",
    "    X_train=np.array([eval(str(x)) for x in list(df_train[feature_name])])\n",
    "    X_train=X_train[:,np.newaxis,:]\n",
    "    y_train=np.array(df_train[['delivery','product','service']])\n",
    "\n",
    "    X_test=np.array([eval(str(x)) for x in list(df_test[feature_name])])\n",
    "    X_test=X_test[:,np.newaxis,:]\n",
    "    y_test=np.array(df_test[['delivery','product','service']])\n",
    "    \n",
    "    return X_train,y_train,X_test,y_test"
   ]
  },
  {
   "cell_type": "markdown",
   "metadata": {
    "papermill": {
     "duration": 0.014684,
     "end_time": "2021-04-23T11:48:41.786457",
     "exception": false,
     "start_time": "2021-04-23T11:48:41.771773",
     "status": "completed"
    },
    "tags": []
   },
   "source": [
    "### use distill_bert_layer0"
   ]
  },
  {
   "cell_type": "code",
   "execution_count": 9,
   "metadata": {
    "execution": {
     "iopub.execute_input": "2021-04-23T11:48:41.849532Z",
     "iopub.status.busy": "2021-04-23T11:48:41.843597Z",
     "iopub.status.idle": "2021-04-23T11:49:03.471627Z",
     "shell.execute_reply": "2021-04-23T11:49:03.470296Z"
    },
    "papermill": {
     "duration": 21.669073,
     "end_time": "2021-04-23T11:49:03.471831",
     "exception": false,
     "start_time": "2021-04-23T11:48:41.802758",
     "status": "completed"
    },
    "scrolled": true,
    "tags": []
   },
   "outputs": [
    {
     "name": "stdout",
     "output_type": "stream",
     "text": [
      "Epoch 1/100\n",
      "30/30 [==============================] - 7s 60ms/step - loss: 0.6284 - accuracy: 0.5842 - val_loss: 0.5471 - val_accuracy: 0.5981\n",
      "Epoch 2/100\n",
      "30/30 [==============================] - 1s 27ms/step - loss: 0.5133 - accuracy: 0.6584 - val_loss: 0.5260 - val_accuracy: 0.5981\n",
      "Epoch 3/100\n",
      "30/30 [==============================] - 1s 27ms/step - loss: 0.5036 - accuracy: 0.6256 - val_loss: 0.4799 - val_accuracy: 0.6075\n",
      "Epoch 4/100\n",
      "30/30 [==============================] - 1s 27ms/step - loss: 0.4340 - accuracy: 0.6694 - val_loss: 0.4384 - val_accuracy: 0.6916\n",
      "Epoch 5/100\n",
      "30/30 [==============================] - 1s 27ms/step - loss: 0.3810 - accuracy: 0.7429 - val_loss: 0.4149 - val_accuracy: 0.7477\n",
      "Epoch 6/100\n",
      "30/30 [==============================] - 1s 26ms/step - loss: 0.3403 - accuracy: 0.7851 - val_loss: 0.4032 - val_accuracy: 0.7383\n",
      "Epoch 7/100\n",
      "30/30 [==============================] - 1s 27ms/step - loss: 0.3326 - accuracy: 0.7759 - val_loss: 0.4002 - val_accuracy: 0.7477\n",
      "Epoch 8/100\n",
      "30/30 [==============================] - 1s 29ms/step - loss: 0.3266 - accuracy: 0.7917 - val_loss: 0.4022 - val_accuracy: 0.7383\n",
      "Epoch 9/100\n",
      "30/30 [==============================] - 1s 27ms/step - loss: 0.3082 - accuracy: 0.7956 - val_loss: 0.3879 - val_accuracy: 0.7477\n",
      "Epoch 10/100\n",
      "30/30 [==============================] - 1s 27ms/step - loss: 0.2981 - accuracy: 0.8125 - val_loss: 0.3872 - val_accuracy: 0.7757\n",
      "Epoch 11/100\n",
      "30/30 [==============================] - 1s 33ms/step - loss: 0.2895 - accuracy: 0.8222 - val_loss: 0.3716 - val_accuracy: 0.8131\n",
      "Epoch 12/100\n",
      "30/30 [==============================] - 1s 28ms/step - loss: 0.2913 - accuracy: 0.7986 - val_loss: 0.3884 - val_accuracy: 0.7570\n",
      "Epoch 13/100\n",
      "30/30 [==============================] - 1s 28ms/step - loss: 0.2714 - accuracy: 0.8330 - val_loss: 0.3833 - val_accuracy: 0.7850\n",
      "Epoch 14/100\n",
      "30/30 [==============================] - 1s 27ms/step - loss: 0.2878 - accuracy: 0.8076 - val_loss: 0.3906 - val_accuracy: 0.7850\n",
      "roc_auc_score_delivery: 0.899\n",
      "roc_auc_score_product: 0.909\n",
      "roc_auc_score_service: 0.846\n",
      "macro_fl_delivery: 0.79\n",
      "macro_fl_product: 0.82\n",
      "macro_fl_service: 0.779\n"
     ]
    }
   ],
   "source": [
    "X_train,y_train,X_test,y_test=data_process_1D('distil_bert_layer0')\n",
    "\n",
    "model_1=BiLstm_model(X_train,y_train)\n",
    "get_results(model_1,X_test,y_test)"
   ]
  },
  {
   "cell_type": "markdown",
   "metadata": {
    "papermill": {
     "duration": 0.066882,
     "end_time": "2021-04-23T11:49:03.607959",
     "exception": false,
     "start_time": "2021-04-23T11:49:03.541077",
     "status": "completed"
    },
    "tags": []
   },
   "source": [
    "### use distill_bert_avg "
   ]
  },
  {
   "cell_type": "code",
   "execution_count": 10,
   "metadata": {
    "execution": {
     "iopub.execute_input": "2021-04-23T11:49:03.758124Z",
     "iopub.status.busy": "2021-04-23T11:49:03.752531Z",
     "iopub.status.idle": "2021-04-23T11:49:26.793996Z",
     "shell.execute_reply": "2021-04-23T11:49:26.794609Z"
    },
    "papermill": {
     "duration": 23.119347,
     "end_time": "2021-04-23T11:49:26.794788",
     "exception": false,
     "start_time": "2021-04-23T11:49:03.675441",
     "status": "completed"
    },
    "tags": []
   },
   "outputs": [
    {
     "name": "stdout",
     "output_type": "stream",
     "text": [
      "Epoch 1/100\n",
      "30/30 [==============================] - 7s 47ms/step - loss: 0.6406 - accuracy: 0.6377 - val_loss: 0.5472 - val_accuracy: 0.5981\n",
      "Epoch 2/100\n",
      "30/30 [==============================] - 1s 26ms/step - loss: 0.5255 - accuracy: 0.6463 - val_loss: 0.5084 - val_accuracy: 0.5981\n",
      "Epoch 3/100\n",
      "30/30 [==============================] - 1s 26ms/step - loss: 0.4705 - accuracy: 0.6446 - val_loss: 0.4543 - val_accuracy: 0.6729\n",
      "Epoch 4/100\n",
      "30/30 [==============================] - 1s 26ms/step - loss: 0.3972 - accuracy: 0.7300 - val_loss: 0.4154 - val_accuracy: 0.7009\n",
      "Epoch 5/100\n",
      "30/30 [==============================] - 1s 27ms/step - loss: 0.3466 - accuracy: 0.7705 - val_loss: 0.3835 - val_accuracy: 0.7570\n",
      "Epoch 6/100\n",
      "30/30 [==============================] - 1s 27ms/step - loss: 0.3183 - accuracy: 0.8182 - val_loss: 0.3948 - val_accuracy: 0.7290\n",
      "Epoch 7/100\n",
      "30/30 [==============================] - 1s 27ms/step - loss: 0.3060 - accuracy: 0.7865 - val_loss: 0.3648 - val_accuracy: 0.7757\n",
      "Epoch 8/100\n",
      "30/30 [==============================] - 1s 27ms/step - loss: 0.2772 - accuracy: 0.8228 - val_loss: 0.3644 - val_accuracy: 0.7570\n",
      "Epoch 9/100\n",
      "30/30 [==============================] - 1s 28ms/step - loss: 0.2808 - accuracy: 0.8291 - val_loss: 0.3819 - val_accuracy: 0.7570\n",
      "Epoch 10/100\n",
      "30/30 [==============================] - 1s 26ms/step - loss: 0.2514 - accuracy: 0.8449 - val_loss: 0.3729 - val_accuracy: 0.7850\n",
      "Epoch 11/100\n",
      "30/30 [==============================] - 1s 27ms/step - loss: 0.2609 - accuracy: 0.8494 - val_loss: 0.3565 - val_accuracy: 0.7850\n",
      "Epoch 12/100\n",
      "30/30 [==============================] - 1s 27ms/step - loss: 0.2303 - accuracy: 0.8681 - val_loss: 0.3584 - val_accuracy: 0.7850\n",
      "Epoch 13/100\n",
      "30/30 [==============================] - 1s 28ms/step - loss: 0.2235 - accuracy: 0.8753 - val_loss: 0.3614 - val_accuracy: 0.7850\n",
      "Epoch 14/100\n",
      "30/30 [==============================] - 1s 27ms/step - loss: 0.2168 - accuracy: 0.8636 - val_loss: 0.3496 - val_accuracy: 0.7757\n",
      "Epoch 15/100\n",
      "30/30 [==============================] - 1s 27ms/step - loss: 0.2102 - accuracy: 0.8665 - val_loss: 0.3605 - val_accuracy: 0.7944\n",
      "Epoch 16/100\n",
      "30/30 [==============================] - 1s 27ms/step - loss: 0.2053 - accuracy: 0.8763 - val_loss: 0.3733 - val_accuracy: 0.7944\n",
      "Epoch 17/100\n",
      "30/30 [==============================] - 1s 27ms/step - loss: 0.2016 - accuracy: 0.8752 - val_loss: 0.3551 - val_accuracy: 0.7850\n",
      "roc_auc_score_delivery: 0.908\n",
      "roc_auc_score_product: 0.925\n",
      "roc_auc_score_service: 0.877\n",
      "macro_fl_delivery: 0.805\n",
      "macro_fl_product: 0.851\n",
      "macro_fl_service: 0.784\n"
     ]
    }
   ],
   "source": [
    "X_train,y_train,X_test,y_test=data_process_1D('distil_bert_avg')\n",
    "\n",
    "model_2=BiLstm_model(X_train,y_train)\n",
    "get_results(model_2,X_test,y_test)\n"
   ]
  },
  {
   "cell_type": "markdown",
   "metadata": {
    "papermill": {
     "duration": 0.129695,
     "end_time": "2021-04-23T11:49:27.054140",
     "exception": false,
     "start_time": "2021-04-23T11:49:26.924445",
     "status": "completed"
    },
    "tags": []
   },
   "source": [
    "### use neg_distil_bert_layer0"
   ]
  },
  {
   "cell_type": "code",
   "execution_count": 11,
   "metadata": {
    "execution": {
     "iopub.execute_input": "2021-04-23T11:49:27.320645Z",
     "iopub.status.busy": "2021-04-23T11:49:27.319876Z",
     "iopub.status.idle": "2021-04-23T11:49:49.746525Z",
     "shell.execute_reply": "2021-04-23T11:49:49.747104Z"
    },
    "papermill": {
     "duration": 22.565122,
     "end_time": "2021-04-23T11:49:49.747304",
     "exception": false,
     "start_time": "2021-04-23T11:49:27.182182",
     "status": "completed"
    },
    "tags": []
   },
   "outputs": [
    {
     "name": "stdout",
     "output_type": "stream",
     "text": [
      "Epoch 1/100\n",
      "30/30 [==============================] - 7s 46ms/step - loss: 0.6417 - accuracy: 0.4913 - val_loss: 0.5511 - val_accuracy: 0.5981\n",
      "Epoch 2/100\n",
      "30/30 [==============================] - 1s 26ms/step - loss: 0.5284 - accuracy: 0.6332 - val_loss: 0.5164 - val_accuracy: 0.5981\n",
      "Epoch 3/100\n",
      "30/30 [==============================] - 1s 27ms/step - loss: 0.4873 - accuracy: 0.6425 - val_loss: 0.4535 - val_accuracy: 0.6636\n",
      "Epoch 4/100\n",
      "30/30 [==============================] - 1s 26ms/step - loss: 0.4209 - accuracy: 0.7287 - val_loss: 0.3850 - val_accuracy: 0.7383\n",
      "Epoch 5/100\n",
      "30/30 [==============================] - 1s 27ms/step - loss: 0.3606 - accuracy: 0.7807 - val_loss: 0.3497 - val_accuracy: 0.7850\n",
      "Epoch 6/100\n",
      "30/30 [==============================] - 1s 28ms/step - loss: 0.3482 - accuracy: 0.7718 - val_loss: 0.3362 - val_accuracy: 0.7664\n",
      "Epoch 7/100\n",
      "30/30 [==============================] - 1s 27ms/step - loss: 0.3070 - accuracy: 0.8171 - val_loss: 0.3256 - val_accuracy: 0.7757\n",
      "Epoch 8/100\n",
      "30/30 [==============================] - 1s 27ms/step - loss: 0.3095 - accuracy: 0.8137 - val_loss: 0.3211 - val_accuracy: 0.7850\n",
      "Epoch 9/100\n",
      "30/30 [==============================] - 1s 27ms/step - loss: 0.2974 - accuracy: 0.8239 - val_loss: 0.3575 - val_accuracy: 0.7290\n",
      "Epoch 10/100\n",
      "30/30 [==============================] - 1s 27ms/step - loss: 0.2767 - accuracy: 0.8256 - val_loss: 0.3107 - val_accuracy: 0.7664\n",
      "Epoch 11/100\n",
      "30/30 [==============================] - 1s 26ms/step - loss: 0.2365 - accuracy: 0.8479 - val_loss: 0.3324 - val_accuracy: 0.8131\n",
      "Epoch 12/100\n",
      "30/30 [==============================] - 1s 27ms/step - loss: 0.2625 - accuracy: 0.8545 - val_loss: 0.2977 - val_accuracy: 0.7850\n",
      "Epoch 13/100\n",
      "30/30 [==============================] - 1s 27ms/step - loss: 0.2463 - accuracy: 0.8556 - val_loss: 0.3041 - val_accuracy: 0.8224\n",
      "Epoch 14/100\n",
      "30/30 [==============================] - 1s 27ms/step - loss: 0.2297 - accuracy: 0.8560 - val_loss: 0.3237 - val_accuracy: 0.7944\n",
      "Epoch 15/100\n",
      "30/30 [==============================] - 1s 26ms/step - loss: 0.2295 - accuracy: 0.8654 - val_loss: 0.2993 - val_accuracy: 0.7944\n",
      "roc_auc_score_delivery: 0.896\n",
      "roc_auc_score_product: 0.916\n",
      "roc_auc_score_service: 0.846\n",
      "macro_fl_delivery: 0.804\n",
      "macro_fl_product: 0.83\n",
      "macro_fl_service: 0.723\n"
     ]
    }
   ],
   "source": [
    "X_train,y_train,X_test,y_test=data_process_1D('neg_distil_bert_layer0')\n",
    "\n",
    "model_3=BiLstm_model(X_train,y_train)\n",
    "get_results(model_3,X_test,y_test)"
   ]
  },
  {
   "cell_type": "markdown",
   "metadata": {
    "papermill": {
     "duration": 0.181227,
     "end_time": "2021-04-23T11:49:50.111053",
     "exception": false,
     "start_time": "2021-04-23T11:49:49.929826",
     "status": "completed"
    },
    "tags": []
   },
   "source": [
    "## use_neg_distllbert_avg"
   ]
  },
  {
   "cell_type": "code",
   "execution_count": 12,
   "metadata": {
    "execution": {
     "iopub.execute_input": "2021-04-23T11:49:50.512436Z",
     "iopub.status.busy": "2021-04-23T11:49:50.487352Z",
     "iopub.status.idle": "2021-04-23T11:50:17.504844Z",
     "shell.execute_reply": "2021-04-23T11:50:17.505525Z"
    },
    "papermill": {
     "duration": 27.215108,
     "end_time": "2021-04-23T11:50:17.505756",
     "exception": false,
     "start_time": "2021-04-23T11:49:50.290648",
     "status": "completed"
    },
    "tags": []
   },
   "outputs": [
    {
     "name": "stdout",
     "output_type": "stream",
     "text": [
      "Epoch 1/100\n",
      "30/30 [==============================] - 7s 46ms/step - loss: 0.6456 - accuracy: 0.5772 - val_loss: 0.5540 - val_accuracy: 0.5981\n",
      "Epoch 2/100\n",
      "30/30 [==============================] - 1s 27ms/step - loss: 0.5475 - accuracy: 0.6140 - val_loss: 0.5223 - val_accuracy: 0.5981\n",
      "Epoch 3/100\n",
      "30/30 [==============================] - 1s 27ms/step - loss: 0.5022 - accuracy: 0.6154 - val_loss: 0.4661 - val_accuracy: 0.6075\n",
      "Epoch 4/100\n",
      "30/30 [==============================] - 1s 27ms/step - loss: 0.4565 - accuracy: 0.6786 - val_loss: 0.4062 - val_accuracy: 0.7477\n",
      "Epoch 5/100\n",
      "30/30 [==============================] - 1s 35ms/step - loss: 0.3608 - accuracy: 0.7958 - val_loss: 0.3735 - val_accuracy: 0.7477\n",
      "Epoch 6/100\n",
      "30/30 [==============================] - 1s 28ms/step - loss: 0.3312 - accuracy: 0.7981 - val_loss: 0.3532 - val_accuracy: 0.7664\n",
      "Epoch 7/100\n",
      "30/30 [==============================] - 1s 27ms/step - loss: 0.2942 - accuracy: 0.8286 - val_loss: 0.3331 - val_accuracy: 0.7757\n",
      "Epoch 8/100\n",
      "30/30 [==============================] - 1s 26ms/step - loss: 0.2623 - accuracy: 0.8566 - val_loss: 0.3349 - val_accuracy: 0.7570\n",
      "Epoch 9/100\n",
      "30/30 [==============================] - 1s 26ms/step - loss: 0.2742 - accuracy: 0.8261 - val_loss: 0.3163 - val_accuracy: 0.7850\n",
      "Epoch 10/100\n",
      "30/30 [==============================] - 1s 27ms/step - loss: 0.2510 - accuracy: 0.8476 - val_loss: 0.3251 - val_accuracy: 0.8037\n",
      "Epoch 11/100\n",
      "30/30 [==============================] - 1s 27ms/step - loss: 0.2557 - accuracy: 0.8377 - val_loss: 0.3063 - val_accuracy: 0.7850\n",
      "Epoch 12/100\n",
      "30/30 [==============================] - 1s 27ms/step - loss: 0.2430 - accuracy: 0.8708 - val_loss: 0.3150 - val_accuracy: 0.8131\n",
      "Epoch 13/100\n",
      "30/30 [==============================] - 1s 27ms/step - loss: 0.2380 - accuracy: 0.8591 - val_loss: 0.3057 - val_accuracy: 0.8224\n",
      "Epoch 14/100\n",
      "30/30 [==============================] - 1s 27ms/step - loss: 0.2456 - accuracy: 0.8539 - val_loss: 0.3088 - val_accuracy: 0.8131\n",
      "Epoch 15/100\n",
      "30/30 [==============================] - 1s 27ms/step - loss: 0.2127 - accuracy: 0.8757 - val_loss: 0.3064 - val_accuracy: 0.8131\n",
      "Epoch 16/100\n",
      "30/30 [==============================] - 1s 26ms/step - loss: 0.2080 - accuracy: 0.8777 - val_loss: 0.3017 - val_accuracy: 0.8037\n",
      "Epoch 17/100\n",
      "30/30 [==============================] - 1s 27ms/step - loss: 0.2019 - accuracy: 0.8890 - val_loss: 0.2999 - val_accuracy: 0.8131\n",
      "Epoch 18/100\n",
      "30/30 [==============================] - 1s 27ms/step - loss: 0.2025 - accuracy: 0.8846 - val_loss: 0.2896 - val_accuracy: 0.8037\n",
      "Epoch 19/100\n",
      "30/30 [==============================] - 1s 27ms/step - loss: 0.1903 - accuracy: 0.8990 - val_loss: 0.2984 - val_accuracy: 0.8037\n",
      "Epoch 20/100\n",
      "30/30 [==============================] - 1s 26ms/step - loss: 0.1991 - accuracy: 0.8901 - val_loss: 0.3049 - val_accuracy: 0.8131\n",
      "Epoch 21/100\n",
      "30/30 [==============================] - 1s 26ms/step - loss: 0.1693 - accuracy: 0.9125 - val_loss: 0.3000 - val_accuracy: 0.8318\n",
      "roc_auc_score_delivery: 0.932\n",
      "roc_auc_score_product: 0.929\n",
      "roc_auc_score_service: 0.844\n",
      "macro_fl_delivery: 0.838\n",
      "macro_fl_product: 0.87\n",
      "macro_fl_service: 0.761\n"
     ]
    }
   ],
   "source": [
    "X_train,y_train,X_test,y_test=data_process_1D('neg_distil_bert_avg')\n",
    "\n",
    "model_4=BiLstm_model(X_train,y_train)\n",
    "get_results(model_4,X_test,y_test)"
   ]
  },
  {
   "cell_type": "markdown",
   "metadata": {
    "papermill": {
     "duration": 0.254278,
     "end_time": "2021-04-23T11:50:18.015902",
     "exception": false,
     "start_time": "2021-04-23T11:50:17.761624",
     "status": "completed"
    },
    "tags": []
   },
   "source": [
    "# 2d FEATURE\n"
   ]
  },
  {
   "cell_type": "code",
   "execution_count": 13,
   "metadata": {
    "execution": {
     "iopub.execute_input": "2021-04-23T11:50:18.531714Z",
     "iopub.status.busy": "2021-04-23T11:50:18.530997Z",
     "iopub.status.idle": "2021-04-23T11:50:25.675590Z",
     "shell.execute_reply": "2021-04-23T11:50:25.674996Z"
    },
    "papermill": {
     "duration": 7.404063,
     "end_time": "2021-04-23T11:50:25.675748",
     "exception": false,
     "start_time": "2021-04-23T11:50:18.271685",
     "status": "completed"
    },
    "tags": []
   },
   "outputs": [],
   "source": [
    "twoD_feature=np.load(\"../input/5153-bert-feature-extraction-negative/distil_bert_dic_2D.pkl\",allow_pickle=True)\n",
    "df_neg_feature=pd.DataFrame({'review_id':twoD_feature.keys(),\n",
    "                            'neg_2d_distill':twoD_feature.values()})\n",
    "df_train=df_train.merge(df_neg_feature,on='review_id',how='left')\n",
    "df_test=df_test.merge(df_neg_feature,on='review_id',how='left')"
   ]
  },
  {
   "cell_type": "code",
   "execution_count": 14,
   "metadata": {
    "execution": {
     "iopub.execute_input": "2021-04-23T11:50:26.196200Z",
     "iopub.status.busy": "2021-04-23T11:50:26.195416Z",
     "iopub.status.idle": "2021-04-23T11:50:30.031270Z",
     "shell.execute_reply": "2021-04-23T11:50:30.030642Z"
    },
    "papermill": {
     "duration": 4.098845,
     "end_time": "2021-04-23T11:50:30.031424",
     "exception": false,
     "start_time": "2021-04-23T11:50:25.932579",
     "status": "completed"
    },
    "tags": []
   },
   "outputs": [],
   "source": [
    "twoD_feature=np.load(\"../input/5153-bert-fullsentence-featureextraction-final/distil_full_bert_dic_2D.pkl\",allow_pickle=True)\n",
    "df_feature=pd.DataFrame({'review_id':twoD_feature.keys(),\n",
    "                         '2d_distill':twoD_feature.values()})\n",
    "df_train=df_train.merge(df_feature,on='review_id',how='left')\n",
    "df_test=df_test.merge(df_feature,on='review_id',how='left')"
   ]
  },
  {
   "cell_type": "code",
   "execution_count": 15,
   "metadata": {
    "execution": {
     "iopub.execute_input": "2021-04-23T11:50:30.550835Z",
     "iopub.status.busy": "2021-04-23T11:50:30.549723Z",
     "iopub.status.idle": "2021-04-23T11:50:30.553660Z",
     "shell.execute_reply": "2021-04-23T11:50:30.554240Z"
    },
    "papermill": {
     "duration": 0.264639,
     "end_time": "2021-04-23T11:50:30.554419",
     "exception": false,
     "start_time": "2021-04-23T11:50:30.289780",
     "status": "completed"
    },
    "tags": []
   },
   "outputs": [
    {
     "data": {
      "text/plain": [
       "Index(['review_id', 'review_content', 'review_stars', 'delivery', 'product',\n",
       "       'service', 'bert_avg', 'bert_max', 'bert_layer0', 'distil_bert_avg',\n",
       "       'distil_bert_max', 'distil_bert_layer0', 'label',\n",
       "       'neg_distil_bert_layer0', 'neg_distil_bert_avg', 'neg_2d_distill',\n",
       "       '2d_distill'],\n",
       "      dtype='object')"
      ]
     },
     "execution_count": 15,
     "metadata": {},
     "output_type": "execute_result"
    }
   ],
   "source": [
    "df_train.columns"
   ]
  },
  {
   "cell_type": "code",
   "execution_count": 16,
   "metadata": {
    "execution": {
     "iopub.execute_input": "2021-04-23T11:50:31.074784Z",
     "iopub.status.busy": "2021-04-23T11:50:31.073776Z",
     "iopub.status.idle": "2021-04-23T11:50:31.077782Z",
     "shell.execute_reply": "2021-04-23T11:50:31.077112Z"
    },
    "papermill": {
     "duration": 0.268603,
     "end_time": "2021-04-23T11:50:31.077935",
     "exception": false,
     "start_time": "2021-04-23T11:50:30.809332",
     "status": "completed"
    },
    "tags": []
   },
   "outputs": [],
   "source": [
    "def data_process_2D(feature_name):\n",
    "    X_train=np.array([x for x in list(df_train[feature_name])])\n",
    "    X_train=X_train[:,0,:,:]\n",
    "    y_train=np.array(df_train[['delivery','product','service']])\n",
    "\n",
    "    X_test=np.array([x for x in list(df_test[feature_name])])\n",
    "    X_test=X_test[:,0,:,:]\n",
    "    y_test=np.array(df_test[['delivery','product','service']])\n",
    "    \n",
    "    return X_train,y_train,X_test,y_test"
   ]
  },
  {
   "cell_type": "code",
   "execution_count": 17,
   "metadata": {
    "execution": {
     "iopub.execute_input": "2021-04-23T11:50:31.593677Z",
     "iopub.status.busy": "2021-04-23T11:50:31.592063Z",
     "iopub.status.idle": "2021-04-23T11:58:13.430400Z",
     "shell.execute_reply": "2021-04-23T11:58:13.429791Z"
    },
    "papermill": {
     "duration": 462.098702,
     "end_time": "2021-04-23T11:58:13.430568",
     "exception": false,
     "start_time": "2021-04-23T11:50:31.331866",
     "status": "completed"
    },
    "tags": []
   },
   "outputs": [
    {
     "name": "stdout",
     "output_type": "stream",
     "text": [
      "Epoch 1/100\n",
      "30/30 [==============================] - 58s 2s/step - loss: 0.6070 - accuracy: 0.5684 - val_loss: 0.5094 - val_accuracy: 0.5981\n",
      "Epoch 2/100\n",
      "30/30 [==============================] - 50s 2s/step - loss: 0.4554 - accuracy: 0.6709 - val_loss: 0.3858 - val_accuracy: 0.7570\n",
      "Epoch 3/100\n",
      "30/30 [==============================] - 49s 2s/step - loss: 0.3450 - accuracy: 0.7908 - val_loss: 0.3709 - val_accuracy: 0.7570\n",
      "Epoch 4/100\n",
      "30/30 [==============================] - 50s 2s/step - loss: 0.3224 - accuracy: 0.8237 - val_loss: 0.3406 - val_accuracy: 0.7664\n",
      "Epoch 5/100\n",
      "30/30 [==============================] - 49s 2s/step - loss: 0.2571 - accuracy: 0.8523 - val_loss: 0.3275 - val_accuracy: 0.8224\n",
      "Epoch 6/100\n",
      "30/30 [==============================] - 49s 2s/step - loss: 0.2192 - accuracy: 0.8680 - val_loss: 0.3183 - val_accuracy: 0.8411\n",
      "Epoch 7/100\n",
      "30/30 [==============================] - 50s 2s/step - loss: 0.1887 - accuracy: 0.9001 - val_loss: 0.3395 - val_accuracy: 0.7944\n",
      "Epoch 8/100\n",
      "30/30 [==============================] - 49s 2s/step - loss: 0.1882 - accuracy: 0.8904 - val_loss: 0.3612 - val_accuracy: 0.8037\n",
      "Epoch 9/100\n",
      "30/30 [==============================] - 49s 2s/step - loss: 0.1529 - accuracy: 0.9180 - val_loss: 0.3353 - val_accuracy: 0.7944\n",
      "roc_auc_score_delivery: 0.931\n",
      "roc_auc_score_product: 0.923\n",
      "roc_auc_score_service: 0.831\n",
      "macro_fl_delivery: 0.846\n",
      "macro_fl_product: 0.836\n",
      "macro_fl_service: 0.749\n"
     ]
    }
   ],
   "source": [
    "X_train,y_train,X_test,y_test=data_process_2D('neg_2d_distill')\n",
    "\n",
    "model_5=BiLstm_model(X_train,y_train)\n",
    "get_results(model_5,X_test,y_test)"
   ]
  },
  {
   "cell_type": "code",
   "execution_count": 18,
   "metadata": {
    "execution": {
     "iopub.execute_input": "2021-04-23T11:58:14.132166Z",
     "iopub.status.busy": "2021-04-23T11:58:14.131433Z",
     "iopub.status.idle": "2021-04-23T12:03:42.252373Z",
     "shell.execute_reply": "2021-04-23T12:03:42.253129Z"
    },
    "papermill": {
     "duration": 328.47899,
     "end_time": "2021-04-23T12:03:42.253386",
     "exception": false,
     "start_time": "2021-04-23T11:58:13.774396",
     "status": "completed"
    },
    "tags": []
   },
   "outputs": [
    {
     "name": "stdout",
     "output_type": "stream",
     "text": [
      "Epoch 1/100\n",
      "30/30 [==============================] - 46s 1s/step - loss: 0.5920 - accuracy: 0.5636 - val_loss: 0.4816 - val_accuracy: 0.5981\n",
      "Epoch 2/100\n",
      "30/30 [==============================] - 39s 1s/step - loss: 0.4149 - accuracy: 0.7189 - val_loss: 0.3699 - val_accuracy: 0.7664\n",
      "Epoch 3/100\n",
      "30/30 [==============================] - 40s 1s/step - loss: 0.3224 - accuracy: 0.8244 - val_loss: 0.3889 - val_accuracy: 0.7196\n",
      "Epoch 4/100\n",
      "30/30 [==============================] - 39s 1s/step - loss: 0.2922 - accuracy: 0.8019 - val_loss: 0.3451 - val_accuracy: 0.7850\n",
      "Epoch 5/100\n",
      "30/30 [==============================] - 40s 1s/step - loss: 0.2288 - accuracy: 0.8574 - val_loss: 0.3339 - val_accuracy: 0.8037\n",
      "Epoch 6/100\n",
      "30/30 [==============================] - 39s 1s/step - loss: 0.1939 - accuracy: 0.8802 - val_loss: 0.3340 - val_accuracy: 0.8131\n",
      "Epoch 7/100\n",
      "30/30 [==============================] - 40s 1s/step - loss: 0.1937 - accuracy: 0.8997 - val_loss: 0.3547 - val_accuracy: 0.8131\n",
      "Epoch 8/100\n",
      "30/30 [==============================] - 39s 1s/step - loss: 0.1589 - accuracy: 0.9027 - val_loss: 0.3351 - val_accuracy: 0.8131\n",
      "roc_auc_score_delivery: 0.915\n",
      "roc_auc_score_product: 0.924\n",
      "roc_auc_score_service: 0.867\n",
      "macro_fl_delivery: 0.813\n",
      "macro_fl_product: 0.83\n",
      "macro_fl_service: 0.747\n"
     ]
    }
   ],
   "source": [
    "X_train,y_train,X_test,y_test=data_process_2D('2d_distill')\n",
    "\n",
    "model_5=BiLstm_model(X_train,y_train)\n",
    "get_results(model_5,X_test,y_test)"
   ]
  }
 ],
 "metadata": {
  "kernelspec": {
   "display_name": "Python 3",
   "language": "python",
   "name": "python3"
  },
  "language_info": {
   "codemirror_mode": {
    "name": "ipython",
    "version": 3
   },
   "file_extension": ".py",
   "mimetype": "text/x-python",
   "name": "python",
   "nbconvert_exporter": "python",
   "pygments_lexer": "ipython3",
   "version": "3.8.3"
  },
  "papermill": {
   "default_parameters": {},
   "duration": 932.010065,
   "end_time": "2021-04-23T12:03:46.099333",
   "environment_variables": {},
   "exception": null,
   "input_path": "__notebook__.ipynb",
   "output_path": "__notebook__.ipynb",
   "parameters": {},
   "start_time": "2021-04-23T11:48:14.089268",
   "version": "2.2.2"
  }
 },
 "nbformat": 4,
 "nbformat_minor": 4
}
