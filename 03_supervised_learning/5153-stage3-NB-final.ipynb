{
 "cells": [
  {
   "cell_type": "code",
   "execution_count": 1,
   "metadata": {
    "execution": {
     "iopub.execute_input": "2021-04-24T03:51:20.182051Z",
     "iopub.status.busy": "2021-04-24T03:51:20.180701Z",
     "iopub.status.idle": "2021-04-24T03:51:21.561198Z",
     "shell.execute_reply": "2021-04-24T03:51:21.560307Z"
    },
    "papermill": {
     "duration": 1.399617,
     "end_time": "2021-04-24T03:51:21.561391",
     "exception": false,
     "start_time": "2021-04-24T03:51:20.161774",
     "status": "completed"
    },
    "tags": []
   },
   "outputs": [],
   "source": [
    "import pandas as pd\n",
    "import numpy as np\n",
    "import re\n",
    "from sklearn.metrics import f1_score\n",
    "import warnings\n",
    "warnings.filterwarnings('ignore')"
   ]
  },
  {
   "cell_type": "markdown",
   "metadata": {
    "papermill": {
     "duration": 0.013137,
     "end_time": "2021-04-24T03:51:21.588851",
     "exception": false,
     "start_time": "2021-04-24T03:51:21.575714",
     "status": "completed"
    },
    "tags": []
   },
   "source": [
    "## Import Data (Bert Vectors)"
   ]
  },
  {
   "cell_type": "code",
   "execution_count": 2,
   "metadata": {
    "execution": {
     "iopub.execute_input": "2021-04-24T03:51:21.626422Z",
     "iopub.status.busy": "2021-04-24T03:51:21.625687Z",
     "iopub.status.idle": "2021-04-24T03:51:26.159530Z",
     "shell.execute_reply": "2021-04-24T03:51:26.158674Z"
    },
    "papermill": {
     "duration": 4.557005,
     "end_time": "2021-04-24T03:51:26.159738",
     "exception": false,
     "start_time": "2021-04-24T03:51:21.602733",
     "status": "completed"
    },
    "tags": []
   },
   "outputs": [],
   "source": [
    "#full sentence bert vector\n",
    "file = '../input/bt5153-train-test-bert-full-sentence/train_data_bert_fullsent.csv'\n",
    "testfile = '../input/bt5153-train-test-bert-full-sentence/test_data_bert_fullsent.csv'\n",
    "\n",
    "df = pd.read_csv(file, dtype={'label':str})\n",
    "df_test = pd.read_csv(testfile, dtype={'label':str})\n",
    "\n",
    "df['distil_bert_avg'] = df['distil_bert_avg'].apply(lambda x: np.array(eval(str(x))))\n",
    "df_test['distil_bert_avg'] = df_test['distil_bert_avg'].apply(lambda x: np.array(eval(str(x))))"
   ]
  },
  {
   "cell_type": "code",
   "execution_count": 3,
   "metadata": {
    "execution": {
     "iopub.execute_input": "2021-04-24T03:51:26.193708Z",
     "iopub.status.busy": "2021-04-24T03:51:26.192811Z",
     "iopub.status.idle": "2021-04-24T03:51:26.197291Z",
     "shell.execute_reply": "2021-04-24T03:51:26.196566Z"
    },
    "papermill": {
     "duration": 0.022902,
     "end_time": "2021-04-24T03:51:26.197445",
     "exception": false,
     "start_time": "2021-04-24T03:51:26.174543",
     "status": "completed"
    },
    "tags": []
   },
   "outputs": [],
   "source": [
    "#merge negative bert vectors\n",
    "# neg_distillbert_avg = open(\"../input/5153-bert-feature-extraction-negative/negative_distil_bert_avg_dic.txt\",\"r\")\n",
    "# neg_distillbert_avg=(neg_distillbert_avg.read())\n",
    "# neg_distillbert_avg=eval(neg_distillbert_avg)\n",
    "\n",
    "# df_neg_distillbert_avg = pd.DataFrame({'review_id' : neg_distillbert_avg.keys(), \n",
    "#                                      'neg_bert_avg' : neg_distillbert_avg.values()})\n",
    "\n",
    "# df = pd.merge(df, df_neg_distillbert_avg, on='review_id', how='inner')\n",
    "# df_test = pd.merge(df_test, df_neg_distillbert_avg, on='review_id', how='inner')\n",
    "# print(df.shape)\n",
    "# df.head()"
   ]
  },
  {
   "cell_type": "markdown",
   "metadata": {
    "papermill": {
     "duration": 0.013584,
     "end_time": "2021-04-24T03:51:26.225232",
     "exception": false,
     "start_time": "2021-04-24T03:51:26.211648",
     "status": "completed"
    },
    "tags": []
   },
   "source": [
    "## GaussianNB"
   ]
  },
  {
   "cell_type": "code",
   "execution_count": 1,
   "metadata": {
    "execution": {
     "iopub.execute_input": "2021-04-24T03:51:26.257043Z",
     "iopub.status.busy": "2021-04-24T03:51:26.256333Z",
     "iopub.status.idle": "2021-04-24T03:51:26.260939Z",
     "shell.execute_reply": "2021-04-24T03:51:26.261454Z"
    },
    "papermill": {
     "duration": 0.022534,
     "end_time": "2021-04-24T03:51:26.261644",
     "exception": false,
     "start_time": "2021-04-24T03:51:26.239110",
     "status": "completed"
    },
    "tags": []
   },
   "outputs": [],
   "source": [
    "from sklearn.metrics import precision_score, recall_score\n",
    "from sklearn.metrics import roc_auc_score, accuracy_score\n",
    "from sklearn.metrics import classification_report"
   ]
  },
  {
   "cell_type": "code",
   "execution_count": 5,
   "metadata": {
    "execution": {
     "iopub.execute_input": "2021-04-24T03:51:26.295433Z",
     "iopub.status.busy": "2021-04-24T03:51:26.294708Z",
     "iopub.status.idle": "2021-04-24T03:51:26.307186Z",
     "shell.execute_reply": "2021-04-24T03:51:26.307725Z"
    },
    "papermill": {
     "duration": 0.031982,
     "end_time": "2021-04-24T03:51:26.307948",
     "exception": false,
     "start_time": "2021-04-24T03:51:26.275966",
     "status": "completed"
    },
    "tags": []
   },
   "outputs": [],
   "source": [
    "X = df.distil_bert_avg\n",
    "X = np.array([x for x in list(X)])\n",
    "X_test = df_test.distil_bert_avg\n",
    "X_test = np.array([x for x in list(X_test)])\n",
    "\n",
    "y_dl = df['delivery'].copy()\n",
    "y_dl_test = df_test['delivery'].copy()\n",
    "y_pd = df['product'].copy()\n",
    "y_pd_test = df_test['product'].copy()\n",
    "y_sv = df['service'].copy()\n",
    "y_sv_test = df_test['service'].copy()"
   ]
  },
  {
   "cell_type": "code",
   "execution_count": 6,
   "metadata": {
    "execution": {
     "iopub.execute_input": "2021-04-24T03:51:26.346374Z",
     "iopub.status.busy": "2021-04-24T03:51:26.340702Z",
     "iopub.status.idle": "2021-04-24T03:51:26.351741Z",
     "shell.execute_reply": "2021-04-24T03:51:26.351102Z"
    },
    "papermill": {
     "duration": 0.028307,
     "end_time": "2021-04-24T03:51:26.351903",
     "exception": false,
     "start_time": "2021-04-24T03:51:26.323596",
     "status": "completed"
    },
    "tags": []
   },
   "outputs": [
    {
     "data": {
      "text/plain": [
       "array([[-0.0467826 , -0.27473888,  0.2780265 , ..., -0.0511116 ,\n",
       "        -0.0305712 ,  0.09294429],\n",
       "       [ 0.1399654 , -0.11672436,  0.23911656, ..., -0.12838659,\n",
       "        -0.14252678, -0.00974948],\n",
       "       [ 0.07374873, -0.01620108,  0.20269494, ..., -0.06569172,\n",
       "        -0.12933594, -0.1495965 ],\n",
       "       ...,\n",
       "       [ 0.05727965,  0.1664856 ,  0.12964745, ..., -0.04691945,\n",
       "        -0.14244272,  0.01669729],\n",
       "       [ 0.11460409,  0.09498134,  0.23205358, ...,  0.05434497,\n",
       "        -0.09696532,  0.09951015],\n",
       "       [-0.03872562, -0.10021102,  0.16911487, ...,  0.06784689,\n",
       "         0.06759077,  0.11119706]])"
      ]
     },
     "execution_count": 6,
     "metadata": {},
     "output_type": "execute_result"
    }
   ],
   "source": [
    "X"
   ]
  },
  {
   "cell_type": "code",
   "execution_count": 7,
   "metadata": {
    "execution": {
     "iopub.execute_input": "2021-04-24T03:51:26.386172Z",
     "iopub.status.busy": "2021-04-24T03:51:26.385396Z",
     "iopub.status.idle": "2021-04-24T03:51:26.390772Z",
     "shell.execute_reply": "2021-04-24T03:51:26.391358Z"
    },
    "papermill": {
     "duration": 0.023754,
     "end_time": "2021-04-24T03:51:26.391555",
     "exception": false,
     "start_time": "2021-04-24T03:51:26.367801",
     "status": "completed"
    },
    "tags": []
   },
   "outputs": [
    {
     "data": {
      "text/plain": [
       "(1065,)"
      ]
     },
     "execution_count": 7,
     "metadata": {},
     "output_type": "execute_result"
    }
   ],
   "source": [
    "y_dl.shape"
   ]
  },
  {
   "cell_type": "markdown",
   "metadata": {
    "papermill": {
     "duration": 0.016688,
     "end_time": "2021-04-24T03:51:26.424370",
     "exception": false,
     "start_time": "2021-04-24T03:51:26.407682",
     "status": "completed"
    },
    "tags": []
   },
   "source": [
    "### Delivery"
   ]
  },
  {
   "cell_type": "code",
   "execution_count": 8,
   "metadata": {
    "execution": {
     "iopub.execute_input": "2021-04-24T03:51:26.458944Z",
     "iopub.status.busy": "2021-04-24T03:51:26.458119Z",
     "iopub.status.idle": "2021-04-24T03:51:26.487230Z",
     "shell.execute_reply": "2021-04-24T03:51:26.487898Z"
    },
    "papermill": {
     "duration": 0.048451,
     "end_time": "2021-04-24T03:51:26.488102",
     "exception": false,
     "start_time": "2021-04-24T03:51:26.439651",
     "status": "completed"
    },
    "tags": []
   },
   "outputs": [
    {
     "data": {
      "text/plain": [
       "GaussianNB()"
      ]
     },
     "execution_count": 8,
     "metadata": {},
     "output_type": "execute_result"
    }
   ],
   "source": [
    "from sklearn.naive_bayes import GaussianNB\n",
    "clf = GaussianNB()\n",
    "clf.fit(X, y_dl)"
   ]
  },
  {
   "cell_type": "code",
   "execution_count": 9,
   "metadata": {
    "execution": {
     "iopub.execute_input": "2021-04-24T03:51:26.528781Z",
     "iopub.status.busy": "2021-04-24T03:51:26.528064Z",
     "iopub.status.idle": "2021-04-24T03:51:26.563878Z",
     "shell.execute_reply": "2021-04-24T03:51:26.562767Z"
    },
    "papermill": {
     "duration": 0.059391,
     "end_time": "2021-04-24T03:51:26.564113",
     "exception": false,
     "start_time": "2021-04-24T03:51:26.504722",
     "status": "completed"
    },
    "tags": []
   },
   "outputs": [
    {
     "name": "stdout",
     "output_type": "stream",
     "text": [
      "precision:  0.777292576419214\n",
      "recall:  0.777292576419214\n",
      "accuracy:  0.777292576419214\n",
      "auc:  0.8429320765769363\n",
      "macro_fl_delivery: 0.734\n",
      "              precision    recall  f1-score   support\n",
      "\n",
      "           0       0.93      0.77      0.84       351\n",
      "           1       0.51      0.80      0.63       107\n",
      "\n",
      "    accuracy                           0.78       458\n",
      "   macro avg       0.72      0.79      0.73       458\n",
      "weighted avg       0.83      0.78      0.79       458\n",
      "\n"
     ]
    }
   ],
   "source": [
    "y_dl_pred = clf.predict(X_test)\n",
    "y_dl_proba = clf.predict_proba(X_test)[:, 1]\n",
    "\n",
    "precision = precision_score(y_dl_test, y_dl_pred, average='micro')\n",
    "recall = recall_score(y_dl_test, y_dl_pred, average='micro')\n",
    "accuracy = accuracy_score(y_dl_test, y_dl_pred)\n",
    "auc = roc_auc_score(y_dl_test, y_dl_proba, multi_class='ovr')\n",
    "\n",
    "print('precision: ', precision)\n",
    "print('recall: ', recall)\n",
    "print('accuracy: ', accuracy)\n",
    "print('auc: ', auc)\n",
    "print('macro_fl_delivery:',round(f1_score(y_dl_test, y_dl_pred,average='macro'),3))\n",
    "print(classification_report(y_dl_test, y_dl_pred))"
   ]
  },
  {
   "cell_type": "markdown",
   "metadata": {
    "papermill": {
     "duration": 0.016061,
     "end_time": "2021-04-24T03:51:26.597922",
     "exception": false,
     "start_time": "2021-04-24T03:51:26.581861",
     "status": "completed"
    },
    "tags": []
   },
   "source": [
    "### Product"
   ]
  },
  {
   "cell_type": "code",
   "execution_count": 10,
   "metadata": {
    "execution": {
     "iopub.execute_input": "2021-04-24T03:51:26.637481Z",
     "iopub.status.busy": "2021-04-24T03:51:26.636718Z",
     "iopub.status.idle": "2021-04-24T03:51:26.653482Z",
     "shell.execute_reply": "2021-04-24T03:51:26.652760Z"
    },
    "papermill": {
     "duration": 0.03946,
     "end_time": "2021-04-24T03:51:26.653632",
     "exception": false,
     "start_time": "2021-04-24T03:51:26.614172",
     "status": "completed"
    },
    "tags": []
   },
   "outputs": [
    {
     "data": {
      "text/plain": [
       "GaussianNB()"
      ]
     },
     "execution_count": 10,
     "metadata": {},
     "output_type": "execute_result"
    }
   ],
   "source": [
    "clf = GaussianNB()\n",
    "clf.fit(X, y_pd)"
   ]
  },
  {
   "cell_type": "code",
   "execution_count": 11,
   "metadata": {
    "execution": {
     "iopub.execute_input": "2021-04-24T03:51:26.694949Z",
     "iopub.status.busy": "2021-04-24T03:51:26.693910Z",
     "iopub.status.idle": "2021-04-24T03:51:26.718041Z",
     "shell.execute_reply": "2021-04-24T03:51:26.718531Z"
    },
    "papermill": {
     "duration": 0.048489,
     "end_time": "2021-04-24T03:51:26.718725",
     "exception": false,
     "start_time": "2021-04-24T03:51:26.670236",
     "status": "completed"
    },
    "tags": []
   },
   "outputs": [
    {
     "name": "stdout",
     "output_type": "stream",
     "text": [
      "precision:  0.7925764192139738\n",
      "recall:  0.7925764192139738\n",
      "accuracy:  0.7925764192139738\n",
      "auc:  0.8776059466848941\n",
      "macro_fl_delivery: 0.779\n",
      "              precision    recall  f1-score   support\n",
      "\n",
      "           0       0.66      0.81      0.72       154\n",
      "           1       0.89      0.79      0.83       304\n",
      "\n",
      "    accuracy                           0.79       458\n",
      "   macro avg       0.77      0.80      0.78       458\n",
      "weighted avg       0.81      0.79      0.80       458\n",
      "\n"
     ]
    }
   ],
   "source": [
    "y_pd_pred = clf.predict(X_test)\n",
    "y_pd_proba = clf.predict_proba(X_test)[:, 1]\n",
    "\n",
    "precision = precision_score(y_pd_test, y_pd_pred, average='micro')\n",
    "recall = recall_score(y_pd_test, y_pd_pred, average='micro')\n",
    "accuracy = accuracy_score(y_pd_test, y_pd_pred)\n",
    "auc = roc_auc_score(y_pd_test, y_pd_proba, multi_class='ovr')\n",
    "\n",
    "print('precision: ', precision)\n",
    "print('recall: ', recall)\n",
    "print('accuracy: ', accuracy)\n",
    "print('auc: ', auc)\n",
    "print('macro_fl_delivery:',round(f1_score(y_pd_test, y_pd_pred,average='macro'),3))\n",
    "print(classification_report(y_pd_test, y_pd_pred))"
   ]
  },
  {
   "cell_type": "markdown",
   "metadata": {
    "papermill": {
     "duration": 0.018323,
     "end_time": "2021-04-24T03:51:26.754082",
     "exception": false,
     "start_time": "2021-04-24T03:51:26.735759",
     "status": "completed"
    },
    "tags": []
   },
   "source": [
    "### Service"
   ]
  },
  {
   "cell_type": "code",
   "execution_count": 12,
   "metadata": {
    "execution": {
     "iopub.execute_input": "2021-04-24T03:51:26.793914Z",
     "iopub.status.busy": "2021-04-24T03:51:26.793225Z",
     "iopub.status.idle": "2021-04-24T03:51:26.812273Z",
     "shell.execute_reply": "2021-04-24T03:51:26.811678Z"
    },
    "papermill": {
     "duration": 0.041097,
     "end_time": "2021-04-24T03:51:26.812429",
     "exception": false,
     "start_time": "2021-04-24T03:51:26.771332",
     "status": "completed"
    },
    "tags": []
   },
   "outputs": [
    {
     "data": {
      "text/plain": [
       "GaussianNB()"
      ]
     },
     "execution_count": 12,
     "metadata": {},
     "output_type": "execute_result"
    }
   ],
   "source": [
    "clf = GaussianNB()\n",
    "clf.fit(X, y_sv)"
   ]
  },
  {
   "cell_type": "code",
   "execution_count": 13,
   "metadata": {
    "execution": {
     "iopub.execute_input": "2021-04-24T03:51:26.859032Z",
     "iopub.status.busy": "2021-04-24T03:51:26.857557Z",
     "iopub.status.idle": "2021-04-24T03:51:26.886168Z",
     "shell.execute_reply": "2021-04-24T03:51:26.886987Z"
    },
    "papermill": {
     "duration": 0.057113,
     "end_time": "2021-04-24T03:51:26.887230",
     "exception": false,
     "start_time": "2021-04-24T03:51:26.830117",
     "status": "completed"
    },
    "tags": []
   },
   "outputs": [
    {
     "name": "stdout",
     "output_type": "stream",
     "text": [
      "precision:  0.7336244541484717\n",
      "recall:  0.7336244541484717\n",
      "accuracy:  0.7336244541484717\n",
      "auc:  0.7971560846560846\n",
      "macro_fl_delivery: 0.678\n",
      "              precision    recall  f1-score   support\n",
      "\n",
      "           0       0.88      0.75      0.81       350\n",
      "           1       0.46      0.68      0.54       108\n",
      "\n",
      "    accuracy                           0.73       458\n",
      "   macro avg       0.67      0.71      0.68       458\n",
      "weighted avg       0.78      0.73      0.75       458\n",
      "\n"
     ]
    }
   ],
   "source": [
    "y_sv_pred = clf.predict(X_test)\n",
    "y_sv_proba = clf.predict_proba(X_test)[:, 1]\n",
    "\n",
    "precision = precision_score(y_sv_test, y_sv_pred, average='micro')\n",
    "recall = recall_score(y_sv_test, y_sv_pred, average='micro')\n",
    "accuracy = accuracy_score(y_sv_test, y_sv_pred)\n",
    "auc = roc_auc_score(y_sv_test, y_sv_proba, multi_class='ovr')\n",
    "\n",
    "print('precision: ', precision)\n",
    "print('recall: ', recall)\n",
    "print('accuracy: ', accuracy)\n",
    "print('auc: ', auc)\n",
    "print('macro_fl_delivery:',round(f1_score(y_sv_test, y_sv_pred,average='macro'),3))\n",
    "print(classification_report(y_sv_test, y_sv_pred))"
   ]
  },
  {
   "cell_type": "code",
   "execution_count": null,
   "metadata": {
    "papermill": {
     "duration": 0.017771,
     "end_time": "2021-04-24T03:51:26.925806",
     "exception": false,
     "start_time": "2021-04-24T03:51:26.908035",
     "status": "completed"
    },
    "tags": []
   },
   "outputs": [],
   "source": []
  },
  {
   "cell_type": "code",
   "execution_count": null,
   "metadata": {
    "papermill": {
     "duration": 0.01883,
     "end_time": "2021-04-24T03:51:26.964796",
     "exception": false,
     "start_time": "2021-04-24T03:51:26.945966",
     "status": "completed"
    },
    "tags": []
   },
   "outputs": [],
   "source": []
  }
 ],
 "metadata": {
  "kernelspec": {
   "display_name": "Python 3",
   "language": "python",
   "name": "python3"
  },
  "language_info": {
   "codemirror_mode": {
    "name": "ipython",
    "version": 3
   },
   "file_extension": ".py",
   "mimetype": "text/x-python",
   "name": "python",
   "nbconvert_exporter": "python",
   "pygments_lexer": "ipython3",
   "version": "3.8.3"
  },
  "papermill": {
   "default_parameters": {},
   "duration": 16.040103,
   "end_time": "2021-04-24T03:51:28.629911",
   "environment_variables": {},
   "exception": null,
   "input_path": "__notebook__.ipynb",
   "output_path": "__notebook__.ipynb",
   "parameters": {},
   "start_time": "2021-04-24T03:51:12.589808",
   "version": "2.3.2"
  }
 },
 "nbformat": 4,
 "nbformat_minor": 5
}
