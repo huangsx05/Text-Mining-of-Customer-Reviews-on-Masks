{
 "cells": [
  {
   "cell_type": "code",
   "execution_count": 1,
   "id": "compliant-construction",
   "metadata": {
    "execution": {
     "iopub.execute_input": "2021-04-24T03:07:23.022205Z",
     "iopub.status.busy": "2021-04-24T03:07:23.021492Z",
     "iopub.status.idle": "2021-04-24T03:07:24.124438Z",
     "shell.execute_reply": "2021-04-24T03:07:24.124984Z"
    },
    "papermill": {
     "duration": 1.11617,
     "end_time": "2021-04-24T03:07:24.125302",
     "exception": false,
     "start_time": "2021-04-24T03:07:23.009132",
     "status": "completed"
    },
    "tags": []
   },
   "outputs": [],
   "source": [
    "import pandas as pd\n",
    "import numpy as np\n",
    "import re\n",
    "from sklearn.metrics import f1_score\n",
    "import matplotlib.pyplot as plt\n",
    "import warnings\n",
    "warnings.filterwarnings('ignore')\n",
    "from sklearn.model_selection import StratifiedKFold\n",
    "\n"
   ]
  },
  {
   "cell_type": "markdown",
   "id": "adjustable-deposit",
   "metadata": {
    "papermill": {
     "duration": 0.005355,
     "end_time": "2021-04-24T03:07:24.136878",
     "exception": false,
     "start_time": "2021-04-24T03:07:24.131523",
     "status": "completed"
    },
    "tags": []
   },
   "source": [
    "## Import Data (Bert Vectors)"
   ]
  },
  {
   "cell_type": "code",
   "execution_count": 2,
   "id": "incorporate-madness",
   "metadata": {
    "execution": {
     "iopub.execute_input": "2021-04-24T03:07:24.151668Z",
     "iopub.status.busy": "2021-04-24T03:07:24.150744Z",
     "iopub.status.idle": "2021-04-24T03:07:28.383163Z",
     "shell.execute_reply": "2021-04-24T03:07:28.383619Z"
    },
    "papermill": {
     "duration": 4.241241,
     "end_time": "2021-04-24T03:07:28.383804",
     "exception": false,
     "start_time": "2021-04-24T03:07:24.142563",
     "status": "completed"
    },
    "tags": []
   },
   "outputs": [
    {
     "name": "stdout",
     "output_type": "stream",
     "text": [
      "(1065, 13)\n"
     ]
    },
    {
     "data": {
      "text/html": [
       "<div>\n",
       "<style scoped>\n",
       "    .dataframe tbody tr th:only-of-type {\n",
       "        vertical-align: middle;\n",
       "    }\n",
       "\n",
       "    .dataframe tbody tr th {\n",
       "        vertical-align: top;\n",
       "    }\n",
       "\n",
       "    .dataframe thead th {\n",
       "        text-align: right;\n",
       "    }\n",
       "</style>\n",
       "<table border=\"1\" class=\"dataframe\">\n",
       "  <thead>\n",
       "    <tr style=\"text-align: right;\">\n",
       "      <th></th>\n",
       "      <th>review_id</th>\n",
       "      <th>review_content</th>\n",
       "      <th>review_stars</th>\n",
       "      <th>delivery</th>\n",
       "      <th>product</th>\n",
       "      <th>service</th>\n",
       "      <th>bert_avg</th>\n",
       "      <th>bert_max</th>\n",
       "      <th>bert_layer0</th>\n",
       "      <th>distil_bert_avg</th>\n",
       "      <th>distil_bert_max</th>\n",
       "      <th>distil_bert_layer0</th>\n",
       "      <th>label</th>\n",
       "    </tr>\n",
       "  </thead>\n",
       "  <tbody>\n",
       "    <tr>\n",
       "      <th>0</th>\n",
       "      <td>9161</td>\n",
       "      <td>Delivery took more than a week, short expiry d...</td>\n",
       "      <td>2</td>\n",
       "      <td>1</td>\n",
       "      <td>1</td>\n",
       "      <td>0</td>\n",
       "      <td>[-0.06329992, -0.32380387, 0.35608995, -0.1268...</td>\n",
       "      <td>[0.93797976, 0.25249124, 1.1054325, 0.49609792...</td>\n",
       "      <td>[-0.19600664, -0.4481723, 0.20494524, -0.39789...</td>\n",
       "      <td>[-0.046782605, -0.27473888, 0.2780265, 0.03694...</td>\n",
       "      <td>[0.4727717, 0.23103717, 0.7197178, 0.6083572, ...</td>\n",
       "      <td>[-0.022450736, -0.34166092, 0.13424423, -0.170...</td>\n",
       "      <td>110</td>\n",
       "    </tr>\n",
       "  </tbody>\n",
       "</table>\n",
       "</div>"
      ],
      "text/plain": [
       "   review_id                                     review_content  review_stars  \\\n",
       "0       9161  Delivery took more than a week, short expiry d...             2   \n",
       "\n",
       "   delivery  product  service  \\\n",
       "0         1        1        0   \n",
       "\n",
       "                                            bert_avg  \\\n",
       "0  [-0.06329992, -0.32380387, 0.35608995, -0.1268...   \n",
       "\n",
       "                                            bert_max  \\\n",
       "0  [0.93797976, 0.25249124, 1.1054325, 0.49609792...   \n",
       "\n",
       "                                         bert_layer0  \\\n",
       "0  [-0.19600664, -0.4481723, 0.20494524, -0.39789...   \n",
       "\n",
       "                                     distil_bert_avg  \\\n",
       "0  [-0.046782605, -0.27473888, 0.2780265, 0.03694...   \n",
       "\n",
       "                                     distil_bert_max  \\\n",
       "0  [0.4727717, 0.23103717, 0.7197178, 0.6083572, ...   \n",
       "\n",
       "                                  distil_bert_layer0 label  \n",
       "0  [-0.022450736, -0.34166092, 0.13424423, -0.170...   110  "
      ]
     },
     "execution_count": 2,
     "metadata": {},
     "output_type": "execute_result"
    }
   ],
   "source": [
    "#full sentence bert vector\n",
    "file = '../input/bt5153-train-test-bert-full-sentence/train_data_bert_fullsent.csv'\n",
    "testfile = '../input/bt5153-train-test-bert-full-sentence/test_data_bert_fullsent.csv'\n",
    "\n",
    "df = pd.read_csv(file, dtype={'label':str})\n",
    "df_test = pd.read_csv(testfile, dtype={'label':str})\n",
    "\n",
    "df['distil_bert_avg'] = df['distil_bert_avg'].apply(lambda x: np.array(eval(str(x))))\n",
    "df_test['distil_bert_avg'] = df_test['distil_bert_avg'].apply(lambda x: np.array(eval(str(x))))\n",
    "\n",
    "print(df.shape)\n",
    "df.head(1)\n"
   ]
  },
  {
   "cell_type": "markdown",
   "id": "acoustic-benjamin",
   "metadata": {
    "papermill": {
     "duration": 0.006237,
     "end_time": "2021-04-24T03:07:28.397377",
     "exception": false,
     "start_time": "2021-04-24T03:07:28.391140",
     "status": "completed"
    },
    "tags": []
   },
   "source": [
    "## KNN"
   ]
  },
  {
   "cell_type": "code",
   "execution_count": 3,
   "id": "taken-contributor",
   "metadata": {
    "execution": {
     "iopub.execute_input": "2021-04-24T03:07:28.415598Z",
     "iopub.status.busy": "2021-04-24T03:07:28.414944Z",
     "iopub.status.idle": "2021-04-24T03:07:28.424086Z",
     "shell.execute_reply": "2021-04-24T03:07:28.423461Z"
    },
    "papermill": {
     "duration": 0.02048,
     "end_time": "2021-04-24T03:07:28.424232",
     "exception": false,
     "start_time": "2021-04-24T03:07:28.403752",
     "status": "completed"
    },
    "tags": []
   },
   "outputs": [],
   "source": [
    "X = df.distil_bert_avg\n",
    "X=np.array([x for x in list(X)])\n",
    "X_test = df_test.distil_bert_avg\n",
    "X_test=np.array([x for x in list(X_test)])"
   ]
  },
  {
   "cell_type": "code",
   "execution_count": 4,
   "id": "increasing-mixer",
   "metadata": {
    "execution": {
     "iopub.execute_input": "2021-04-24T03:07:28.443870Z",
     "iopub.status.busy": "2021-04-24T03:07:28.443193Z",
     "iopub.status.idle": "2021-04-24T03:07:28.446465Z",
     "shell.execute_reply": "2021-04-24T03:07:28.445779Z"
    },
    "papermill": {
     "duration": 0.015769,
     "end_time": "2021-04-24T03:07:28.446610",
     "exception": false,
     "start_time": "2021-04-24T03:07:28.430841",
     "status": "completed"
    },
    "tags": []
   },
   "outputs": [],
   "source": [
    "y_dl = df['delivery'].copy()\n",
    "y_dl_test = df_test['delivery'].copy()\n",
    "y_pd = df['product'].copy()\n",
    "y_pd_test = df_test['product'].copy()\n",
    "y_sv = df['service'].copy()\n",
    "y_sv_test = df_test['service'].copy()"
   ]
  },
  {
   "cell_type": "code",
   "execution_count": 5,
   "id": "satellite-minister",
   "metadata": {
    "execution": {
     "iopub.execute_input": "2021-04-24T03:07:28.470197Z",
     "iopub.status.busy": "2021-04-24T03:07:28.469488Z",
     "iopub.status.idle": "2021-04-24T03:07:31.805094Z",
     "shell.execute_reply": "2021-04-24T03:07:31.806428Z"
    },
    "papermill": {
     "duration": 3.353525,
     "end_time": "2021-04-24T03:07:31.806898",
     "exception": false,
     "start_time": "2021-04-24T03:07:28.453373",
     "status": "completed"
    },
    "tags": []
   },
   "outputs": [
    {
     "name": "stdout",
     "output_type": "stream",
     "text": [
      "best estimator KNeighborsClassifier(n_neighbors=13)\n",
      "precision:  0.8209606986899564\n",
      "recall:  0.8209606986899564\n",
      "accuracy:  0.8209606986899564\n",
      "auc:  0.866363128045371\n",
      "macro_fl_delivery: 0.73\n",
      "              precision    recall  f1-score   support\n",
      "\n",
      "           0       0.86      0.91      0.89       351\n",
      "           1       0.65      0.51      0.57       107\n",
      "\n",
      "    accuracy                           0.82       458\n",
      "   macro avg       0.75      0.71      0.73       458\n",
      "weighted avg       0.81      0.82      0.81       458\n",
      "\n"
     ]
    }
   ],
   "source": [
    "from sklearn.neighbors import KNeighborsClassifier\n",
    "from sklearn.metrics import precision_score, recall_score\n",
    "from sklearn.metrics import roc_auc_score, accuracy_score\n",
    "from sklearn.metrics import classification_report\n",
    "from sklearn.metrics import f1_score, make_scorer\n",
    "\n",
    "from sklearn.model_selection import GridSearchCV\n",
    "\n",
    "\n",
    "kf = StratifiedKFold(n_splits=10, shuffle=False)\n",
    "param={'n_neighbors':[1, 5,6,7,8,9,10,11,12,13,14,15,20,25]}\n",
    "\n",
    "knn_dl = KNeighborsClassifier()\n",
    "\n",
    "best_knn=GridSearchCV(estimator=knn_dl, \n",
    "                      param_grid=param, \n",
    "                      cv=kf,\n",
    "                      scoring=make_scorer(f1_score , average='macro'))\n",
    "best_knn.fit(X, y_dl)\n",
    "\n",
    "\n",
    "print('best estimator',best_knn.best_estimator_)\n",
    "# print('best params:',best_knn.best_params_)\n",
    "# print('best score:',best_knn.best_score_)\n",
    "\n",
    "knn_dl = best_knn.best_estimator_\n",
    "knn_dl.fit(X, y_dl)\n",
    "\n",
    "\n",
    "y_dl_pred = knn_dl.predict(X_test)\n",
    "y_dl_proba = knn_dl.predict_proba(X_test)[:, 1]\n",
    "\n",
    "\n",
    "precision = precision_score(y_dl_test, y_dl_pred, average='micro')\n",
    "recall = recall_score(y_dl_test, y_dl_pred, average='micro')\n",
    "accuracy = accuracy_score(y_dl_test, y_dl_pred)\n",
    "auc = roc_auc_score(y_dl_test, y_dl_proba, multi_class='ovr')\n",
    "\n",
    "print('precision: ', precision)\n",
    "print('recall: ', recall)\n",
    "print('accuracy: ', accuracy)\n",
    "print('auc: ', auc)\n",
    "print('macro_fl_delivery:',round(f1_score(y_dl_test, y_dl_pred,average='macro'),3))\n",
    "print(classification_report(y_dl_test, y_dl_pred))"
   ]
  },
  {
   "cell_type": "code",
   "execution_count": 6,
   "id": "engaging-queensland",
   "metadata": {
    "execution": {
     "iopub.execute_input": "2021-04-24T03:07:31.847407Z",
     "iopub.status.busy": "2021-04-24T03:07:31.846348Z",
     "iopub.status.idle": "2021-04-24T03:07:34.742961Z",
     "shell.execute_reply": "2021-04-24T03:07:34.743751Z"
    },
    "papermill": {
     "duration": 2.923295,
     "end_time": "2021-04-24T03:07:34.744016",
     "exception": false,
     "start_time": "2021-04-24T03:07:31.820721",
     "status": "completed"
    },
    "tags": []
   },
   "outputs": [
    {
     "name": "stdout",
     "output_type": "stream",
     "text": [
      "best estimator KNeighborsClassifier(n_neighbors=15)\n",
      "precision:  0.8275109170305677\n",
      "recall:  0.8275109170305677\n",
      "accuracy:  0.8275109170305677\n",
      "auc:  0.9107463260423786\n",
      "macro_fl_delivery: 0.808\n",
      "              precision    recall  f1-score   support\n",
      "\n",
      "           0       0.74      0.75      0.75       154\n",
      "           1       0.87      0.87      0.87       304\n",
      "\n",
      "    accuracy                           0.83       458\n",
      "   macro avg       0.81      0.81      0.81       458\n",
      "weighted avg       0.83      0.83      0.83       458\n",
      "\n"
     ]
    }
   ],
   "source": [
    "\n",
    "param={'n_neighbors':[1, 5,10,11,12,13,14,15,16,17,18,20,25]}\n",
    "\n",
    "knn_pd = KNeighborsClassifier()\n",
    "\n",
    "best_knn=GridSearchCV(estimator=knn_pd, \n",
    "                      param_grid=param, \n",
    "                      cv=kf,\n",
    "                      scoring=make_scorer(f1_score , average='macro'))\n",
    "best_knn.fit(X, y_pd)\n",
    "print('best estimator',best_knn.best_estimator_)\n",
    "knn_pd = best_knn.best_estimator_\n",
    "knn_pd.fit(X, y_pd)\n",
    "\n",
    "\n",
    "y_pd_pred = knn_pd.predict(X_test)\n",
    "y_pd_proba = knn_pd.predict_proba(X_test)[:, 1]\n",
    "\n",
    "precision = precision_score(y_pd_test, y_pd_pred, average='micro')\n",
    "recall = recall_score(y_pd_test, y_pd_pred, average='micro')\n",
    "accuracy = accuracy_score(y_pd_test, y_pd_pred)\n",
    "auc = roc_auc_score(y_pd_test, y_pd_proba, multi_class='ovr')\n",
    "\n",
    "print('precision: ', precision)\n",
    "print('recall: ', recall)\n",
    "print('accuracy: ', accuracy)\n",
    "print('auc: ', auc)\n",
    "print('macro_fl_delivery:',round(f1_score(y_pd_test, y_pd_pred,average='macro'),3))\n",
    "print(classification_report(y_pd_test, y_pd_pred))"
   ]
  },
  {
   "cell_type": "code",
   "execution_count": 7,
   "id": "suburban-insurance",
   "metadata": {
    "execution": {
     "iopub.execute_input": "2021-04-24T03:07:34.785118Z",
     "iopub.status.busy": "2021-04-24T03:07:34.784102Z",
     "iopub.status.idle": "2021-04-24T03:07:37.681449Z",
     "shell.execute_reply": "2021-04-24T03:07:37.682876Z"
    },
    "papermill": {
     "duration": 2.925195,
     "end_time": "2021-04-24T03:07:37.683290",
     "exception": false,
     "start_time": "2021-04-24T03:07:34.758095",
     "status": "completed"
    },
    "tags": []
   },
   "outputs": [
    {
     "name": "stdout",
     "output_type": "stream",
     "text": [
      "best estimator KNeighborsClassifier(n_neighbors=13)\n",
      "precision:  0.8231441048034934\n",
      "recall:  0.8231441048034934\n",
      "accuracy:  0.8231441048034934\n",
      "auc:  0.832\n",
      "macro_fl_delivery: 0.692\n",
      "              precision    recall  f1-score   support\n",
      "\n",
      "           0       0.83      0.97      0.89       350\n",
      "           1       0.76      0.36      0.49       108\n",
      "\n",
      "    accuracy                           0.82       458\n",
      "   macro avg       0.80      0.66      0.69       458\n",
      "weighted avg       0.81      0.82      0.80       458\n",
      "\n"
     ]
    }
   ],
   "source": [
    "param={'n_neighbors':[1, 5,10,11,12,13,14,15,16,17,18,20,25]}\n",
    "\n",
    "knn_sv = KNeighborsClassifier()\n",
    "\n",
    "best_knn=GridSearchCV(estimator=knn_sv, \n",
    "                      param_grid=param, \n",
    "                      cv=kf,\n",
    "                      scoring=make_scorer(f1_score , average='macro'))\n",
    "best_knn.fit(X, y_sv)\n",
    "print('best estimator',best_knn.best_estimator_)\n",
    "knn_sv = best_knn.best_estimator_\n",
    "knn_sv.fit(X, y_sv)\n",
    "\n",
    "\n",
    "\n",
    "y_sv_pred = knn_sv.predict(X_test)\n",
    "y_sv_proba = knn_sv.predict_proba(X_test)[:, 1]\n",
    "\n",
    "precision = precision_score(y_sv_test, y_sv_pred, average='micro')\n",
    "recall = recall_score(y_sv_test, y_sv_pred, average='micro')\n",
    "accuracy = accuracy_score(y_sv_test, y_sv_pred)\n",
    "auc = roc_auc_score(y_sv_test, y_sv_proba, multi_class='ovr')\n",
    "\n",
    "print('precision: ', precision)\n",
    "print('recall: ', recall)\n",
    "print('accuracy: ', accuracy)\n",
    "print('auc: ', round(auc,3))\n",
    "print('macro_fl_delivery:',round(f1_score(y_sv_test, y_sv_pred,average='macro'),3))\n",
    "print(classification_report(y_sv_test, y_sv_pred))"
   ]
  }
 ],
 "metadata": {
  "kernelspec": {
   "display_name": "Python 3",
   "language": "python",
   "name": "python3"
  },
  "language_info": {
   "codemirror_mode": {
    "name": "ipython",
    "version": 3
   },
   "file_extension": ".py",
   "mimetype": "text/x-python",
   "name": "python",
   "nbconvert_exporter": "python",
   "pygments_lexer": "ipython3",
   "version": "3.7.9"
  },
  "papermill": {
   "default_parameters": {},
   "duration": 21.090118,
   "end_time": "2021-04-24T03:07:38.309099",
   "environment_variables": {},
   "exception": null,
   "input_path": "__notebook__.ipynb",
   "output_path": "__notebook__.ipynb",
   "parameters": {},
   "start_time": "2021-04-24T03:07:17.218981",
   "version": "2.3.2"
  }
 },
 "nbformat": 4,
 "nbformat_minor": 5
}
