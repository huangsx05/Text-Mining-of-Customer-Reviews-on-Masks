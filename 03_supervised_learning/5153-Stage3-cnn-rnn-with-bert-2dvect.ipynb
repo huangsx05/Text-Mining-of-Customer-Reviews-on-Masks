{
 "cells": [
  {
   "cell_type": "code",
   "execution_count": 82,
   "metadata": {},
   "outputs": [],
   "source": [
    "import pandas as pd\n",
    "import numpy as np\n",
    "#import re\n",
    "#import nltk\n",
    "#from datetime import datetime\n",
    "#from nltk.corpus import stopwords\n",
    "#from nltk.corpus import wordnet\n",
    "#from nltk.stem import WordNetLemmatizer\n",
    "#from nltk import PorterStemmer, LancasterStemmer, SnowballStemmer\n",
    "#from nltk.tokenize import word_tokenize\n",
    "#from nltk.tokenize import sent_tokenize\n",
    "#from nltk.sentiment.vader import SentimentIntensityAnalyzer\n",
    "#from sklearn.feature_extraction.text import CountVectorizer\n",
    "#from sklearn.preprocessing import OneHotEncoder\n",
    "#from sklearn.model_selection import cross_val_score\n",
    "#import datetime\n",
    "\n",
    "from sklearn.metrics import precision_recall_curve, average_precision_score\n",
    "from sklearn.metrics import f1_score, roc_curve, auc, roc_auc_score, recall_score, precision_score, accuracy_score\n",
    "from sklearn.metrics import confusion_matrix, classification_report\n",
    "from sklearn import metrics\n",
    "\n",
    "from keras.models import Model\n",
    "import numpy as np\n",
    "from keras.layers import Input, Dense, Embedding, Activation, Flatten\n",
    "from keras.layers import Conv1D, GlobalMaxPooling1D, Dropout, Concatenate, SimpleRNN,Bidirectional\n",
    "\n",
    "from keras.utils import to_categorical\n",
    "from keras.preprocessing.sequence import pad_sequences\n",
    "from keras.preprocessing.text import Tokenizer\n",
    "\n",
    "import warnings\n",
    "warnings.filterwarnings('ignore')"
   ]
  },
  {
   "cell_type": "markdown",
   "metadata": {},
   "source": [
    "## Inputs"
   ]
  },
  {
   "cell_type": "code",
   "execution_count": 2,
   "metadata": {},
   "outputs": [],
   "source": [
    "file = '../input/negativecomments/train_data.csv'\n",
    "testfile = '../input/negativecomments/test_data.csv'\n",
    "\n",
    "rename_cols = {'Bad Delivery': 'delivery', \n",
    "               'Product':'product', \n",
    "               'Customer Service':'service'}\n",
    "\n",
    "use_cols = ['review_id', 'review_content'] + list(rename_cols.values())\n",
    "\n",
    "#seed = 5153\n",
    "#valid_ratio = 0.1\n",
    "\n",
    "#cv = 5\n",
    "#num_eval = 5 \n",
    "#score = 'accuracy'"
   ]
  },
  {
   "cell_type": "markdown",
   "metadata": {},
   "source": [
    "## Data Preparation"
   ]
  },
  {
   "cell_type": "code",
   "execution_count": 3,
   "metadata": {},
   "outputs": [],
   "source": [
    "def change_datatype(df):\n",
    "    df['review_id'] = df['review_id'].astype('int64')\n",
    "    df['delivery'] = df['delivery'].astype('int32')\n",
    "    df['product'] = df['product'].astype('int32')\n",
    "    df['service'] = df['service'].astype('int32')\n",
    "    return df"
   ]
  },
  {
   "cell_type": "code",
   "execution_count": 4,
   "metadata": {},
   "outputs": [
    {
     "name": "stdout",
     "output_type": "stream",
     "text": [
      "(1371, 5)\n"
     ]
    },
    {
     "data": {
      "text/html": [
       "<div>\n",
       "<style scoped>\n",
       "    .dataframe tbody tr th:only-of-type {\n",
       "        vertical-align: middle;\n",
       "    }\n",
       "\n",
       "    .dataframe tbody tr th {\n",
       "        vertical-align: top;\n",
       "    }\n",
       "\n",
       "    .dataframe thead th {\n",
       "        text-align: right;\n",
       "    }\n",
       "</style>\n",
       "<table border=\"1\" class=\"dataframe\">\n",
       "  <thead>\n",
       "    <tr style=\"text-align: right;\">\n",
       "      <th></th>\n",
       "      <th>review_id</th>\n",
       "      <th>review_content</th>\n",
       "      <th>delivery</th>\n",
       "      <th>product</th>\n",
       "      <th>service</th>\n",
       "    </tr>\n",
       "  </thead>\n",
       "  <tbody>\n",
       "    <tr>\n",
       "      <th>0</th>\n",
       "      <td>10880</td>\n",
       "      <td>Received well packed, Mask quality ok. But ear...</td>\n",
       "      <td>0</td>\n",
       "      <td>1</td>\n",
       "      <td>0</td>\n",
       "    </tr>\n",
       "    <tr>\n",
       "      <th>1</th>\n",
       "      <td>16711</td>\n",
       "      <td>If you are getting one mask then the price is ...</td>\n",
       "      <td>0</td>\n",
       "      <td>1</td>\n",
       "      <td>0</td>\n",
       "    </tr>\n",
       "    <tr>\n",
       "      <th>2</th>\n",
       "      <td>6351</td>\n",
       "      <td>Delivery was fast! Giving it 3 stars because I...</td>\n",
       "      <td>0</td>\n",
       "      <td>1</td>\n",
       "      <td>0</td>\n",
       "    </tr>\n",
       "  </tbody>\n",
       "</table>\n",
       "</div>"
      ],
      "text/plain": [
       "   review_id                                     review_content  delivery  \\\n",
       "0      10880  Received well packed, Mask quality ok. But ear...         0   \n",
       "1      16711  If you are getting one mask then the price is ...         0   \n",
       "2       6351  Delivery was fast! Giving it 3 stars because I...         0   \n",
       "\n",
       "   product  service  \n",
       "0        1        0  \n",
       "1        1        0  \n",
       "2        1        0  "
      ]
     },
     "execution_count": 4,
     "metadata": {},
     "output_type": "execute_result"
    }
   ],
   "source": [
    "df = pd.read_csv(file)\n",
    "df = change_datatype(df.rename(columns=rename_cols)[use_cols])\n",
    "print(df.shape)\n",
    "df.head(3)"
   ]
  },
  {
   "cell_type": "code",
   "execution_count": 5,
   "metadata": {},
   "outputs": [
    {
     "name": "stdout",
     "output_type": "stream",
     "text": [
      "(153, 5)\n"
     ]
    },
    {
     "data": {
      "text/html": [
       "<div>\n",
       "<style scoped>\n",
       "    .dataframe tbody tr th:only-of-type {\n",
       "        vertical-align: middle;\n",
       "    }\n",
       "\n",
       "    .dataframe tbody tr th {\n",
       "        vertical-align: top;\n",
       "    }\n",
       "\n",
       "    .dataframe thead th {\n",
       "        text-align: right;\n",
       "    }\n",
       "</style>\n",
       "<table border=\"1\" class=\"dataframe\">\n",
       "  <thead>\n",
       "    <tr style=\"text-align: right;\">\n",
       "      <th></th>\n",
       "      <th>review_id</th>\n",
       "      <th>review_content</th>\n",
       "      <th>delivery</th>\n",
       "      <th>product</th>\n",
       "      <th>service</th>\n",
       "    </tr>\n",
       "  </thead>\n",
       "  <tbody>\n",
       "    <tr>\n",
       "      <th>0</th>\n",
       "      <td>16748</td>\n",
       "      <td>it does not cover the entire nose</td>\n",
       "      <td>0</td>\n",
       "      <td>1</td>\n",
       "      <td>0</td>\n",
       "    </tr>\n",
       "    <tr>\n",
       "      <th>1</th>\n",
       "      <td>7936</td>\n",
       "      <td>Items received in good condition. \\nFast deliv...</td>\n",
       "      <td>0</td>\n",
       "      <td>1</td>\n",
       "      <td>0</td>\n",
       "    </tr>\n",
       "    <tr>\n",
       "      <th>2</th>\n",
       "      <td>35144</td>\n",
       "      <td>Order was not shipped by ship by date. 2 days ...</td>\n",
       "      <td>0</td>\n",
       "      <td>0</td>\n",
       "      <td>1</td>\n",
       "    </tr>\n",
       "  </tbody>\n",
       "</table>\n",
       "</div>"
      ],
      "text/plain": [
       "   review_id                                     review_content  delivery  \\\n",
       "0      16748                  it does not cover the entire nose         0   \n",
       "1       7936  Items received in good condition. \\nFast deliv...         0   \n",
       "2      35144  Order was not shipped by ship by date. 2 days ...         0   \n",
       "\n",
       "   product  service  \n",
       "0        1        0  \n",
       "1        1        0  \n",
       "2        0        1  "
      ]
     },
     "execution_count": 5,
     "metadata": {},
     "output_type": "execute_result"
    }
   ],
   "source": [
    "df_test = pd.read_csv(testfile)\n",
    "df_test = change_datatype(df_test.rename(columns=rename_cols)[use_cols])\n",
    "print(df_test.shape)\n",
    "df_test.head(3)"
   ]
  },
  {
   "cell_type": "code",
   "execution_count": 6,
   "metadata": {},
   "outputs": [],
   "source": [
    "def add_target_label(df):\n",
    "    df['label'] = df['delivery']*100 + df['product']*10 + df['service']\n",
    "    df['label'] = '00'+df['label'].astype('str')\n",
    "    df['label'] = df['label'].apply(lambda x: x[-3:])\n",
    "    return df"
   ]
  },
  {
   "cell_type": "code",
   "execution_count": 7,
   "metadata": {},
   "outputs": [
    {
     "name": "stdout",
     "output_type": "stream",
     "text": [
      "['010' '001' '100' '110' '101' '011' '111']\n"
     ]
    },
    {
     "data": {
      "text/html": [
       "<div>\n",
       "<style scoped>\n",
       "    .dataframe tbody tr th:only-of-type {\n",
       "        vertical-align: middle;\n",
       "    }\n",
       "\n",
       "    .dataframe tbody tr th {\n",
       "        vertical-align: top;\n",
       "    }\n",
       "\n",
       "    .dataframe thead th {\n",
       "        text-align: right;\n",
       "    }\n",
       "</style>\n",
       "<table border=\"1\" class=\"dataframe\">\n",
       "  <thead>\n",
       "    <tr style=\"text-align: right;\">\n",
       "      <th></th>\n",
       "      <th>review_id</th>\n",
       "      <th>review_content</th>\n",
       "      <th>delivery</th>\n",
       "      <th>product</th>\n",
       "      <th>service</th>\n",
       "      <th>label</th>\n",
       "    </tr>\n",
       "  </thead>\n",
       "  <tbody>\n",
       "    <tr>\n",
       "      <th>0</th>\n",
       "      <td>10880</td>\n",
       "      <td>Received well packed, Mask quality ok. But ear...</td>\n",
       "      <td>0</td>\n",
       "      <td>1</td>\n",
       "      <td>0</td>\n",
       "      <td>010</td>\n",
       "    </tr>\n",
       "    <tr>\n",
       "      <th>1</th>\n",
       "      <td>16711</td>\n",
       "      <td>If you are getting one mask then the price is ...</td>\n",
       "      <td>0</td>\n",
       "      <td>1</td>\n",
       "      <td>0</td>\n",
       "      <td>010</td>\n",
       "    </tr>\n",
       "    <tr>\n",
       "      <th>2</th>\n",
       "      <td>6351</td>\n",
       "      <td>Delivery was fast! Giving it 3 stars because I...</td>\n",
       "      <td>0</td>\n",
       "      <td>1</td>\n",
       "      <td>0</td>\n",
       "      <td>010</td>\n",
       "    </tr>\n",
       "  </tbody>\n",
       "</table>\n",
       "</div>"
      ],
      "text/plain": [
       "   review_id                                     review_content  delivery  \\\n",
       "0      10880  Received well packed, Mask quality ok. But ear...         0   \n",
       "1      16711  If you are getting one mask then the price is ...         0   \n",
       "2       6351  Delivery was fast! Giving it 3 stars because I...         0   \n",
       "\n",
       "   product  service label  \n",
       "0        1        0   010  \n",
       "1        1        0   010  \n",
       "2        1        0   010  "
      ]
     },
     "execution_count": 7,
     "metadata": {},
     "output_type": "execute_result"
    }
   ],
   "source": [
    "#add target label\n",
    "df = add_target_label(df)\n",
    "df.loc[df.review_id==13310, 'label'] = '010'\n",
    "print(df['label'].unique())\n",
    "df.head(3)"
   ]
  },
  {
   "cell_type": "code",
   "execution_count": 8,
   "metadata": {},
   "outputs": [
    {
     "name": "stdout",
     "output_type": "stream",
     "text": [
      "['010' '001' '101' '110' '100' '011' '111']\n"
     ]
    },
    {
     "data": {
      "text/html": [
       "<div>\n",
       "<style scoped>\n",
       "    .dataframe tbody tr th:only-of-type {\n",
       "        vertical-align: middle;\n",
       "    }\n",
       "\n",
       "    .dataframe tbody tr th {\n",
       "        vertical-align: top;\n",
       "    }\n",
       "\n",
       "    .dataframe thead th {\n",
       "        text-align: right;\n",
       "    }\n",
       "</style>\n",
       "<table border=\"1\" class=\"dataframe\">\n",
       "  <thead>\n",
       "    <tr style=\"text-align: right;\">\n",
       "      <th></th>\n",
       "      <th>review_id</th>\n",
       "      <th>review_content</th>\n",
       "      <th>delivery</th>\n",
       "      <th>product</th>\n",
       "      <th>service</th>\n",
       "      <th>label</th>\n",
       "    </tr>\n",
       "  </thead>\n",
       "  <tbody>\n",
       "    <tr>\n",
       "      <th>0</th>\n",
       "      <td>16748</td>\n",
       "      <td>it does not cover the entire nose</td>\n",
       "      <td>0</td>\n",
       "      <td>1</td>\n",
       "      <td>0</td>\n",
       "      <td>010</td>\n",
       "    </tr>\n",
       "    <tr>\n",
       "      <th>1</th>\n",
       "      <td>7936</td>\n",
       "      <td>Items received in good condition. \\nFast deliv...</td>\n",
       "      <td>0</td>\n",
       "      <td>1</td>\n",
       "      <td>0</td>\n",
       "      <td>010</td>\n",
       "    </tr>\n",
       "    <tr>\n",
       "      <th>2</th>\n",
       "      <td>35144</td>\n",
       "      <td>Order was not shipped by ship by date. 2 days ...</td>\n",
       "      <td>0</td>\n",
       "      <td>0</td>\n",
       "      <td>1</td>\n",
       "      <td>001</td>\n",
       "    </tr>\n",
       "  </tbody>\n",
       "</table>\n",
       "</div>"
      ],
      "text/plain": [
       "   review_id                                     review_content  delivery  \\\n",
       "0      16748                  it does not cover the entire nose         0   \n",
       "1       7936  Items received in good condition. \\nFast deliv...         0   \n",
       "2      35144  Order was not shipped by ship by date. 2 days ...         0   \n",
       "\n",
       "   product  service label  \n",
       "0        1        0   010  \n",
       "1        1        0   010  \n",
       "2        0        1   001  "
      ]
     },
     "execution_count": 8,
     "metadata": {},
     "output_type": "execute_result"
    }
   ],
   "source": [
    "#add target label\n",
    "df_test = add_target_label(df_test)\n",
    "df_test.loc[df_test.review_id==40625, 'label'] = '010'\n",
    "print(df_test['label'].unique())\n",
    "df_test.head(3)"
   ]
  },
  {
   "cell_type": "markdown",
   "metadata": {},
   "source": [
    "## Merge DataFrames"
   ]
  },
  {
   "cell_type": "code",
   "execution_count": 9,
   "metadata": {},
   "outputs": [
    {
     "name": "stdout",
     "output_type": "stream",
     "text": [
      "(1371, 6) (153, 6) (1524, 6)\n"
     ]
    },
    {
     "data": {
      "text/html": [
       "<div>\n",
       "<style scoped>\n",
       "    .dataframe tbody tr th:only-of-type {\n",
       "        vertical-align: middle;\n",
       "    }\n",
       "\n",
       "    .dataframe tbody tr th {\n",
       "        vertical-align: top;\n",
       "    }\n",
       "\n",
       "    .dataframe thead th {\n",
       "        text-align: right;\n",
       "    }\n",
       "</style>\n",
       "<table border=\"1\" class=\"dataframe\">\n",
       "  <thead>\n",
       "    <tr style=\"text-align: right;\">\n",
       "      <th></th>\n",
       "      <th>review_id</th>\n",
       "      <th>review_content</th>\n",
       "      <th>delivery</th>\n",
       "      <th>product</th>\n",
       "      <th>service</th>\n",
       "      <th>label</th>\n",
       "    </tr>\n",
       "  </thead>\n",
       "  <tbody>\n",
       "    <tr>\n",
       "      <th>0</th>\n",
       "      <td>10880</td>\n",
       "      <td>Received well packed, Mask quality ok. But ear...</td>\n",
       "      <td>0</td>\n",
       "      <td>1</td>\n",
       "      <td>0</td>\n",
       "      <td>010</td>\n",
       "    </tr>\n",
       "    <tr>\n",
       "      <th>1</th>\n",
       "      <td>16711</td>\n",
       "      <td>If you are getting one mask then the price is ...</td>\n",
       "      <td>0</td>\n",
       "      <td>1</td>\n",
       "      <td>0</td>\n",
       "      <td>010</td>\n",
       "    </tr>\n",
       "    <tr>\n",
       "      <th>2</th>\n",
       "      <td>6351</td>\n",
       "      <td>Delivery was fast! Giving it 3 stars because I...</td>\n",
       "      <td>0</td>\n",
       "      <td>1</td>\n",
       "      <td>0</td>\n",
       "      <td>010</td>\n",
       "    </tr>\n",
       "    <tr>\n",
       "      <th>3</th>\n",
       "      <td>33128</td>\n",
       "      <td>Too big for me</td>\n",
       "      <td>0</td>\n",
       "      <td>1</td>\n",
       "      <td>0</td>\n",
       "      <td>010</td>\n",
       "    </tr>\n",
       "    <tr>\n",
       "      <th>4</th>\n",
       "      <td>1304</td>\n",
       "      <td>Mask quality consider not bad for the price. D...</td>\n",
       "      <td>0</td>\n",
       "      <td>0</td>\n",
       "      <td>1</td>\n",
       "      <td>001</td>\n",
       "    </tr>\n",
       "    <tr>\n",
       "      <th>...</th>\n",
       "      <td>...</td>\n",
       "      <td>...</td>\n",
       "      <td>...</td>\n",
       "      <td>...</td>\n",
       "      <td>...</td>\n",
       "      <td>...</td>\n",
       "    </tr>\n",
       "    <tr>\n",
       "      <th>148</th>\n",
       "      <td>8674</td>\n",
       "      <td>Box a little damaged but product is still fine...</td>\n",
       "      <td>1</td>\n",
       "      <td>0</td>\n",
       "      <td>0</td>\n",
       "      <td>100</td>\n",
       "    </tr>\n",
       "    <tr>\n",
       "      <th>149</th>\n",
       "      <td>13363</td>\n",
       "      <td>Boxes deformed and stickers were already torn ...</td>\n",
       "      <td>1</td>\n",
       "      <td>0</td>\n",
       "      <td>1</td>\n",
       "      <td>101</td>\n",
       "    </tr>\n",
       "    <tr>\n",
       "      <th>150</th>\n",
       "      <td>32220</td>\n",
       "      <td>Fits perfectly for guys, but adult size might ...</td>\n",
       "      <td>0</td>\n",
       "      <td>1</td>\n",
       "      <td>0</td>\n",
       "      <td>010</td>\n",
       "    </tr>\n",
       "    <tr>\n",
       "      <th>151</th>\n",
       "      <td>39695</td>\n",
       "      <td>i understand you have to change the type of ma...</td>\n",
       "      <td>0</td>\n",
       "      <td>0</td>\n",
       "      <td>1</td>\n",
       "      <td>001</td>\n",
       "    </tr>\n",
       "    <tr>\n",
       "      <th>152</th>\n",
       "      <td>26545</td>\n",
       "      <td>Never come with the box,not worth it for the a...</td>\n",
       "      <td>0</td>\n",
       "      <td>1</td>\n",
       "      <td>1</td>\n",
       "      <td>011</td>\n",
       "    </tr>\n",
       "  </tbody>\n",
       "</table>\n",
       "<p>1524 rows × 6 columns</p>\n",
       "</div>"
      ],
      "text/plain": [
       "     review_id                                     review_content  delivery  \\\n",
       "0        10880  Received well packed, Mask quality ok. But ear...         0   \n",
       "1        16711  If you are getting one mask then the price is ...         0   \n",
       "2         6351  Delivery was fast! Giving it 3 stars because I...         0   \n",
       "3        33128                                     Too big for me         0   \n",
       "4         1304  Mask quality consider not bad for the price. D...         0   \n",
       "..         ...                                                ...       ...   \n",
       "148       8674  Box a little damaged but product is still fine...         1   \n",
       "149      13363  Boxes deformed and stickers were already torn ...         1   \n",
       "150      32220  Fits perfectly for guys, but adult size might ...         0   \n",
       "151      39695  i understand you have to change the type of ma...         0   \n",
       "152      26545  Never come with the box,not worth it for the a...         0   \n",
       "\n",
       "     product  service label  \n",
       "0          1        0   010  \n",
       "1          1        0   010  \n",
       "2          1        0   010  \n",
       "3          1        0   010  \n",
       "4          0        1   001  \n",
       "..       ...      ...   ...  \n",
       "148        0        0   100  \n",
       "149        0        1   101  \n",
       "150        1        0   010  \n",
       "151        0        1   001  \n",
       "152        1        1   011  \n",
       "\n",
       "[1524 rows x 6 columns]"
      ]
     },
     "execution_count": 9,
     "metadata": {},
     "output_type": "execute_result"
    }
   ],
   "source": [
    "df_all = pd.concat([df, df_test])\n",
    "print(df.shape, df_test.shape, df_all.shape)\n",
    "df_all"
   ]
  },
  {
   "cell_type": "code",
   "execution_count": 10,
   "metadata": {},
   "outputs": [
    {
     "data": {
      "text/plain": [
       "1    010\n",
       "1    010\n",
       "Name: label, dtype: object"
      ]
     },
     "execution_count": 10,
     "metadata": {},
     "output_type": "execute_result"
    }
   ],
   "source": [
    "df_all.loc[1, 'label']"
   ]
  },
  {
   "cell_type": "code",
   "execution_count": 11,
   "metadata": {},
   "outputs": [],
   "source": [
    "df_all.to_csv('df_all.csv')"
   ]
  },
  {
   "cell_type": "markdown",
   "metadata": {},
   "source": [
    "# (1) BERT Feature Extraction - BertTokenizer"
   ]
  },
  {
   "cell_type": "code",
   "execution_count": 12,
   "metadata": {},
   "outputs": [],
   "source": [
    "import torch\n",
    "from transformers import BertTokenizer, BertModel"
   ]
  },
  {
   "cell_type": "code",
   "execution_count": 13,
   "metadata": {},
   "outputs": [
    {
     "data": {
      "application/vnd.jupyter.widget-view+json": {
       "model_id": "ce7a2a2513914e21a3733d35432e4175",
       "version_major": 2,
       "version_minor": 0
      },
      "text/plain": [
       "Downloading:   0%|          | 0.00/232k [00:00<?, ?B/s]"
      ]
     },
     "metadata": {},
     "output_type": "display_data"
    },
    {
     "data": {
      "application/vnd.jupyter.widget-view+json": {
       "model_id": "dccf8bd6d0884d64835c1520b3c1ec70",
       "version_major": 2,
       "version_minor": 0
      },
      "text/plain": [
       "Downloading:   0%|          | 0.00/28.0 [00:00<?, ?B/s]"
      ]
     },
     "metadata": {},
     "output_type": "display_data"
    },
    {
     "data": {
      "application/vnd.jupyter.widget-view+json": {
       "model_id": "fe7d1686ba2c43ab9fb11e14127576e0",
       "version_major": 2,
       "version_minor": 0
      },
      "text/plain": [
       "Downloading:   0%|          | 0.00/466k [00:00<?, ?B/s]"
      ]
     },
     "metadata": {},
     "output_type": "display_data"
    },
    {
     "data": {
      "application/vnd.jupyter.widget-view+json": {
       "model_id": "587f54ca93434d25a827afc0c3aec155",
       "version_major": 2,
       "version_minor": 0
      },
      "text/plain": [
       "Downloading:   0%|          | 0.00/433 [00:00<?, ?B/s]"
      ]
     },
     "metadata": {},
     "output_type": "display_data"
    },
    {
     "data": {
      "application/vnd.jupyter.widget-view+json": {
       "model_id": "223abab1c97a4e18adfb360360a7624e",
       "version_major": 2,
       "version_minor": 0
      },
      "text/plain": [
       "Downloading:   0%|          | 0.00/440M [00:00<?, ?B/s]"
      ]
     },
     "metadata": {},
     "output_type": "display_data"
    }
   ],
   "source": [
    "# Load pre-trained model tokenizer (vocabulary)\n",
    "tokenizer = BertTokenizer.from_pretrained('bert-base-uncased')\n",
    "# Load pre-trained model tokenizer (vocabulary)\n",
    "model = BertModel.from_pretrained('bert-base-uncased')"
   ]
  },
  {
   "cell_type": "code",
   "execution_count": 14,
   "metadata": {},
   "outputs": [],
   "source": [
    "#Step 1: Tokenization\n",
    "tokenized = df_all['review_content'].apply((lambda x: tokenizer.encode(x, add_special_tokens=True)))"
   ]
  },
  {
   "cell_type": "code",
   "execution_count": 15,
   "metadata": {},
   "outputs": [
    {
     "name": "stdout",
     "output_type": "stream",
     "text": [
      "(1524, 86)\n",
      "[  101  2363  2092  8966  1010  7308  3737  7929  1012  2021  4540 15932\n",
      "  2978  4558  1998  1996  4451  6218  2081  1997  6081  3430  2029  2003\n",
      "  2025  3733  2000  6260  3426  2025  4906  2007  1996  2227  7919   102\n",
      "     0     0     0     0     0     0     0     0     0     0     0     0\n",
      "     0     0     0     0     0     0     0     0     0     0     0     0\n",
      "     0     0     0     0     0     0     0     0     0     0     0     0\n",
      "     0     0     0     0     0     0     0     0     0     0     0     0\n",
      "     0     0]\n",
      "[PAD]\n"
     ]
    }
   ],
   "source": [
    "#Step 2: Padding\n",
    "max_len = 0\n",
    "for i in tokenized.values:\n",
    "    if len(i) > max_len:\n",
    "        max_len = len(i)\n",
    "\n",
    "padded = np.array([i + [0]*(max_len-len(i)) for i in tokenized.values])\n",
    "print(padded.shape)\n",
    "print(padded[0])\n",
    "print(tokenizer.convert_ids_to_tokens(0))"
   ]
  },
  {
   "cell_type": "code",
   "execution_count": 16,
   "metadata": {},
   "outputs": [
    {
     "data": {
      "text/plain": [
       "(1524, 86)"
      ]
     },
     "execution_count": 16,
     "metadata": {},
     "output_type": "execute_result"
    }
   ],
   "source": [
    "#Step 3: Masking\n",
    "attention_mask = np.where(padded != 0, 1, 0)\n",
    "attention_mask.shape"
   ]
  },
  {
   "cell_type": "code",
   "execution_count": 17,
   "metadata": {},
   "outputs": [
    {
     "name": "stdout",
     "output_type": "stream",
     "text": [
      "CPU times: user 4min 54s, sys: 917 ms, total: 4min 55s\n",
      "Wall time: 4min 57s\n"
     ]
    }
   ],
   "source": [
    "%%time\n",
    "#Step 4: Use the pre-trained BERT Model\n",
    "input_ids = torch.tensor(padded)  \n",
    "attention_mask = torch.tensor(attention_mask)\n",
    "\n",
    "feature_list = []\n",
    "# feature_list_avg = []\n",
    "# feature_list_max = []\n",
    "with torch.no_grad():\n",
    "    for batch_idx in range(0,padded.shape[0]):\n",
    "        #BERT check 10 sample each time.\n",
    "        input_ids = torch.tensor(padded[batch_idx:batch_idx+1])  \n",
    "        used_attention_mask = torch.tensor(attention_mask[batch_idx:batch_idx+1])\n",
    "        last_hidden_states = model(input_ids, attention_mask=used_attention_mask)\n",
    "        \n",
    "        features = last_hidden_states[0][:,:,:].numpy()\n",
    "        feature_list.append(features)"
   ]
  },
  {
   "cell_type": "code",
   "execution_count": 18,
   "metadata": {},
   "outputs": [
    {
     "data": {
      "text/html": [
       "<div>\n",
       "<style scoped>\n",
       "    .dataframe tbody tr th:only-of-type {\n",
       "        vertical-align: middle;\n",
       "    }\n",
       "\n",
       "    .dataframe tbody tr th {\n",
       "        vertical-align: top;\n",
       "    }\n",
       "\n",
       "    .dataframe thead th {\n",
       "        text-align: right;\n",
       "    }\n",
       "</style>\n",
       "<table border=\"1\" class=\"dataframe\">\n",
       "  <thead>\n",
       "    <tr style=\"text-align: right;\">\n",
       "      <th></th>\n",
       "      <th>review_id</th>\n",
       "      <th>review_content</th>\n",
       "      <th>delivery</th>\n",
       "      <th>product</th>\n",
       "      <th>service</th>\n",
       "      <th>label</th>\n",
       "      <th>bert_vec_2d</th>\n",
       "    </tr>\n",
       "  </thead>\n",
       "  <tbody>\n",
       "    <tr>\n",
       "      <th>0</th>\n",
       "      <td>10880</td>\n",
       "      <td>Received well packed, Mask quality ok. But ear...</td>\n",
       "      <td>0</td>\n",
       "      <td>1</td>\n",
       "      <td>0</td>\n",
       "      <td>010</td>\n",
       "      <td>[[[-0.71355814, -0.076815225, 0.08607712, -0.0...</td>\n",
       "    </tr>\n",
       "    <tr>\n",
       "      <th>1</th>\n",
       "      <td>16711</td>\n",
       "      <td>If you are getting one mask then the price is ...</td>\n",
       "      <td>0</td>\n",
       "      <td>1</td>\n",
       "      <td>0</td>\n",
       "      <td>010</td>\n",
       "      <td>[[[-0.08130932, -0.07046799, 0.44845906, -0.05...</td>\n",
       "    </tr>\n",
       "    <tr>\n",
       "      <th>2</th>\n",
       "      <td>6351</td>\n",
       "      <td>Delivery was fast! Giving it 3 stars because I...</td>\n",
       "      <td>0</td>\n",
       "      <td>1</td>\n",
       "      <td>0</td>\n",
       "      <td>010</td>\n",
       "      <td>[[[-0.0661019, -0.16525678, 0.18251413, -0.268...</td>\n",
       "    </tr>\n",
       "    <tr>\n",
       "      <th>3</th>\n",
       "      <td>33128</td>\n",
       "      <td>Too big for me</td>\n",
       "      <td>0</td>\n",
       "      <td>1</td>\n",
       "      <td>0</td>\n",
       "      <td>010</td>\n",
       "      <td>[[[-0.45213115, 0.114288636, -0.13416263, -0.1...</td>\n",
       "    </tr>\n",
       "    <tr>\n",
       "      <th>4</th>\n",
       "      <td>1304</td>\n",
       "      <td>Mask quality consider not bad for the price. D...</td>\n",
       "      <td>0</td>\n",
       "      <td>0</td>\n",
       "      <td>1</td>\n",
       "      <td>001</td>\n",
       "      <td>[[[-0.3741603, -0.3796699, 0.5739704, 0.079023...</td>\n",
       "    </tr>\n",
       "  </tbody>\n",
       "</table>\n",
       "</div>"
      ],
      "text/plain": [
       "   review_id                                     review_content  delivery  \\\n",
       "0      10880  Received well packed, Mask quality ok. But ear...         0   \n",
       "1      16711  If you are getting one mask then the price is ...         0   \n",
       "2       6351  Delivery was fast! Giving it 3 stars because I...         0   \n",
       "3      33128                                     Too big for me         0   \n",
       "4       1304  Mask quality consider not bad for the price. D...         0   \n",
       "\n",
       "   product  service label                                        bert_vec_2d  \n",
       "0        1        0   010  [[[-0.71355814, -0.076815225, 0.08607712, -0.0...  \n",
       "1        1        0   010  [[[-0.08130932, -0.07046799, 0.44845906, -0.05...  \n",
       "2        1        0   010  [[[-0.0661019, -0.16525678, 0.18251413, -0.268...  \n",
       "3        1        0   010  [[[-0.45213115, 0.114288636, -0.13416263, -0.1...  \n",
       "4        0        1   001  [[[-0.3741603, -0.3796699, 0.5739704, 0.079023...  "
      ]
     },
     "execution_count": 18,
     "metadata": {},
     "output_type": "execute_result"
    }
   ],
   "source": [
    "df_all['bert_vec_2d'] = feature_list\n",
    "df_all.head()"
   ]
  },
  {
   "cell_type": "code",
   "execution_count": 19,
   "metadata": {},
   "outputs": [
    {
     "data": {
      "text/plain": [
       "array([[[-0.71355814, -0.07681523,  0.08607712, ..., -0.5741174 ,\n",
       "          0.17513901, -0.01610786],\n",
       "        [ 0.15930746,  0.0086108 , -0.25385755, ..., -0.04421128,\n",
       "          0.74882203,  0.47337043],\n",
       "        [-0.45033374,  0.01329796,  0.74146324, ..., -0.30378473,\n",
       "         -0.04832435, -0.40636843],\n",
       "        ...,\n",
       "        [-0.12282183, -0.21913949,  0.45437086, ..., -0.369274  ,\n",
       "          0.09420827,  0.11392747],\n",
       "        [-0.01509623, -0.16046087,  0.41565898, ..., -0.36179453,\n",
       "          0.06863031,  0.17267777],\n",
       "        [-0.10153729, -0.17985332,  0.51685977, ..., -0.2876695 ,\n",
       "         -0.0684239 ,  0.1650774 ]]], dtype=float32)"
      ]
     },
     "execution_count": 19,
     "metadata": {},
     "output_type": "execute_result"
    }
   ],
   "source": [
    "df_all.iloc[0, -1]"
   ]
  },
  {
   "cell_type": "markdown",
   "metadata": {},
   "source": [
    "# (2) BERT Feature Extraction - DistilBert"
   ]
  },
  {
   "cell_type": "code",
   "execution_count": 20,
   "metadata": {},
   "outputs": [
    {
     "data": {
      "application/vnd.jupyter.widget-view+json": {
       "model_id": "dae2c0a5388849b4b8c7410fa9e4bded",
       "version_major": 2,
       "version_minor": 0
      },
      "text/plain": [
       "Downloading:   0%|          | 0.00/232k [00:00<?, ?B/s]"
      ]
     },
     "metadata": {},
     "output_type": "display_data"
    },
    {
     "data": {
      "application/vnd.jupyter.widget-view+json": {
       "model_id": "a80ca8589aa840bb8a4e3c27c3a90fc1",
       "version_major": 2,
       "version_minor": 0
      },
      "text/plain": [
       "Downloading:   0%|          | 0.00/28.0 [00:00<?, ?B/s]"
      ]
     },
     "metadata": {},
     "output_type": "display_data"
    },
    {
     "data": {
      "application/vnd.jupyter.widget-view+json": {
       "model_id": "13070f1488ca479dbad2489daa0a790d",
       "version_major": 2,
       "version_minor": 0
      },
      "text/plain": [
       "Downloading:   0%|          | 0.00/466k [00:00<?, ?B/s]"
      ]
     },
     "metadata": {},
     "output_type": "display_data"
    },
    {
     "data": {
      "application/vnd.jupyter.widget-view+json": {
       "model_id": "13af4161f3e44b419f7d69ea1db19112",
       "version_major": 2,
       "version_minor": 0
      },
      "text/plain": [
       "Downloading:   0%|          | 0.00/442 [00:00<?, ?B/s]"
      ]
     },
     "metadata": {},
     "output_type": "display_data"
    },
    {
     "data": {
      "application/vnd.jupyter.widget-view+json": {
       "model_id": "918d40c1b99247b39a82320fc48c0f51",
       "version_major": 2,
       "version_minor": 0
      },
      "text/plain": [
       "Downloading:   0%|          | 0.00/268M [00:00<?, ?B/s]"
      ]
     },
     "metadata": {},
     "output_type": "display_data"
    }
   ],
   "source": [
    "from transformers import DistilBertTokenizer, DistilBertModel\n",
    "# Load pre-trained model tokenizer (vocabulary)\n",
    "tokenizer = DistilBertTokenizer.from_pretrained('distilbert-base-uncased')\n",
    "# Load pre-trained model (weights)\n",
    "model = DistilBertModel.from_pretrained('distilbert-base-uncased')"
   ]
  },
  {
   "cell_type": "code",
   "execution_count": 21,
   "metadata": {},
   "outputs": [
    {
     "data": {
      "text/plain": [
       "(1524, 86)"
      ]
     },
     "execution_count": 21,
     "metadata": {},
     "output_type": "execute_result"
    }
   ],
   "source": [
    "tokenized = df_all['review_content'].apply((lambda x: tokenizer.encode(x, add_special_tokens=True, max_length=512, truncation=True)))\n",
    "max_len = 0\n",
    "for i in tokenized.values:\n",
    "    if len(i) > max_len:\n",
    "        max_len = len(i)\n",
    "\n",
    "padded = np.array([i + [0]*(max_len-len(i)) for i in tokenized.values])\n",
    "attention_mask = np.where(padded != 0, 1, 0)\n",
    "attention_mask.shape"
   ]
  },
  {
   "cell_type": "code",
   "execution_count": 22,
   "metadata": {},
   "outputs": [],
   "source": [
    "max_len = 0\n",
    "for i in tokenized.values:\n",
    "    if len(i) > max_len:\n",
    "        max_len = len(i)\n",
    "\n",
    "padded = np.array([i + [0]*(max_len-len(i)) for i in tokenized.values])"
   ]
  },
  {
   "cell_type": "code",
   "execution_count": 23,
   "metadata": {},
   "outputs": [
    {
     "data": {
      "text/plain": [
       "(1524, 86)"
      ]
     },
     "execution_count": 23,
     "metadata": {},
     "output_type": "execute_result"
    }
   ],
   "source": [
    "attention_mask = np.where(padded != 0, 1, 0)\n",
    "attention_mask.shape"
   ]
  },
  {
   "cell_type": "code",
   "execution_count": 24,
   "metadata": {},
   "outputs": [
    {
     "name": "stdout",
     "output_type": "stream",
     "text": [
      "CPU times: user 2min 29s, sys: 469 ms, total: 2min 29s\n",
      "Wall time: 2min 30s\n"
     ]
    }
   ],
   "source": [
    "%%time\n",
    "feature_list_distilbert = []\n",
    "# feature_list_avg = []\n",
    "# feature_list_max = []\n",
    "with torch.no_grad():\n",
    "    for batch_idx in range(0,padded.shape[0]):\n",
    "        #BERT check 10 sample each time.\n",
    "        input_ids = torch.tensor(padded[batch_idx:batch_idx+1])  \n",
    "        used_attention_mask = torch.tensor(attention_mask[batch_idx:batch_idx+1])\n",
    "        last_hidden_states = model(input_ids, attention_mask=used_attention_mask)\n",
    "        \n",
    "        features = last_hidden_states[0][:,:,:].numpy()\n",
    "        feature_list_distilbert.append(features)\n",
    "        #Get the embeddings for the [CLS] tag (position is 0)\n",
    "        #features_layer0 = last_hidden_states[0][:,0,:].numpy()\n",
    "        #features_avg = np.mean(last_hidden_states[0].numpy(),axis=1)\n",
    "        #features_max = np.max(last_hidden_states[0].numpy(),axis=1)\n",
    "        #feature_list_layer0.append(features_layer0)\n",
    "        #feature_list_avg.append(features_avg)\n",
    "        #feature_list_max.append(features_max)\n",
    "        "
   ]
  },
  {
   "cell_type": "code",
   "execution_count": 25,
   "metadata": {},
   "outputs": [
    {
     "name": "stdout",
     "output_type": "stream",
     "text": [
      "(1524, 86, 768)\n"
     ]
    }
   ],
   "source": [
    "# preprare features\n",
    "# features_layer0 = np.vstack(feature_list_layer0)\n",
    "# print(features_layer0.shape)\n",
    "\n",
    "# features_avg = np.vstack(feature_list_avg)\n",
    "# print(features_avg.shape)\n",
    "\n",
    "# features_max = np.vstack(feature_list_max)\n",
    "# print(features_max.shape)\n",
    "\n",
    "features_all = np.vstack(feature_list)\n",
    "print(features_all.shape)"
   ]
  },
  {
   "cell_type": "code",
   "execution_count": 26,
   "metadata": {},
   "outputs": [
    {
     "data": {
      "text/html": [
       "<div>\n",
       "<style scoped>\n",
       "    .dataframe tbody tr th:only-of-type {\n",
       "        vertical-align: middle;\n",
       "    }\n",
       "\n",
       "    .dataframe tbody tr th {\n",
       "        vertical-align: top;\n",
       "    }\n",
       "\n",
       "    .dataframe thead th {\n",
       "        text-align: right;\n",
       "    }\n",
       "</style>\n",
       "<table border=\"1\" class=\"dataframe\">\n",
       "  <thead>\n",
       "    <tr style=\"text-align: right;\">\n",
       "      <th></th>\n",
       "      <th>review_id</th>\n",
       "      <th>review_content</th>\n",
       "      <th>delivery</th>\n",
       "      <th>product</th>\n",
       "      <th>service</th>\n",
       "      <th>label</th>\n",
       "      <th>bert_vec_2d</th>\n",
       "      <th>distilbert_vec_2d</th>\n",
       "    </tr>\n",
       "  </thead>\n",
       "  <tbody>\n",
       "    <tr>\n",
       "      <th>0</th>\n",
       "      <td>10880</td>\n",
       "      <td>Received well packed, Mask quality ok. But ear...</td>\n",
       "      <td>0</td>\n",
       "      <td>1</td>\n",
       "      <td>0</td>\n",
       "      <td>010</td>\n",
       "      <td>[[[-0.71355814, -0.076815225, 0.08607712, -0.0...</td>\n",
       "      <td>[[[-0.2146607, -0.004405518, 0.1835633, -0.107...</td>\n",
       "    </tr>\n",
       "    <tr>\n",
       "      <th>1</th>\n",
       "      <td>16711</td>\n",
       "      <td>If you are getting one mask then the price is ...</td>\n",
       "      <td>0</td>\n",
       "      <td>1</td>\n",
       "      <td>0</td>\n",
       "      <td>010</td>\n",
       "      <td>[[[-0.08130932, -0.07046799, 0.44845906, -0.05...</td>\n",
       "      <td>[[[0.08736028, -0.008792455, 0.21259484, -0.18...</td>\n",
       "    </tr>\n",
       "    <tr>\n",
       "      <th>2</th>\n",
       "      <td>6351</td>\n",
       "      <td>Delivery was fast! Giving it 3 stars because I...</td>\n",
       "      <td>0</td>\n",
       "      <td>1</td>\n",
       "      <td>0</td>\n",
       "      <td>010</td>\n",
       "      <td>[[[-0.0661019, -0.16525678, 0.18251413, -0.268...</td>\n",
       "      <td>[[[0.047636323, -0.019825457, 0.14735073, -0.0...</td>\n",
       "    </tr>\n",
       "    <tr>\n",
       "      <th>3</th>\n",
       "      <td>33128</td>\n",
       "      <td>Too big for me</td>\n",
       "      <td>0</td>\n",
       "      <td>1</td>\n",
       "      <td>0</td>\n",
       "      <td>010</td>\n",
       "      <td>[[[-0.45213115, 0.114288636, -0.13416263, -0.1...</td>\n",
       "      <td>[[[-0.1816419, -0.120666966, 0.108133174, -0.2...</td>\n",
       "    </tr>\n",
       "    <tr>\n",
       "      <th>4</th>\n",
       "      <td>1304</td>\n",
       "      <td>Mask quality consider not bad for the price. D...</td>\n",
       "      <td>0</td>\n",
       "      <td>0</td>\n",
       "      <td>1</td>\n",
       "      <td>001</td>\n",
       "      <td>[[[-0.3741603, -0.3796699, 0.5739704, 0.079023...</td>\n",
       "      <td>[[[-0.24662277, -0.23489419, 0.08370317, 0.217...</td>\n",
       "    </tr>\n",
       "  </tbody>\n",
       "</table>\n",
       "</div>"
      ],
      "text/plain": [
       "   review_id                                     review_content  delivery  \\\n",
       "0      10880  Received well packed, Mask quality ok. But ear...         0   \n",
       "1      16711  If you are getting one mask then the price is ...         0   \n",
       "2       6351  Delivery was fast! Giving it 3 stars because I...         0   \n",
       "3      33128                                     Too big for me         0   \n",
       "4       1304  Mask quality consider not bad for the price. D...         0   \n",
       "\n",
       "   product  service label                                        bert_vec_2d  \\\n",
       "0        1        0   010  [[[-0.71355814, -0.076815225, 0.08607712, -0.0...   \n",
       "1        1        0   010  [[[-0.08130932, -0.07046799, 0.44845906, -0.05...   \n",
       "2        1        0   010  [[[-0.0661019, -0.16525678, 0.18251413, -0.268...   \n",
       "3        1        0   010  [[[-0.45213115, 0.114288636, -0.13416263, -0.1...   \n",
       "4        0        1   001  [[[-0.3741603, -0.3796699, 0.5739704, 0.079023...   \n",
       "\n",
       "                                   distilbert_vec_2d  \n",
       "0  [[[-0.2146607, -0.004405518, 0.1835633, -0.107...  \n",
       "1  [[[0.08736028, -0.008792455, 0.21259484, -0.18...  \n",
       "2  [[[0.047636323, -0.019825457, 0.14735073, -0.0...  \n",
       "3  [[[-0.1816419, -0.120666966, 0.108133174, -0.2...  \n",
       "4  [[[-0.24662277, -0.23489419, 0.08370317, 0.217...  "
      ]
     },
     "execution_count": 26,
     "metadata": {},
     "output_type": "execute_result"
    }
   ],
   "source": [
    "df_all['distilbert_vec_2d'] = feature_list_distilbert\n",
    "df_all.head()"
   ]
  },
  {
   "cell_type": "code",
   "execution_count": 35,
   "metadata": {},
   "outputs": [
    {
     "data": {
      "text/plain": [
       "numpy.ndarray"
      ]
     },
     "execution_count": 35,
     "metadata": {},
     "output_type": "execute_result"
    }
   ],
   "source": [
    "type(df_all.iloc[0, -1])"
   ]
  },
  {
   "cell_type": "code",
   "execution_count": 28,
   "metadata": {},
   "outputs": [],
   "source": [
    "# def save_to_dic(keys, values):\n",
    "#     dic = {}\n",
    "#     for i, key in enumerate(keys):\n",
    "#         dic[key] = list(values[i])\n",
    "#     return dic\n",
    "\n",
    "# def save_dic_to_txt(save_name, dic):\n",
    "#     f = open(save_name, 'w')\n",
    "#     f.write(str(dic))\n",
    "#     f.close()"
   ]
  },
  {
   "cell_type": "code",
   "execution_count": 29,
   "metadata": {},
   "outputs": [],
   "source": [
    "# bert_2d_dict = save_to_dic(df_all.review_id, feature_list)\n",
    "# save_dic_to_txt('bert_2d_dict.txt', bert_2d_dict)"
   ]
  },
  {
   "cell_type": "code",
   "execution_count": 30,
   "metadata": {},
   "outputs": [],
   "source": [
    "# distilbert_2d_dict = save_to_dic(df_all.review_id, feature_list_distilbert)\n",
    "# save_dic_to_txt('distilbert_2d_dict.txt', distilbert_2d_dict)"
   ]
  },
  {
   "cell_type": "code",
   "execution_count": 31,
   "metadata": {},
   "outputs": [
    {
     "data": {
      "text/html": [
       "<div>\n",
       "<style scoped>\n",
       "    .dataframe tbody tr th:only-of-type {\n",
       "        vertical-align: middle;\n",
       "    }\n",
       "\n",
       "    .dataframe tbody tr th {\n",
       "        vertical-align: top;\n",
       "    }\n",
       "\n",
       "    .dataframe thead th {\n",
       "        text-align: right;\n",
       "    }\n",
       "</style>\n",
       "<table border=\"1\" class=\"dataframe\">\n",
       "  <thead>\n",
       "    <tr style=\"text-align: right;\">\n",
       "      <th></th>\n",
       "      <th>review_id</th>\n",
       "      <th>review_content</th>\n",
       "      <th>review_stars</th>\n",
       "      <th>delivery</th>\n",
       "      <th>product</th>\n",
       "      <th>service</th>\n",
       "      <th>bert_avg</th>\n",
       "      <th>bert_max</th>\n",
       "      <th>bert_layer0</th>\n",
       "      <th>distil_bert_avg</th>\n",
       "      <th>distil_bert_max</th>\n",
       "      <th>distil_bert_layer0</th>\n",
       "      <th>label</th>\n",
       "    </tr>\n",
       "  </thead>\n",
       "  <tbody>\n",
       "    <tr>\n",
       "      <th>0</th>\n",
       "      <td>9161</td>\n",
       "      <td>Delivery took more than a week, short expiry d...</td>\n",
       "      <td>2</td>\n",
       "      <td>1</td>\n",
       "      <td>1</td>\n",
       "      <td>0</td>\n",
       "      <td>[-0.06329992, -0.32380387, 0.35608995, -0.1268...</td>\n",
       "      <td>[0.93797976, 0.25249124, 1.1054325, 0.49609792...</td>\n",
       "      <td>[-0.19600664, -0.4481723, 0.20494524, -0.39789...</td>\n",
       "      <td>[-0.046782605, -0.27473888, 0.2780265, 0.03694...</td>\n",
       "      <td>[0.4727717, 0.23103717, 0.7197178, 0.6083572, ...</td>\n",
       "      <td>[-0.022450736, -0.34166092, 0.13424423, -0.170...</td>\n",
       "      <td>110</td>\n",
       "    </tr>\n",
       "    <tr>\n",
       "      <th>1</th>\n",
       "      <td>8198</td>\n",
       "      <td>Quality is so-so, loops are too huge resulting...</td>\n",
       "      <td>3</td>\n",
       "      <td>0</td>\n",
       "      <td>1</td>\n",
       "      <td>0</td>\n",
       "      <td>[0.19020107, -0.3453789, 0.3494842, 0.14938574...</td>\n",
       "      <td>[1.1594802, 0.60506886, 1.084206, 0.8051733, 0...</td>\n",
       "      <td>[0.04546422, -0.29597518, -0.35977763, -0.4039...</td>\n",
       "      <td>[0.1399654, -0.11672436, 0.23911656, 0.1187961...</td>\n",
       "      <td>[0.8445691, 0.4961368, 0.7105234, 0.6109599, 0...</td>\n",
       "      <td>[0.12642525, -0.1857245, 0.08149249, -0.019622...</td>\n",
       "      <td>010</td>\n",
       "    </tr>\n",
       "    <tr>\n",
       "      <th>2</th>\n",
       "      <td>5314</td>\n",
       "      <td>Received within 3days. Well packed in a carton...</td>\n",
       "      <td>4</td>\n",
       "      <td>0</td>\n",
       "      <td>1</td>\n",
       "      <td>0</td>\n",
       "      <td>[-0.028732965, -0.14712504, 0.36105582, 0.0254...</td>\n",
       "      <td>[1.3182856, 0.7953221, 1.3915914, 0.87499446, ...</td>\n",
       "      <td>[-0.38282838, -0.22101544, 0.6115111, -0.33658...</td>\n",
       "      <td>[0.07374873, -0.01620108, 0.20269494, 0.149083...</td>\n",
       "      <td>[0.76418287, 0.48008785, 0.97139245, 0.5615782...</td>\n",
       "      <td>[0.026645288, -0.27306008, 0.20750262, 0.05986...</td>\n",
       "      <td>010</td>\n",
       "    </tr>\n",
       "    <tr>\n",
       "      <th>3</th>\n",
       "      <td>17589</td>\n",
       "      <td>Not sure if these were the authentic as I brou...</td>\n",
       "      <td>3</td>\n",
       "      <td>0</td>\n",
       "      <td>1</td>\n",
       "      <td>0</td>\n",
       "      <td>[0.3033499, 0.02644875, 0.16410081, 0.04581299...</td>\n",
       "      <td>[1.2807441, 0.85781705, 0.80655, 0.49130562, 0...</td>\n",
       "      <td>[-0.078149214, 0.117149524, 0.04559862, -0.218...</td>\n",
       "      <td>[0.18770164, 0.114881225, 0.08257794, 0.121869...</td>\n",
       "      <td>[0.9882787, 0.5043827, 0.54232115, 0.44097498,...</td>\n",
       "      <td>[0.23179623, 0.050810635, 0.07551272, -0.15587...</td>\n",
       "      <td>010</td>\n",
       "    </tr>\n",
       "    <tr>\n",
       "      <th>4</th>\n",
       "      <td>31446</td>\n",
       "      <td>its a fashion mask. no filter so no protection...</td>\n",
       "      <td>3</td>\n",
       "      <td>0</td>\n",
       "      <td>1</td>\n",
       "      <td>0</td>\n",
       "      <td>[-0.18616518, -0.38300017, 0.52194715, 0.18413...</td>\n",
       "      <td>[0.65815246, 0.20897251, 1.0151551, 0.48899576...</td>\n",
       "      <td>[-0.29987, -0.26352054, 0.3190687, -0.22115439...</td>\n",
       "      <td>[-0.0903255, -0.1808794, 0.33290026, 0.2622123...</td>\n",
       "      <td>[0.66676205, 0.099603325, 0.8990194, 0.5398592...</td>\n",
       "      <td>[-0.34698877, -0.3470553, 0.3122651, 0.0037901...</td>\n",
       "      <td>010</td>\n",
       "    </tr>\n",
       "  </tbody>\n",
       "</table>\n",
       "</div>"
      ],
      "text/plain": [
       "   review_id                                     review_content  review_stars  \\\n",
       "0       9161  Delivery took more than a week, short expiry d...             2   \n",
       "1       8198  Quality is so-so, loops are too huge resulting...             3   \n",
       "2       5314  Received within 3days. Well packed in a carton...             4   \n",
       "3      17589  Not sure if these were the authentic as I brou...             3   \n",
       "4      31446  its a fashion mask. no filter so no protection...             3   \n",
       "\n",
       "   delivery  product  service  \\\n",
       "0         1        1        0   \n",
       "1         0        1        0   \n",
       "2         0        1        0   \n",
       "3         0        1        0   \n",
       "4         0        1        0   \n",
       "\n",
       "                                            bert_avg  \\\n",
       "0  [-0.06329992, -0.32380387, 0.35608995, -0.1268...   \n",
       "1  [0.19020107, -0.3453789, 0.3494842, 0.14938574...   \n",
       "2  [-0.028732965, -0.14712504, 0.36105582, 0.0254...   \n",
       "3  [0.3033499, 0.02644875, 0.16410081, 0.04581299...   \n",
       "4  [-0.18616518, -0.38300017, 0.52194715, 0.18413...   \n",
       "\n",
       "                                            bert_max  \\\n",
       "0  [0.93797976, 0.25249124, 1.1054325, 0.49609792...   \n",
       "1  [1.1594802, 0.60506886, 1.084206, 0.8051733, 0...   \n",
       "2  [1.3182856, 0.7953221, 1.3915914, 0.87499446, ...   \n",
       "3  [1.2807441, 0.85781705, 0.80655, 0.49130562, 0...   \n",
       "4  [0.65815246, 0.20897251, 1.0151551, 0.48899576...   \n",
       "\n",
       "                                         bert_layer0  \\\n",
       "0  [-0.19600664, -0.4481723, 0.20494524, -0.39789...   \n",
       "1  [0.04546422, -0.29597518, -0.35977763, -0.4039...   \n",
       "2  [-0.38282838, -0.22101544, 0.6115111, -0.33658...   \n",
       "3  [-0.078149214, 0.117149524, 0.04559862, -0.218...   \n",
       "4  [-0.29987, -0.26352054, 0.3190687, -0.22115439...   \n",
       "\n",
       "                                     distil_bert_avg  \\\n",
       "0  [-0.046782605, -0.27473888, 0.2780265, 0.03694...   \n",
       "1  [0.1399654, -0.11672436, 0.23911656, 0.1187961...   \n",
       "2  [0.07374873, -0.01620108, 0.20269494, 0.149083...   \n",
       "3  [0.18770164, 0.114881225, 0.08257794, 0.121869...   \n",
       "4  [-0.0903255, -0.1808794, 0.33290026, 0.2622123...   \n",
       "\n",
       "                                     distil_bert_max  \\\n",
       "0  [0.4727717, 0.23103717, 0.7197178, 0.6083572, ...   \n",
       "1  [0.8445691, 0.4961368, 0.7105234, 0.6109599, 0...   \n",
       "2  [0.76418287, 0.48008785, 0.97139245, 0.5615782...   \n",
       "3  [0.9882787, 0.5043827, 0.54232115, 0.44097498,...   \n",
       "4  [0.66676205, 0.099603325, 0.8990194, 0.5398592...   \n",
       "\n",
       "                                  distil_bert_layer0 label  \n",
       "0  [-0.022450736, -0.34166092, 0.13424423, -0.170...   110  \n",
       "1  [0.12642525, -0.1857245, 0.08149249, -0.019622...   010  \n",
       "2  [0.026645288, -0.27306008, 0.20750262, 0.05986...   010  \n",
       "3  [0.23179623, 0.050810635, 0.07551272, -0.15587...   010  \n",
       "4  [-0.34698877, -0.3470553, 0.3122651, 0.0037901...   010  "
      ]
     },
     "execution_count": 31,
     "metadata": {},
     "output_type": "execute_result"
    }
   ],
   "source": [
    "train = pd.read_csv('../input/bt5153traintestbertfullsentence/train_data_bert_fullsent.csv', dtype={'label':str})\n",
    "test = pd.read_csv('../input/bt5153traintestbertfullsentence/test_data_bert_fullsent.csv', dtype={'label':str})\n",
    "train.head()"
   ]
  },
  {
   "cell_type": "code",
   "execution_count": 32,
   "metadata": {},
   "outputs": [
    {
     "data": {
      "text/html": [
       "<div>\n",
       "<style scoped>\n",
       "    .dataframe tbody tr th:only-of-type {\n",
       "        vertical-align: middle;\n",
       "    }\n",
       "\n",
       "    .dataframe tbody tr th {\n",
       "        vertical-align: top;\n",
       "    }\n",
       "\n",
       "    .dataframe thead th {\n",
       "        text-align: right;\n",
       "    }\n",
       "</style>\n",
       "<table border=\"1\" class=\"dataframe\">\n",
       "  <thead>\n",
       "    <tr style=\"text-align: right;\">\n",
       "      <th></th>\n",
       "      <th>review_id</th>\n",
       "      <th>review_content</th>\n",
       "      <th>review_stars</th>\n",
       "      <th>delivery</th>\n",
       "      <th>product</th>\n",
       "      <th>service</th>\n",
       "      <th>bert_avg</th>\n",
       "      <th>bert_max</th>\n",
       "      <th>bert_layer0</th>\n",
       "      <th>distil_bert_avg</th>\n",
       "      <th>distil_bert_max</th>\n",
       "      <th>distil_bert_layer0</th>\n",
       "      <th>label</th>\n",
       "      <th>bert_vec_2d</th>\n",
       "      <th>distilbert_vec_2d</th>\n",
       "    </tr>\n",
       "  </thead>\n",
       "  <tbody>\n",
       "    <tr>\n",
       "      <th>0</th>\n",
       "      <td>9161</td>\n",
       "      <td>Delivery took more than a week, short expiry d...</td>\n",
       "      <td>2</td>\n",
       "      <td>1</td>\n",
       "      <td>1</td>\n",
       "      <td>0</td>\n",
       "      <td>[-0.06329992, -0.32380387, 0.35608995, -0.1268...</td>\n",
       "      <td>[0.93797976, 0.25249124, 1.1054325, 0.49609792...</td>\n",
       "      <td>[-0.19600664, -0.4481723, 0.20494524, -0.39789...</td>\n",
       "      <td>[-0.046782605, -0.27473888, 0.2780265, 0.03694...</td>\n",
       "      <td>[0.4727717, 0.23103717, 0.7197178, 0.6083572, ...</td>\n",
       "      <td>[-0.022450736, -0.34166092, 0.13424423, -0.170...</td>\n",
       "      <td>110</td>\n",
       "      <td>[[[-0.19600664, -0.4481723, 0.20494524, -0.397...</td>\n",
       "      <td>[[[-0.022450736, -0.34166092, 0.13424423, -0.1...</td>\n",
       "    </tr>\n",
       "    <tr>\n",
       "      <th>1</th>\n",
       "      <td>8198</td>\n",
       "      <td>Quality is so-so, loops are too huge resulting...</td>\n",
       "      <td>3</td>\n",
       "      <td>0</td>\n",
       "      <td>1</td>\n",
       "      <td>0</td>\n",
       "      <td>[0.19020107, -0.3453789, 0.3494842, 0.14938574...</td>\n",
       "      <td>[1.1594802, 0.60506886, 1.084206, 0.8051733, 0...</td>\n",
       "      <td>[0.04546422, -0.29597518, -0.35977763, -0.4039...</td>\n",
       "      <td>[0.1399654, -0.11672436, 0.23911656, 0.1187961...</td>\n",
       "      <td>[0.8445691, 0.4961368, 0.7105234, 0.6109599, 0...</td>\n",
       "      <td>[0.12642525, -0.1857245, 0.08149249, -0.019622...</td>\n",
       "      <td>010</td>\n",
       "      <td>[[[0.04546422, -0.29597518, -0.35977763, -0.40...</td>\n",
       "      <td>[[[0.12642525, -0.1857245, 0.08149249, -0.0196...</td>\n",
       "    </tr>\n",
       "    <tr>\n",
       "      <th>2</th>\n",
       "      <td>5314</td>\n",
       "      <td>Received within 3days. Well packed in a carton...</td>\n",
       "      <td>4</td>\n",
       "      <td>0</td>\n",
       "      <td>1</td>\n",
       "      <td>0</td>\n",
       "      <td>[-0.028732965, -0.14712504, 0.36105582, 0.0254...</td>\n",
       "      <td>[1.3182856, 0.7953221, 1.3915914, 0.87499446, ...</td>\n",
       "      <td>[-0.38282838, -0.22101544, 0.6115111, -0.33658...</td>\n",
       "      <td>[0.07374873, -0.01620108, 0.20269494, 0.149083...</td>\n",
       "      <td>[0.76418287, 0.48008785, 0.97139245, 0.5615782...</td>\n",
       "      <td>[0.026645288, -0.27306008, 0.20750262, 0.05986...</td>\n",
       "      <td>010</td>\n",
       "      <td>[[[-0.38282838, -0.22101544, 0.6115111, -0.336...</td>\n",
       "      <td>[[[0.026645288, -0.27306008, 0.20750262, 0.059...</td>\n",
       "    </tr>\n",
       "    <tr>\n",
       "      <th>3</th>\n",
       "      <td>17589</td>\n",
       "      <td>Not sure if these were the authentic as I brou...</td>\n",
       "      <td>3</td>\n",
       "      <td>0</td>\n",
       "      <td>1</td>\n",
       "      <td>0</td>\n",
       "      <td>[0.3033499, 0.02644875, 0.16410081, 0.04581299...</td>\n",
       "      <td>[1.2807441, 0.85781705, 0.80655, 0.49130562, 0...</td>\n",
       "      <td>[-0.078149214, 0.117149524, 0.04559862, -0.218...</td>\n",
       "      <td>[0.18770164, 0.114881225, 0.08257794, 0.121869...</td>\n",
       "      <td>[0.9882787, 0.5043827, 0.54232115, 0.44097498,...</td>\n",
       "      <td>[0.23179623, 0.050810635, 0.07551272, -0.15587...</td>\n",
       "      <td>010</td>\n",
       "      <td>[[[-0.078149214, 0.117149524, 0.04559862, -0.2...</td>\n",
       "      <td>[[[0.23179623, 0.050810635, 0.07551272, -0.155...</td>\n",
       "    </tr>\n",
       "    <tr>\n",
       "      <th>4</th>\n",
       "      <td>31446</td>\n",
       "      <td>its a fashion mask. no filter so no protection...</td>\n",
       "      <td>3</td>\n",
       "      <td>0</td>\n",
       "      <td>1</td>\n",
       "      <td>0</td>\n",
       "      <td>[-0.18616518, -0.38300017, 0.52194715, 0.18413...</td>\n",
       "      <td>[0.65815246, 0.20897251, 1.0151551, 0.48899576...</td>\n",
       "      <td>[-0.29987, -0.26352054, 0.3190687, -0.22115439...</td>\n",
       "      <td>[-0.0903255, -0.1808794, 0.33290026, 0.2622123...</td>\n",
       "      <td>[0.66676205, 0.099603325, 0.8990194, 0.5398592...</td>\n",
       "      <td>[-0.34698877, -0.3470553, 0.3122651, 0.0037901...</td>\n",
       "      <td>010</td>\n",
       "      <td>[[[-0.29987, -0.26352054, 0.3190687, -0.221154...</td>\n",
       "      <td>[[[-0.34698877, -0.3470553, 0.3122651, 0.00379...</td>\n",
       "    </tr>\n",
       "  </tbody>\n",
       "</table>\n",
       "</div>"
      ],
      "text/plain": [
       "   review_id                                     review_content  review_stars  \\\n",
       "0       9161  Delivery took more than a week, short expiry d...             2   \n",
       "1       8198  Quality is so-so, loops are too huge resulting...             3   \n",
       "2       5314  Received within 3days. Well packed in a carton...             4   \n",
       "3      17589  Not sure if these were the authentic as I brou...             3   \n",
       "4      31446  its a fashion mask. no filter so no protection...             3   \n",
       "\n",
       "   delivery  product  service  \\\n",
       "0         1        1        0   \n",
       "1         0        1        0   \n",
       "2         0        1        0   \n",
       "3         0        1        0   \n",
       "4         0        1        0   \n",
       "\n",
       "                                            bert_avg  \\\n",
       "0  [-0.06329992, -0.32380387, 0.35608995, -0.1268...   \n",
       "1  [0.19020107, -0.3453789, 0.3494842, 0.14938574...   \n",
       "2  [-0.028732965, -0.14712504, 0.36105582, 0.0254...   \n",
       "3  [0.3033499, 0.02644875, 0.16410081, 0.04581299...   \n",
       "4  [-0.18616518, -0.38300017, 0.52194715, 0.18413...   \n",
       "\n",
       "                                            bert_max  \\\n",
       "0  [0.93797976, 0.25249124, 1.1054325, 0.49609792...   \n",
       "1  [1.1594802, 0.60506886, 1.084206, 0.8051733, 0...   \n",
       "2  [1.3182856, 0.7953221, 1.3915914, 0.87499446, ...   \n",
       "3  [1.2807441, 0.85781705, 0.80655, 0.49130562, 0...   \n",
       "4  [0.65815246, 0.20897251, 1.0151551, 0.48899576...   \n",
       "\n",
       "                                         bert_layer0  \\\n",
       "0  [-0.19600664, -0.4481723, 0.20494524, -0.39789...   \n",
       "1  [0.04546422, -0.29597518, -0.35977763, -0.4039...   \n",
       "2  [-0.38282838, -0.22101544, 0.6115111, -0.33658...   \n",
       "3  [-0.078149214, 0.117149524, 0.04559862, -0.218...   \n",
       "4  [-0.29987, -0.26352054, 0.3190687, -0.22115439...   \n",
       "\n",
       "                                     distil_bert_avg  \\\n",
       "0  [-0.046782605, -0.27473888, 0.2780265, 0.03694...   \n",
       "1  [0.1399654, -0.11672436, 0.23911656, 0.1187961...   \n",
       "2  [0.07374873, -0.01620108, 0.20269494, 0.149083...   \n",
       "3  [0.18770164, 0.114881225, 0.08257794, 0.121869...   \n",
       "4  [-0.0903255, -0.1808794, 0.33290026, 0.2622123...   \n",
       "\n",
       "                                     distil_bert_max  \\\n",
       "0  [0.4727717, 0.23103717, 0.7197178, 0.6083572, ...   \n",
       "1  [0.8445691, 0.4961368, 0.7105234, 0.6109599, 0...   \n",
       "2  [0.76418287, 0.48008785, 0.97139245, 0.5615782...   \n",
       "3  [0.9882787, 0.5043827, 0.54232115, 0.44097498,...   \n",
       "4  [0.66676205, 0.099603325, 0.8990194, 0.5398592...   \n",
       "\n",
       "                                  distil_bert_layer0 label  \\\n",
       "0  [-0.022450736, -0.34166092, 0.13424423, -0.170...   110   \n",
       "1  [0.12642525, -0.1857245, 0.08149249, -0.019622...   010   \n",
       "2  [0.026645288, -0.27306008, 0.20750262, 0.05986...   010   \n",
       "3  [0.23179623, 0.050810635, 0.07551272, -0.15587...   010   \n",
       "4  [-0.34698877, -0.3470553, 0.3122651, 0.0037901...   010   \n",
       "\n",
       "                                         bert_vec_2d  \\\n",
       "0  [[[-0.19600664, -0.4481723, 0.20494524, -0.397...   \n",
       "1  [[[0.04546422, -0.29597518, -0.35977763, -0.40...   \n",
       "2  [[[-0.38282838, -0.22101544, 0.6115111, -0.336...   \n",
       "3  [[[-0.078149214, 0.117149524, 0.04559862, -0.2...   \n",
       "4  [[[-0.29987, -0.26352054, 0.3190687, -0.221154...   \n",
       "\n",
       "                                   distilbert_vec_2d  \n",
       "0  [[[-0.022450736, -0.34166092, 0.13424423, -0.1...  \n",
       "1  [[[0.12642525, -0.1857245, 0.08149249, -0.0196...  \n",
       "2  [[[0.026645288, -0.27306008, 0.20750262, 0.059...  \n",
       "3  [[[0.23179623, 0.050810635, 0.07551272, -0.155...  \n",
       "4  [[[-0.34698877, -0.3470553, 0.3122651, 0.00379...  "
      ]
     },
     "execution_count": 32,
     "metadata": {},
     "output_type": "execute_result"
    }
   ],
   "source": [
    "train = train.merge(df_all[['review_id', 'bert_vec_2d', 'distilbert_vec_2d']], on='review_id')\n",
    "train.head()"
   ]
  },
  {
   "cell_type": "code",
   "execution_count": 33,
   "metadata": {},
   "outputs": [],
   "source": [
    "test = test.merge(df_all[['review_id', 'bert_vec_2d', 'distilbert_vec_2d']], on='review_id')"
   ]
  },
  {
   "cell_type": "code",
   "execution_count": 36,
   "metadata": {},
   "outputs": [
    {
     "data": {
      "text/plain": [
       "(1, 86, 768)"
      ]
     },
     "execution_count": 36,
     "metadata": {},
     "output_type": "execute_result"
    }
   ],
   "source": [
    "train.iloc[0,-1].shape"
   ]
  },
  {
   "cell_type": "code",
   "execution_count": 52,
   "metadata": {},
   "outputs": [],
   "source": [
    "sequence_length = 86\n",
    "vector_length = 768\n",
    "input_shape = (sequence_length,vector_length)\n",
    "model_input = Input(shape=input_shape)"
   ]
  },
  {
   "cell_type": "code",
   "execution_count": 53,
   "metadata": {},
   "outputs": [],
   "source": [
    "# Convolutional Layer \n",
    "conv_blocks = []\n",
    "#capture two-grams, 3-grams and 4 grams\n",
    "filter_sizes = [2,3,4]\n",
    "#for each filter, the number of filters\n",
    "num_filters = 30\n",
    "#loop over the different filter sizes\n",
    "for sz in filter_sizes:\n",
    "    # sz is the window size\n",
    "    conv = Conv1D(filters=num_filters,\n",
    "                  kernel_size=sz,\n",
    "                  padding=\"valid\",\n",
    "                  activation=\"relu\",\n",
    "                  strides=1)(model_input)\n",
    "    # Pooling Layer\n",
    "    conv = GlobalMaxPooling1D()(conv)\n",
    "    conv_blocks.append(conv)\n",
    "# Fully-connected Layer\n",
    "hiddenz = Concatenate()(conv_blocks) if len(conv_blocks) > 1 else conv_blocks[0]"
   ]
  },
  {
   "cell_type": "code",
   "execution_count": 54,
   "metadata": {},
   "outputs": [],
   "source": [
    "# It is binary classifcation problem. We can use sigmoid layer.\n",
    "# If it is multi-class classifcaiton problem, we can use softmax layer \n",
    "model_output = Dense(3, activation=\"sigmoid\")(hiddenz)\n",
    "cnn_model = Model(model_input, model_output)\n",
    "cnn_model.compile(loss=\"binary_crossentropy\", optimizer=\"adam\", metrics=[\"AUC\"])"
   ]
  },
  {
   "cell_type": "code",
   "execution_count": 55,
   "metadata": {},
   "outputs": [
    {
     "name": "stdout",
     "output_type": "stream",
     "text": [
      "Model: \"model\"\n",
      "__________________________________________________________________________________________________\n",
      "Layer (type)                    Output Shape         Param #     Connected to                     \n",
      "==================================================================================================\n",
      "input_3 (InputLayer)            [(None, 86, 768)]    0                                            \n",
      "__________________________________________________________________________________________________\n",
      "conv1d_4 (Conv1D)               (None, 85, 30)       46110       input_3[0][0]                    \n",
      "__________________________________________________________________________________________________\n",
      "conv1d_5 (Conv1D)               (None, 84, 30)       69150       input_3[0][0]                    \n",
      "__________________________________________________________________________________________________\n",
      "conv1d_6 (Conv1D)               (None, 83, 30)       92190       input_3[0][0]                    \n",
      "__________________________________________________________________________________________________\n",
      "global_max_pooling1d_3 (GlobalM (None, 30)           0           conv1d_4[0][0]                   \n",
      "__________________________________________________________________________________________________\n",
      "global_max_pooling1d_4 (GlobalM (None, 30)           0           conv1d_5[0][0]                   \n",
      "__________________________________________________________________________________________________\n",
      "global_max_pooling1d_5 (GlobalM (None, 30)           0           conv1d_6[0][0]                   \n",
      "__________________________________________________________________________________________________\n",
      "concatenate_1 (Concatenate)     (None, 90)           0           global_max_pooling1d_3[0][0]     \n",
      "                                                                 global_max_pooling1d_4[0][0]     \n",
      "                                                                 global_max_pooling1d_5[0][0]     \n",
      "__________________________________________________________________________________________________\n",
      "dense (Dense)                   (None, 3)            273         concatenate_1[0][0]              \n",
      "==================================================================================================\n",
      "Total params: 207,723\n",
      "Trainable params: 207,723\n",
      "Non-trainable params: 0\n",
      "__________________________________________________________________________________________________\n",
      "None\n"
     ]
    }
   ],
   "source": [
    "print(cnn_model.summary())"
   ]
  },
  {
   "cell_type": "markdown",
   "metadata": {},
   "source": [
    "#### CNN Using Bert Vectors"
   ]
  },
  {
   "cell_type": "code",
   "execution_count": null,
   "metadata": {},
   "outputs": [],
   "source": [
    "# reduce one dimension, (1, 86, 768) -> (86, 768)\n",
    "train.loc[:, 'bert_vec_2d'] = train.loc[:, 'bert_vec_2d'].apply(lambda x: x[0])\n",
    "test.loc[:, 'bert_vec_2d'] = test.loc[:, 'bert_vec_2d'].apply(lambda x: x[0])"
   ]
  },
  {
   "cell_type": "code",
   "execution_count": 67,
   "metadata": {},
   "outputs": [],
   "source": [
    "# Convert to numpy array\n",
    "train_data = np.array(list(train.bert_vec_2d), dtype='float32')\n",
    "test_data = np.array(list(test.bert_vec_2d), dtype='float32')\n",
    "train_classes = np.array(train[['delivery', 'product','service']], dtype='int')\n",
    "test_classes = np.array(test[['delivery', 'product','service']], dtype='int')"
   ]
  },
  {
   "cell_type": "code",
   "execution_count": null,
   "metadata": {},
   "outputs": [],
   "source": [
    "print(train_data.shape, test_data.shape)\n",
    "print(train_classes.shape, test_classes.shape)"
   ]
  },
  {
   "cell_type": "code",
   "execution_count": 74,
   "metadata": {},
   "outputs": [
    {
     "name": "stdout",
     "output_type": "stream",
     "text": [
      "Epoch 1/10\n",
      "34/34 - 4s - loss: 0.4315 - auc: 0.8669 - val_loss: 0.3704 - val_auc: 0.9078\n",
      "Epoch 2/10\n",
      "34/34 - 0s - loss: 0.2147 - auc: 0.9729 - val_loss: 0.3207 - val_auc: 0.9299\n",
      "Epoch 3/10\n",
      "34/34 - 0s - loss: 0.1279 - auc: 0.9950 - val_loss: 0.3101 - val_auc: 0.9355\n",
      "Epoch 4/10\n",
      "34/34 - 0s - loss: 0.0861 - auc: 0.9988 - val_loss: 0.3120 - val_auc: 0.9389\n",
      "Epoch 5/10\n",
      "34/34 - 0s - loss: 0.0558 - auc: 0.9999 - val_loss: 0.3138 - val_auc: 0.9395\n",
      "Epoch 6/10\n",
      "34/34 - 0s - loss: 0.0369 - auc: 1.0000 - val_loss: 0.3168 - val_auc: 0.9415\n",
      "Epoch 7/10\n",
      "34/34 - 0s - loss: 0.0265 - auc: 1.0000 - val_loss: 0.3289 - val_auc: 0.9398\n",
      "Epoch 8/10\n",
      "34/34 - 0s - loss: 0.0204 - auc: 1.0000 - val_loss: 0.3325 - val_auc: 0.9407\n",
      "Epoch 9/10\n",
      "34/34 - 0s - loss: 0.0166 - auc: 1.0000 - val_loss: 0.3418 - val_auc: 0.9391\n",
      "Epoch 10/10\n",
      "34/34 - 0s - loss: 0.0126 - auc: 1.0000 - val_loss: 0.3443 - val_auc: 0.9395\n"
     ]
    },
    {
     "data": {
      "text/plain": [
       "<tensorflow.python.keras.callbacks.History at 0x7ff28841bed0>"
      ]
     },
     "execution_count": 74,
     "metadata": {},
     "output_type": "execute_result"
    }
   ],
   "source": [
    "# Training\n",
    "cnn_model.fit(train_data, train_classes,\n",
    "          validation_data=(test_data, test_classes),\n",
    "          batch_size=32,\n",
    "          epochs=10,\n",
    "          verbose=2)"
   ]
  },
  {
   "cell_type": "code",
   "execution_count": 81,
   "metadata": {},
   "outputs": [],
   "source": [
    "prediction_cnn_bert = cnn_model.predict(test_data)"
   ]
  },
  {
   "cell_type": "code",
   "execution_count": 96,
   "metadata": {},
   "outputs": [],
   "source": [
    "test['delivery_cnn_bert_predp'] = prediction_cnn_bert[:, 0]\n",
    "test['product_cnn_bert_predp'] = prediction_cnn_bert[:, 1]\n",
    "test['service_cnn_bert_predp'] = prediction_cnn_bert[:, 2]"
   ]
  },
  {
   "cell_type": "code",
   "execution_count": 101,
   "metadata": {},
   "outputs": [],
   "source": [
    "test['delivery_cnn_bert_pred'] = test['delivery_cnn_bert_predp'].apply(lambda x: round(x))\n",
    "test['product_cnn_bert_pred'] = test['product_cnn_bert_predp'].apply(lambda x: round(x))\n",
    "test['service_cnn_bert_pred'] =test['service_cnn_bert_predp'].apply(lambda x: round(x))"
   ]
  },
  {
   "cell_type": "code",
   "execution_count": 104,
   "metadata": {},
   "outputs": [],
   "source": [
    "def add_pred_target_label(df):\n",
    "    df['label_pred'] = df['delivery_cnn_bert_pred']*100 + df['product_cnn_bert_pred']*10 + df['service_cnn_bert_pred']\n",
    "    df['label_pred'] = '00'+df['label_pred'].astype('str')\n",
    "    df['label_pred'] = df['label_pred'].apply(lambda x: x[-3:])\n",
    "    return df"
   ]
  },
  {
   "cell_type": "code",
   "execution_count": 126,
   "metadata": {},
   "outputs": [
    {
     "data": {
      "text/plain": [
       "010    631\n",
       "100    173\n",
       "001    142\n",
       "110     43\n",
       "011     37\n",
       "101     29\n",
       "111     10\n",
       "Name: label, dtype: int64"
      ]
     },
     "execution_count": 126,
     "metadata": {},
     "output_type": "execute_result"
    }
   ],
   "source": [
    "train.label.value_counts()"
   ]
  },
  {
   "cell_type": "code",
   "execution_count": 128,
   "metadata": {},
   "outputs": [
    {
     "data": {
      "text/plain": [
       "010    288\n",
       "100     62\n",
       "001     47\n",
       "000     22\n",
       "101     18\n",
       "011     11\n",
       "110     10\n",
       "Name: label_pred, dtype: int64"
      ]
     },
     "execution_count": 128,
     "metadata": {},
     "output_type": "execute_result"
    }
   ],
   "source": [
    "test.label_pred.value_counts()"
   ]
  },
  {
   "cell_type": "code",
   "execution_count": 105,
   "metadata": {},
   "outputs": [
    {
     "name": "stdout",
     "output_type": "stream",
     "text": [
      "['010' '001' '100' '101' '000' '011' '110']\n"
     ]
    }
   ],
   "source": [
    "#add prediction target label\n",
    "test = add_pred_target_label(test)\n",
    "#df_test.loc[df_test.review_id==40625, 'label'] = '010'\n",
    "print(test['label_pred'].unique())"
   ]
  },
  {
   "cell_type": "code",
   "execution_count": 124,
   "metadata": {},
   "outputs": [
    {
     "data": {
      "text/html": [
       "<div>\n",
       "<style scoped>\n",
       "    .dataframe tbody tr th:only-of-type {\n",
       "        vertical-align: middle;\n",
       "    }\n",
       "\n",
       "    .dataframe tbody tr th {\n",
       "        vertical-align: top;\n",
       "    }\n",
       "\n",
       "    .dataframe thead th {\n",
       "        text-align: right;\n",
       "    }\n",
       "</style>\n",
       "<table border=\"1\" class=\"dataframe\">\n",
       "  <thead>\n",
       "    <tr style=\"text-align: right;\">\n",
       "      <th></th>\n",
       "      <th>review_id</th>\n",
       "      <th>review_content</th>\n",
       "      <th>review_stars</th>\n",
       "      <th>delivery</th>\n",
       "      <th>product</th>\n",
       "      <th>service</th>\n",
       "      <th>bert_avg</th>\n",
       "      <th>bert_max</th>\n",
       "      <th>bert_layer0</th>\n",
       "      <th>distil_bert_avg</th>\n",
       "      <th>...</th>\n",
       "      <th>label</th>\n",
       "      <th>bert_vec_2d</th>\n",
       "      <th>distilbert_vec_2d</th>\n",
       "      <th>delivery_cnn_bert_predp</th>\n",
       "      <th>product_cnn_bert_predp</th>\n",
       "      <th>service_cnn_bert_predp</th>\n",
       "      <th>delivery_cnn_bert_pred</th>\n",
       "      <th>product_cnn_bert_pred</th>\n",
       "      <th>service_cnn_bert_pred</th>\n",
       "      <th>label_pred</th>\n",
       "    </tr>\n",
       "  </thead>\n",
       "  <tbody>\n",
       "    <tr>\n",
       "      <th>0</th>\n",
       "      <td>16748</td>\n",
       "      <td>it does not cover the entire nose</td>\n",
       "      <td>4</td>\n",
       "      <td>0</td>\n",
       "      <td>1</td>\n",
       "      <td>0</td>\n",
       "      <td>[-0.102646254, -0.22875029, 0.18799533, 0.1218...</td>\n",
       "      <td>[0.9322276, 0.36336058, 0.5335494, 0.6365655, ...</td>\n",
       "      <td>[-0.13417566, 0.14176558, 0.060101416, -0.2363...</td>\n",
       "      <td>[-0.052312087, 0.11116923, 0.09106587, -0.0266...</td>\n",
       "      <td>...</td>\n",
       "      <td>010</td>\n",
       "      <td>[[-0.13417566, 0.14176558, 0.060101416, -0.236...</td>\n",
       "      <td>[[[-0.25892562, 0.09141161, 0.11670131, -0.278...</td>\n",
       "      <td>0.000302</td>\n",
       "      <td>0.998952</td>\n",
       "      <td>0.000354</td>\n",
       "      <td>0</td>\n",
       "      <td>1</td>\n",
       "      <td>0</td>\n",
       "      <td>010</td>\n",
       "    </tr>\n",
       "    <tr>\n",
       "      <th>1</th>\n",
       "      <td>7936</td>\n",
       "      <td>Items received in good condition. \\nFast deliv...</td>\n",
       "      <td>3</td>\n",
       "      <td>0</td>\n",
       "      <td>1</td>\n",
       "      <td>0</td>\n",
       "      <td>[-0.073171206, -0.28532478, 0.4684518, 0.06098...</td>\n",
       "      <td>[0.6989626, 0.60659623, 1.2653117, 0.56227136,...</td>\n",
       "      <td>[-0.3070287, -0.16202989, 0.28549048, -0.38556...</td>\n",
       "      <td>[-0.077326566, -0.08241358, 0.25523275, 0.1806...</td>\n",
       "      <td>...</td>\n",
       "      <td>010</td>\n",
       "      <td>[[-0.3070287, -0.16202989, 0.28549048, -0.3855...</td>\n",
       "      <td>[[[-0.26072696, -0.15078594, 0.09794032, -0.02...</td>\n",
       "      <td>0.001959</td>\n",
       "      <td>0.975257</td>\n",
       "      <td>0.006896</td>\n",
       "      <td>0</td>\n",
       "      <td>1</td>\n",
       "      <td>0</td>\n",
       "      <td>010</td>\n",
       "    </tr>\n",
       "    <tr>\n",
       "      <th>2</th>\n",
       "      <td>35144</td>\n",
       "      <td>Order was not shipped by ship by date. 2 days ...</td>\n",
       "      <td>1</td>\n",
       "      <td>0</td>\n",
       "      <td>0</td>\n",
       "      <td>1</td>\n",
       "      <td>[0.033353284, -0.15982221, 0.28324175, -0.0954...</td>\n",
       "      <td>[0.78534734, 0.81594664, 1.2221552, 0.7786952,...</td>\n",
       "      <td>[-0.29875648, -0.26088548, 0.4403837, -0.42945...</td>\n",
       "      <td>[-0.044279817, -0.12734465, 0.29842582, 0.0614...</td>\n",
       "      <td>...</td>\n",
       "      <td>001</td>\n",
       "      <td>[[-0.29875648, -0.26088548, 0.4403837, -0.4294...</td>\n",
       "      <td>[[[-0.141533, -0.18464121, 0.109193765, 0.0123...</td>\n",
       "      <td>0.011160</td>\n",
       "      <td>0.000797</td>\n",
       "      <td>0.999900</td>\n",
       "      <td>0</td>\n",
       "      <td>0</td>\n",
       "      <td>1</td>\n",
       "      <td>001</td>\n",
       "    </tr>\n",
       "    <tr>\n",
       "      <th>3</th>\n",
       "      <td>2842</td>\n",
       "      <td>Never believe ship out within 12 hours , was t...</td>\n",
       "      <td>2</td>\n",
       "      <td>1</td>\n",
       "      <td>0</td>\n",
       "      <td>1</td>\n",
       "      <td>[0.09460444, -0.21060538, 0.45771155, 0.155521...</td>\n",
       "      <td>[1.3276132, 0.4937837, 2.0165536, 0.51392186, ...</td>\n",
       "      <td>[-0.23258153, 0.108628765, 0.54131097, 0.02621...</td>\n",
       "      <td>[0.24199268, -0.06438464, 0.31322727, 0.142381...</td>\n",
       "      <td>...</td>\n",
       "      <td>101</td>\n",
       "      <td>[[-0.23258153, 0.108628765, 0.54131097, 0.0262...</td>\n",
       "      <td>[[[-0.005784018, -0.09771741, 0.094822764, -0....</td>\n",
       "      <td>0.289861</td>\n",
       "      <td>0.006982</td>\n",
       "      <td>0.960201</td>\n",
       "      <td>0</td>\n",
       "      <td>0</td>\n",
       "      <td>1</td>\n",
       "      <td>001</td>\n",
       "    </tr>\n",
       "    <tr>\n",
       "      <th>4</th>\n",
       "      <td>14016</td>\n",
       "      <td>The grey masks are rougher than the blue ones ...</td>\n",
       "      <td>4</td>\n",
       "      <td>0</td>\n",
       "      <td>1</td>\n",
       "      <td>0</td>\n",
       "      <td>[0.1367541, -0.21565422, 0.17242633, 0.0259907...</td>\n",
       "      <td>[1.1356148, 0.39919722, 0.8751235, 0.4737515, ...</td>\n",
       "      <td>[0.025354343, -0.047820117, -0.21739256, -0.03...</td>\n",
       "      <td>[0.21196146, -0.111543424, 0.048495315, 0.1669...</td>\n",
       "      <td>...</td>\n",
       "      <td>010</td>\n",
       "      <td>[[0.025354343, -0.047820117, -0.21739256, -0.0...</td>\n",
       "      <td>[[[0.17126973, -0.03728881, -0.0028430712, -0....</td>\n",
       "      <td>0.000610</td>\n",
       "      <td>0.996696</td>\n",
       "      <td>0.000078</td>\n",
       "      <td>0</td>\n",
       "      <td>1</td>\n",
       "      <td>0</td>\n",
       "      <td>010</td>\n",
       "    </tr>\n",
       "  </tbody>\n",
       "</table>\n",
       "<p>5 rows × 22 columns</p>\n",
       "</div>"
      ],
      "text/plain": [
       "   review_id                                     review_content  review_stars  \\\n",
       "0      16748                  it does not cover the entire nose             4   \n",
       "1       7936  Items received in good condition. \\nFast deliv...             3   \n",
       "2      35144  Order was not shipped by ship by date. 2 days ...             1   \n",
       "3       2842  Never believe ship out within 12 hours , was t...             2   \n",
       "4      14016  The grey masks are rougher than the blue ones ...             4   \n",
       "\n",
       "   delivery  product  service  \\\n",
       "0         0        1        0   \n",
       "1         0        1        0   \n",
       "2         0        0        1   \n",
       "3         1        0        1   \n",
       "4         0        1        0   \n",
       "\n",
       "                                            bert_avg  \\\n",
       "0  [-0.102646254, -0.22875029, 0.18799533, 0.1218...   \n",
       "1  [-0.073171206, -0.28532478, 0.4684518, 0.06098...   \n",
       "2  [0.033353284, -0.15982221, 0.28324175, -0.0954...   \n",
       "3  [0.09460444, -0.21060538, 0.45771155, 0.155521...   \n",
       "4  [0.1367541, -0.21565422, 0.17242633, 0.0259907...   \n",
       "\n",
       "                                            bert_max  \\\n",
       "0  [0.9322276, 0.36336058, 0.5335494, 0.6365655, ...   \n",
       "1  [0.6989626, 0.60659623, 1.2653117, 0.56227136,...   \n",
       "2  [0.78534734, 0.81594664, 1.2221552, 0.7786952,...   \n",
       "3  [1.3276132, 0.4937837, 2.0165536, 0.51392186, ...   \n",
       "4  [1.1356148, 0.39919722, 0.8751235, 0.4737515, ...   \n",
       "\n",
       "                                         bert_layer0  \\\n",
       "0  [-0.13417566, 0.14176558, 0.060101416, -0.2363...   \n",
       "1  [-0.3070287, -0.16202989, 0.28549048, -0.38556...   \n",
       "2  [-0.29875648, -0.26088548, 0.4403837, -0.42945...   \n",
       "3  [-0.23258153, 0.108628765, 0.54131097, 0.02621...   \n",
       "4  [0.025354343, -0.047820117, -0.21739256, -0.03...   \n",
       "\n",
       "                                     distil_bert_avg  ... label  \\\n",
       "0  [-0.052312087, 0.11116923, 0.09106587, -0.0266...  ...   010   \n",
       "1  [-0.077326566, -0.08241358, 0.25523275, 0.1806...  ...   010   \n",
       "2  [-0.044279817, -0.12734465, 0.29842582, 0.0614...  ...   001   \n",
       "3  [0.24199268, -0.06438464, 0.31322727, 0.142381...  ...   101   \n",
       "4  [0.21196146, -0.111543424, 0.048495315, 0.1669...  ...   010   \n",
       "\n",
       "                                         bert_vec_2d  \\\n",
       "0  [[-0.13417566, 0.14176558, 0.060101416, -0.236...   \n",
       "1  [[-0.3070287, -0.16202989, 0.28549048, -0.3855...   \n",
       "2  [[-0.29875648, -0.26088548, 0.4403837, -0.4294...   \n",
       "3  [[-0.23258153, 0.108628765, 0.54131097, 0.0262...   \n",
       "4  [[0.025354343, -0.047820117, -0.21739256, -0.0...   \n",
       "\n",
       "                                   distilbert_vec_2d delivery_cnn_bert_predp  \\\n",
       "0  [[[-0.25892562, 0.09141161, 0.11670131, -0.278...                0.000302   \n",
       "1  [[[-0.26072696, -0.15078594, 0.09794032, -0.02...                0.001959   \n",
       "2  [[[-0.141533, -0.18464121, 0.109193765, 0.0123...                0.011160   \n",
       "3  [[[-0.005784018, -0.09771741, 0.094822764, -0....                0.289861   \n",
       "4  [[[0.17126973, -0.03728881, -0.0028430712, -0....                0.000610   \n",
       "\n",
       "  product_cnn_bert_predp  service_cnn_bert_predp  delivery_cnn_bert_pred  \\\n",
       "0               0.998952                0.000354                       0   \n",
       "1               0.975257                0.006896                       0   \n",
       "2               0.000797                0.999900                       0   \n",
       "3               0.006982                0.960201                       0   \n",
       "4               0.996696                0.000078                       0   \n",
       "\n",
       "   product_cnn_bert_pred  service_cnn_bert_pred  label_pred  \n",
       "0                      1                      0         010  \n",
       "1                      1                      0         010  \n",
       "2                      0                      1         001  \n",
       "3                      0                      1         001  \n",
       "4                      1                      0         010  \n",
       "\n",
       "[5 rows x 22 columns]"
      ]
     },
     "execution_count": 124,
     "metadata": {},
     "output_type": "execute_result"
    }
   ],
   "source": [
    "test.head()"
   ]
  },
  {
   "cell_type": "code",
   "execution_count": 123,
   "metadata": {},
   "outputs": [
    {
     "name": "stdout",
     "output_type": "stream",
     "text": [
      "Result of Delivery from CNN with Bert vectors\n",
      "AUC score: 0.9589690337353889\n",
      "              precision    recall  f1-score   support\n",
      "\n",
      "           0       0.92      0.96      0.94       351\n",
      "           1       0.84      0.71      0.77       107\n",
      "\n",
      "    accuracy                           0.90       458\n",
      "   macro avg       0.88      0.84      0.85       458\n",
      "weighted avg       0.90      0.90      0.90       458\n",
      "\n",
      "Result of Product from CNN with Bert vectors\n",
      "AUC score: 0.9484577922077921\n",
      "              precision    recall  f1-score   support\n",
      "\n",
      "           0       0.85      0.82      0.83       154\n",
      "           1       0.91      0.92      0.92       304\n",
      "\n",
      "    accuracy                           0.89       458\n",
      "   macro avg       0.88      0.87      0.87       458\n",
      "weighted avg       0.89      0.89      0.89       458\n",
      "\n",
      "Result of Service from CNN with Bert vectors\n",
      "AUC score: 0.8631216931216931\n",
      "              precision    recall  f1-score   support\n",
      "\n",
      "           0       0.87      0.95      0.91       350\n",
      "           1       0.76      0.54      0.63       108\n",
      "\n",
      "    accuracy                           0.85       458\n",
      "   macro avg       0.82      0.74      0.77       458\n",
      "weighted avg       0.84      0.85      0.84       458\n",
      "\n"
     ]
    }
   ],
   "source": [
    "print('Result of Delivery from CNN with Bert vectors')\n",
    "print('AUC score: {}'.format(roc_auc_score(test.delivery, test.delivery_cnn_bert_predp)))\n",
    "print(classification_report(test.delivery, test.delivery_cnn_bert_pred))\n",
    "\n",
    "print('Result of Product from CNN with Bert vectors')\n",
    "print('AUC score: {}'.format(roc_auc_score(test['product'], test.product_cnn_bert_predp)))\n",
    "print(classification_report(test['product'], test.product_cnn_bert_pred))\n",
    "\n",
    "print('Result of Service from CNN with Bert vectors')\n",
    "print('AUC score: {}'.format(roc_auc_score(test['service'], test.service_cnn_bert_predp)))\n",
    "print(classification_report(test['service'], test.service_cnn_bert_pred))"
   ]
  },
  {
   "cell_type": "code",
   "execution_count": 125,
   "metadata": {},
   "outputs": [
    {
     "name": "stdout",
     "output_type": "stream",
     "text": [
      "Combined Result from CNN with Bert vectors\n",
      "              precision    recall  f1-score   support\n",
      "\n",
      "         000       0.00      0.00      0.00         0\n",
      "         001       0.72      0.51      0.60        67\n",
      "         010       0.85      0.94      0.89       262\n",
      "         011       0.55      0.27      0.36        22\n",
      "         100       0.74      0.66      0.70        70\n",
      "         101       0.33      0.35      0.34        17\n",
      "         110       0.40      0.22      0.29        18\n",
      "         111       0.00      0.00      0.00         2\n",
      "\n",
      "    accuracy                           0.75       458\n",
      "   macro avg       0.45      0.37      0.40       458\n",
      "weighted avg       0.76      0.75      0.75       458\n",
      "\n"
     ]
    }
   ],
   "source": [
    "print('Combined Result from CNN with Bert vectors')\n",
    "print(classification_report(test['label'], test.label_pred))"
   ]
  },
  {
   "cell_type": "markdown",
   "metadata": {},
   "source": [
    "#### CNN Distil Bert Vectors"
   ]
  },
  {
   "cell_type": "code",
   "execution_count": 129,
   "metadata": {},
   "outputs": [
    {
     "data": {
      "text/html": [
       "<div>\n",
       "<style scoped>\n",
       "    .dataframe tbody tr th:only-of-type {\n",
       "        vertical-align: middle;\n",
       "    }\n",
       "\n",
       "    .dataframe tbody tr th {\n",
       "        vertical-align: top;\n",
       "    }\n",
       "\n",
       "    .dataframe thead th {\n",
       "        text-align: right;\n",
       "    }\n",
       "</style>\n",
       "<table border=\"1\" class=\"dataframe\">\n",
       "  <thead>\n",
       "    <tr style=\"text-align: right;\">\n",
       "      <th></th>\n",
       "      <th>review_id</th>\n",
       "      <th>review_content</th>\n",
       "      <th>review_stars</th>\n",
       "      <th>delivery</th>\n",
       "      <th>product</th>\n",
       "      <th>service</th>\n",
       "      <th>bert_avg</th>\n",
       "      <th>bert_max</th>\n",
       "      <th>bert_layer0</th>\n",
       "      <th>distil_bert_avg</th>\n",
       "      <th>distil_bert_max</th>\n",
       "      <th>distil_bert_layer0</th>\n",
       "      <th>label</th>\n",
       "      <th>bert_vec_2d</th>\n",
       "      <th>distilbert_vec_2d</th>\n",
       "    </tr>\n",
       "  </thead>\n",
       "  <tbody>\n",
       "    <tr>\n",
       "      <th>0</th>\n",
       "      <td>9161</td>\n",
       "      <td>Delivery took more than a week, short expiry d...</td>\n",
       "      <td>2</td>\n",
       "      <td>1</td>\n",
       "      <td>1</td>\n",
       "      <td>0</td>\n",
       "      <td>[-0.06329992, -0.32380387, 0.35608995, -0.1268...</td>\n",
       "      <td>[0.93797976, 0.25249124, 1.1054325, 0.49609792...</td>\n",
       "      <td>[-0.19600664, -0.4481723, 0.20494524, -0.39789...</td>\n",
       "      <td>[-0.046782605, -0.27473888, 0.2780265, 0.03694...</td>\n",
       "      <td>[0.4727717, 0.23103717, 0.7197178, 0.6083572, ...</td>\n",
       "      <td>[-0.022450736, -0.34166092, 0.13424423, -0.170...</td>\n",
       "      <td>110</td>\n",
       "      <td>[[-0.19600664, -0.4481723, 0.20494524, -0.3978...</td>\n",
       "      <td>[[[-0.022450736, -0.34166092, 0.13424423, -0.1...</td>\n",
       "    </tr>\n",
       "    <tr>\n",
       "      <th>1</th>\n",
       "      <td>8198</td>\n",
       "      <td>Quality is so-so, loops are too huge resulting...</td>\n",
       "      <td>3</td>\n",
       "      <td>0</td>\n",
       "      <td>1</td>\n",
       "      <td>0</td>\n",
       "      <td>[0.19020107, -0.3453789, 0.3494842, 0.14938574...</td>\n",
       "      <td>[1.1594802, 0.60506886, 1.084206, 0.8051733, 0...</td>\n",
       "      <td>[0.04546422, -0.29597518, -0.35977763, -0.4039...</td>\n",
       "      <td>[0.1399654, -0.11672436, 0.23911656, 0.1187961...</td>\n",
       "      <td>[0.8445691, 0.4961368, 0.7105234, 0.6109599, 0...</td>\n",
       "      <td>[0.12642525, -0.1857245, 0.08149249, -0.019622...</td>\n",
       "      <td>010</td>\n",
       "      <td>[[0.04546422, -0.29597518, -0.35977763, -0.403...</td>\n",
       "      <td>[[[0.12642525, -0.1857245, 0.08149249, -0.0196...</td>\n",
       "    </tr>\n",
       "    <tr>\n",
       "      <th>2</th>\n",
       "      <td>5314</td>\n",
       "      <td>Received within 3days. Well packed in a carton...</td>\n",
       "      <td>4</td>\n",
       "      <td>0</td>\n",
       "      <td>1</td>\n",
       "      <td>0</td>\n",
       "      <td>[-0.028732965, -0.14712504, 0.36105582, 0.0254...</td>\n",
       "      <td>[1.3182856, 0.7953221, 1.3915914, 0.87499446, ...</td>\n",
       "      <td>[-0.38282838, -0.22101544, 0.6115111, -0.33658...</td>\n",
       "      <td>[0.07374873, -0.01620108, 0.20269494, 0.149083...</td>\n",
       "      <td>[0.76418287, 0.48008785, 0.97139245, 0.5615782...</td>\n",
       "      <td>[0.026645288, -0.27306008, 0.20750262, 0.05986...</td>\n",
       "      <td>010</td>\n",
       "      <td>[[-0.38282838, -0.22101544, 0.6115111, -0.3365...</td>\n",
       "      <td>[[[0.026645288, -0.27306008, 0.20750262, 0.059...</td>\n",
       "    </tr>\n",
       "    <tr>\n",
       "      <th>3</th>\n",
       "      <td>17589</td>\n",
       "      <td>Not sure if these were the authentic as I brou...</td>\n",
       "      <td>3</td>\n",
       "      <td>0</td>\n",
       "      <td>1</td>\n",
       "      <td>0</td>\n",
       "      <td>[0.3033499, 0.02644875, 0.16410081, 0.04581299...</td>\n",
       "      <td>[1.2807441, 0.85781705, 0.80655, 0.49130562, 0...</td>\n",
       "      <td>[-0.078149214, 0.117149524, 0.04559862, -0.218...</td>\n",
       "      <td>[0.18770164, 0.114881225, 0.08257794, 0.121869...</td>\n",
       "      <td>[0.9882787, 0.5043827, 0.54232115, 0.44097498,...</td>\n",
       "      <td>[0.23179623, 0.050810635, 0.07551272, -0.15587...</td>\n",
       "      <td>010</td>\n",
       "      <td>[[-0.078149214, 0.117149524, 0.04559862, -0.21...</td>\n",
       "      <td>[[[0.23179623, 0.050810635, 0.07551272, -0.155...</td>\n",
       "    </tr>\n",
       "    <tr>\n",
       "      <th>4</th>\n",
       "      <td>31446</td>\n",
       "      <td>its a fashion mask. no filter so no protection...</td>\n",
       "      <td>3</td>\n",
       "      <td>0</td>\n",
       "      <td>1</td>\n",
       "      <td>0</td>\n",
       "      <td>[-0.18616518, -0.38300017, 0.52194715, 0.18413...</td>\n",
       "      <td>[0.65815246, 0.20897251, 1.0151551, 0.48899576...</td>\n",
       "      <td>[-0.29987, -0.26352054, 0.3190687, -0.22115439...</td>\n",
       "      <td>[-0.0903255, -0.1808794, 0.33290026, 0.2622123...</td>\n",
       "      <td>[0.66676205, 0.099603325, 0.8990194, 0.5398592...</td>\n",
       "      <td>[-0.34698877, -0.3470553, 0.3122651, 0.0037901...</td>\n",
       "      <td>010</td>\n",
       "      <td>[[-0.29987, -0.26352054, 0.3190687, -0.2211543...</td>\n",
       "      <td>[[[-0.34698877, -0.3470553, 0.3122651, 0.00379...</td>\n",
       "    </tr>\n",
       "  </tbody>\n",
       "</table>\n",
       "</div>"
      ],
      "text/plain": [
       "   review_id                                     review_content  review_stars  \\\n",
       "0       9161  Delivery took more than a week, short expiry d...             2   \n",
       "1       8198  Quality is so-so, loops are too huge resulting...             3   \n",
       "2       5314  Received within 3days. Well packed in a carton...             4   \n",
       "3      17589  Not sure if these were the authentic as I brou...             3   \n",
       "4      31446  its a fashion mask. no filter so no protection...             3   \n",
       "\n",
       "   delivery  product  service  \\\n",
       "0         1        1        0   \n",
       "1         0        1        0   \n",
       "2         0        1        0   \n",
       "3         0        1        0   \n",
       "4         0        1        0   \n",
       "\n",
       "                                            bert_avg  \\\n",
       "0  [-0.06329992, -0.32380387, 0.35608995, -0.1268...   \n",
       "1  [0.19020107, -0.3453789, 0.3494842, 0.14938574...   \n",
       "2  [-0.028732965, -0.14712504, 0.36105582, 0.0254...   \n",
       "3  [0.3033499, 0.02644875, 0.16410081, 0.04581299...   \n",
       "4  [-0.18616518, -0.38300017, 0.52194715, 0.18413...   \n",
       "\n",
       "                                            bert_max  \\\n",
       "0  [0.93797976, 0.25249124, 1.1054325, 0.49609792...   \n",
       "1  [1.1594802, 0.60506886, 1.084206, 0.8051733, 0...   \n",
       "2  [1.3182856, 0.7953221, 1.3915914, 0.87499446, ...   \n",
       "3  [1.2807441, 0.85781705, 0.80655, 0.49130562, 0...   \n",
       "4  [0.65815246, 0.20897251, 1.0151551, 0.48899576...   \n",
       "\n",
       "                                         bert_layer0  \\\n",
       "0  [-0.19600664, -0.4481723, 0.20494524, -0.39789...   \n",
       "1  [0.04546422, -0.29597518, -0.35977763, -0.4039...   \n",
       "2  [-0.38282838, -0.22101544, 0.6115111, -0.33658...   \n",
       "3  [-0.078149214, 0.117149524, 0.04559862, -0.218...   \n",
       "4  [-0.29987, -0.26352054, 0.3190687, -0.22115439...   \n",
       "\n",
       "                                     distil_bert_avg  \\\n",
       "0  [-0.046782605, -0.27473888, 0.2780265, 0.03694...   \n",
       "1  [0.1399654, -0.11672436, 0.23911656, 0.1187961...   \n",
       "2  [0.07374873, -0.01620108, 0.20269494, 0.149083...   \n",
       "3  [0.18770164, 0.114881225, 0.08257794, 0.121869...   \n",
       "4  [-0.0903255, -0.1808794, 0.33290026, 0.2622123...   \n",
       "\n",
       "                                     distil_bert_max  \\\n",
       "0  [0.4727717, 0.23103717, 0.7197178, 0.6083572, ...   \n",
       "1  [0.8445691, 0.4961368, 0.7105234, 0.6109599, 0...   \n",
       "2  [0.76418287, 0.48008785, 0.97139245, 0.5615782...   \n",
       "3  [0.9882787, 0.5043827, 0.54232115, 0.44097498,...   \n",
       "4  [0.66676205, 0.099603325, 0.8990194, 0.5398592...   \n",
       "\n",
       "                                  distil_bert_layer0 label  \\\n",
       "0  [-0.022450736, -0.34166092, 0.13424423, -0.170...   110   \n",
       "1  [0.12642525, -0.1857245, 0.08149249, -0.019622...   010   \n",
       "2  [0.026645288, -0.27306008, 0.20750262, 0.05986...   010   \n",
       "3  [0.23179623, 0.050810635, 0.07551272, -0.15587...   010   \n",
       "4  [-0.34698877, -0.3470553, 0.3122651, 0.0037901...   010   \n",
       "\n",
       "                                         bert_vec_2d  \\\n",
       "0  [[-0.19600664, -0.4481723, 0.20494524, -0.3978...   \n",
       "1  [[0.04546422, -0.29597518, -0.35977763, -0.403...   \n",
       "2  [[-0.38282838, -0.22101544, 0.6115111, -0.3365...   \n",
       "3  [[-0.078149214, 0.117149524, 0.04559862, -0.21...   \n",
       "4  [[-0.29987, -0.26352054, 0.3190687, -0.2211543...   \n",
       "\n",
       "                                   distilbert_vec_2d  \n",
       "0  [[[-0.022450736, -0.34166092, 0.13424423, -0.1...  \n",
       "1  [[[0.12642525, -0.1857245, 0.08149249, -0.0196...  \n",
       "2  [[[0.026645288, -0.27306008, 0.20750262, 0.059...  \n",
       "3  [[[0.23179623, 0.050810635, 0.07551272, -0.155...  \n",
       "4  [[[-0.34698877, -0.3470553, 0.3122651, 0.00379...  "
      ]
     },
     "execution_count": 129,
     "metadata": {},
     "output_type": "execute_result"
    }
   ],
   "source": [
    "train.head()"
   ]
  },
  {
   "cell_type": "code",
   "execution_count": 133,
   "metadata": {},
   "outputs": [],
   "source": [
    "# reduce one dimension, (1, 86, 768) -> (86, 768)\n",
    "train.loc[:, 'distilbert_vec_2d'] = train.loc[:, 'distilbert_vec_2d'].apply(lambda x: x[0])\n",
    "test.loc[:, 'distilbert_vec_2d'] = test.loc[:, 'distilbert_vec_2d'].apply(lambda x: x[0])"
   ]
  },
  {
   "cell_type": "code",
   "execution_count": 134,
   "metadata": {},
   "outputs": [
    {
     "data": {
      "text/plain": [
       "(86, 768)"
      ]
     },
     "execution_count": 134,
     "metadata": {},
     "output_type": "execute_result"
    }
   ],
   "source": [
    "train.loc[0, 'distilbert_vec_2d'].shape"
   ]
  },
  {
   "cell_type": "code",
   "execution_count": 135,
   "metadata": {},
   "outputs": [
    {
     "name": "stdout",
     "output_type": "stream",
     "text": [
      "Epoch 1/10\n",
      "34/34 - 1s - loss: 0.1431 - auc: 0.9889 - val_loss: 0.4016 - val_auc: 0.9238\n",
      "Epoch 2/10\n",
      "34/34 - 0s - loss: 0.0873 - auc: 0.9980 - val_loss: 0.3297 - val_auc: 0.9385\n",
      "Epoch 3/10\n",
      "34/34 - 0s - loss: 0.0534 - auc: 0.9997 - val_loss: 0.3290 - val_auc: 0.9378\n",
      "Epoch 4/10\n",
      "34/34 - 0s - loss: 0.0414 - auc: 1.0000 - val_loss: 0.3359 - val_auc: 0.9401\n",
      "Epoch 5/10\n",
      "34/34 - 0s - loss: 0.0296 - auc: 1.0000 - val_loss: 0.3442 - val_auc: 0.9384\n",
      "Epoch 6/10\n",
      "34/34 - 0s - loss: 0.0204 - auc: 1.0000 - val_loss: 0.3382 - val_auc: 0.9405\n",
      "Epoch 7/10\n",
      "34/34 - 0s - loss: 0.0159 - auc: 1.0000 - val_loss: 0.3443 - val_auc: 0.9409\n",
      "Epoch 8/10\n",
      "34/34 - 0s - loss: 0.0135 - auc: 1.0000 - val_loss: 0.3588 - val_auc: 0.9391\n",
      "Epoch 9/10\n",
      "34/34 - 0s - loss: 0.0117 - auc: 1.0000 - val_loss: 0.3520 - val_auc: 0.9410\n",
      "Epoch 10/10\n",
      "34/34 - 0s - loss: 0.0098 - auc: 1.0000 - val_loss: 0.3581 - val_auc: 0.9398\n"
     ]
    }
   ],
   "source": [
    "# Convert to numpy array\n",
    "train_data_distilbert = np.array(list(train.distilbert_vec_2d), dtype='float32')\n",
    "test_data_distilbert = np.array(list(test.distilbert_vec_2d), dtype='float32')\n",
    "\n",
    "# Training\n",
    "cnn_model.fit(train_data_distilbert, train_classes,\n",
    "          validation_data=(test_data_distilbert, test_classes),\n",
    "          batch_size=32,\n",
    "          epochs=10,\n",
    "          verbose=2)\n",
    "\n",
    "# Prediction\n",
    "prediction_cnn_distilbert = cnn_model.predict(test_data_distilbert)"
   ]
  },
  {
   "cell_type": "code",
   "execution_count": 136,
   "metadata": {},
   "outputs": [],
   "source": [
    "test['delivery_cnn_distilbert_predp'] = prediction_cnn_distilbert[:, 0]\n",
    "test['product_cnn_distilbert_predp'] = prediction_cnn_distilbert[:, 1]\n",
    "test['service_cnn_distilbert_predp'] = prediction_cnn_distilbert[:, 2]\n",
    "\n",
    "test['delivery_cnn_distilbert_pred'] = test['delivery_cnn_distilbert_predp'].apply(lambda x: round(x))\n",
    "test['product_cnn_distilbert_pred'] = test['product_cnn_distilbert_predp'].apply(lambda x: round(x))\n",
    "test['service_cnn_distilbert_pred'] =test['service_cnn_distilbert_predp'].apply(lambda x: round(x))"
   ]
  },
  {
   "cell_type": "code",
   "execution_count": 149,
   "metadata": {},
   "outputs": [
    {
     "name": "stdout",
     "output_type": "stream",
     "text": [
      "['010' '001' '101' '100' '110' '011' '000']\n"
     ]
    }
   ],
   "source": [
    "def add_pred_target_label(df):\n",
    "    df['label_distilbert_pred'] = df['delivery_cnn_distilbert_pred']*100 + df['product_cnn_distilbert_pred']*10 + df['service_cnn_distilbert_pred']\n",
    "    df['label_distilbert_pred'] = '00'+df['label_distilbert_pred'].astype('str')\n",
    "    df['label_distilbert_pred'] = df['label_distilbert_pred'].apply(lambda x: x[-3:])\n",
    "    return df\n",
    "\n",
    "#add prediction target label\n",
    "test = add_pred_target_label(test)\n",
    "#df_test.loc[df_test.review_id==40625, 'label'] = '010'\n",
    "print(test['label_distilbert_pred'].unique())"
   ]
  },
  {
   "cell_type": "code",
   "execution_count": 150,
   "metadata": {},
   "outputs": [
    {
     "name": "stdout",
     "output_type": "stream",
     "text": [
      "Result of Delivery from CNN with Distil Bert vectors\n",
      "AUC score: 0.9599275767500067\n",
      "              precision    recall  f1-score   support\n",
      "\n",
      "           0       0.94      0.95      0.94       351\n",
      "           1       0.82      0.79      0.80       107\n",
      "\n",
      "    accuracy                           0.91       458\n",
      "   macro avg       0.88      0.87      0.87       458\n",
      "weighted avg       0.91      0.91      0.91       458\n",
      "\n",
      "Result of Product from CNN with Distil Bert vectors\n",
      "AUC score: 0.9464499316473001\n",
      "              precision    recall  f1-score   support\n",
      "\n",
      "           0       0.86      0.77      0.81       154\n",
      "           1       0.89      0.94      0.91       304\n",
      "\n",
      "    accuracy                           0.88       458\n",
      "   macro avg       0.87      0.85      0.86       458\n",
      "weighted avg       0.88      0.88      0.88       458\n",
      "\n",
      "Result of Service from CNN with Distil Bert vectors\n",
      "AUC score: 0.8767195767195768\n",
      "              precision    recall  f1-score   support\n",
      "\n",
      "           0       0.89      0.95      0.91       350\n",
      "           1       0.77      0.60      0.68       108\n",
      "\n",
      "    accuracy                           0.86       458\n",
      "   macro avg       0.83      0.77      0.80       458\n",
      "weighted avg       0.86      0.86      0.86       458\n",
      "\n"
     ]
    }
   ],
   "source": [
    "print('Result of Delivery from CNN with Distil Bert vectors')\n",
    "print('AUC score: {}'.format(roc_auc_score(test.delivery, test.delivery_cnn_distilbert_predp)))\n",
    "print(classification_report(test.delivery, test.delivery_cnn_distilbert_pred))\n",
    "\n",
    "print('Result of Product from CNN with Distil Bert vectors')\n",
    "print('AUC score: {}'.format(roc_auc_score(test['product'], test.product_cnn_distilbert_predp)))\n",
    "print(classification_report(test['product'], test.product_cnn_distilbert_pred))\n",
    "\n",
    "print('Result of Service from CNN with Distil Bert vectors')\n",
    "print('AUC score: {}'.format(roc_auc_score(test['service'], test.service_cnn_distilbert_predp)))\n",
    "print(classification_report(test['service'], test.service_cnn_distilbert_pred))"
   ]
  },
  {
   "cell_type": "code",
   "execution_count": 151,
   "metadata": {},
   "outputs": [
    {
     "name": "stdout",
     "output_type": "stream",
     "text": [
      "Combined Result from CNN with Bert vectors\n",
      "              precision    recall  f1-score   support\n",
      "\n",
      "         000       0.00      0.00      0.00         0\n",
      "         001       0.66      0.49      0.56        67\n",
      "         010       0.88      0.94      0.91       262\n",
      "         011       0.50      0.32      0.39        22\n",
      "         100       0.77      0.63      0.69        70\n",
      "         101       0.35      0.41      0.38        17\n",
      "         110       0.35      0.50      0.41        18\n",
      "         111       0.00      0.00      0.00         2\n",
      "\n",
      "    accuracy                           0.76       458\n",
      "   macro avg       0.44      0.41      0.42       458\n",
      "weighted avg       0.77      0.76      0.76       458\n",
      "\n"
     ]
    }
   ],
   "source": [
    "print('Combined Result from CNN with Bert vectors')\n",
    "print(classification_report(test['label'], test.label_distilbert_pred))"
   ]
  },
  {
   "cell_type": "markdown",
   "metadata": {},
   "source": [
    "### RNN with Bert Vectors"
   ]
  },
  {
   "cell_type": "code",
   "execution_count": 143,
   "metadata": {},
   "outputs": [],
   "source": [
    "input_shape = (sequence_length, vector_length)\n",
    "model_input = Input(shape=input_shape)"
   ]
  },
  {
   "cell_type": "code",
   "execution_count": 144,
   "metadata": {},
   "outputs": [],
   "source": [
    "hidden_output = Bidirectional(SimpleRNN(20))(model_input)\n",
    "model_output = Dense(3, activation=\"sigmoid\")(hidden_output)"
   ]
  },
  {
   "cell_type": "code",
   "execution_count": 145,
   "metadata": {},
   "outputs": [],
   "source": [
    "rnn_model = Model(model_input, model_output)\n",
    "rnn_model.compile(loss=\"binary_crossentropy\", optimizer=\"adam\", metrics=[\"AUC\"])"
   ]
  },
  {
   "cell_type": "code",
   "execution_count": 146,
   "metadata": {},
   "outputs": [
    {
     "name": "stdout",
     "output_type": "stream",
     "text": [
      "Model: \"model_1\"\n",
      "_________________________________________________________________\n",
      "Layer (type)                 Output Shape              Param #   \n",
      "=================================================================\n",
      "input_4 (InputLayer)         [(None, 86, 768)]         0         \n",
      "_________________________________________________________________\n",
      "bidirectional (Bidirectional (None, 40)                31560     \n",
      "_________________________________________________________________\n",
      "dense_1 (Dense)              (None, 3)                 123       \n",
      "=================================================================\n",
      "Total params: 31,683\n",
      "Trainable params: 31,683\n",
      "Non-trainable params: 0\n",
      "_________________________________________________________________\n",
      "None\n"
     ]
    }
   ],
   "source": [
    "print(rnn_model.summary())"
   ]
  },
  {
   "cell_type": "code",
   "execution_count": 147,
   "metadata": {},
   "outputs": [
    {
     "name": "stdout",
     "output_type": "stream",
     "text": [
      "Epoch 1/10\n",
      "34/34 - 6s - loss: 0.5339 - auc: 0.7858 - val_loss: 0.4848 - val_auc: 0.8322\n",
      "Epoch 2/10\n",
      "34/34 - 4s - loss: 0.4171 - auc: 0.8844 - val_loss: 0.4340 - val_auc: 0.8662\n",
      "Epoch 3/10\n",
      "34/34 - 5s - loss: 0.3523 - auc: 0.9210 - val_loss: 0.3997 - val_auc: 0.8898\n",
      "Epoch 4/10\n",
      "34/34 - 4s - loss: 0.3047 - auc: 0.9444 - val_loss: 0.4012 - val_auc: 0.8910\n",
      "Epoch 5/10\n",
      "34/34 - 4s - loss: 0.2689 - auc: 0.9586 - val_loss: 0.3756 - val_auc: 0.9042\n",
      "Epoch 6/10\n",
      "34/34 - 4s - loss: 0.2371 - auc: 0.9700 - val_loss: 0.3640 - val_auc: 0.9108\n",
      "Epoch 7/10\n",
      "34/34 - 4s - loss: 0.2104 - auc: 0.9770 - val_loss: 0.3814 - val_auc: 0.9074\n",
      "Epoch 8/10\n",
      "34/34 - 4s - loss: 0.1787 - auc: 0.9859 - val_loss: 0.3880 - val_auc: 0.9080\n",
      "Epoch 9/10\n",
      "34/34 - 4s - loss: 0.1554 - auc: 0.9902 - val_loss: 0.3819 - val_auc: 0.9075\n",
      "Epoch 10/10\n",
      "34/34 - 5s - loss: 0.1491 - auc: 0.9905 - val_loss: 0.4274 - val_auc: 0.9036\n"
     ]
    }
   ],
   "source": [
    "# Training\n",
    "rnn_model.fit(train_data, train_classes,\n",
    "          validation_data=(test_data, test_classes),\n",
    "          batch_size=32,\n",
    "          epochs=10,\n",
    "          verbose=2)"
   ]
  },
  {
   "cell_type": "code",
   "execution_count": 157,
   "metadata": {},
   "outputs": [],
   "source": [
    "# Prediction\n",
    "prediction_rnn_bert = rnn_model.predict(test_data)\n",
    "\n",
    "test['delivery_rnn_bert_predp'] = prediction_rnn_bert[:, 0]\n",
    "test['product_rnn_bert_predp'] = prediction_rnn_bert[:, 1]\n",
    "test['service_rnn_bert_predp'] = prediction_rnn_bert[:, 2]\n",
    "\n",
    "test['delivery_rnn_bert_pred'] = test['delivery_rnn_bert_predp'].apply(lambda x: round(x))\n",
    "test['product_rnn_bert_pred'] = test['product_rnn_bert_predp'].apply(lambda x: round(x))\n",
    "test['service_rnn_bert_pred'] =test['service_rnn_bert_predp'].apply(lambda x: round(x))"
   ]
  },
  {
   "cell_type": "code",
   "execution_count": 158,
   "metadata": {},
   "outputs": [
    {
     "name": "stdout",
     "output_type": "stream",
     "text": [
      "['010' '001' '110' '100' '000' '011' '101']\n"
     ]
    }
   ],
   "source": [
    "def add_pred_target_label(df):\n",
    "    df['label_bert_rnn_pred'] = df['delivery_rnn_bert_pred']*100 + df['product_rnn_bert_pred']*10 + df['service_rnn_bert_pred']\n",
    "    df['label_bert_rnn_pred'] = '00'+df['label_bert_rnn_pred'].astype('str')\n",
    "    df['label_bert_rnn_pred'] = df['label_bert_rnn_pred'].apply(lambda x: x[-3:])\n",
    "    return df\n",
    "\n",
    "#add prediction target label\n",
    "test = add_pred_target_label(test)\n",
    "#df_test.loc[df_test.review_id==40625, 'label'] = '010'\n",
    "print(test['label_bert_rnn_pred'].unique())"
   ]
  },
  {
   "cell_type": "code",
   "execution_count": 160,
   "metadata": {},
   "outputs": [
    {
     "name": "stdout",
     "output_type": "stream",
     "text": [
      "Result of Delivery from rnn with Bert vectors\n",
      "AUC score: 0.9078733658172911\n",
      "              precision    recall  f1-score   support\n",
      "\n",
      "           0       0.89      0.93      0.91       351\n",
      "           1       0.73      0.64      0.68       107\n",
      "\n",
      "    accuracy                           0.86       458\n",
      "   macro avg       0.81      0.78      0.80       458\n",
      "weighted avg       0.86      0.86      0.86       458\n",
      "\n",
      "Result of Product from rnn with Bert vectors\n",
      "AUC score: 0.9094113123718386\n",
      "              precision    recall  f1-score   support\n",
      "\n",
      "           0       0.86      0.53      0.66       154\n",
      "           1       0.80      0.96      0.87       304\n",
      "\n",
      "    accuracy                           0.81       458\n",
      "   macro avg       0.83      0.74      0.77       458\n",
      "weighted avg       0.82      0.81      0.80       458\n",
      "\n",
      "Result of Service from rnn with Bert vectors\n",
      "AUC score: 0.8475661375661375\n",
      "              precision    recall  f1-score   support\n",
      "\n",
      "           0       0.82      0.99      0.90       350\n",
      "           1       0.87      0.31      0.46       108\n",
      "\n",
      "    accuracy                           0.83       458\n",
      "   macro avg       0.85      0.65      0.68       458\n",
      "weighted avg       0.83      0.83      0.79       458\n",
      "\n"
     ]
    }
   ],
   "source": [
    "print('Result of Delivery from rnn with Bert vectors')\n",
    "print('AUC score: {}'.format(roc_auc_score(test.delivery, test.delivery_rnn_bert_predp)))\n",
    "print(classification_report(test.delivery, test.delivery_rnn_bert_pred))\n",
    "\n",
    "print('Result of Product from rnn with Bert vectors')\n",
    "print('AUC score: {}'.format(roc_auc_score(test['product'], test.product_rnn_bert_predp)))\n",
    "print(classification_report(test['product'], test.product_rnn_bert_pred))\n",
    "\n",
    "print('Result of Service from rnn with Bert vectors')\n",
    "print('AUC score: {}'.format(roc_auc_score(test['service'], test.service_rnn_bert_predp)))\n",
    "print(classification_report(test['service'], test.service_rnn_bert_pred))"
   ]
  },
  {
   "cell_type": "code",
   "execution_count": 161,
   "metadata": {},
   "outputs": [
    {
     "name": "stdout",
     "output_type": "stream",
     "text": [
      "Combined Result from RNN with Bert vectors\n",
      "              precision    recall  f1-score   support\n",
      "\n",
      "         000       0.00      0.00      0.00         0\n",
      "         001       0.73      0.24      0.36        67\n",
      "         010       0.76      0.94      0.84       262\n",
      "         011       0.08      0.05      0.06        22\n",
      "         100       0.62      0.57      0.60        70\n",
      "         101       0.50      0.12      0.19        17\n",
      "         110       0.24      0.33      0.28        18\n",
      "         111       0.00      0.00      0.00         2\n",
      "\n",
      "    accuracy                           0.68       458\n",
      "   macro avg       0.37      0.28      0.29       458\n",
      "weighted avg       0.67      0.68      0.65       458\n",
      "\n"
     ]
    }
   ],
   "source": [
    "print('Combined Result from RNN with Bert vectors')\n",
    "print(classification_report(test['label'], test.label_bert_rnn_pred))"
   ]
  },
  {
   "cell_type": "markdown",
   "metadata": {},
   "source": [
    "### RNN Using Distil Bert Vectors"
   ]
  },
  {
   "cell_type": "code",
   "execution_count": 162,
   "metadata": {},
   "outputs": [
    {
     "name": "stdout",
     "output_type": "stream",
     "text": [
      "Epoch 1/10\n",
      "34/34 - 4s - loss: 0.2502 - auc: 0.9588 - val_loss: 0.3657 - val_auc: 0.9154\n",
      "Epoch 2/10\n",
      "34/34 - 4s - loss: 0.2107 - auc: 0.9717 - val_loss: 0.3614 - val_auc: 0.9189\n",
      "Epoch 3/10\n",
      "34/34 - 4s - loss: 0.1808 - auc: 0.9797 - val_loss: 0.3602 - val_auc: 0.9209\n",
      "Epoch 4/10\n",
      "34/34 - 5s - loss: 0.1495 - auc: 0.9882 - val_loss: 0.3799 - val_auc: 0.9170\n",
      "Epoch 5/10\n",
      "34/34 - 4s - loss: 0.1387 - auc: 0.9893 - val_loss: 0.3687 - val_auc: 0.9207\n",
      "Epoch 6/10\n",
      "34/34 - 4s - loss: 0.1067 - auc: 0.9955 - val_loss: 0.3801 - val_auc: 0.9214\n",
      "Epoch 7/10\n",
      "34/34 - 4s - loss: 0.1080 - auc: 0.9948 - val_loss: 0.3943 - val_auc: 0.9147\n",
      "Epoch 8/10\n",
      "34/34 - 4s - loss: 0.1013 - auc: 0.9958 - val_loss: 0.4134 - val_auc: 0.9164\n",
      "Epoch 9/10\n",
      "34/34 - 4s - loss: 0.0729 - auc: 0.9986 - val_loss: 0.3951 - val_auc: 0.9209\n",
      "Epoch 10/10\n",
      "34/34 - 4s - loss: 0.0807 - auc: 0.9978 - val_loss: 0.4193 - val_auc: 0.9181\n"
     ]
    },
    {
     "data": {
      "text/plain": [
       "<tensorflow.python.keras.callbacks.History at 0x7ff238e12250>"
      ]
     },
     "execution_count": 162,
     "metadata": {},
     "output_type": "execute_result"
    }
   ],
   "source": [
    "# Training\n",
    "rnn_model.fit(train_data_distilbert, train_classes,\n",
    "          validation_data=(test_data_distilbert, test_classes),\n",
    "          batch_size=32,\n",
    "          epochs=10,\n",
    "          verbose=2)"
   ]
  },
  {
   "cell_type": "code",
   "execution_count": 164,
   "metadata": {},
   "outputs": [],
   "source": [
    "# Prediction\n",
    "prediction_rnn_distilbert = rnn_model.predict(test_data_distilbert)\n",
    "\n",
    "test['delivery_rnn_distilbert_predp'] = prediction_rnn_distilbert[:, 0]\n",
    "test['product_rnn_distilbert_predp'] = prediction_rnn_distilbert[:, 1]\n",
    "test['service_rnn_distilbert_predp'] = prediction_rnn_distilbert[:, 2]\n",
    "\n",
    "test['delivery_rnn_distilbert_pred'] = test['delivery_rnn_distilbert_predp'].apply(lambda x: round(x))\n",
    "test['product_rnn_distilbert_pred'] = test['product_rnn_distilbert_predp'].apply(lambda x: round(x))\n",
    "test['service_rnn_distilbert_pred'] =test['service_rnn_distilbert_predp'].apply(lambda x: round(x))"
   ]
  },
  {
   "cell_type": "code",
   "execution_count": 165,
   "metadata": {},
   "outputs": [
    {
     "name": "stdout",
     "output_type": "stream",
     "text": [
      "['010' '001' '100' '011' '000' '101' '110' '111']\n"
     ]
    }
   ],
   "source": [
    "def add_pred_target_label(df):\n",
    "    df['label_distilbert_rnn_pred'] = df['delivery_rnn_distilbert_pred']*100 + df['product_rnn_distilbert_pred']*10 + df['service_rnn_distilbert_pred']\n",
    "    df['label_distilbert_rnn_pred'] = '00'+df['label_distilbert_rnn_pred'].astype('str')\n",
    "    df['label_distilbert_rnn_pred'] = df['label_distilbert_rnn_pred'].apply(lambda x: x[-3:])\n",
    "    return df\n",
    "\n",
    "#add prediction target label\n",
    "test = add_pred_target_label(test)\n",
    "#df_test.loc[df_test.review_id==40625, 'label'] = '010'\n",
    "print(test['label_distilbert_rnn_pred'].unique())"
   ]
  },
  {
   "cell_type": "code",
   "execution_count": 166,
   "metadata": {},
   "outputs": [
    {
     "name": "stdout",
     "output_type": "stream",
     "text": [
      "Result of Delivery from rnn with Distil Bert vectors\n",
      "AUC score: 0.9071012061666267\n",
      "              precision    recall  f1-score   support\n",
      "\n",
      "           0       0.90      0.93      0.92       351\n",
      "           1       0.74      0.67      0.71       107\n",
      "\n",
      "    accuracy                           0.87       458\n",
      "   macro avg       0.82      0.80      0.81       458\n",
      "weighted avg       0.87      0.87      0.87       458\n",
      "\n",
      "Result of Product from rnn with Distil Bert vectors\n",
      "AUC score: 0.9236372180451128\n",
      "              precision    recall  f1-score   support\n",
      "\n",
      "           0       0.81      0.71      0.76       154\n",
      "           1       0.86      0.92      0.89       304\n",
      "\n",
      "    accuracy                           0.85       458\n",
      "   macro avg       0.84      0.81      0.82       458\n",
      "weighted avg       0.85      0.85      0.84       458\n",
      "\n",
      "Result of Service from rnn with Distil Bert vectors\n",
      "AUC score: 0.8524338624338625\n",
      "              precision    recall  f1-score   support\n",
      "\n",
      "           0       0.86      0.95      0.90       350\n",
      "           1       0.77      0.49      0.60       108\n",
      "\n",
      "    accuracy                           0.84       458\n",
      "   macro avg       0.81      0.72      0.75       458\n",
      "weighted avg       0.84      0.84      0.83       458\n",
      "\n"
     ]
    }
   ],
   "source": [
    "print('Result of Delivery from rnn with Distil Bert vectors')\n",
    "print('AUC score: {}'.format(roc_auc_score(test.delivery, test.delivery_rnn_distilbert_predp)))\n",
    "print(classification_report(test.delivery, test.delivery_rnn_distilbert_pred))\n",
    "\n",
    "print('Result of Product from rnn with Distil Bert vectors')\n",
    "print('AUC score: {}'.format(roc_auc_score(test['product'], test.product_rnn_distilbert_predp)))\n",
    "print(classification_report(test['product'], test.product_rnn_distilbert_pred))\n",
    "\n",
    "print('Result of Service from rnn with Distil Bert vectors')\n",
    "print('AUC score: {}'.format(roc_auc_score(test['service'], test.service_rnn_distilbert_predp)))\n",
    "print(classification_report(test['service'], test.service_rnn_distilbert_pred))"
   ]
  },
  {
   "cell_type": "code",
   "execution_count": 167,
   "metadata": {},
   "outputs": [
    {
     "name": "stdout",
     "output_type": "stream",
     "text": [
      "Combined Result from RNN with Distil Bert vectors\n",
      "              precision    recall  f1-score   support\n",
      "\n",
      "         000       0.00      0.00      0.00         0\n",
      "         001       0.63      0.43      0.51        67\n",
      "         010       0.82      0.91      0.86       262\n",
      "         011       0.29      0.18      0.22        22\n",
      "         100       0.63      0.63      0.63        70\n",
      "         101       0.12      0.06      0.08        17\n",
      "         110       0.22      0.22      0.22        18\n",
      "         111       0.00      0.00      0.00         2\n",
      "\n",
      "    accuracy                           0.70       458\n",
      "   macro avg       0.34      0.30      0.32       458\n",
      "weighted avg       0.69      0.70      0.69       458\n",
      "\n"
     ]
    }
   ],
   "source": [
    "print('Combined Result from RNN with Distil Bert vectors')\n",
    "print(classification_report(test['label'], test.label_distilbert_rnn_pred))"
   ]
  },
  {
   "cell_type": "code",
   "execution_count": 170,
   "metadata": {},
   "outputs": [],
   "source": [
    "test.to_csv('test_cnn_rnn_pred.csv', index=False)"
   ]
  }
 ],
 "metadata": {
  "kernelspec": {
   "display_name": "Python 3",
   "language": "python",
   "name": "python3"
  },
  "language_info": {
   "codemirror_mode": {
    "name": "ipython",
    "version": 3
   },
   "file_extension": ".py",
   "mimetype": "text/x-python",
   "name": "python",
   "nbconvert_exporter": "python",
   "pygments_lexer": "ipython3",
   "version": "3.8.3"
  }
 },
 "nbformat": 4,
 "nbformat_minor": 4
}
